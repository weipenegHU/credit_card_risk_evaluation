{
 "cells": [
  {
   "cell_type": "code",
   "execution_count": 11,
   "id": "0aae9657",
   "metadata": {},
   "outputs": [],
   "source": [
    "import pandas as pd\n",
    "pd.set_option(\"display.max_columns\", 100)\n",
    "pd.set_option(\"display.max_rows\", 100)\n",
    "import numpy as np\n",
    "from sklearn.model_selection import StratifiedKFold\n",
    "import os"
   ]
  },
  {
   "cell_type": "code",
   "execution_count": 15,
   "id": "8037ecc3",
   "metadata": {},
   "outputs": [],
   "source": [
    "# 更改\n",
    "dire = \"E:\\工作\\模型\\人行模型\"\n",
    "os.chdir(dire)"
   ]
  },
  {
   "cell_type": "code",
   "execution_count": 4,
   "id": "9d074fff",
   "metadata": {},
   "outputs": [],
   "source": [
    "def peek(df, line=None):\n",
    "    print(df.shape)\n",
    "    if line is None:\n",
    "        print(df.head())\n",
    "    else:\n",
    "        print(df.head(line))"
   ]
  },
  {
   "cell_type": "markdown",
   "id": "7f7bde38",
   "metadata": {},
   "source": [
    "根据初步探索，做如下处理\n",
    "- dm_id_003用NONE取代空值\n",
    "- dm_id_005用NONE取代空值\n",
    "- dm_id_009用NONE取代空值\n",
    "- dm_creditdetails_007转化成比例，以及拆开两列\n",
    "- 这些字段需要做这个变换：取整((原始数值-987) * 100)*10，dm_summary_002dm_summary_005，dm_summary_006，dm_summary_007，dm_summary_011，dm_summary_012，dm_summary_014，dm_summary_018，dm_creditdetails_031，dm_creditdetails_032，dm_creditdetails_034，dm_publicdetails_009，dm_creditdetails_028\n",
    "- 做对数转换的变量：dm_summary_002, dm_summary_005, dm_summary_006, dm_summary_007, dm_summary_011, dm_summary_012 (ds_011和012两个变量不是整数，而且最大值较少，问一下原因), dm_summary_014, dm_summary_018, dm_credidetails_001, dm_creditdetails_003, dm_creditdetails_004, dm_creditdetails_005, dm_creditdetails_006, dm_creditdetails_030, dm_creditdetails_031, dm_creditdetails_032(每月为什么最大值这么少）, dm_creditdetails_034\n",
    "- dm_summary_021 转换成boolean, 非0数据太少，转化意义不大，暂不转换\n",
    "- dm_summary_022, dm_publicdetails_001, dm_publicdetails_002, dm_publicdetails_003, dm_creditdetails_024 全部值为0，丢弃\n",
    "- dm_summary_023转换成有代偿和无代偿，非0数据太少，转化意义不大，暂不转换\n",
    "- dm_summary_024转换为有查询和无查询，非0数据太少，转化意义不大，暂不转换\n",
    "- dm_publicdetails_008剔除异常值1474\n",
    "- dm_repayment*字段转化为逾期占比"
   ]
  },
  {
   "cell_type": "code",
   "execution_count": 16,
   "id": "63634ebf",
   "metadata": {
    "tags": []
   },
   "outputs": [],
   "source": [
    "hf_parsed = pd.read_csv(\"./data/hf_success_parsed.csv\")"
   ]
  },
  {
   "cell_type": "code",
   "execution_count": 17,
   "id": "3e352d24",
   "metadata": {},
   "outputs": [
    {
     "name": "stdout",
     "output_type": "stream",
     "text": [
      "(813, 2)\n",
      "           customer_unique_key  label\n",
      "7  C20220720205066554575032370      0\n",
      "8  C20220721205244862285615186      0\n"
     ]
    }
   ],
   "source": [
    "loan_good = pd.read_csv(\"./data/loan_good_202302241703.csv\")\n",
    "loan_good['label'] = 0\n",
    "loan_bad = pd.read_csv(\"./data/loan_bad_202302241702.csv\")\n",
    "loan_bad['label'] = 1\n",
    "loan = pd.concat([loan_good, loan_bad])\n",
    "loan_user = pd.read_csv(\"./data/loan_user_202302241703.csv\")\n",
    "loan = loan.merge(loan_user, on = ['user_id'], how='left')\n",
    "loan = loan.query('product_name != \"灰度测试\"')\n",
    "loan = loan[['customer_unique_key', 'label']].drop_duplicates()\n",
    "peek(loan, 2)"
   ]
  },
  {
   "cell_type": "code",
   "execution_count": 9,
   "id": "2a70a808",
   "metadata": {
    "collapsed": true,
    "jupyter": {
     "outputs_hidden": true
    },
    "tags": []
   },
   "outputs": [
    {
     "name": "stdout",
     "output_type": "stream",
     "text": [
      "(567, 85)\n",
      "                    id          customer_unique_key  \\\n",
      "0  1546580974007521280  C20230102265075015786049564   \n",
      "1  1542599547565936640  C20221222261089915742339083   \n",
      "\n",
      "                     serial_no              create_time            edit_time  \\\n",
      "0  S20230102265075392744927233  2023-01-02T11:14:58.791  2023-01-03T00:30:23   \n",
      "1  S20221222261093966475309101  2022-12-22T11:34:12.756  2022-12-23T00:31:08   \n",
      "\n",
      "  dm_id_003 dm_id_005 dm_id_009  dm_summary_001  dm_summary_002  \\\n",
      "0        GZ        YH        ZZ               1         987.578   \n",
      "1       NaN       NaN       NaN               0           0.000   \n",
      "\n",
      "   dm_summary_003  dm_summary_004  dm_summary_005  dm_summary_006  \\\n",
      "0               1               5       1003.3572       1017.2184   \n",
      "1               0               0          0.0000          0.0000   \n",
      "\n",
      "   dm_summary_007  dm_summary_011  dm_summary_012  dm_summary_013  \\\n",
      "0       1029.4385       1010.4735             0.0               0   \n",
      "1          0.0000          0.0000             0.0               0   \n",
      "\n",
      "   dm_summary_014  dm_summary_015  dm_summary_018  dm_summary_021  \\\n",
      "0             0.0               0        990.5159               0   \n",
      "1             0.0               0          0.0000               0   \n",
      "\n",
      "   dm_summary_022  dm_summary_023  dm_summary_024  dm_summary_025  \\\n",
      "0               0               0               0               7   \n",
      "1               0               0               0               0   \n",
      "\n",
      "   dm_creditdetails_001  dm_creditdetails_003  dm_creditdetails_004  \\\n",
      "0                   0.0                2691.0               14781.0   \n",
      "1                   0.0                   0.0                   0.0   \n",
      "\n",
      "   dm_creditdetails_005  dm_creditdetails_006 dm_creditdetails_007  \\\n",
      "0                1348.0                1553.3                  1/3   \n",
      "1                   0.0                   0.0                  0/0   \n",
      "\n",
      "   dm_creditdetails_009  dm_creditdetails_011  dm_creditdetails_012  \\\n",
      "0                     0                    30                     7   \n",
      "1                     0                     0                     3   \n",
      "\n",
      "   dm_creditdetails_013  dm_creditdetails_029  dm_creditdetails_030  \\\n",
      "0                     2                     0                     0   \n",
      "1                     1                     0                     0   \n",
      "\n",
      "   dm_creditdetails_031  dm_creditdetails_032  dm_creditdetails_034  \\\n",
      "0                   0.0              990.2802                   0.0   \n",
      "1                   0.0                0.0000                   0.0   \n",
      "\n",
      "   dm_publicdetails_001  dm_publicdetails_002  dm_publicdetails_003  \\\n",
      "0                     0                     0                     0   \n",
      "1                     0                     0                     0   \n",
      "\n",
      "   dm_publicdetails_008  dm_publicdetails_009  dm_creditdetails_017  \\\n",
      "0                     0                   0.0                     1   \n",
      "1                     0                   0.0                     0   \n",
      "\n",
      "   dm_creditdetails_024        dm_repayment_1_001  \\\n",
      "0                     0  000000000100000000000C0/   \n",
      "1                     0  ////////////////////////   \n",
      "\n",
      "                                 dm_repayment_25_001  \\\n",
      "0  #########0C####0C##00C########0000000000000000...   \n",
      "1  //////////////////////////////////**0000C00000...   \n",
      "\n",
      "         dm_repayment_2_001  \\\n",
      "0  00000000000000C0000000C/   \n",
      "1  0000C000000000000000000C   \n",
      "\n",
      "                                 dm_repayment_15_001  dm_creditdetails_028  \\\n",
      "0  /////*0000000000000000000000000000000000000001...                   0.0   \n",
      "1  //////////////////////////////////////////////...                   0.0   \n",
      "\n",
      "   dm_qc_sc_01  dm_qc_sc_02  dm_qc_sc_03  dm_qc_sc_04  dm_qc_sc_05  \\\n",
      "0            0            0            0            0            1   \n",
      "1            0            0            0            0            0   \n",
      "\n",
      "   dm_ql_sc_01  dm_ql_sc_02  dm_ql_sc_03  dm_ql_sc_04  dm_ql_sc_05  \\\n",
      "0            0            0            0            2            2   \n",
      "1            0            0            0            0            1   \n",
      "\n",
      "   dm_qdb_sc_01  dm_qdb_sc_02  dm_qdb_sc_03  dm_qdb_sc_04  dm_qdb_sc_05  \\\n",
      "0             0             0             0             0             0   \n",
      "1             0             0             0             0             0   \n",
      "\n",
      "   dm_qc_so_01  dm_qc_so_02  dm_qc_so_03  dm_qc_so_04  dm_qc_so_05  \\\n",
      "0            0            0            0            0            1   \n",
      "1            0            0            0            0            0   \n",
      "\n",
      "   dm_ql_so_01  dm_ql_so_02  dm_ql_so_03  dm_ql_so_04  dm_ql_so_05  \\\n",
      "0            0            0            0            2            2   \n",
      "1            0            0            0            0            1   \n",
      "\n",
      "   dm_qdb_so_01  dm_qdb_so_02  dm_qdb_so_03  dm_qdb_so_04  dm_qdb_so_05  \\\n",
      "0             0             0             0             0             0   \n",
      "1             0             0             0             0             0   \n",
      "\n",
      "                   serial_no.1  label  \n",
      "0  S20230102265075392744927233      0  \n",
      "1  S20221222261093966475309101      0  \n"
     ]
    }
   ],
   "source": [
    "hf_parsed = hf_parsed.merge(loan[['customer_unique_key', 'label']], on = 'customer_unique_key', how='inner')\n",
    "peek(hf_parsed, 2)"
   ]
  },
  {
   "cell_type": "code",
   "execution_count": 10,
   "id": "4e207531",
   "metadata": {},
   "outputs": [
    {
     "name": "stdout",
     "output_type": "stream",
     "text": [
      "NONE    284\n",
      "GZ       76\n",
      "DZ       70\n",
      "ZZ       46\n",
      "XX       43\n",
      "BK       26\n",
      "QT       20\n",
      "YJS       2\n",
      "Name: dm_id_003, dtype: int64\n",
      "NONE    366\n",
      "YH      201\n",
      "Name: dm_id_005, dtype: int64\n",
      "NONE    281\n",
      "ZZ      192\n",
      "ZY       35\n",
      "QT       25\n",
      "GTJY     13\n",
      "ZYJS     10\n",
      "GR        4\n",
      "GWY       3\n",
      "NM        3\n",
      "QYGL      1\n",
      "Name: dm_id_009, dtype: int64\n"
     ]
    }
   ],
   "source": [
    "hf_parsed['dm_id_003'] = hf_parsed['dm_id_003'].fillna('NONE')\n",
    "print(hf_parsed['dm_id_003'].value_counts())\n",
    "hf_parsed['dm_id_005'] = hf_parsed['dm_id_005'].fillna('NONE')\n",
    "print(hf_parsed['dm_id_005'].value_counts())\n",
    "hf_parsed['dm_id_009'] = hf_parsed['dm_id_009'].fillna('NONE')\n",
    "print(hf_parsed['dm_id_009'].value_counts())"
   ]
  },
  {
   "cell_type": "code",
   "execution_count": 42,
   "id": "304878e0",
   "metadata": {},
   "outputs": [],
   "source": [
    "hf_parsed[['dm_creditdetails_007_numerator', 'dm_creditdetails_007_denominator']] = \\\n",
    "                            hf_parsed['dm_creditdetails_007'].replace(\"-9990996\", np.nan).str.split(\"/\", expand=True)\n",
    "hf_parsed['dm_creditdetails_007_numerator'] = hf_parsed['dm_creditdetails_007_numerator'].astype(\"float\")\n",
    "hf_parsed['dm_creditdetails_007_denominator'] = hf_parsed['dm_creditdetails_007_denominator'].astype(\"float\")\n",
    "hf_parsed['dm_creditdetails_007'] = hf_parsed['dm_creditdetails_007_numerator'] / hf_parsed['dm_creditdetails_007_denominator']\n",
    "hf_parsed['dm_creditdetails_007'] = hf_parsed['dm_creditdetails_007_denominator'].fillna(0)\n",
    "hf_parsed = hf_parsed.drop(columns=['dm_creditdetails_007_denominator'])\n",
    "# peek(hf_parsed, 2)"
   ]
  },
  {
   "cell_type": "code",
   "execution_count": 61,
   "id": "399e6084",
   "metadata": {
    "tags": []
   },
   "outputs": [],
   "source": [
    "need_reverse_vars = ['dm_summary_002', 'dm_summary_005', 'dm_summary_006', 'dm_summary_007', 'dm_summary_011','dm_summary_012','dm_summary_014','dm_summary_018',\n",
    "                     'dm_creditdetails_031','dm_creditdetails_032','dm_creditdetails_034','dm_publicdetails_009','dm_creditdetails_028']\n",
    "\n",
    "hf_parsed[need_reverse_vars] = hf_parsed[need_reverse_vars].applymap(lambda x: int((x- 987) * 100) * 10 if x > 0 else 0)"
   ]
  },
  {
   "cell_type": "code",
   "execution_count": 65,
   "id": "061a3857",
   "metadata": {},
   "outputs": [],
   "source": [
    "need_log_vars = ['dm_summary_002', 'dm_summary_005', 'dm_summary_006', 'dm_summary_007', 'dm_summary_011', 'dm_summary_012', 'dm_summary_014', 'dm_summary_018', 'dm_creditdetails_001', \n",
    "                 'dm_creditdetails_003', 'dm_creditdetails_004', 'dm_creditdetails_005', 'dm_creditdetails_006', 'dm_creditdetails_030', 'dm_creditdetails_031',\n",
    "                 'dm_creditdetails_032', 'dm_creditdetails_034']"
   ]
  },
  {
   "cell_type": "code",
   "execution_count": 69,
   "id": "bc928af6",
   "metadata": {},
   "outputs": [
    {
     "data": {
      "text/plain": [
       "(567, 86)"
      ]
     },
     "execution_count": 69,
     "metadata": {},
     "output_type": "execute_result"
    }
   ],
   "source": [
    "hf_parsed[need_log_vars] = hf_parsed[need_log_vars].applymap(np.log1p)\n",
    "hf_parsed.shape"
   ]
  },
  {
   "cell_type": "code",
   "execution_count": 85,
   "id": "709600ea",
   "metadata": {},
   "outputs": [],
   "source": [
    "hf_parsed['dm_repayment_1_001'] = hf_parsed['dm_repayment_1_001'].fillna(\"/\" * 24)"
   ]
  },
  {
   "cell_type": "code",
   "execution_count": 86,
   "id": "9d67ec16",
   "metadata": {},
   "outputs": [],
   "source": [
    "hf_parsed['dm_repayment_15_001'] = hf_parsed['dm_repayment_15_001'].fillna(\"/\" * 60)"
   ]
  },
  {
   "cell_type": "code",
   "execution_count": 87,
   "id": "a291016a",
   "metadata": {},
   "outputs": [],
   "source": [
    "hf_parsed['dm_repayment_2_001'] = hf_parsed['dm_repayment_2_001'].fillna(\"/\" * 24)"
   ]
  },
  {
   "cell_type": "code",
   "execution_count": 88,
   "id": "4eeab6dc",
   "metadata": {},
   "outputs": [],
   "source": [
    "hf_parsed['dm_repayment_25_001'] = hf_parsed['dm_repayment_25_001'].fillna(\"/\" * 60)"
   ]
  },
  {
   "cell_type": "code",
   "execution_count": 117,
   "id": "43a16d5a",
   "metadata": {},
   "outputs": [
    {
     "name": "stderr",
     "output_type": "stream",
     "text": [
      "C:\\Users\\huweipeng\\AppData\\Local\\Temp\\ipykernel_808\\4203281198.py:3: FutureWarning: The default value of regex will change from True to False in a future version.\n",
      "  hf_parsed[new_feature] = hf_parsed[c].str.replace(r\"[^1-7|B]\", r\"\").str.len()\n",
      "C:\\Users\\huweipeng\\AppData\\Local\\Temp\\ipykernel_808\\4203281198.py:3: FutureWarning: The default value of regex will change from True to False in a future version.\n",
      "  hf_parsed[new_feature] = hf_parsed[c].str.replace(r\"[^1-7|B]\", r\"\").str.len()\n",
      "C:\\Users\\huweipeng\\AppData\\Local\\Temp\\ipykernel_808\\4203281198.py:3: FutureWarning: The default value of regex will change from True to False in a future version.\n",
      "  hf_parsed[new_feature] = hf_parsed[c].str.replace(r\"[^1-7|B]\", r\"\").str.len()\n",
      "C:\\Users\\huweipeng\\AppData\\Local\\Temp\\ipykernel_808\\4203281198.py:3: FutureWarning: The default value of regex will change from True to False in a future version.\n",
      "  hf_parsed[new_feature] = hf_parsed[c].str.replace(r\"[^1-7|B]\", r\"\").str.len()\n"
     ]
    }
   ],
   "source": [
    "for c in hf_parsed.filter(regex=\"dm_repayment\").columns:\n",
    "    new_feature = c + \"_numerator\"\n",
    "    hf_parsed[new_feature] = hf_parsed[c].str.replace(r\"[^1-7|B]\", r\"\").str.len() \n",
    "    hf_parsed[c] = hf_parsed[new_feature] / hf_parsed[c].str.len()"
   ]
  },
  {
   "cell_type": "code",
   "execution_count": 120,
   "id": "270275e0",
   "metadata": {},
   "outputs": [
    {
     "data": {
      "text/plain": [
       "Index(['id', 'customer_unique_key', 'serial_no', 'create_time', 'edit_time',\n",
       "       'dm_id_003', 'dm_id_005', 'dm_id_009', 'dm_summary_001',\n",
       "       'dm_summary_002', 'dm_summary_003', 'dm_summary_004', 'dm_summary_005',\n",
       "       'dm_summary_006', 'dm_summary_007', 'dm_summary_011', 'dm_summary_012',\n",
       "       'dm_summary_013', 'dm_summary_014', 'dm_summary_015', 'dm_summary_018',\n",
       "       'dm_summary_021', 'dm_summary_022', 'dm_summary_023', 'dm_summary_024',\n",
       "       'dm_summary_025', 'dm_creditdetails_001', 'dm_creditdetails_003',\n",
       "       'dm_creditdetails_004', 'dm_creditdetails_005', 'dm_creditdetails_006',\n",
       "       'dm_creditdetails_007', 'dm_creditdetails_009', 'dm_creditdetails_011',\n",
       "       'dm_creditdetails_012', 'dm_creditdetails_013', 'dm_creditdetails_029',\n",
       "       'dm_creditdetails_030', 'dm_creditdetails_031', 'dm_creditdetails_032',\n",
       "       'dm_creditdetails_034', 'dm_publicdetails_001', 'dm_publicdetails_002',\n",
       "       'dm_publicdetails_003', 'dm_publicdetails_008', 'dm_publicdetails_009',\n",
       "       'dm_creditdetails_017', 'dm_creditdetails_024', 'dm_repayment_1_001',\n",
       "       'dm_repayment_25_001', 'dm_repayment_2_001', 'dm_repayment_15_001',\n",
       "       'dm_creditdetails_028', 'dm_qc_sc_01', 'dm_qc_sc_02', 'dm_qc_sc_03',\n",
       "       'dm_qc_sc_04', 'dm_qc_sc_05', 'dm_ql_sc_01', 'dm_ql_sc_02',\n",
       "       'dm_ql_sc_03', 'dm_ql_sc_04', 'dm_ql_sc_05', 'dm_qdb_sc_01',\n",
       "       'dm_qdb_sc_02', 'dm_qdb_sc_03', 'dm_qdb_sc_04', 'dm_qdb_sc_05',\n",
       "       'dm_qc_so_01', 'dm_qc_so_02', 'dm_qc_so_03', 'dm_qc_so_04',\n",
       "       'dm_qc_so_05', 'dm_ql_so_01', 'dm_ql_so_02', 'dm_ql_so_03',\n",
       "       'dm_ql_so_04', 'dm_ql_so_05', 'dm_qdb_so_01', 'dm_qdb_so_02',\n",
       "       'dm_qdb_so_03', 'dm_qdb_so_04', 'dm_qdb_so_05', 'serial_no.1', 'label',\n",
       "       'dm_creditdetails_007_numerator', 'dm_repayment_1_001_numerator',\n",
       "       'dm_repayment_25_001_numerator', 'dm_repayment_2_001_numerator',\n",
       "       'dm_repayment_15_001_numerator'],\n",
       "      dtype='object')"
      ]
     },
     "execution_count": 120,
     "metadata": {},
     "output_type": "execute_result"
    }
   ],
   "source": [
    "hf_parsed.columns"
   ]
  },
  {
   "cell_type": "code",
   "execution_count": 121,
   "id": "74aa54a2",
   "metadata": {},
   "outputs": [],
   "source": [
    "discard = ['dm_summary_022', 'dm_publicdetails_001', 'dm_publicdetails_002', 'dm_publicdetails_003', 'dm_creditdetails_024', 'id', 'customer_unique_key', 'serial_no', \n",
    "           'create_time', 'edit_time', 'serial_no.1']\n",
    "hf_parsed = hf_parsed.drop(columns=discard)"
   ]
  },
  {
   "cell_type": "code",
   "execution_count": 122,
   "id": "a16c5df3",
   "metadata": {},
   "outputs": [],
   "source": [
    "hf_parsed.rename(columns={'label':'overdue'}, inplace=True)"
   ]
  },
  {
   "cell_type": "code",
   "execution_count": null,
   "id": "055e18dc",
   "metadata": {},
   "outputs": [],
   "source": [
    "hf_parsed['fold'] = -1\n",
    "\n",
    "splitter = StratifiedKFold(n_splits=10, shuffle=True, random_state=42)\n",
    "\n",
    "for f, (t, v) in enumerate(splitter.split(hf_parsed, hf_parsed['overdue'])):\n",
    "    hf_parsed.loc[v, 'fold'] = f"
   ]
  },
  {
   "cell_type": "code",
   "execution_count": 129,
   "id": "5e07ce95",
   "metadata": {},
   "outputs": [],
   "source": [
    "hf_parsed.to_csv(\"./data/hf_parsed_processed.csv\", index=False)"
   ]
  },
  {
   "cell_type": "code",
   "execution_count": null,
   "id": "1143ad2f",
   "metadata": {},
   "outputs": [],
   "source": []
  },
  {
   "cell_type": "code",
   "execution_count": null,
   "id": "dec0e547",
   "metadata": {},
   "outputs": [],
   "source": []
  },
  {
   "cell_type": "code",
   "execution_count": null,
   "id": "f37ceee5",
   "metadata": {},
   "outputs": [],
   "source": []
  },
  {
   "cell_type": "code",
   "execution_count": null,
   "id": "a7d6acec",
   "metadata": {},
   "outputs": [],
   "source": []
  }
 ],
 "metadata": {
  "kernelspec": {
   "display_name": "Python 3",
   "language": "python",
   "name": "python3"
  },
  "language_info": {
   "codemirror_mode": {
    "name": "ipython",
    "version": 3
   },
   "file_extension": ".py",
   "mimetype": "text/x-python",
   "name": "python",
   "nbconvert_exporter": "python",
   "pygments_lexer": "ipython3",
   "version": "3.8.5"
  }
 },
 "nbformat": 4,
 "nbformat_minor": 5
}
