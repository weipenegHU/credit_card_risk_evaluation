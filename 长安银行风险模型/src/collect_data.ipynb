{
 "cells": [
  {
   "cell_type": "code",
   "execution_count": 1,
   "id": "d20dfd5b-d5de-4db8-b480-90e518d46c3a",
   "metadata": {},
   "outputs": [],
   "source": [
    "import pandas as pd\n",
    "pd.set_option(\"display.max_columns\", 100)\n",
    "pd.set_option(\"display.max_rows\", 100)\n",
    "import numpy as np\n",
    "import os\n",
    "from utils import peek\n",
    "import config"
   ]
  },
  {
   "cell_type": "markdown",
   "id": "849e5091-ba46-42f6-a168-1cf272eaaf2a",
   "metadata": {},
   "source": [
    "## 加载样本数据"
   ]
  },
  {
   "cell_type": "code",
   "execution_count": 2,
   "id": "ca69c913-4b85-472a-9438-f5086d20be42",
   "metadata": {},
   "outputs": [
    {
     "name": "stdout",
     "output_type": "stream",
     "text": [
      "(10006, 3)\n",
      "                     customer_phone apply_date_key  order_status_key\n",
      "0  cc92befb0e0b9f7ef4736f0fabc86821     2023-02-22                 3\n",
      "1  057331edd64b9002ddfc084e2d09b441     2023-03-25                 2\n"
     ]
    }
   ],
   "source": [
    "sample = pd.read_csv(\"/sda/huweipeng/project/长安银行/data/third_party_data/百融数据/百融样本.csv\", parse_dates=['申请日期'])\n",
    "label = pd.read_csv(\"/sda/huweipeng/project/长安银行/data/third_party_data/百融数据/样本核卡状态.csv\", parse_dates=['apply_date_key'])\n",
    "sample = sample.merge(label, left_on=['申请日期', '手机号'], right_on=['apply_date_key', 'customer_phone'], how = 'left')[['customer_phone', 'apply_date_key', 'order_status_key']]\n",
    "sample = sample.dropna(subset=['order_status_key']).drop_duplicates()\n",
    "peek(sample, 2)"
   ]
  },
  {
   "cell_type": "markdown",
   "id": "b18d3a51-0e17-43b0-937c-9b1cbfe1b9a2",
   "metadata": {},
   "source": [
    "## 加载百融多头特征"
   ]
  },
  {
   "cell_type": "code",
   "execution_count": 3,
   "id": "26c8af8a-9342-46c7-a8f5-3b07749b148a",
   "metadata": {
    "tags": []
   },
   "outputs": [
    {
     "name": "stdout",
     "output_type": "stream",
     "text": [
      "(10006, 19)\n",
      "                     customer_phone apply_date_key  order_status_key  \\\n",
      "0  cc92befb0e0b9f7ef4736f0fabc86821     2023-02-22                 3   \n",
      "1  057331edd64b9002ddfc084e2d09b441     2023-03-25                 2   \n",
      "\n",
      "   als_m12_id_nbank_orgnum  als_m3_id_nbank_min_inteday  \\\n",
      "0                      7.0                          0.0   \n",
      "1                      2.0                      -9999.0   \n",
      "\n",
      "   als_m12_id_nbank_min_inteday  als_m12_id_nbank_week_orgnum  \\\n",
      "0                           0.0                           3.0   \n",
      "1                          60.0                           0.0   \n",
      "\n",
      "   als_m12_id_min_inteday  als_d15_id_nbank_orgnum  \\\n",
      "0                     0.0                      0.0   \n",
      "1                    25.0                      0.0   \n",
      "\n",
      "   als_m1_id_nbank_week_orgnum  als_m12_id_rel_orgnum  \\\n",
      "0                      -9999.0                    2.0   \n",
      "1                      -9999.0                    2.0   \n",
      "\n",
      "   als_m12_id_cooff_orgnum  als_m12_id_bank_ret_orgnum  \\\n",
      "0                      0.0                         0.0   \n",
      "1                      0.0                         0.0   \n",
      "\n",
      "   als_lst_id_nbank_consnum  als_m6_id_bank_min_inteday  \\\n",
      "0                       1.0                     -9999.0   \n",
      "1                       1.0                     -9999.0   \n",
      "\n",
      "   als_d7_id_nbank_week_orgnum  als_m12_id_nbank_finlea_allnum  \\\n",
      "0                      -9999.0                             1.0   \n",
      "1                      -9999.0                             0.0   \n",
      "\n",
      "   als_m12_id_bank_min_inteday  als_m12_id_af_orgnum  \n",
      "0                      -9999.0                   0.0  \n",
      "1                      -9999.0                   0.0  \n"
     ]
    }
   ],
   "source": [
    "br_duotou = pd.read_csv(\"/sda/huweipeng/project/长安银行/data/third_party_data/百融数据/样本量10000/详细匹配数据及字典/借贷意向验证-V2.0.csv\", header=1, parse_dates=['申请日期'])\n",
    "customer = pd.read_csv(\"/sda/huweipeng/project/长安银行/data/third_party_data/百融数据/百融样本.csv\", parse_dates=['申请日期'])\n",
    "br_duotou['customer_phone'] = customer['手机号']\n",
    "br_duotou = br_duotou[br_duotou['产品输出标识'] == 1]\n",
    "use_features = pd.read_csv(\"/sda/huweipeng/project/长安银行/data/third_party_data/feature_iv/百融多头iv.csv\")\n",
    "use_features = use_features['feature'].tolist() + ['customer_phone', '申请日期']\n",
    "br_duotou = br_duotou[use_features]\n",
    "special_features = ['按身份证号查询，近3个月在非银机构申请最小间隔天数',\n",
    "                     '按身份证号查询，近12个月在非银机构申请最小间隔天数',\n",
    "                     '按身份证号查询，近12个月在非银机构周末申请机构数',\n",
    "                     '按身份证号查询，近12个月申请最小间隔天数',\n",
    "                     '按身份证号查询，近1个月在非银机构周末申请机构数',\n",
    "                     '按身份证号查询，近6个月在银行机构申请最小间隔天数',\n",
    "                     '按身份证号查询，近7天在非银机构周末申请机构数',\n",
    "                     '按身份证号查询，近12个月在银行机构申请最小间隔天数']\n",
    "normal_features = br_duotou.columns.difference(special_features)\n",
    "br_duotou[special_features] = br_duotou[special_features].fillna(-9999)\n",
    "br_duotou[normal_features] = br_duotou[normal_features].fillna(0)\n",
    "feature_id = pd.read_excel(\"/sda/huweipeng/project/长安银行/data/third_party_data/百融数据/样本量10000/详细匹配数据及字典/多头字段名称映射.xlsx\")\n",
    "feature_map = dict(zip(feature_id['中文名称'], feature_id['参数名']))\n",
    "br_duotou.rename(columns=feature_map, inplace=True)\n",
    "sample = sample.merge(br_duotou, left_on=['customer_phone', 'apply_date_key'], right_on=['customer_phone', '申请日期'], how='left')\n",
    "sample = sample.drop(columns=['申请日期']).drop_duplicates()\n",
    "peek(sample, 2)"
   ]
  },
  {
   "cell_type": "markdown",
   "id": "80255cb6-9c2d-4aa9-ae63-0b60b4a75e1a",
   "metadata": {},
   "source": [
    "## 加载百融黑名单"
   ]
  },
  {
   "cell_type": "code",
   "execution_count": 4,
   "id": "11d69c0a-4e09-4014-a784-6ca7c15421c3",
   "metadata": {
    "tags": []
   },
   "outputs": [],
   "source": [
    "br_black_list = pd.read_csv(\"/sda/huweipeng/project/长安银行/data/third_party_data/百融数据/样本量10000/详细匹配数据及字典/特殊名单验证-V2.1.csv\", header = 1, parse_dates=['申请日期'])\n",
    "br_black_list['customer_phone'] = customer['手机号']\n",
    "br_black_list = br_black_list.query(\"产品输出标识 == 1\")\n",
    "br_black_list['in_black_list'] = True\n",
    "sample = sample.merge(br_black_list[['customer_phone', '申请日期', 'in_black_list']], left_on=['customer_phone', 'apply_date_key'], right_on=['customer_phone', '申请日期'], how='left')\n",
    "sample = sample.drop(columns=['申请日期']).drop_duplicates()"
   ]
  },
  {
   "cell_type": "markdown",
   "id": "523363ea-3474-4e7f-a5eb-3bc943530a61",
   "metadata": {},
   "source": [
    "## 加载百融偿债压力指数"
   ]
  },
  {
   "cell_type": "code",
   "execution_count": 5,
   "id": "a234d59f-61e6-4d63-9278-c4f3652d7a3c",
   "metadata": {
    "tags": []
   },
   "outputs": [],
   "source": [
    "br_debt_pressure = pd.read_csv(\"/sda/huweipeng/project/长安银行/data/third_party_data/百融数据/样本量10000/详细匹配数据及字典/偿债压力指数-V1.0.csv\", header = 1, parse_dates=['申请日期'])\n",
    "br_debt_pressure['customer_phone'] = customer['手机号']\n",
    "br_debt_pressure = br_debt_pressure.query(\"偿债压力指数产品输出标识 == 1\")\n",
    "sample = sample.merge(br_debt_pressure[['customer_phone', '申请日期', '偿债压力指数']], left_on=['customer_phone', 'apply_date_key'], right_on=['customer_phone', '申请日期'], how='left')\n",
    "sample.rename(columns={'偿债压力指数':'debt_pressure_index'}, inplace=True)\n",
    "sample = sample.drop(columns=['申请日期']).drop_duplicates()"
   ]
  },
  {
   "cell_type": "markdown",
   "id": "81f8210a-0e09-42e2-b58e-9f41b9d297f2",
   "metadata": {},
   "source": [
    "## 加载腾讯反欺诈"
   ]
  },
  {
   "cell_type": "code",
   "execution_count": 6,
   "id": "b3b5eca3-20cc-4eb9-932a-f83eadbed34b",
   "metadata": {
    "tags": []
   },
   "outputs": [],
   "source": [
    "tencent_fraud_risk = pd.read_excel(\"/sda/huweipeng/project/长安银行/data/third_party_data/腾讯数据/数字魔方_反欺诈v5v6v7-zx&灵鲲v6&行业风险3.0_20230406.xlsx\", \n",
    "                      header = 1, parse_dates=['回溯时间'], sheet_name=\"反欺诈\")\n",
    "tencent_fraud_risk = tencent_fraud_risk.dropna(subset=['highirr_v6_20220425_score'])\n",
    "use_feature = pd.read_csv(\"/sda/huweipeng/project/长安银行/data/third_party_data/feature_iv/腾讯反欺诈.csv\")['feature'].tolist()\n",
    "use_feature = ['手机号', '回溯时间'] + use_feature\n",
    "tencent_fraud_risk = tencent_fraud_risk[use_feature]\n",
    "sample = sample.merge(tencent_fraud_risk, right_on=['手机号', '回溯时间'], left_on=['customer_phone', 'apply_date_key'], how='left')\n",
    "sample = sample.drop(columns=['手机号', '回溯时间']).drop_duplicates()"
   ]
  },
  {
   "cell_type": "markdown",
   "id": "244c194f-7419-4011-9a84-037719c00751",
   "metadata": {},
   "source": [
    "## 加载尚为信用评估"
   ]
  },
  {
   "cell_type": "code",
   "execution_count": 7,
   "id": "00b42844-775c-4e33-8dc5-3819e9414de9",
   "metadata": {},
   "outputs": [],
   "source": [
    "shangwei_credit = pd.read_csv(\"/sda/huweipeng/project/长安银行/data/third_party_data/尚为数据/尚为立信模型-综合信用评估1+0407swrj.txt\", sep=\"\\t\", parse_dates=['back_date'])\n",
    "shangwei_credit = shangwei_credit.query('y == \"y\"').drop(columns=['y'])[['mobile', 'back_date', 'omriskscoregeneral']]\n",
    "sample = sample.merge(shangwei_credit, right_on=['mobile', 'back_date'], left_on=['customer_phone', 'apply_date_key'], how='left')\n",
    "sample = sample.drop(columns=['mobile', 'back_date']).drop_duplicates()\n",
    "# peek(shangwei_credit, 2)"
   ]
  },
  {
   "cell_type": "markdown",
   "id": "b7ea26f1-38a3-4511-addd-45abc12ad201",
   "metadata": {},
   "source": [
    "## 加载人口统计学信息"
   ]
  },
  {
   "cell_type": "code",
   "execution_count": 8,
   "id": "00a04e9f-8859-4cb7-a903-d9d2b2184b37",
   "metadata": {
    "tags": []
   },
   "outputs": [
    {
     "name": "stdout",
     "output_type": "stream",
     "text": [
      "(10006, 27)\n",
      "                     customer_phone apply_date_key  order_status_key  \\\n",
      "0  cc92befb0e0b9f7ef4736f0fabc86821     2023-02-22                 3   \n",
      "1  057331edd64b9002ddfc084e2d09b441     2023-03-25                 2   \n",
      "\n",
      "   als_m12_id_nbank_orgnum  als_m3_id_nbank_min_inteday  \\\n",
      "0                      7.0                          0.0   \n",
      "1                      2.0                      -9999.0   \n",
      "\n",
      "   als_m12_id_nbank_min_inteday  als_m12_id_nbank_week_orgnum  \\\n",
      "0                           0.0                           3.0   \n",
      "1                          60.0                           0.0   \n",
      "\n",
      "   als_m12_id_min_inteday  als_d15_id_nbank_orgnum  \\\n",
      "0                     0.0                      0.0   \n",
      "1                    25.0                      0.0   \n",
      "\n",
      "   als_m1_id_nbank_week_orgnum  als_m12_id_rel_orgnum  \\\n",
      "0                      -9999.0                    2.0   \n",
      "1                      -9999.0                    2.0   \n",
      "\n",
      "   als_m12_id_cooff_orgnum  als_m12_id_bank_ret_orgnum  \\\n",
      "0                      0.0                         0.0   \n",
      "1                      0.0                         0.0   \n",
      "\n",
      "   als_lst_id_nbank_consnum  als_m6_id_bank_min_inteday  \\\n",
      "0                       1.0                     -9999.0   \n",
      "1                       1.0                     -9999.0   \n",
      "\n",
      "   als_d7_id_nbank_week_orgnum  als_m12_id_nbank_finlea_allnum  \\\n",
      "0                      -9999.0                             1.0   \n",
      "1                      -9999.0                             0.0   \n",
      "\n",
      "   als_m12_id_bank_min_inteday  als_m12_id_af_orgnum in_black_list  \\\n",
      "0                      -9999.0                   0.0          True   \n",
      "1                      -9999.0                   0.0           NaN   \n",
      "\n",
      "   debt_pressure_index  model_risk_v7_stongyong_score  v6_seq_online  \\\n",
      "0                 31.0                           66.0           38.0   \n",
      "1                 17.0                           20.0           36.0   \n",
      "\n",
      "   omriskscoregeneral  actual_age  gender city_name  \n",
      "0               515.0        27.0    male       西安市  \n",
      "1               684.0        38.0  female       西安市  \n"
     ]
    }
   ],
   "source": [
    "demographic = pd.read_csv(\"/sda/huweipeng/project/长安银行/data/样本人口学信息.csv\")\n",
    "sample = sample.merge(demographic, right_on=['lower_phone_md5'], left_on=['customer_phone'], how='left')\n",
    "sample = sample.drop(columns=['lower_phone_md5'])\n",
    "peek(sample, 2)"
   ]
  },
  {
   "cell_type": "markdown",
   "id": "1b3095b9-ddc9-4601-98b7-dd37541d4575",
   "metadata": {},
   "source": [
    "## 加载问卷数据"
   ]
  },
  {
   "cell_type": "code",
   "execution_count": 9,
   "id": "7eb53625-f161-4899-ae67-928fae94ad07",
   "metadata": {},
   "outputs": [],
   "source": [
    "quest = pd.read_csv(\"/sda/huweipeng/project/长安银行/data/调查问卷数据.csv\")\n",
    "quest = quest.pivot(index='lower_phone_md5', columns='question_subject', values='answer_content').reset_index()\n",
    "quest.columns = ['customer_phone', 'degree', 'card_num']"
   ]
  },
  {
   "cell_type": "code",
   "execution_count": 10,
   "id": "3d9ebd5d-6843-4e2e-82d2-0ea236a31e28",
   "metadata": {},
   "outputs": [],
   "source": [
    "sample = sample.merge(quest, on=['customer_phone'], how='left')"
   ]
  },
  {
   "cell_type": "code",
   "execution_count": 11,
   "id": "605a427a-7140-4bae-bf84-b0f23623f1d9",
   "metadata": {},
   "outputs": [
    {
     "name": "stdout",
     "output_type": "stream",
     "text": [
      "(10006, 29)\n",
      "                     customer_phone apply_date_key  order_status_key  \\\n",
      "0  cc92befb0e0b9f7ef4736f0fabc86821     2023-02-22                 3   \n",
      "1  057331edd64b9002ddfc084e2d09b441     2023-03-25                 2   \n",
      "\n",
      "   als_m12_id_nbank_orgnum  als_m3_id_nbank_min_inteday  \\\n",
      "0                      7.0                          0.0   \n",
      "1                      2.0                      -9999.0   \n",
      "\n",
      "   als_m12_id_nbank_min_inteday  als_m12_id_nbank_week_orgnum  \\\n",
      "0                           0.0                           3.0   \n",
      "1                          60.0                           0.0   \n",
      "\n",
      "   als_m12_id_min_inteday  als_d15_id_nbank_orgnum  \\\n",
      "0                     0.0                      0.0   \n",
      "1                    25.0                      0.0   \n",
      "\n",
      "   als_m1_id_nbank_week_orgnum  als_m12_id_rel_orgnum  \\\n",
      "0                      -9999.0                    2.0   \n",
      "1                      -9999.0                    2.0   \n",
      "\n",
      "   als_m12_id_cooff_orgnum  als_m12_id_bank_ret_orgnum  \\\n",
      "0                      0.0                         0.0   \n",
      "1                      0.0                         0.0   \n",
      "\n",
      "   als_lst_id_nbank_consnum  als_m6_id_bank_min_inteday  \\\n",
      "0                       1.0                     -9999.0   \n",
      "1                       1.0                     -9999.0   \n",
      "\n",
      "   als_d7_id_nbank_week_orgnum  als_m12_id_nbank_finlea_allnum  \\\n",
      "0                      -9999.0                             1.0   \n",
      "1                      -9999.0                             0.0   \n",
      "\n",
      "   als_m12_id_bank_min_inteday  als_m12_id_af_orgnum in_black_list  \\\n",
      "0                      -9999.0                   0.0          True   \n",
      "1                      -9999.0                   0.0           NaN   \n",
      "\n",
      "   debt_pressure_index  model_risk_v7_stongyong_score  v6_seq_online  \\\n",
      "0                 31.0                           66.0           38.0   \n",
      "1                 17.0                           20.0           36.0   \n",
      "\n",
      "   omriskscoregeneral  actual_age  gender city_name degree card_num  \n",
      "0               515.0        27.0    male       西安市   大学专科       1张  \n",
      "1               684.0        38.0  female       西安市   大学本科       3张  \n"
     ]
    }
   ],
   "source": [
    "peek(sample, 2)"
   ]
  },
  {
   "cell_type": "markdown",
   "id": "61df97bc-a2d5-41d1-b013-7d6ff2332103",
   "metadata": {},
   "source": [
    "## 输出"
   ]
  },
  {
   "cell_type": "code",
   "execution_count": 12,
   "id": "79a83e37-446a-444b-b329-3d423303f5d1",
   "metadata": {},
   "outputs": [],
   "source": [
    "sample.to_csv(config.DATA, index=False)"
   ]
  },
  {
   "cell_type": "code",
   "execution_count": null,
   "id": "b1048cf2-e3ce-4158-934d-df6cf15bf042",
   "metadata": {},
   "outputs": [],
   "source": []
  }
 ],
 "metadata": {
  "kernelspec": {
   "display_name": "Python 3 (ipykernel)",
   "language": "python",
   "name": "python3"
  },
  "language_info": {
   "codemirror_mode": {
    "name": "ipython",
    "version": 3
   },
   "file_extension": ".py",
   "mimetype": "text/x-python",
   "name": "python",
   "nbconvert_exporter": "python",
   "pygments_lexer": "ipython3",
   "version": "3.9.13"
  }
 },
 "nbformat": 4,
 "nbformat_minor": 5
}
