{
 "cells": [
  {
   "cell_type": "code",
   "execution_count": 65,
   "id": "37700944-b461-4315-86c7-3a9befad1734",
   "metadata": {},
   "outputs": [],
   "source": [
    "import pandas as pd\n",
    "import numpy as np\n",
    "from utils import peek\n",
    "import config\n",
    "import sklearn\n",
    "from sklearn.linear_model import LogisticRegression\n",
    "from sklearn.ensemble import RandomForestClassifier\n",
    "from sklearn.metrics import roc_auc_score\n",
    "from sklearn.model_selection import GridSearchCV, learning_curve, LearningCurveDisplay, StratifiedKFold\n",
    "import pickle\n",
    "import optuna\n",
    "import xgboost as xgb\n",
    "from xgboost import XGBClassifier\n",
    "import lightgbm as lgbm\n",
    "from catboost import CatBoostClassifier, Pool\n",
    "import warnings\n",
    "import matplotlib.pyplot as plt\n",
    "warnings.filterwarnings(\"ignore\", module=\"optuna\")\n",
    "warnings.filterwarnings(\"ignore\", module=\"lightgbm\")"
   ]
  },
  {
   "cell_type": "markdown",
   "id": "75a56d7e-4042-4d45-a496-c02ba3466bc6",
   "metadata": {},
   "source": [
    "## Baseline"
   ]
  },
  {
   "cell_type": "code",
   "execution_count": 76,
   "id": "e610a4f0-ff9c-46d0-9df6-c64b5e2d82d4",
   "metadata": {
    "tags": []
   },
   "outputs": [],
   "source": [
    "train = pd.read_csv(config.TRAIN)"
   ]
  },
  {
   "cell_type": "code",
   "execution_count": 17,
   "id": "835ff2c2-9253-403d-a06e-104176894f81",
   "metadata": {},
   "outputs": [],
   "source": [
    "def train_lr_cv(X, y, param, verbose=True):\n",
    "    clf = LogisticRegression(**param)\n",
    "    cvs = []\n",
    "    for fold in range(0, 5):\n",
    "        train_x = X.query(f'fold != {fold}').drop(columns=['customer_phone', 'fold'])\n",
    "        train_y = y[train_x.index]\n",
    "        valid_x = X.query(f'fold == {fold}').drop(columns=['customer_phone', 'fold'])\n",
    "        valid_y = y[valid_x.index]\n",
    "        valid_score = clf.fit(train_x, train_y).predict_proba(valid_x)[:, 1]\n",
    "        cvs.append(roc_auc_score(valid_y, valid_score))\n",
    "    \n",
    "    if verbose:\n",
    "        print(\"five fold auc:\", *cvs, sep=\", \")\n",
    "        print(\"mean auc:\", np.mean(cvs))\n",
    "        \n",
    "    return cvs"
   ]
  },
  {
   "cell_type": "code",
   "execution_count": 18,
   "id": "1b1ed7c0-9f13-498b-b119-71ec5b9fe869",
   "metadata": {},
   "outputs": [],
   "source": [
    "def train_lr(X, y, param):\n",
    "    clf = LogisticRegression(**param)\n",
    "    clf.fit(X, y)\n",
    "    return clf"
   ]
  },
  {
   "cell_type": "code",
   "execution_count": 77,
   "id": "50c64601-625d-4c45-a755-135aa851484b",
   "metadata": {},
   "outputs": [
    {
     "name": "stdout",
     "output_type": "stream",
     "text": [
      "five fold auc:, 0.7721792687721137, 0.7345826235093696, 0.7768851430108491, 0.7359722189073725, 0.7388064154275759\n",
      "mean auc: 0.7516851339254561\n"
     ]
    }
   ],
   "source": [
    "param = {'C':1, 'max_iter':20, 'solver':'newton-cg', 'class_weight':'balanced'}\n",
    "cvs = train_lr_cv(train.drop('order_status_key', axis=1), train['order_status_key'], param)"
   ]
  },
  {
   "cell_type": "code",
   "execution_count": 78,
   "id": "5b3d56dd-0440-4b9a-b048-174d35966e4a",
   "metadata": {},
   "outputs": [],
   "source": [
    "param = {'C':1, 'max_iter':20, 'solver':'newton-cg', 'class_weight':'balanced'}\n",
    "model = train_lr(train.drop(['order_status_key', 'fold', 'customer_phone'], axis=1), train['order_status_key'], param)"
   ]
  },
  {
   "cell_type": "code",
   "execution_count": 79,
   "id": "8f99d528-bb31-44ef-8eee-1de286c807f9",
   "metadata": {},
   "outputs": [],
   "source": [
    "pickle.dump(model, open(config.BASELINE, \"wb\"))"
   ]
  },
  {
   "cell_type": "markdown",
   "id": "499fdbfd-c984-4fa9-9dde-8871c47568b6",
   "metadata": {},
   "source": [
    "## Random Forest"
   ]
  },
  {
   "cell_type": "code",
   "execution_count": 83,
   "id": "dcd0785b-85cc-4689-b05f-03b27b6608ee",
   "metadata": {},
   "outputs": [],
   "source": [
    "train = pd.read_csv(config.TRAIN2)"
   ]
  },
  {
   "cell_type": "code",
   "execution_count": 84,
   "id": "98061dfa-52ac-43cf-827f-e1041b046ec9",
   "metadata": {
    "tags": []
   },
   "outputs": [
    {
     "name": "stderr",
     "output_type": "stream",
     "text": [
      "/tmp/ipykernel_207703/3430836499.py:11: ExperimentalWarning: OptunaSearchCV is experimental (supported from v0.17.0). The interface can change in the future.\n",
      "  optuna_search = optuna.integration.OptunaSearchCV(clf, param_distributions, n_trials=100, scoring=\"roc_auc\", n_jobs=-1)\n",
      "\u001b[32m[I 2023-05-25 17:43:48,240]\u001b[0m A new study created in memory with name: no-name-9963dbad-bafd-4cb4-969e-a03e2166e0e0\u001b[0m\n",
      "\u001b[32m[I 2023-05-25 17:44:35,349]\u001b[0m Trial 13 finished with value: 0.7490954593770807 and parameters: {'n_estimators': 112, 'max_depth': 6, 'min_samples_split': 30, 'min_samples_leaf': 4, 'max_features': 0.6, 'max_samples': 0.7}. Best is trial 13 with value: 0.7490954593770807.\u001b[0m\n",
      "\u001b[32m[I 2023-05-25 17:44:36,181]\u001b[0m Trial 20 finished with value: 0.7482814265029307 and parameters: {'n_estimators': 118, 'max_depth': 5, 'min_samples_split': 20, 'min_samples_leaf': 3, 'max_features': 0.6, 'max_samples': 0.7}. Best is trial 13 with value: 0.7490954593770807.\u001b[0m\n",
      "\u001b[32m[I 2023-05-25 17:44:37,039]\u001b[0m Trial 27 finished with value: 0.7516585829224725 and parameters: {'n_estimators': 106, 'max_depth': 7, 'min_samples_split': 45, 'min_samples_leaf': 7, 'max_features': 0.2, 'max_samples': 0.7}. Best is trial 27 with value: 0.7516585829224725.\u001b[0m\n",
      "\u001b[32m[I 2023-05-25 17:44:37,066]\u001b[0m Trial 6 finished with value: 0.7495648199825882 and parameters: {'n_estimators': 139, 'max_depth': 8, 'min_samples_split': 45, 'min_samples_leaf': 2, 'max_features': 0.6, 'max_samples': 0.7}. Best is trial 27 with value: 0.7516585829224725.\u001b[0m\n",
      "\u001b[32m[I 2023-05-25 17:44:37,740]\u001b[0m Trial 38 finished with value: 0.7502873903920134 and parameters: {'n_estimators': 115, 'max_depth': 7, 'min_samples_split': 15, 'min_samples_leaf': 1, 'max_features': 0.4, 'max_samples': 0.5}. Best is trial 27 with value: 0.7516585829224725.\u001b[0m\n",
      "\u001b[32m[I 2023-05-25 17:44:38,412]\u001b[0m Trial 16 finished with value: 0.7490047597777791 and parameters: {'n_estimators': 110, 'max_depth': 6, 'min_samples_split': 35, 'min_samples_leaf': 8, 'max_features': 0.6, 'max_samples': 0.7}. Best is trial 27 with value: 0.7516585829224725.\u001b[0m\n",
      "\u001b[32m[I 2023-05-25 17:44:39,035]\u001b[0m Trial 17 finished with value: 0.7472862070810724 and parameters: {'n_estimators': 128, 'max_depth': 5, 'min_samples_split': 25, 'min_samples_leaf': 9, 'max_features': 0.6, 'max_samples': 0.5}. Best is trial 27 with value: 0.7516585829224725.\u001b[0m\n",
      "\u001b[32m[I 2023-05-25 17:44:39,538]\u001b[0m Trial 3 finished with value: 0.7505780143558896 and parameters: {'n_estimators': 158, 'max_depth': 7, 'min_samples_split': 15, 'min_samples_leaf': 6, 'max_features': 0.2, 'max_samples': 0.5}. Best is trial 27 with value: 0.7516585829224725.\u001b[0m\n",
      "\u001b[32m[I 2023-05-25 17:44:39,922]\u001b[0m Trial 0 finished with value: 0.7481619227170647 and parameters: {'n_estimators': 147, 'max_depth': 10, 'min_samples_split': 5, 'min_samples_leaf': 6, 'max_features': 0.5, 'max_samples': 0.5}. Best is trial 27 with value: 0.7516585829224725.\u001b[0m\n",
      "\u001b[32m[I 2023-05-25 17:44:40,389]\u001b[0m Trial 29 finished with value: 0.7510750807411619 and parameters: {'n_estimators': 152, 'max_depth': 9, 'min_samples_split': 25, 'min_samples_leaf': 6, 'max_features': 0.30000000000000004, 'max_samples': 0.6000000000000001}. Best is trial 27 with value: 0.7516585829224725.\u001b[0m\n",
      "\u001b[32m[I 2023-05-25 17:44:41,148]\u001b[0m Trial 34 finished with value: 0.7495133556271135 and parameters: {'n_estimators': 154, 'max_depth': 8, 'min_samples_split': 35, 'min_samples_leaf': 5, 'max_features': 0.5, 'max_samples': 0.6000000000000001}. Best is trial 27 with value: 0.7516585829224725.\u001b[0m\n",
      "\u001b[32m[I 2023-05-25 17:45:00,220]\u001b[0m Trial 14 finished with value: 0.7481240855914347 and parameters: {'n_estimators': 176, 'max_depth': 10, 'min_samples_split': 10, 'min_samples_leaf': 3, 'max_features': 0.5, 'max_samples': 0.7}. Best is trial 27 with value: 0.7516585829224725.\u001b[0m\n",
      "\u001b[32m[I 2023-05-25 17:45:01,267]\u001b[0m Trial 37 finished with value: 0.7499785337262481 and parameters: {'n_estimators': 186, 'max_depth': 7, 'min_samples_split': 5, 'min_samples_leaf': 1, 'max_features': 0.30000000000000004, 'max_samples': 0.5}. Best is trial 27 with value: 0.7516585829224725.\u001b[0m\n",
      "\u001b[32m[I 2023-05-25 17:45:01,356]\u001b[0m Trial 32 finished with value: 0.7492701239197506 and parameters: {'n_estimators': 192, 'max_depth': 6, 'min_samples_split': 30, 'min_samples_leaf': 4, 'max_features': 0.2, 'max_samples': 0.7}. Best is trial 27 with value: 0.7516585829224725.\u001b[0m\n",
      "\u001b[32m[I 2023-05-25 17:45:01,854]\u001b[0m Trial 11 finished with value: 0.7504801693434269 and parameters: {'n_estimators': 202, 'max_depth': 6, 'min_samples_split': 10, 'min_samples_leaf': 4, 'max_features': 0.30000000000000004, 'max_samples': 0.5}. Best is trial 27 with value: 0.7516585829224725.\u001b[0m\n",
      "\u001b[32m[I 2023-05-25 17:45:02,351]\u001b[0m Trial 24 finished with value: 0.7504950210448204 and parameters: {'n_estimators': 193, 'max_depth': 7, 'min_samples_split': 30, 'min_samples_leaf': 6, 'max_features': 0.4, 'max_samples': 0.6000000000000001}. Best is trial 27 with value: 0.7516585829224725.\u001b[0m\n",
      "\u001b[32m[I 2023-05-25 17:45:02,892]\u001b[0m Trial 4 finished with value: 0.7489992940687927 and parameters: {'n_estimators': 166, 'max_depth': 9, 'min_samples_split': 35, 'min_samples_leaf': 9, 'max_features': 0.6, 'max_samples': 0.5}. Best is trial 27 with value: 0.7516585829224725.\u001b[0m\n",
      "\u001b[32m[I 2023-05-25 17:45:03,116]\u001b[0m Trial 9 finished with value: 0.7491425088912687 and parameters: {'n_estimators': 177, 'max_depth': 6, 'min_samples_split': 15, 'min_samples_leaf': 3, 'max_features': 0.4, 'max_samples': 0.7}. Best is trial 27 with value: 0.7516585829224725.\u001b[0m\n",
      "\u001b[32m[I 2023-05-25 17:45:03,501]\u001b[0m Trial 23 finished with value: 0.7480977130535644 and parameters: {'n_estimators': 180, 'max_depth': 10, 'min_samples_split': 40, 'min_samples_leaf': 10, 'max_features': 0.6, 'max_samples': 0.6000000000000001}. Best is trial 27 with value: 0.7516585829224725.\u001b[0m\n",
      "\u001b[32m[I 2023-05-25 17:45:04,046]\u001b[0m Trial 35 finished with value: 0.7501508750125109 and parameters: {'n_estimators': 198, 'max_depth': 6, 'min_samples_split': 20, 'min_samples_leaf': 6, 'max_features': 0.4, 'max_samples': 0.6000000000000001}. Best is trial 27 with value: 0.7516585829224725.\u001b[0m\n",
      "\u001b[32m[I 2023-05-25 17:45:04,190]\u001b[0m Trial 30 finished with value: 0.7485969378117117 and parameters: {'n_estimators': 197, 'max_depth': 8, 'min_samples_split': 40, 'min_samples_leaf': 8, 'max_features': 0.6, 'max_samples': 0.6000000000000001}. Best is trial 27 with value: 0.7516585829224725.\u001b[0m\n",
      "\u001b[32m[I 2023-05-25 17:45:05,180]\u001b[0m Trial 22 finished with value: 0.7483910809105351 and parameters: {'n_estimators': 221, 'max_depth': 9, 'min_samples_split': 5, 'min_samples_leaf': 1, 'max_features': 0.5, 'max_samples': 0.5}. Best is trial 27 with value: 0.7516585829224725.\u001b[0m\n",
      "\u001b[32m[I 2023-05-25 17:45:05,257]\u001b[0m Trial 2 finished with value: 0.7504964326483001 and parameters: {'n_estimators': 214, 'max_depth': 7, 'min_samples_split': 15, 'min_samples_leaf': 7, 'max_features': 0.2, 'max_samples': 0.6000000000000001}. Best is trial 27 with value: 0.7516585829224725.\u001b[0m\n",
      "\u001b[32m[I 2023-05-25 17:45:24,511]\u001b[0m Trial 36 finished with value: 0.7518407478897042 and parameters: {'n_estimators': 246, 'max_depth': 9, 'min_samples_split': 15, 'min_samples_leaf': 3, 'max_features': 0.2, 'max_samples': 0.4}. Best is trial 36 with value: 0.7518407478897042.\u001b[0m\n",
      "\u001b[32m[I 2023-05-25 17:45:24,650]\u001b[0m Trial 18 finished with value: 0.7529849776172227 and parameters: {'n_estimators': 254, 'max_depth': 10, 'min_samples_split': 45, 'min_samples_leaf': 4, 'max_features': 0.2, 'max_samples': 0.6000000000000001}. Best is trial 18 with value: 0.7529849776172227.\u001b[0m\n",
      "\u001b[32m[I 2023-05-25 17:45:25,995]\u001b[0m Trial 26 finished with value: 0.7485694187786862 and parameters: {'n_estimators': 318, 'max_depth': 5, 'min_samples_split': 15, 'min_samples_leaf': 9, 'max_features': 0.6, 'max_samples': 0.5}. Best is trial 18 with value: 0.7529849776172227.\u001b[0m\n",
      "\u001b[32m[I 2023-05-25 17:45:27,134]\u001b[0m Trial 10 finished with value: 0.7482415669415003 and parameters: {'n_estimators': 276, 'max_depth': 8, 'min_samples_split': 20, 'min_samples_leaf': 4, 'max_features': 0.6, 'max_samples': 0.6000000000000001}. Best is trial 18 with value: 0.7529849776172227.\u001b[0m\n",
      "\u001b[32m[I 2023-05-25 17:45:29,503]\u001b[0m Trial 19 finished with value: 0.7488436612693741 and parameters: {'n_estimators': 307, 'max_depth': 5, 'min_samples_split': 15, 'min_samples_leaf': 3, 'max_features': 0.2, 'max_samples': 0.5}. Best is trial 18 with value: 0.7529849776172227.\u001b[0m\n",
      "\u001b[32m[I 2023-05-25 17:45:30,420]\u001b[0m Trial 21 finished with value: 0.7518742450296733 and parameters: {'n_estimators': 317, 'max_depth': 7, 'min_samples_split': 30, 'min_samples_leaf': 1, 'max_features': 0.4, 'max_samples': 0.4}. Best is trial 18 with value: 0.7529849776172227.\u001b[0m\n",
      "\u001b[32m[I 2023-05-25 17:45:49,541]\u001b[0m Trial 5 finished with value: 0.7525610734970389 and parameters: {'n_estimators': 362, 'max_depth': 8, 'min_samples_split': 35, 'min_samples_leaf': 3, 'max_features': 0.30000000000000004, 'max_samples': 0.4}. Best is trial 18 with value: 0.7529849776172227.\u001b[0m\n",
      "\u001b[32m[I 2023-05-25 17:45:49,558]\u001b[0m Trial 31 finished with value: 0.7493373099753222 and parameters: {'n_estimators': 345, 'max_depth': 7, 'min_samples_split': 45, 'min_samples_leaf': 1, 'max_features': 0.6, 'max_samples': 0.5}. Best is trial 18 with value: 0.7529849776172227.\u001b[0m\n",
      "\u001b[32m[I 2023-05-25 17:45:50,671]\u001b[0m Trial 25 finished with value: 0.7512960762082657 and parameters: {'n_estimators': 368, 'max_depth': 10, 'min_samples_split': 40, 'min_samples_leaf': 4, 'max_features': 0.4, 'max_samples': 0.7}. Best is trial 18 with value: 0.7529849776172227.\u001b[0m\n",
      "\u001b[32m[I 2023-05-25 17:45:51,166]\u001b[0m Trial 43 finished with value: 0.7484936527911221 and parameters: {'n_estimators': 176, 'max_depth': 5, 'min_samples_split': 10, 'min_samples_leaf': 10, 'max_features': 0.30000000000000004, 'max_samples': 0.5}. Best is trial 18 with value: 0.7529849776172227.\u001b[0m\n",
      "\u001b[32m[I 2023-05-25 17:45:51,236]\u001b[0m Trial 7 finished with value: 0.7498677845176683 and parameters: {'n_estimators': 322, 'max_depth': 6, 'min_samples_split': 25, 'min_samples_leaf': 9, 'max_features': 0.2, 'max_samples': 0.5}. Best is trial 18 with value: 0.7529849776172227.\u001b[0m\n",
      "\u001b[32m[I 2023-05-25 17:45:52,774]\u001b[0m Trial 28 finished with value: 0.7487328498166367 and parameters: {'n_estimators': 362, 'max_depth': 5, 'min_samples_split': 15, 'min_samples_leaf': 8, 'max_features': 0.2, 'max_samples': 0.5}. Best is trial 18 with value: 0.7529849776172227.\u001b[0m\n",
      "\u001b[32m[I 2023-05-25 17:45:53,033]\u001b[0m Trial 1 finished with value: 0.7494054481824696 and parameters: {'n_estimators': 348, 'max_depth': 6, 'min_samples_split': 20, 'min_samples_leaf': 1, 'max_features': 0.6, 'max_samples': 0.5}. Best is trial 18 with value: 0.7529849776172227.\u001b[0m\n",
      "\u001b[32m[I 2023-05-25 17:45:53,935]\u001b[0m Trial 62 finished with value: 0.7512578968467662 and parameters: {'n_estimators': 101, 'max_depth': 9, 'min_samples_split': 25, 'min_samples_leaf': 7, 'max_features': 0.30000000000000004, 'max_samples': 0.4}. Best is trial 18 with value: 0.7529849776172227.\u001b[0m\n",
      "\u001b[32m[I 2023-05-25 17:45:54,613]\u001b[0m Trial 61 finished with value: 0.7513753270376414 and parameters: {'n_estimators': 132, 'max_depth': 9, 'min_samples_split': 50, 'min_samples_leaf': 7, 'max_features': 0.2, 'max_samples': 0.4}. Best is trial 18 with value: 0.7529849776172227.\u001b[0m\n",
      "\u001b[32m[I 2023-05-25 17:45:55,966]\u001b[0m Trial 50 finished with value: 0.7526977705480207 and parameters: {'n_estimators': 226, 'max_depth': 10, 'min_samples_split': 50, 'min_samples_leaf': 7, 'max_features': 0.2, 'max_samples': 0.6000000000000001}. Best is trial 18 with value: 0.7529849776172227.\u001b[0m\n",
      "\u001b[32m[I 2023-05-25 17:46:14,628]\u001b[0m Trial 41 finished with value: 0.7513606693053353 and parameters: {'n_estimators': 299, 'max_depth': 9, 'min_samples_split': 20, 'min_samples_leaf': 6, 'max_features': 0.2, 'max_samples': 0.6000000000000001}. Best is trial 18 with value: 0.7529849776172227.\u001b[0m\n",
      "\u001b[32m[I 2023-05-25 17:46:14,969]\u001b[0m Trial 15 finished with value: 0.7498490908730397 and parameters: {'n_estimators': 441, 'max_depth': 7, 'min_samples_split': 20, 'min_samples_leaf': 2, 'max_features': 0.6, 'max_samples': 0.5}. Best is trial 18 with value: 0.7529849776172227.\u001b[0m\n",
      "\u001b[32m[I 2023-05-25 17:46:16,031]\u001b[0m Trial 42 finished with value: 0.7501997751419462 and parameters: {'n_estimators': 319, 'max_depth': 6, 'min_samples_split': 15, 'min_samples_leaf': 10, 'max_features': 0.2, 'max_samples': 0.5}. Best is trial 18 with value: 0.7529849776172227.\u001b[0m\n",
      "\u001b[32m[I 2023-05-25 17:46:16,330]\u001b[0m Trial 39 finished with value: 0.7487692796543628 and parameters: {'n_estimators': 424, 'max_depth': 5, 'min_samples_split': 20, 'min_samples_leaf': 7, 'max_features': 0.2, 'max_samples': 0.6000000000000001}. Best is trial 18 with value: 0.7529849776172227.\u001b[0m\n",
      "\u001b[32m[I 2023-05-25 17:46:16,762]\u001b[0m Trial 33 finished with value: 0.7517837268593228 and parameters: {'n_estimators': 433, 'max_depth': 7, 'min_samples_split': 50, 'min_samples_leaf': 7, 'max_features': 0.30000000000000004, 'max_samples': 0.4}. Best is trial 18 with value: 0.7529849776172227.\u001b[0m\n",
      "\u001b[32m[I 2023-05-25 17:46:17,823]\u001b[0m Trial 46 finished with value: 0.7509154171439132 and parameters: {'n_estimators': 274, 'max_depth': 9, 'min_samples_split': 15, 'min_samples_leaf': 3, 'max_features': 0.4, 'max_samples': 0.4}. Best is trial 18 with value: 0.7529849776172227.\u001b[0m\n",
      "\u001b[32m[I 2023-05-25 17:46:18,189]\u001b[0m Trial 48 finished with value: 0.748123378700101 and parameters: {'n_estimators': 302, 'max_depth': 8, 'min_samples_split': 15, 'min_samples_leaf': 9, 'max_features': 0.6, 'max_samples': 0.6000000000000001}. Best is trial 18 with value: 0.7529849776172227.\u001b[0m\n",
      "\u001b[32m[I 2023-05-25 17:46:18,884]\u001b[0m Trial 49 finished with value: 0.7508393687750212 and parameters: {'n_estimators': 303, 'max_depth': 8, 'min_samples_split': 50, 'min_samples_leaf': 10, 'max_features': 0.2, 'max_samples': 0.4}. Best is trial 18 with value: 0.7529849776172227.\u001b[0m\n",
      "\u001b[32m[I 2023-05-25 17:46:36,436]\u001b[0m Trial 8 finished with value: 0.7506379048412246 and parameters: {'n_estimators': 481, 'max_depth': 8, 'min_samples_split': 10, 'min_samples_leaf': 5, 'max_features': 0.4, 'max_samples': 0.7}. Best is trial 18 with value: 0.7529849776172227.\u001b[0m\n",
      "\u001b[32m[I 2023-05-25 17:46:37,564]\u001b[0m Trial 12 finished with value: 0.7503187504623596 and parameters: {'n_estimators': 495, 'max_depth': 10, 'min_samples_split': 25, 'min_samples_leaf': 1, 'max_features': 0.5, 'max_samples': 0.5}. Best is trial 18 with value: 0.7529849776172227.\u001b[0m\n",
      "\u001b[32m[I 2023-05-25 17:46:38,472]\u001b[0m Trial 51 finished with value: 0.7517747122097396 and parameters: {'n_estimators': 254, 'max_depth': 9, 'min_samples_split': 45, 'min_samples_leaf': 8, 'max_features': 0.2, 'max_samples': 0.6000000000000001}. Best is trial 18 with value: 0.7529849776172227.\u001b[0m\n",
      "\u001b[32m[I 2023-05-25 17:46:39,220]\u001b[0m Trial 40 finished with value: 0.7514732265404913 and parameters: {'n_estimators': 355, 'max_depth': 9, 'min_samples_split': 25, 'min_samples_leaf': 1, 'max_features': 0.4, 'max_samples': 0.6000000000000001}. Best is trial 18 with value: 0.7529849776172227.\u001b[0m\n",
      "\u001b[32m[I 2023-05-25 17:46:39,358]\u001b[0m Trial 52 finished with value: 0.7524085682703789 and parameters: {'n_estimators': 256, 'max_depth': 9, 'min_samples_split': 50, 'min_samples_leaf': 8, 'max_features': 0.2, 'max_samples': 0.6000000000000001}. Best is trial 18 with value: 0.7529849776172227.\u001b[0m\n",
      "\u001b[32m[I 2023-05-25 17:46:40,057]\u001b[0m Trial 53 finished with value: 0.7508753052354231 and parameters: {'n_estimators': 294, 'max_depth': 9, 'min_samples_split': 50, 'min_samples_leaf': 8, 'max_features': 0.30000000000000004, 'max_samples': 0.6000000000000001}. Best is trial 18 with value: 0.7529849776172227.\u001b[0m\n",
      "\u001b[32m[I 2023-05-25 17:46:40,088]\u001b[0m Trial 54 finished with value: 0.7510893480850447 and parameters: {'n_estimators': 265, 'max_depth': 9, 'min_samples_split': 40, 'min_samples_leaf': 8, 'max_features': 0.30000000000000004, 'max_samples': 0.6000000000000001}. Best is trial 18 with value: 0.7529849776172227.\u001b[0m\n",
      "\u001b[32m[I 2023-05-25 17:46:40,763]\u001b[0m Trial 55 finished with value: 0.7513173540126145 and parameters: {'n_estimators': 259, 'max_depth': 9, 'min_samples_split': 50, 'min_samples_leaf': 8, 'max_features': 0.30000000000000004, 'max_samples': 0.4}. Best is trial 18 with value: 0.7529849776172227.\u001b[0m\n",
      "\u001b[32m[I 2023-05-25 17:46:41,259]\u001b[0m Trial 57 finished with value: 0.7520730316907412 and parameters: {'n_estimators': 254, 'max_depth': 9, 'min_samples_split': 50, 'min_samples_leaf': 7, 'max_features': 0.30000000000000004, 'max_samples': 0.4}. Best is trial 18 with value: 0.7529849776172227.\u001b[0m\n",
      "\u001b[32m[I 2023-05-25 17:46:41,298]\u001b[0m Trial 56 finished with value: 0.7520885749970564 and parameters: {'n_estimators': 257, 'max_depth': 9, 'min_samples_split': 50, 'min_samples_leaf': 7, 'max_features': 0.30000000000000004, 'max_samples': 0.4}. Best is trial 18 with value: 0.7529849776172227.\u001b[0m\n",
      "\u001b[32m[I 2023-05-25 17:46:41,843]\u001b[0m Trial 59 finished with value: 0.7521183332183572 and parameters: {'n_estimators': 250, 'max_depth': 9, 'min_samples_split': 50, 'min_samples_leaf': 7, 'max_features': 0.30000000000000004, 'max_samples': 0.4}. Best is trial 18 with value: 0.7529849776172227.\u001b[0m\n",
      "\u001b[32m[I 2023-05-25 17:46:42,584]\u001b[0m Trial 60 finished with value: 0.7510951160056084 and parameters: {'n_estimators': 245, 'max_depth': 9, 'min_samples_split': 20, 'min_samples_leaf': 7, 'max_features': 0.2, 'max_samples': 0.4}. Best is trial 18 with value: 0.7529849776172227.\u001b[0m\n",
      "\u001b[32m[I 2023-05-25 17:46:44,622]\u001b[0m Trial 47 finished with value: 0.7508938710569732 and parameters: {'n_estimators': 382, 'max_depth': 9, 'min_samples_split': 15, 'min_samples_leaf': 4, 'max_features': 0.30000000000000004, 'max_samples': 0.6000000000000001}. Best is trial 18 with value: 0.7529849776172227.\u001b[0m\n",
      "\u001b[32m[I 2023-05-25 17:47:03,229]\u001b[0m Trial 64 finished with value: 0.7525255871298044 and parameters: {'n_estimators': 278, 'max_depth': 9, 'min_samples_split': 50, 'min_samples_leaf': 5, 'max_features': 0.2, 'max_samples': 0.4}. Best is trial 18 with value: 0.7529849776172227.\u001b[0m\n",
      "\u001b[32m[I 2023-05-25 17:47:03,244]\u001b[0m Trial 63 finished with value: 0.7520863449784885 and parameters: {'n_estimators': 300, 'max_depth': 9, 'min_samples_split': 50, 'min_samples_leaf': 7, 'max_features': 0.30000000000000004, 'max_samples': 0.4}. Best is trial 18 with value: 0.7529849776172227.\u001b[0m\n",
      "\u001b[32m[I 2023-05-25 17:47:04,812]\u001b[0m Trial 65 finished with value: 0.7526665668370528 and parameters: {'n_estimators': 258, 'max_depth': 9, 'min_samples_split': 50, 'min_samples_leaf': 5, 'max_features': 0.2, 'max_samples': 0.4}. Best is trial 18 with value: 0.7529849776172227.\u001b[0m\n",
      "\u001b[32m[I 2023-05-25 17:47:05,561]\u001b[0m Trial 66 finished with value: 0.7526258538794031 and parameters: {'n_estimators': 243, 'max_depth': 9, 'min_samples_split': 50, 'min_samples_leaf': 5, 'max_features': 0.2, 'max_samples': 0.4}. Best is trial 18 with value: 0.7529849776172227.\u001b[0m\n",
      "\u001b[32m[I 2023-05-25 17:47:06,192]\u001b[0m Trial 44 finished with value: 0.7477005566838266 and parameters: {'n_estimators': 452, 'max_depth': 10, 'min_samples_split': 25, 'min_samples_leaf': 7, 'max_features': 0.6, 'max_samples': 0.7}. Best is trial 18 with value: 0.7529849776172227.\u001b[0m\n",
      "\u001b[32m[I 2023-05-25 17:47:06,818]\u001b[0m Trial 58 finished with value: 0.7521364958652528 and parameters: {'n_estimators': 340, 'max_depth': 9, 'min_samples_split': 50, 'min_samples_leaf': 7, 'max_features': 0.30000000000000004, 'max_samples': 0.4}. Best is trial 18 with value: 0.7529849776172227.\u001b[0m\n",
      "\u001b[32m[I 2023-05-25 17:47:07,290]\u001b[0m Trial 67 finished with value: 0.7518731770316339 and parameters: {'n_estimators': 251, 'max_depth': 9, 'min_samples_split': 50, 'min_samples_leaf': 5, 'max_features': 0.30000000000000004, 'max_samples': 0.4}. Best is trial 18 with value: 0.7529849776172227.\u001b[0m\n",
      "\u001b[32m[I 2023-05-25 17:47:27,105]\u001b[0m Trial 45 finished with value: 0.7506260951357895 and parameters: {'n_estimators': 481, 'max_depth': 10, 'min_samples_split': 10, 'min_samples_leaf': 2, 'max_features': 0.30000000000000004, 'max_samples': 0.6000000000000001}. Best is trial 18 with value: 0.7529849776172227.\u001b[0m\n",
      "\u001b[32m[I 2023-05-25 17:47:27,428]\u001b[0m Trial 75 finished with value: 0.7523640360958165 and parameters: {'n_estimators': 248, 'max_depth': 9, 'min_samples_split': 50, 'min_samples_leaf': 2, 'max_features': 0.30000000000000004, 'max_samples': 0.4}. Best is trial 18 with value: 0.7529849776172227.\u001b[0m\n",
      "\u001b[32m[I 2023-05-25 17:47:29,213]\u001b[0m Trial 68 finished with value: 0.753180581277131 and parameters: {'n_estimators': 398, 'max_depth': 10, 'min_samples_split': 50, 'min_samples_leaf': 2, 'max_features': 0.30000000000000004, 'max_samples': 0.4}. Best is trial 68 with value: 0.753180581277131.\u001b[0m\n",
      "\u001b[32m[I 2023-05-25 17:47:29,284]\u001b[0m Trial 86 finished with value: 0.7532076414431734 and parameters: {'n_estimators': 235, 'max_depth': 10, 'min_samples_split': 45, 'min_samples_leaf': 2, 'max_features': 0.30000000000000004, 'max_samples': 0.4}. Best is trial 86 with value: 0.7532076414431734.\u001b[0m\n",
      "\u001b[32m[I 2023-05-25 17:47:43,577]\u001b[0m Trial 87 finished with value: 0.7530569719769062 and parameters: {'n_estimators': 240, 'max_depth': 10, 'min_samples_split': 45, 'min_samples_leaf': 2, 'max_features': 0.30000000000000004, 'max_samples': 0.4}. Best is trial 86 with value: 0.7532076414431734.\u001b[0m\n",
      "\u001b[32m[I 2023-05-25 17:47:44,287]\u001b[0m Trial 89 finished with value: 0.7535670373904015 and parameters: {'n_estimators': 238, 'max_depth': 10, 'min_samples_split': 35, 'min_samples_leaf': 2, 'max_features': 0.30000000000000004, 'max_samples': 0.4}. Best is trial 89 with value: 0.7535670373904015.\u001b[0m\n",
      "\u001b[32m[I 2023-05-25 17:47:44,339]\u001b[0m Trial 80 finished with value: 0.7530634056731353 and parameters: {'n_estimators': 250, 'max_depth': 10, 'min_samples_split': 50, 'min_samples_leaf': 2, 'max_features': 0.30000000000000004, 'max_samples': 0.4}. Best is trial 89 with value: 0.7535670373904015.\u001b[0m\n",
      "\u001b[32m[I 2023-05-25 17:47:44,457]\u001b[0m Trial 69 finished with value: 0.7532712432667233 and parameters: {'n_estimators': 387, 'max_depth': 10, 'min_samples_split': 50, 'min_samples_leaf': 2, 'max_features': 0.30000000000000004, 'max_samples': 0.4}. Best is trial 89 with value: 0.7535670373904015.\u001b[0m\n",
      "\u001b[32m[I 2023-05-25 17:47:44,838]\u001b[0m Trial 91 finished with value: 0.753300896737227 and parameters: {'n_estimators': 233, 'max_depth': 10, 'min_samples_split': 50, 'min_samples_leaf': 2, 'max_features': 0.30000000000000004, 'max_samples': 0.4}. Best is trial 89 with value: 0.7535670373904015.\u001b[0m\n",
      "\u001b[32m[I 2023-05-25 17:47:44,966]\u001b[0m Trial 81 finished with value: 0.7530407791799835 and parameters: {'n_estimators': 245, 'max_depth': 10, 'min_samples_split': 50, 'min_samples_leaf': 2, 'max_features': 0.30000000000000004, 'max_samples': 0.4}. Best is trial 89 with value: 0.7535670373904015.\u001b[0m\n",
      "\u001b[32m[I 2023-05-25 17:47:45,377]\u001b[0m Trial 93 finished with value: 0.7536042855754507 and parameters: {'n_estimators': 233, 'max_depth': 10, 'min_samples_split': 45, 'min_samples_leaf': 2, 'max_features': 0.2, 'max_samples': 0.4}. Best is trial 93 with value: 0.7536042855754507.\u001b[0m\n",
      "\u001b[32m[I 2023-05-25 17:47:45,453]\u001b[0m Trial 82 finished with value: 0.7529941203003135 and parameters: {'n_estimators': 251, 'max_depth': 10, 'min_samples_split': 50, 'min_samples_leaf': 2, 'max_features': 0.30000000000000004, 'max_samples': 0.4}. Best is trial 93 with value: 0.7536042855754507.\u001b[0m\n",
      "\u001b[32m[I 2023-05-25 17:47:45,647]\u001b[0m Trial 94 finished with value: 0.7534346915384449 and parameters: {'n_estimators': 240, 'max_depth': 10, 'min_samples_split': 45, 'min_samples_leaf': 2, 'max_features': 0.2, 'max_samples': 0.4}. Best is trial 93 with value: 0.7536042855754507.\u001b[0m\n",
      "\u001b[32m[I 2023-05-25 17:47:46,041]\u001b[0m Trial 83 finished with value: 0.7530634056731353 and parameters: {'n_estimators': 250, 'max_depth': 10, 'min_samples_split': 50, 'min_samples_leaf': 2, 'max_features': 0.30000000000000004, 'max_samples': 0.4}. Best is trial 93 with value: 0.7536042855754507.\u001b[0m\n",
      "\u001b[32m[I 2023-05-25 17:47:46,135]\u001b[0m Trial 95 finished with value: 0.7532030989036389 and parameters: {'n_estimators': 232, 'max_depth': 10, 'min_samples_split': 45, 'min_samples_leaf': 5, 'max_features': 0.30000000000000004, 'max_samples': 0.4}. Best is trial 93 with value: 0.7536042855754507.\u001b[0m\n",
      "\u001b[32m[I 2023-05-25 17:47:46,240]\u001b[0m Trial 96 finished with value: 0.7533560565667173 and parameters: {'n_estimators': 234, 'max_depth': 10, 'min_samples_split': 45, 'min_samples_leaf': 5, 'max_features': 0.30000000000000004, 'max_samples': 0.4}. Best is trial 93 with value: 0.7536042855754507.\u001b[0m\n",
      "\u001b[32m[I 2023-05-25 17:47:46,273]\u001b[0m Trial 84 finished with value: 0.7531179070598728 and parameters: {'n_estimators': 242, 'max_depth': 10, 'min_samples_split': 45, 'min_samples_leaf': 2, 'max_features': 0.30000000000000004, 'max_samples': 0.4}. Best is trial 93 with value: 0.7536042855754507.\u001b[0m\n",
      "\u001b[32m[I 2023-05-25 17:47:46,769]\u001b[0m Trial 97 finished with value: 0.7534156046949189 and parameters: {'n_estimators': 236, 'max_depth': 10, 'min_samples_split': 45, 'min_samples_leaf': 5, 'max_features': 0.30000000000000004, 'max_samples': 0.4}. Best is trial 93 with value: 0.7536042855754507.\u001b[0m\n",
      "\u001b[32m[I 2023-05-25 17:47:46,947]\u001b[0m Trial 98 finished with value: 0.753245992247167 and parameters: {'n_estimators': 230, 'max_depth': 10, 'min_samples_split': 45, 'min_samples_leaf': 5, 'max_features': 0.30000000000000004, 'max_samples': 0.4}. Best is trial 93 with value: 0.7536042855754507.\u001b[0m\n",
      "\u001b[32m[I 2023-05-25 17:47:46,950]\u001b[0m Trial 85 finished with value: 0.7530742134659076 and parameters: {'n_estimators': 249, 'max_depth': 10, 'min_samples_split': 50, 'min_samples_leaf': 2, 'max_features': 0.30000000000000004, 'max_samples': 0.4}. Best is trial 93 with value: 0.7536042855754507.\u001b[0m\n",
      "\u001b[32m[I 2023-05-25 17:47:47,515]\u001b[0m Trial 99 finished with value: 0.7532030989036389 and parameters: {'n_estimators': 232, 'max_depth': 10, 'min_samples_split': 45, 'min_samples_leaf': 5, 'max_features': 0.30000000000000004, 'max_samples': 0.4}. Best is trial 93 with value: 0.7536042855754507.\u001b[0m\n",
      "\u001b[32m[I 2023-05-25 17:47:51,734]\u001b[0m Trial 88 finished with value: 0.753159946418694 and parameters: {'n_estimators': 249, 'max_depth': 10, 'min_samples_split': 45, 'min_samples_leaf': 2, 'max_features': 0.30000000000000004, 'max_samples': 0.4}. Best is trial 93 with value: 0.7536042855754507.\u001b[0m\n",
      "\u001b[32m[I 2023-05-25 17:47:52,341]\u001b[0m Trial 90 finished with value: 0.7529941203003135 and parameters: {'n_estimators': 251, 'max_depth': 10, 'min_samples_split': 50, 'min_samples_leaf': 2, 'max_features': 0.30000000000000004, 'max_samples': 0.4}. Best is trial 93 with value: 0.7536042855754507.\u001b[0m\n",
      "\u001b[32m[I 2023-05-25 17:47:52,523]\u001b[0m Trial 92 finished with value: 0.7535863640016184 and parameters: {'n_estimators': 245, 'max_depth': 10, 'min_samples_split': 35, 'min_samples_leaf': 2, 'max_features': 0.2, 'max_samples': 0.4}. Best is trial 93 with value: 0.7536042855754507.\u001b[0m\n",
      "\u001b[32m[I 2023-05-25 17:47:52,740]\u001b[0m Trial 70 finished with value: 0.7533214359967412 and parameters: {'n_estimators': 434, 'max_depth': 10, 'min_samples_split': 50, 'min_samples_leaf': 2, 'max_features': 0.30000000000000004, 'max_samples': 0.4}. Best is trial 93 with value: 0.7536042855754507.\u001b[0m\n",
      "\u001b[32m[I 2023-05-25 17:47:52,914]\u001b[0m Trial 71 finished with value: 0.7526462692248234 and parameters: {'n_estimators': 429, 'max_depth': 9, 'min_samples_split': 50, 'min_samples_leaf': 2, 'max_features': 0.30000000000000004, 'max_samples': 0.4}. Best is trial 93 with value: 0.7536042855754507.\u001b[0m\n",
      "\u001b[32m[I 2023-05-25 17:47:52,949]\u001b[0m Trial 74 finished with value: 0.7523453717364721 and parameters: {'n_estimators': 409, 'max_depth': 9, 'min_samples_split': 50, 'min_samples_leaf': 2, 'max_features': 0.30000000000000004, 'max_samples': 0.4}. Best is trial 93 with value: 0.7536042855754507.\u001b[0m\n",
      "\u001b[32m[I 2023-05-25 17:47:52,966]\u001b[0m Trial 72 finished with value: 0.7525852962717866 and parameters: {'n_estimators': 427, 'max_depth': 9, 'min_samples_split': 50, 'min_samples_leaf': 2, 'max_features': 0.30000000000000004, 'max_samples': 0.4}. Best is trial 93 with value: 0.7536042855754507.\u001b[0m\n",
      "\u001b[32m[I 2023-05-25 17:47:53,440]\u001b[0m Trial 78 finished with value: 0.7532307969189336 and parameters: {'n_estimators': 414, 'max_depth': 10, 'min_samples_split': 50, 'min_samples_leaf': 2, 'max_features': 0.30000000000000004, 'max_samples': 0.4}. Best is trial 93 with value: 0.7536042855754507.\u001b[0m\n",
      "\u001b[32m[I 2023-05-25 17:47:53,458]\u001b[0m Trial 73 finished with value: 0.7525925608697414 and parameters: {'n_estimators': 451, 'max_depth': 9, 'min_samples_split': 50, 'min_samples_leaf': 2, 'max_features': 0.30000000000000004, 'max_samples': 0.4}. Best is trial 93 with value: 0.7536042855754507.\u001b[0m\n",
      "\u001b[32m[I 2023-05-25 17:47:53,494]\u001b[0m Trial 76 finished with value: 0.7525864276945253 and parameters: {'n_estimators': 426, 'max_depth': 9, 'min_samples_split': 50, 'min_samples_leaf': 2, 'max_features': 0.30000000000000004, 'max_samples': 0.4}. Best is trial 93 with value: 0.7536042855754507.\u001b[0m\n",
      "\u001b[32m[I 2023-05-25 17:47:53,531]\u001b[0m Trial 77 finished with value: 0.7525614071980543 and parameters: {'n_estimators': 425, 'max_depth': 9, 'min_samples_split': 50, 'min_samples_leaf': 2, 'max_features': 0.30000000000000004, 'max_samples': 0.4}. Best is trial 93 with value: 0.7536042855754507.\u001b[0m\n",
      "\u001b[32m[I 2023-05-25 17:47:53,836]\u001b[0m Trial 79 finished with value: 0.7532379054856364 and parameters: {'n_estimators': 421, 'max_depth': 10, 'min_samples_split': 50, 'min_samples_leaf': 2, 'max_features': 0.30000000000000004, 'max_samples': 0.4}. Best is trial 93 with value: 0.7536042855754507.\u001b[0m\n"
     ]
    }
   ],
   "source": [
    "# tune using optuna\n",
    "clf = RandomForestClassifier(random_state=42, class_weight=\"balanced\", criterion='entropy', n_jobs=-1)\n",
    "param_distributions = {\n",
    "    'n_estimators':optuna.distributions.IntDistribution(100, 500, log=True),\n",
    "    'max_depth':optuna.distributions.IntDistribution(5, 10, step=1), \n",
    "    'min_samples_split':optuna.distributions.IntDistribution(5, 50, step=5), \n",
    "    'min_samples_leaf':optuna.distributions.IntDistribution(1, 10, step=1),\n",
    "    'max_features':optuna.distributions.FloatDistribution(0.2, 0.6, step=0.1),\n",
    "    'max_samples':optuna.distributions.FloatDistribution(0.4, 0.7, step=0.1)\n",
    "}\n",
    "optuna_search = optuna.integration.OptunaSearchCV(clf, param_distributions, n_trials=100, scoring=\"roc_auc\", n_jobs=-1)\n",
    "X, y = train.drop(['order_status_key', 'fold', 'customer_phone'], axis=1), train['order_status_key']\n",
    "optuna_search.fit(X, y)\n",
    "y_pred = optuna_search.predict(X)"
   ]
  },
  {
   "cell_type": "code",
   "execution_count": 85,
   "id": "db59b076-2deb-4b8f-ab2d-d06d84637729",
   "metadata": {},
   "outputs": [
    {
     "data": {
      "text/plain": [
       "{'n_estimators': 233,\n",
       " 'max_depth': 10,\n",
       " 'min_samples_split': 45,\n",
       " 'min_samples_leaf': 2,\n",
       " 'max_features': 0.2,\n",
       " 'max_samples': 0.4}"
      ]
     },
     "execution_count": 85,
     "metadata": {},
     "output_type": "execute_result"
    }
   ],
   "source": [
    "optuna_search.best_params_"
   ]
  },
  {
   "cell_type": "code",
   "execution_count": 86,
   "id": "7cc300e3-f835-4cd2-b50c-caa798b3d203",
   "metadata": {},
   "outputs": [],
   "source": [
    "def train_rf_cv(X, y, param, verbose=True):\n",
    "    clf = RandomForestClassifier(**param)\n",
    "    cvs = []\n",
    "    for fold in range(0, 5):\n",
    "        train_x = X.query(f'fold != {fold}').drop(columns='fold')\n",
    "        train_y = y[train_x.index]\n",
    "        valid_x = X.query(f'fold == {fold}').drop(columns='fold')\n",
    "        valid_y = y[valid_x.index]\n",
    "        valid_score = clf.fit(train_x, train_y).predict_proba(valid_x)[:, 1]\n",
    "        cvs.append(roc_auc_score(valid_y, valid_score))\n",
    "    \n",
    "    if verbose:\n",
    "        print(\"five fold auc:\", *cvs, sep=\", \")\n",
    "        print(\"mean auc:\", np.mean(cvs))\n",
    "        \n",
    "    return cvs"
   ]
  },
  {
   "cell_type": "code",
   "execution_count": 87,
   "id": "da9f572c-ffce-4222-b4d4-4c5afb00c3f4",
   "metadata": {},
   "outputs": [],
   "source": [
    "def train_rf(X, y, param):\n",
    "    clf = RandomForestClassifier(**param)\n",
    "    clf.fit(X, y)\n",
    "    return clf"
   ]
  },
  {
   "cell_type": "code",
   "execution_count": 91,
   "id": "fa7df3f6-64f1-403c-86ce-332115656add",
   "metadata": {},
   "outputs": [
    {
     "name": "stdout",
     "output_type": "stream",
     "text": [
      "five fold auc:, 0.7678726724723317, 0.73861741235542, 0.7696763202725725, 0.7370939640564215, 0.7442838731234636\n",
      "mean auc: 0.7515088484560419\n"
     ]
    }
   ],
   "source": [
    "param = {'n_estimators':233, 'criterion':'entropy', 'max_depth':10, 'min_samples_split':45, 'min_samples_leaf':2, \\\n",
    "         'max_features':0.2,'n_jobs':-1, 'random_state':42, 'class_weight':'balanced', 'max_samples':0.4}\n",
    "# param.update(optuna_search.best_params_)\n",
    "cvs = train_rf_cv(train.drop(['customer_phone', 'order_status_key'], axis=1), train['order_status_key'], param)"
   ]
  },
  {
   "cell_type": "code",
   "execution_count": 92,
   "id": "99cef1ff-4cd7-4c01-a04e-dc2ed0525a25",
   "metadata": {},
   "outputs": [],
   "source": [
    "clf = train_rf(train.drop(['order_status_key', 'customer_phone', 'fold'], axis=1), train['order_status_key'], param)\n",
    "pickle.dump(clf, open(config.RF, \"wb\"))"
   ]
  },
  {
   "cell_type": "markdown",
   "id": "9b442ce3-5ef2-41ad-b42d-24bc94d7c304",
   "metadata": {},
   "source": [
    "## XGBoost"
   ]
  },
  {
   "cell_type": "code",
   "execution_count": null,
   "id": "b1f512b7-fa0a-4693-b9e0-1ea488809aed",
   "metadata": {},
   "outputs": [],
   "source": [
    "train = pd.read_csv(config.TRAIN3)\n",
    "cat_features = ['gender', 'degree', 'card_num']\n",
    "train[cat_features] = train[cat_features].astype('category')"
   ]
  },
  {
   "cell_type": "code",
   "execution_count": null,
   "id": "f920f797-7331-4ec3-a476-26c4d087fa59",
   "metadata": {
    "tags": []
   },
   "outputs": [],
   "source": [
    "def objective(trial):\n",
    "    data = train.copy()\n",
    "    param = {\n",
    "        'booster':'gbtree', \n",
    "        'objective':'binary:logistic',\n",
    "        # 'eval_metric':roc_auc_score,\n",
    "        'grow_policy':'lossguide',\n",
    "        'n_estimators': 88,\n",
    "        'max_leaves': 28,\n",
    "        'max_depth': 4,\n",
    "        'eta': 0.00039413682468496394,\n",
    "        'min_child_weight': 20,\n",
    "        'subsample': 0.7,\n",
    "        'colsample_bytree': 0.4,\n",
    "        'scale_pos_weight': 6.0,\n",
    "        'max_bin': 140,\n",
    "        'random_state':42,\n",
    "        'tree_method':'approx',\n",
    "        'enable_categorical':True\n",
    "        # 'early_stopping_rounds':10\n",
    "    }\n",
    "    \n",
    "    # Add a callback for pruning.\n",
    "    # pruning_callback = optuna.integration.XGBoostPruningCallback(trial, \"validation-auc\")\n",
    "    aucs = []\n",
    "    for fold in range(0, 5):\n",
    "        train_fold = data.query(f\"fold != {fold}\").drop('fold', axis=1)\n",
    "        valid_fold = data.query(f\"fold == {fold}\").drop('fold', axis=1)\n",
    "        train_x, train_y = train_fold.drop('order_status_key', axis=1), train_fold['order_status_key']\n",
    "        valid_x, valid_y = valid_fold.drop('order_status_key', axis=1), valid_fold['order_status_key'] \n",
    "        clf = XGBClassifier(**param).fit(train_x, train_y, verbose=False)\n",
    "        preds = clf.predict_proba(valid_x)[:, 1]\n",
    "        value = roc_auc_score(valid_y, preds)\n",
    "        aucs.append(value)\n",
    "    return np.mean(aucs)\n",
    "\n",
    "\n",
    "if __name__ == \"__main__\":\n",
    "    study = optuna.create_study(\n",
    "        # pruner=optuna.pruners.MedianPruner(n_warmup_steps=10), \n",
    "        direction=\"maximize\"\n",
    "    )\n",
    "    study.optimize(objective, n_trials=100)\n",
    "\n",
    "    print(\"Number of finished trials: {}\".format(len(study.trials)))\n",
    "\n",
    "    print(\"Best trial:\")\n",
    "    trial = study.best_trial\n",
    "\n",
    "    print(\"  Value: {}\".format(trial.value))\n",
    "\n",
    "    print(\"  Params: \")\n",
    "    for key, value in trial.params.items():\n",
    "        print(\"    {}: {}\".format(key, value))"
   ]
  },
  {
   "cell_type": "code",
   "execution_count": null,
   "id": "d6f88f4d-4dce-483a-92ca-557a34993089",
   "metadata": {},
   "outputs": [],
   "source": [
    "param = {\n",
    "        'booster':'gbtree', \n",
    "        'objective':'binary:logistic',\n",
    "        'grow_policy':'lossguide',\n",
    "        'n_estimators': 88,\n",
    "        'max_leaves': 28,\n",
    "        'max_depth': 4,\n",
    "        'eta': 0.00039413682468496394,\n",
    "        'min_child_weight': 20,\n",
    "        'subsample': 0.8,\n",
    "        'colsample_bytree': 0.4,\n",
    "        'scale_pos_weight': 9,\n",
    "        'max_bin': 140,\n",
    "        'random_state':42,\n",
    "        'tree_method':'approx',\n",
    "        'enable_categorical':True}\n",
    "train_x, train_y = train.drop(['order_status_key', 'fold'], axis=1), train['order_status_key']\n",
    "clf = XGBClassifier(**param).fit(train_x, train_y)"
   ]
  },
  {
   "cell_type": "code",
   "execution_count": null,
   "id": "c936f79e-a658-49bc-9c0d-53c4613e82e2",
   "metadata": {},
   "outputs": [],
   "source": [
    "clf.save_model(config.XGBOOST)"
   ]
  },
  {
   "cell_type": "markdown",
   "id": "25e83bed-f2eb-4046-a3f2-29773c734788",
   "metadata": {},
   "source": [
    "## Catboost"
   ]
  },
  {
   "cell_type": "code",
   "execution_count": null,
   "id": "b00aa620-0133-4d8e-b8c4-bb9583ebc754",
   "metadata": {},
   "outputs": [],
   "source": [
    "train = pd.read_csv(config.TRAIN3)\n",
    "cat_features= ['gender', 'degree', 'card_num']\n",
    "train[cat_features] = train[cat_features].astype('category')"
   ]
  },
  {
   "cell_type": "code",
   "execution_count": null,
   "id": "ee6db5a1-3890-4c77-a13b-74a8d38f72cc",
   "metadata": {},
   "outputs": [],
   "source": [
    "Number of finished trials: 100\n",
    "value: 0.7557021810734862 and parameters: {'iterations': 220, 'learning_rate': 0.02200043117064521}"
   ]
  },
  {
   "cell_type": "code",
   "execution_count": null,
   "id": "a8235629-476b-4205-85e1-4b7dfb01fc46",
   "metadata": {
    "tags": []
   },
   "outputs": [],
   "source": [
    "def objective(trial):\n",
    "    data = train.copy()\n",
    "    param_distribution = {\n",
    "        'loss_function':'Logloss',\n",
    "        'iterations':trial.suggest_int('iterations', 200, 250, step=5),\n",
    "        'learning_rate':trial.suggest_float('learning_rate', 1e-2, 0.05, log=True),\n",
    "        # 'bagging_temperature':trial.suggest_float('bagging_temperature', 1e-2, 1e2, log=True),\n",
    "        'subsample':0.7,\n",
    "        # 'sampling_frequency':'PerTree',\n",
    "        'depth':trial.suggest_int('depth', 5, 10, step=1),\n",
    "        'grow_policy':'Lossguide',\n",
    "        # 'min_data_in_leaf':trial.suggest_int('min_data_in_leaf', 10, 20, step=1),\n",
    "        'max_leaves':trial.suggest_int('max_leaves', 15, 20, step = 1),\n",
    "        'scale_pos_weight':trial.suggest_float('scale_pos_weight', 0.5, 20, log=True),\n",
    "        # 'border_count':trial.suggest_int('border_count', 100, 300, step=10),\n",
    "        'random_seed':42,\n",
    "        'verbose':False\n",
    "    }\n",
    "    \n",
    "    cvs = []\n",
    "    clf = CatBoostClassifier(**param_distribution)\n",
    "    for fold in range(0, 5):\n",
    "        train_fold = data.query(f'fold !={fold}')\n",
    "        valid_fold = data.query(f'fold == {fold}')\n",
    "        train_x = train_fold.drop(columns=['fold', 'order_status_key'])\n",
    "        train_y = train_fold['order_status_key']\n",
    "        train_data = Pool(train_x, train_y, cat_features= ['gender', 'degree', 'card_num'])\n",
    "        valid_x = valid_fold.drop(columns=['fold', 'order_status_key'])\n",
    "        valid_y = valid_fold['order_status_key']\n",
    "        valid_data = Pool(valid_x, valid_y, cat_features= ['gender', 'degree', 'card_num'])\n",
    "        valid_score = clf.fit(train_data).predict_proba(valid_data)[:, 1]\n",
    "        cvs.append(roc_auc_score(valid_y, valid_score))\n",
    "        \n",
    "    return np.mean(cvs)\n",
    "\n",
    "\n",
    "study = optuna.create_study(\n",
    "        # pruner=optuna.pruners.MedianPruner(n_warmup_steps=10), \n",
    "        direction=\"maximize\"\n",
    "    )\n",
    "study.optimize(objective, n_trials=100)\n",
    "\n",
    "print(\"Number of finished trials: {}\".format(len(study.trials)))\n",
    "\n",
    "print(\"Best trial:\")\n",
    "trial = study.best_trial\n",
    "\n",
    "print(\"  Value: {}\".format(trial.value))\n",
    "\n",
    "print(\"  Params: \")\n",
    "for key, value in trial.params.items():\n",
    "    print(\"    {}: {}\".format(key, value))"
   ]
  },
  {
   "cell_type": "code",
   "execution_count": null,
   "id": "5e728411-953d-4464-b4d4-1d885ac337a0",
   "metadata": {},
   "outputs": [],
   "source": [
    "param = {'loss_function':'Logloss', 'iterations':225, 'learning_rate':0.020248583615876215, 'depth':7, 'max_leaves':17, 'scale_pos_weight': 1.0350162147070745, \n",
    "         'subsample':0.7, 'grow_policy':'Lossguide', 'verbose':False}\n",
    "train_x, train_y = train.drop(['order_status_key', 'fold'], axis=1), train['order_status_key']\n",
    "train_data = Pool(train_x, train_y, cat_features= ['gender', 'degree', 'card_num'])\n",
    "clf = CatBoostClassifier(**param).fit(train_data)\n",
    "clf.save_model(config.CATBOOST)"
   ]
  },
  {
   "cell_type": "markdown",
   "id": "a7435f14-2286-4f2d-bbae-9a96ca63980c",
   "metadata": {},
   "source": [
    "## LightGBM"
   ]
  },
  {
   "cell_type": "code",
   "execution_count": 95,
   "id": "1c1730bf-1383-43a1-9748-9b2d776a9feb",
   "metadata": {},
   "outputs": [],
   "source": [
    "train = pd.read_csv(config.TRAIN3).drop(['customer_phone'], axis=1)"
   ]
  },
  {
   "cell_type": "code",
   "execution_count": null,
   "id": "788374a3-1515-4802-b0e1-e8caec061fba",
   "metadata": {},
   "outputs": [],
   "source": [
    "num_iterations:236\n",
    "learning_rate:0.01626253894892189\n",
    "num_leaves:8\n",
    "max_depth:16\n",
    "min_data_in_leaft:17\n",
    "max_bin:420\n",
    "min_data_in_bin:9\n",
    "feature_fraction:0.3666772545931758"
   ]
  },
  {
   "cell_type": "code",
   "execution_count": 104,
   "id": "224a0591-1deb-4390-a85b-83deef52affe",
   "metadata": {
    "tags": []
   },
   "outputs": [
    {
     "name": "stderr",
     "output_type": "stream",
     "text": [
      "\u001b[32m[I 2023-05-25 18:15:56,572]\u001b[0m A new study created in memory with name: no-name-03699222-54b6-4b2c-b2de-a1007a5835d2\u001b[0m\n",
      "\u001b[32m[I 2023-05-25 18:15:57,645]\u001b[0m Trial 0 finished with value: 0.7542673462652996 and parameters: {'num_iterations': 268, 'learning_rate': 0.03763788859826995, 'num_leaves': 6, 'max_depth': 15, 'min_data_in_leaft': 19, 'max_bin': 430, 'min_data_in_bin': 7, 'neg_bagging_fraction': 0.9852508880898316, 'feature_fraction': 0.7322002090709276}. Best is trial 0 with value: 0.7542673462652996.\u001b[0m\n",
      "\u001b[32m[I 2023-05-25 18:15:59,070]\u001b[0m Trial 1 finished with value: 0.7496137163385694 and parameters: {'num_iterations': 212, 'learning_rate': 0.008920880273165116, 'num_leaves': 5, 'max_depth': 16, 'min_data_in_leaft': 18, 'max_bin': 430, 'min_data_in_bin': 8, 'neg_bagging_fraction': 0.7931179786088892, 'feature_fraction': 0.6698077019418888}. Best is trial 0 with value: 0.7542673462652996.\u001b[0m\n",
      "\u001b[32m[I 2023-05-25 18:16:00,184]\u001b[0m Trial 2 finished with value: 0.7545335085034868 and parameters: {'num_iterations': 200, 'learning_rate': 0.02451648231946612, 'num_leaves': 6, 'max_depth': 20, 'min_data_in_leaft': 16, 'max_bin': 435, 'min_data_in_bin': 8, 'neg_bagging_fraction': 0.4653053783435884, 'feature_fraction': 0.6597294647067647}. Best is trial 2 with value: 0.7545335085034868.\u001b[0m\n",
      "\u001b[32m[I 2023-05-25 18:16:03,589]\u001b[0m Trial 3 finished with value: 0.7523276219510936 and parameters: {'num_iterations': 248, 'learning_rate': 0.00815445626485889, 'num_leaves': 7, 'max_depth': 18, 'min_data_in_leaft': 17, 'max_bin': 420, 'min_data_in_bin': 6, 'neg_bagging_fraction': 0.9198111166378786, 'feature_fraction': 0.6438306294027257}. Best is trial 2 with value: 0.7545335085034868.\u001b[0m\n",
      "\u001b[32m[I 2023-05-25 18:16:05,219]\u001b[0m Trial 4 finished with value: 0.7483341659648559 and parameters: {'num_iterations': 268, 'learning_rate': 0.005277209893601541, 'num_leaves': 5, 'max_depth': 18, 'min_data_in_leaft': 18, 'max_bin': 430, 'min_data_in_bin': 5, 'neg_bagging_fraction': 0.3530943674978483, 'feature_fraction': 0.7552332664041008}. Best is trial 2 with value: 0.7545335085034868.\u001b[0m\n",
      "\u001b[32m[I 2023-05-25 18:16:06,501]\u001b[0m Trial 5 finished with value: 0.7521522307617388 and parameters: {'num_iterations': 253, 'learning_rate': 0.004482010245288653, 'num_leaves': 7, 'max_depth': 16, 'min_data_in_leaft': 17, 'max_bin': 440, 'min_data_in_bin': 8, 'neg_bagging_fraction': 0.3147067125862119, 'feature_fraction': 0.36013782192075067}. Best is trial 2 with value: 0.7545335085034868.\u001b[0m\n",
      "\u001b[32m[I 2023-05-25 18:16:07,871]\u001b[0m Trial 6 finished with value: 0.7518887160402062 and parameters: {'num_iterations': 283, 'learning_rate': 0.009520956415718537, 'num_leaves': 6, 'max_depth': 17, 'min_data_in_leaft': 17, 'max_bin': 420, 'min_data_in_bin': 6, 'neg_bagging_fraction': 0.8703235755448819, 'feature_fraction': 0.9617305499138562}. Best is trial 2 with value: 0.7545335085034868.\u001b[0m\n",
      "\u001b[32m[I 2023-05-25 18:16:09,242]\u001b[0m Trial 7 finished with value: 0.7449259126608998 and parameters: {'num_iterations': 209, 'learning_rate': 0.0022441932118915514, 'num_leaves': 6, 'max_depth': 15, 'min_data_in_leaft': 15, 'max_bin': 440, 'min_data_in_bin': 6, 'neg_bagging_fraction': 0.5665130172700319, 'feature_fraction': 0.6170322420328794}. Best is trial 2 with value: 0.7545335085034868.\u001b[0m\n",
      "\u001b[32m[I 2023-05-25 18:16:10,554]\u001b[0m Trial 8 finished with value: 0.7442597444033046 and parameters: {'num_iterations': 224, 'learning_rate': 0.0021965472311425466, 'num_leaves': 9, 'max_depth': 20, 'min_data_in_leaft': 20, 'max_bin': 425, 'min_data_in_bin': 10, 'neg_bagging_fraction': 0.3220658306819478, 'feature_fraction': 0.3100366012061186}. Best is trial 2 with value: 0.7545335085034868.\u001b[0m\n",
      "\u001b[32m[I 2023-05-25 18:16:11,718]\u001b[0m Trial 9 finished with value: 0.7515407902945531 and parameters: {'num_iterations': 224, 'learning_rate': 0.010367446535058531, 'num_leaves': 7, 'max_depth': 15, 'min_data_in_leaft': 18, 'max_bin': 420, 'min_data_in_bin': 6, 'neg_bagging_fraction': 0.3310115037976688, 'feature_fraction': 0.8936807018150011}. Best is trial 2 with value: 0.7545335085034868.\u001b[0m\n",
      "\u001b[32m[I 2023-05-25 18:16:12,882]\u001b[0m Trial 10 finished with value: 0.7527112691451706 and parameters: {'num_iterations': 202, 'learning_rate': 0.03964433349253985, 'num_leaves': 10, 'max_depth': 20, 'min_data_in_leaft': 15, 'max_bin': 450, 'min_data_in_bin': 10, 'neg_bagging_fraction': 0.4792509266643232, 'feature_fraction': 0.47409815954381157}. Best is trial 2 with value: 0.7545335085034868.\u001b[0m\n",
      "\u001b[32m[I 2023-05-25 18:16:14,079]\u001b[0m Trial 11 finished with value: 0.7538699421850713 and parameters: {'num_iterations': 289, 'learning_rate': 0.04711381429811067, 'num_leaves': 6, 'max_depth': 19, 'min_data_in_leaft': 20, 'max_bin': 435, 'min_data_in_bin': 8, 'neg_bagging_fraction': 0.6751306362292472, 'feature_fraction': 0.5076463488679254}. Best is trial 2 with value: 0.7545335085034868.\u001b[0m\n",
      "\u001b[32m[I 2023-05-25 18:16:15,596]\u001b[0m Trial 12 finished with value: 0.7550121091172383 and parameters: {'num_iterations': 234, 'learning_rate': 0.024606152762503452, 'num_leaves': 8, 'max_depth': 19, 'min_data_in_leaft': 16, 'max_bin': 435, 'min_data_in_bin': 9, 'neg_bagging_fraction': 0.983294717783786, 'feature_fraction': 0.7729549499894669}. Best is trial 12 with value: 0.7550121091172383.\u001b[0m\n",
      "\u001b[32m[I 2023-05-25 18:16:16,950]\u001b[0m Trial 13 finished with value: 0.7556114589742297 and parameters: {'num_iterations': 231, 'learning_rate': 0.020354684816987482, 'num_leaves': 8, 'max_depth': 19, 'min_data_in_leaft': 16, 'max_bin': 445, 'min_data_in_bin': 9, 'neg_bagging_fraction': 0.4810778112820544, 'feature_fraction': 0.8231745626945346}. Best is trial 13 with value: 0.7556114589742297.\u001b[0m\n",
      "\u001b[32m[I 2023-05-25 18:16:18,082]\u001b[0m Trial 14 finished with value: 0.7540920253235341 and parameters: {'num_iterations': 233, 'learning_rate': 0.021003062421922267, 'num_leaves': 9, 'max_depth': 19, 'min_data_in_leaft': 16, 'max_bin': 450, 'min_data_in_bin': 9, 'neg_bagging_fraction': 0.7170241967928604, 'feature_fraction': 0.8729070710591571}. Best is trial 13 with value: 0.7556114589742297.\u001b[0m\n",
      "\u001b[32m[I 2023-05-25 18:16:19,455]\u001b[0m Trial 15 finished with value: 0.7550209637445537 and parameters: {'num_iterations': 234, 'learning_rate': 0.018858778882929136, 'num_leaves': 8, 'max_depth': 19, 'min_data_in_leaft': 16, 'max_bin': 445, 'min_data_in_bin': 9, 'neg_bagging_fraction': 0.5787586873658294, 'feature_fraction': 0.8191658600079726}. Best is trial 13 with value: 0.7556114589742297.\u001b[0m\n",
      "\u001b[32m[I 2023-05-25 18:16:20,683]\u001b[0m Trial 16 finished with value: 0.7540916395324475 and parameters: {'num_iterations': 239, 'learning_rate': 0.019124922108414613, 'num_leaves': 8, 'max_depth': 18, 'min_data_in_leaft': 15, 'max_bin': 445, 'min_data_in_bin': 9, 'neg_bagging_fraction': 0.5830947314851418, 'feature_fraction': 0.9860242255676264}. Best is trial 13 with value: 0.7556114589742297.\u001b[0m\n",
      "\u001b[32m[I 2023-05-25 18:16:21,920]\u001b[0m Trial 17 finished with value: 0.7541363057145584 and parameters: {'num_iterations': 223, 'learning_rate': 0.01608734734709595, 'num_leaves': 9, 'max_depth': 19, 'min_data_in_leaft': 16, 'max_bin': 445, 'min_data_in_bin': 10, 'neg_bagging_fraction': 0.45648499288907957, 'feature_fraction': 0.8330246972955426}. Best is trial 13 with value: 0.7556114589742297.\u001b[0m\n",
      "\u001b[32m[I 2023-05-25 18:16:23,836]\u001b[0m Trial 18 finished with value: 0.7535784375512494 and parameters: {'num_iterations': 248, 'learning_rate': 0.013617646257093812, 'num_leaves': 8, 'max_depth': 17, 'min_data_in_leaft': 16, 'max_bin': 445, 'min_data_in_bin': 9, 'neg_bagging_fraction': 0.416613304540612, 'feature_fraction': 0.9884993338389964}. Best is trial 13 with value: 0.7556114589742297.\u001b[0m\n",
      "\u001b[32m[I 2023-05-25 18:16:25,665]\u001b[0m Trial 19 finished with value: 0.741129702332738 and parameters: {'num_iterations': 238, 'learning_rate': 0.0010704371902026083, 'num_leaves': 10, 'max_depth': 19, 'min_data_in_leaft': 15, 'max_bin': 440, 'min_data_in_bin': 7, 'neg_bagging_fraction': 0.5983853174107608, 'feature_fraction': 0.8380708178586177}. Best is trial 13 with value: 0.7556114589742297.\u001b[0m\n",
      "\u001b[32m[I 2023-05-25 18:16:27,531]\u001b[0m Trial 20 finished with value: 0.7537981239044513 and parameters: {'num_iterations': 261, 'learning_rate': 0.030677298205028326, 'num_leaves': 9, 'max_depth': 20, 'min_data_in_leaft': 17, 'max_bin': 450, 'min_data_in_bin': 9, 'neg_bagging_fraction': 0.5050645874678055, 'feature_fraction': 0.5717898505613449}. Best is trial 13 with value: 0.7556114589742297.\u001b[0m\n",
      "\u001b[32m[I 2023-05-25 18:16:28,970]\u001b[0m Trial 21 finished with value: 0.7549372460943843 and parameters: {'num_iterations': 234, 'learning_rate': 0.025378261380557942, 'num_leaves': 8, 'max_depth': 19, 'min_data_in_leaft': 16, 'max_bin': 440, 'min_data_in_bin': 9, 'neg_bagging_fraction': 0.6610223440411478, 'feature_fraction': 0.7618002316914343}. Best is trial 13 with value: 0.7556114589742297.\u001b[0m\n",
      "\u001b[32m[I 2023-05-25 18:16:30,227]\u001b[0m Trial 22 finished with value: 0.7542010572503295 and parameters: {'num_iterations': 229, 'learning_rate': 0.014982281690434864, 'num_leaves': 8, 'max_depth': 18, 'min_data_in_leaft': 16, 'max_bin': 445, 'min_data_in_bin': 10, 'neg_bagging_fraction': 0.8296159098534536, 'feature_fraction': 0.7741311581715212}. Best is trial 13 with value: 0.7556114589742297.\u001b[0m\n",
      "\u001b[32m[I 2023-05-25 18:16:31,892]\u001b[0m Trial 23 finished with value: 0.7529966663831011 and parameters: {'num_iterations': 242, 'learning_rate': 0.030127858040336044, 'num_leaves': 8, 'max_depth': 19, 'min_data_in_leaft': 17, 'max_bin': 435, 'min_data_in_bin': 9, 'neg_bagging_fraction': 0.9934866379802524, 'feature_fraction': 0.7086539459431355}. Best is trial 13 with value: 0.7556114589742297.\u001b[0m\n",
      "\u001b[32m[I 2023-05-25 18:16:33,444]\u001b[0m Trial 24 finished with value: 0.7545383953831795 and parameters: {'num_iterations': 217, 'learning_rate': 0.018915227204981625, 'num_leaves': 7, 'max_depth': 18, 'min_data_in_leaft': 15, 'max_bin': 435, 'min_data_in_bin': 8, 'neg_bagging_fraction': 0.7483070525293231, 'feature_fraction': 0.8192006543841034}. Best is trial 13 with value: 0.7556114589742297.\u001b[0m\n",
      "\u001b[32m[I 2023-05-25 18:16:34,837]\u001b[0m Trial 25 finished with value: 0.753841015200756 and parameters: {'num_iterations': 228, 'learning_rate': 0.012995334031793664, 'num_leaves': 9, 'max_depth': 20, 'min_data_in_leaft': 16, 'max_bin': 440, 'min_data_in_bin': 10, 'neg_bagging_fraction': 0.6268972088903343, 'feature_fraction': 0.9037264328294834}. Best is trial 13 with value: 0.7556114589742297.\u001b[0m\n",
      "\u001b[32m[I 2023-05-25 18:16:36,389]\u001b[0m Trial 26 finished with value: 0.7531688819719743 and parameters: {'num_iterations': 235, 'learning_rate': 0.02889219738859491, 'num_leaves': 8, 'max_depth': 19, 'min_data_in_leaft': 16, 'max_bin': 445, 'min_data_in_bin': 9, 'neg_bagging_fraction': 0.5274301814436158, 'feature_fraction': 0.7975989863967367}. Best is trial 13 with value: 0.7556114589742297.\u001b[0m\n",
      "\u001b[32m[I 2023-05-25 18:16:37,459]\u001b[0m Trial 27 finished with value: 0.7546586279057532 and parameters: {'num_iterations': 219, 'learning_rate': 0.021112310444731316, 'num_leaves': 7, 'max_depth': 17, 'min_data_in_leaft': 17, 'max_bin': 450, 'min_data_in_bin': 7, 'neg_bagging_fraction': 0.7364067899149916, 'feature_fraction': 0.7073728909297463}. Best is trial 13 with value: 0.7556114589742297.\u001b[0m\n",
      "\u001b[32m[I 2023-05-25 18:16:39,240]\u001b[0m Trial 28 finished with value: 0.7534759910648917 and parameters: {'num_iterations': 245, 'learning_rate': 0.012482383499517177, 'num_leaves': 9, 'max_depth': 19, 'min_data_in_leaft': 15, 'max_bin': 425, 'min_data_in_bin': 9, 'neg_bagging_fraction': 0.5294692925158527, 'feature_fraction': 0.9108673931531734}. Best is trial 13 with value: 0.7556114589742297.\u001b[0m\n",
      "\u001b[32m[I 2023-05-25 18:16:40,466]\u001b[0m Trial 29 finished with value: 0.7513552931320658 and parameters: {'num_iterations': 230, 'learning_rate': 0.038206080555302765, 'num_leaves': 8, 'max_depth': 18, 'min_data_in_leaft': 19, 'max_bin': 435, 'min_data_in_bin': 8, 'neg_bagging_fraction': 0.8894072059621366, 'feature_fraction': 0.7244859260852339}. Best is trial 13 with value: 0.7556114589742297.\u001b[0m\n"
     ]
    },
    {
     "name": "stdout",
     "output_type": "stream",
     "text": [
      "Best trial\n",
      "Avg of five fold auc:0.755611\n",
      "Params\n",
      "num_iterations:231\n",
      "learning_rate:0.020354684816987482\n",
      "num_leaves:8\n",
      "max_depth:19\n",
      "min_data_in_leaft:16\n",
      "max_bin:445\n",
      "min_data_in_bin:9\n",
      "neg_bagging_fraction:0.4810778112820544\n",
      "feature_fraction:0.8231745626945346\n"
     ]
    }
   ],
   "source": [
    "def objective(trial):\n",
    "    data = train.copy()\n",
    "    \n",
    "    param_distribution = {\n",
    "        'objective': 'binary',\n",
    "        'num_iterations': trial.suggest_int('num_iterations', 200, 300, log=True),\n",
    "        'learning_rate': trial.suggest_float('learning_rate', 1e-3, 0.05, log=True),\n",
    "        'num_leaves': trial.suggest_int('num_leaves', 5, 10, step=1),\n",
    "        'max_depth': trial.suggest_int('max_depth', 15, 20, step=1),\n",
    "        'min_data_in_leaf': trial.suggest_int('min_data_in_leaft', 15, 20, step=1),\n",
    "        'max_bin': trial.suggest_int('max_bin', 420, 450, step=5),\n",
    "        'min_data_in_bin': trial.suggest_int('min_data_in_bin', 5, 10, step=1),\n",
    "        # 'bagging_fraction':trial.suggest_float('bagging_fraction', 0.3, 1, log=True),\n",
    "        'neg_bagging_fraction':trial.suggest_float('neg_bagging_fraction', 0.3, 1, log=True),\n",
    "        # 'cat_smooth': trial.suggest_float('cat_smooth', 1, 1e3, log=True),\n",
    "        'feature_fraction':trial.suggest_float('feature_fraction', 0.3, 1, log=True),\n",
    "        'verbosity':0,\n",
    "        'force_col_wise':True,\n",
    "        'linear_tree':True,\n",
    "        'seed':42\n",
    "    }\n",
    "    \n",
    "    aucs = []\n",
    "    for fold in range(0, 5):\n",
    "        train_fold = data.query(f'fold != {fold}')\n",
    "        train_x, train_y = train_fold.drop(columns=['fold', 'order_status_key'], axis=1), train_fold['order_status_key']\n",
    "        dtrain = lgbm.Dataset(train_x, train_y)\n",
    "        valid_fold = data.query(f'fold == {fold}')\n",
    "        valid_x, valid_y = valid_fold.drop(columns=['fold', 'order_status_key'], axis=1), valid_fold['order_status_key']\n",
    "        dvalid = lgbm.Dataset(valid_x, valid_y)\n",
    "        clf = lgbm.train(param_distribution, dtrain, categorical_feature=['gender', 'card_num', 'degree', 'als_m12_id_nbank_orgnum'])\n",
    "        valid_score = clf.predict(valid_x)\n",
    "        aucs.append(roc_auc_score(valid_y, valid_score))\n",
    "    \n",
    "    return np.mean(aucs)\n",
    "\n",
    "\n",
    "study = optuna.create_study(direction='maximize')\n",
    "study.optimize(objective, n_trials=30)\n",
    "\n",
    "print(\"Best trial\")\n",
    "trial = study.best_trial\n",
    "\n",
    "print(f\"Avg of five fold auc:{trial.value:.6f}\")\n",
    "\n",
    "print(\"Params\")\n",
    "for key, value in trial.params.items():\n",
    "    print(f\"{key}:{value}\")"
   ]
  },
  {
   "cell_type": "code",
   "execution_count": 101,
   "id": "7080bbe7-2008-4a18-be29-1660a3f95a07",
   "metadata": {},
   "outputs": [
    {
     "data": {
      "text/plain": [
       "<lightgbm.basic.Booster at 0x7f2f006046d0>"
      ]
     },
     "execution_count": 101,
     "metadata": {},
     "output_type": "execute_result"
    }
   ],
   "source": [
    "param = {'num_iterations':300, 'learning_rate':0.018672121641626984, 'num_leaves':7,' max_depth':18, 'min_data_in_leaf':17\n",
    "        ,'max_bin':445, 'min_data_in_bin':8, 'objective':'binary', 'neg_bagging_fraction':0.5843897307492004,\n",
    "         'feature_fraction':0.4826469048366353, 'verbosity':0, 'force_col_wise':True, \n",
    "          'linear_tree':False, 'seed':42}\n",
    "train_x, train_y = train.drop(['order_status_key', 'fold'], axis=1), train['order_status_key']\n",
    "dtrain = lgbm.Dataset(train_x, label=train_y)\n",
    "clf = lgbm.train(param, dtrain, categorical_feature=['degree', 'card_num', 'gender'])\n",
    "clf.save_model(config.LIGHTGBM)"
   ]
  },
  {
   "cell_type": "markdown",
   "id": "533e87ce-3151-418b-92a3-414ed01ce7da",
   "metadata": {},
   "source": [
    "## learning curve"
   ]
  },
  {
   "cell_type": "code",
   "execution_count": null,
   "id": "543503d5-aa78-4d2c-87fc-ffd9bfc2a2c0",
   "metadata": {},
   "outputs": [],
   "source": [
    "train = pd.read_csv(config.TRAIN)\n",
    "train_x, train_y = train.drop(['order_status_key', 'fold'], axis=1), train['order_status_key']\n",
    "lr_param = {'C':1, 'max_iter':20, 'solver':'newton-cg', 'class_weight':'balanced'}\n",
    "rf_param = {'n_estimators':358, 'criterion':'entropy', 'max_depth':9, 'min_samples_split':35, 'min_samples_leaf':3, \\\n",
    "         'max_features':0.2,'n_jobs':-1, 'random_state':42, 'class_weight':'balanced', 'max_samples':0.4}\n",
    "lr = LogisticRegression(**lr_param)\n",
    "rf= RandomForestClassifier(**rf_param)\n",
    "common_params = {\n",
    "    \"X\": train_x,\n",
    "    \"y\": train_y,\n",
    "    \"train_sizes\": np.linspace(0.1, 1.0, num=10),\n",
    "    \"cv\": StratifiedKFold(n_splits=5, shuffle=True, random_state=42),\n",
    "    \"score_type\": \"both\",\n",
    "    \"n_jobs\": 4,\n",
    "    \"line_kw\": {\"marker\": \"o\"},\n",
    "    \"std_display_style\": \"fill_between\",\n",
    "    \"score_name\": \"roc_auc\",\n",
    "}\n"
   ]
  },
  {
   "cell_type": "code",
   "execution_count": null,
   "id": "fd1aca9c-d62f-4886-8add-6fdf85b9950c",
   "metadata": {},
   "outputs": [],
   "source": [
    "fig, ax = plt.subplots(1, 2, figsize=(20, 6))\n",
    "for ax_idx, estimator in enumerate([lr, rf]):\n",
    "    LearningCurveDisplay.from_estimator(estimator, **common_params, ax=ax[ax_idx])\n",
    "    ax[ax_idx].set_title(f\"learning curve for {estimator.__class__.__name__}\")"
   ]
  },
  {
   "cell_type": "markdown",
   "id": "4bbd1713-c9f5-42b3-91bb-aa3c02eba158",
   "metadata": {},
   "source": [
    "通过分析学习曲线可知，增加训练样本不能改善样本性能，下一步的精力应该放在改善模型/特征工程/收集更多特征上"
   ]
  },
  {
   "cell_type": "code",
   "execution_count": null,
   "id": "6be840dd-d357-492f-893a-93a61e57b9fb",
   "metadata": {},
   "outputs": [],
   "source": []
  },
  {
   "cell_type": "code",
   "execution_count": null,
   "id": "96c76385-c4b3-45d2-9313-9b2be779232b",
   "metadata": {},
   "outputs": [],
   "source": []
  }
 ],
 "metadata": {
  "kernelspec": {
   "display_name": "Python 3 (ipykernel)",
   "language": "python",
   "name": "python3"
  },
  "language_info": {
   "codemirror_mode": {
    "name": "ipython",
    "version": 3
   },
   "file_extension": ".py",
   "mimetype": "text/x-python",
   "name": "python",
   "nbconvert_exporter": "python",
   "pygments_lexer": "ipython3",
   "version": "3.9.13"
  }
 },
 "nbformat": 4,
 "nbformat_minor": 5
}
