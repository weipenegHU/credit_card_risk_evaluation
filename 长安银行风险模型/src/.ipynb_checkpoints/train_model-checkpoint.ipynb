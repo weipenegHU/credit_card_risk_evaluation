{
 "cells": [
  {
   "cell_type": "code",
   "execution_count": 1,
   "id": "37700944-b461-4315-86c7-3a9befad1734",
   "metadata": {},
   "outputs": [],
   "source": [
    "import pandas as pd\n",
    "import numpy as np\n",
    "from utils import peek\n",
    "import config\n",
    "import sklearn\n",
    "from sklearn.linear_model import LogisticRegression\n",
    "from sklearn.ensemble import RandomForestClassifier\n",
    "from sklearn.metrics import roc_auc_score\n",
    "from sklearn.model_selection import GridSearchCV\n",
    "import pickle\n",
    "import optuna\n",
    "import xgboost as xgb\n",
    "from xgboost import XGBClassifier\n",
    "import warnings\n",
    "warnings.filterwarnings(\"ignore\", module=\"optuna\")"
   ]
  },
  {
   "cell_type": "markdown",
   "id": "75a56d7e-4042-4d45-a496-c02ba3466bc6",
   "metadata": {},
   "source": [
    "## Baseline"
   ]
  },
  {
   "cell_type": "code",
   "execution_count": 2,
   "id": "e610a4f0-ff9c-46d0-9df6-c64b5e2d82d4",
   "metadata": {
    "tags": []
   },
   "outputs": [],
   "source": [
    "train = pd.read_csv(config.TRAIN)"
   ]
  },
  {
   "cell_type": "code",
   "execution_count": 3,
   "id": "835ff2c2-9253-403d-a06e-104176894f81",
   "metadata": {},
   "outputs": [],
   "source": [
    "def train_lr_cv(X, y, param, verbose=True):\n",
    "    clf = LogisticRegression(**param)\n",
    "    cvs = []\n",
    "    for fold in range(0, 5):\n",
    "        train_x = X.query(f'fold != {fold}').drop(columns='fold')\n",
    "        train_y = y[train_x.index]\n",
    "        valid_x = X.query(f'fold == {fold}').drop(columns='fold')\n",
    "        valid_y = y[valid_x.index]\n",
    "        valid_score = clf.fit(train_x, train_y).predict_proba(valid_x)[:, 1]\n",
    "        cvs.append(roc_auc_score(valid_y, valid_score))\n",
    "    \n",
    "    if verbose:\n",
    "        print(\"five fold auc:\", *cvs, sep=\", \")\n",
    "        print(\"mean auc:\", np.mean(cvs))\n",
    "        \n",
    "    return cvs"
   ]
  },
  {
   "cell_type": "code",
   "execution_count": 4,
   "id": "1b1ed7c0-9f13-498b-b119-71ec5b9fe869",
   "metadata": {},
   "outputs": [],
   "source": [
    "def train_lr(X, y, param):\n",
    "    clf = LogisticRegression(**param)\n",
    "    clf.fit(X, y)\n",
    "    return clf"
   ]
  },
  {
   "cell_type": "code",
   "execution_count": 5,
   "id": "1c9af200-ac1f-4f10-bb5d-f9ceae6e0cc2",
   "metadata": {},
   "outputs": [
    {
     "name": "stdout",
     "output_type": "stream",
     "text": [
      "five fold auc:, 0.7520236612702366, 0.7386064278187566, 0.7496056380266907, 0.7717918728445043, 0.7620043258832011\n",
      "mean auc: 0.7548063851686778\n"
     ]
    }
   ],
   "source": [
    "param = {'C':0.3, 'max_iter':20, 'solver':'newton-cg', 'class_weight':'balanced'}\n",
    "cvs = train_lr_cv(train.drop('order_status_key', axis=1), train['order_status_key'], param)"
   ]
  },
  {
   "cell_type": "code",
   "execution_count": 6,
   "id": "5b3d56dd-0440-4b9a-b048-174d35966e4a",
   "metadata": {},
   "outputs": [],
   "source": [
    "param = {'C':0.3, 'max_iter':20, 'solver':'newton-cg', 'class_weight':'balanced'}\n",
    "model = train_lr(train.drop(['order_status_key', 'fold'], axis=1), train['order_status_key'], param)"
   ]
  },
  {
   "cell_type": "code",
   "execution_count": 7,
   "id": "8f99d528-bb31-44ef-8eee-1de286c807f9",
   "metadata": {},
   "outputs": [],
   "source": [
    "pickle.dump(model, open(config.BASELINE, \"wb\"))"
   ]
  },
  {
   "cell_type": "markdown",
   "id": "499fdbfd-c984-4fa9-9dde-8871c47568b6",
   "metadata": {},
   "source": [
    "## Random Forest"
   ]
  },
  {
   "cell_type": "code",
   "execution_count": 8,
   "id": "dcd0785b-85cc-4689-b05f-03b27b6608ee",
   "metadata": {},
   "outputs": [],
   "source": [
    "train = pd.read_csv(config.TRAIN2)"
   ]
  },
  {
   "cell_type": "code",
   "execution_count": 29,
   "id": "98061dfa-52ac-43cf-827f-e1041b046ec9",
   "metadata": {
    "collapsed": true,
    "jupyter": {
     "outputs_hidden": true
    },
    "tags": []
   },
   "outputs": [
    {
     "name": "stderr",
     "output_type": "stream",
     "text": [
      "/tmp/ipykernel_1573367/2201020517.py:11: ExperimentalWarning: OptunaSearchCV is experimental (supported from v0.17.0). The interface can change in the future.\n",
      "  optuna_search = optuna.integration.OptunaSearchCV(clf, param_distributions, n_trials=100, scoring=\"roc_auc\", n_jobs=-1)\n",
      "\u001b[32m[I 2023-04-28 17:18:39,791]\u001b[0m A new study created in memory with name: no-name-0847689d-3989-429d-8e06-65bef752f881\u001b[0m\n",
      "\u001b[32m[I 2023-04-28 17:19:15,480]\u001b[0m Trial 0 finished with value: 0.751346986587073 and parameters: {'n_estimators': 104, 'max_depth': 7, 'min_samples_split': 15, 'min_samples_leaf': 8, 'max_features': 0.5, 'max_samples': 0.7}. Best is trial 0 with value: 0.751346986587073.\u001b[0m\n",
      "\u001b[32m[I 2023-04-28 17:19:20,059]\u001b[0m Trial 8 finished with value: 0.7505822756244529 and parameters: {'n_estimators': 115, 'max_depth': 8, 'min_samples_split': 20, 'min_samples_leaf': 8, 'max_features': 0.4, 'max_samples': 0.4}. Best is trial 0 with value: 0.751346986587073.\u001b[0m\n",
      "\u001b[32m[I 2023-04-28 17:19:20,269]\u001b[0m Trial 11 finished with value: 0.7523077192907761 and parameters: {'n_estimators': 103, 'max_depth': 7, 'min_samples_split': 25, 'min_samples_leaf': 8, 'max_features': 0.4, 'max_samples': 0.5}. Best is trial 11 with value: 0.7523077192907761.\u001b[0m\n",
      "\u001b[32m[I 2023-04-28 17:19:21,042]\u001b[0m Trial 9 finished with value: 0.7494981250958179 and parameters: {'n_estimators': 151, 'max_depth': 10, 'min_samples_split': 5, 'min_samples_leaf': 3, 'max_features': 0.4, 'max_samples': 0.7}. Best is trial 11 with value: 0.7523077192907761.\u001b[0m\n",
      "\u001b[32m[I 2023-04-28 17:19:21,526]\u001b[0m Trial 17 finished with value: 0.752496542804041 and parameters: {'n_estimators': 116, 'max_depth': 5, 'min_samples_split': 10, 'min_samples_leaf': 7, 'max_features': 0.30000000000000004, 'max_samples': 0.6000000000000001}. Best is trial 17 with value: 0.752496542804041.\u001b[0m\n",
      "\u001b[32m[I 2023-04-28 17:19:21,754]\u001b[0m Trial 24 finished with value: 0.752265727636672 and parameters: {'n_estimators': 119, 'max_depth': 8, 'min_samples_split': 50, 'min_samples_leaf': 10, 'max_features': 0.30000000000000004, 'max_samples': 0.4}. Best is trial 17 with value: 0.752496542804041.\u001b[0m\n",
      "\u001b[32m[I 2023-04-28 17:19:21,976]\u001b[0m Trial 30 finished with value: 0.7516561828515687 and parameters: {'n_estimators': 119, 'max_depth': 10, 'min_samples_split': 35, 'min_samples_leaf': 2, 'max_features': 0.30000000000000004, 'max_samples': 0.7}. Best is trial 17 with value: 0.752496542804041.\u001b[0m\n",
      "\u001b[32m[I 2023-04-28 17:19:22,228]\u001b[0m Trial 38 finished with value: 0.7526417710837322 and parameters: {'n_estimators': 116, 'max_depth': 5, 'min_samples_split': 15, 'min_samples_leaf': 8, 'max_features': 0.5, 'max_samples': 0.7}. Best is trial 38 with value: 0.7526417710837322.\u001b[0m\n",
      "\u001b[32m[I 2023-04-28 17:19:22,474]\u001b[0m Trial 13 finished with value: 0.7535099291213205 and parameters: {'n_estimators': 127, 'max_depth': 8, 'min_samples_split': 10, 'min_samples_leaf': 3, 'max_features': 0.4, 'max_samples': 0.5}. Best is trial 13 with value: 0.7535099291213205.\u001b[0m\n",
      "\u001b[32m[I 2023-04-28 17:19:23,165]\u001b[0m Trial 31 finished with value: 0.7521587555812502 and parameters: {'n_estimators': 137, 'max_depth': 10, 'min_samples_split': 40, 'min_samples_leaf': 6, 'max_features': 0.30000000000000004, 'max_samples': 0.6000000000000001}. Best is trial 13 with value: 0.7535099291213205.\u001b[0m\n",
      "\u001b[32m[I 2023-04-28 17:19:23,784]\u001b[0m Trial 29 finished with value: 0.752936230569612 and parameters: {'n_estimators': 142, 'max_depth': 6, 'min_samples_split': 50, 'min_samples_leaf': 9, 'max_features': 0.4, 'max_samples': 0.5}. Best is trial 13 with value: 0.7535099291213205.\u001b[0m\n",
      "\u001b[32m[I 2023-04-28 17:19:23,994]\u001b[0m Trial 19 finished with value: 0.752396427252952 and parameters: {'n_estimators': 147, 'max_depth': 6, 'min_samples_split': 20, 'min_samples_leaf': 10, 'max_features': 0.2, 'max_samples': 0.6000000000000001}. Best is trial 13 with value: 0.7535099291213205.\u001b[0m\n",
      "\u001b[32m[I 2023-04-28 17:19:24,578]\u001b[0m Trial 27 finished with value: 0.7506092036218208 and parameters: {'n_estimators': 151, 'max_depth': 8, 'min_samples_split': 25, 'min_samples_leaf': 4, 'max_features': 0.6, 'max_samples': 0.7}. Best is trial 13 with value: 0.7535099291213205.\u001b[0m\n",
      "\u001b[32m[I 2023-04-28 17:19:40,490]\u001b[0m Trial 3 finished with value: 0.7522497645749268 and parameters: {'n_estimators': 182, 'max_depth': 9, 'min_samples_split': 15, 'min_samples_leaf': 4, 'max_features': 0.2, 'max_samples': 0.5}. Best is trial 13 with value: 0.7535099291213205.\u001b[0m\n",
      "\u001b[32m[I 2023-04-28 17:19:41,739]\u001b[0m Trial 25 finished with value: 0.7505780072553685 and parameters: {'n_estimators': 167, 'max_depth': 9, 'min_samples_split': 5, 'min_samples_leaf': 3, 'max_features': 0.5, 'max_samples': 0.7}. Best is trial 13 with value: 0.7535099291213205.\u001b[0m\n",
      "\u001b[32m[I 2023-04-28 17:19:42,209]\u001b[0m Trial 23 finished with value: 0.75183448221516 and parameters: {'n_estimators': 173, 'max_depth': 5, 'min_samples_split': 10, 'min_samples_leaf': 9, 'max_features': 0.2, 'max_samples': 0.6000000000000001}. Best is trial 13 with value: 0.7535099291213205.\u001b[0m\n",
      "\u001b[32m[I 2023-04-28 17:19:42,275]\u001b[0m Trial 6 finished with value: 0.7516683045118517 and parameters: {'n_estimators': 213, 'max_depth': 9, 'min_samples_split': 50, 'min_samples_leaf': 5, 'max_features': 0.6, 'max_samples': 0.7}. Best is trial 13 with value: 0.7535099291213205.\u001b[0m\n",
      "\u001b[32m[I 2023-04-28 17:19:43,076]\u001b[0m Trial 16 finished with value: 0.7525821619033588 and parameters: {'n_estimators': 192, 'max_depth': 8, 'min_samples_split': 30, 'min_samples_leaf': 9, 'max_features': 0.5, 'max_samples': 0.6000000000000001}. Best is trial 13 with value: 0.7535099291213205.\u001b[0m\n",
      "\u001b[32m[I 2023-04-28 17:19:43,757]\u001b[0m Trial 18 finished with value: 0.7537698799504856 and parameters: {'n_estimators': 195, 'max_depth': 9, 'min_samples_split': 50, 'min_samples_leaf': 3, 'max_features': 0.2, 'max_samples': 0.7}. Best is trial 18 with value: 0.7537698799504856.\u001b[0m\n",
      "\u001b[32m[I 2023-04-28 17:19:43,822]\u001b[0m Trial 32 finished with value: 0.7506486916378768 and parameters: {'n_estimators': 201, 'max_depth': 8, 'min_samples_split': 15, 'min_samples_leaf': 1, 'max_features': 0.4, 'max_samples': 0.7}. Best is trial 18 with value: 0.7537698799504856.\u001b[0m\n",
      "\u001b[32m[I 2023-04-28 17:19:44,265]\u001b[0m Trial 12 finished with value: 0.75288179177761 and parameters: {'n_estimators': 211, 'max_depth': 7, 'min_samples_split': 5, 'min_samples_leaf': 4, 'max_features': 0.5, 'max_samples': 0.5}. Best is trial 18 with value: 0.7537698799504856.\u001b[0m\n",
      "\u001b[32m[I 2023-04-28 17:19:44,653]\u001b[0m Trial 26 finished with value: 0.754060935833106 and parameters: {'n_estimators': 204, 'max_depth': 7, 'min_samples_split': 25, 'min_samples_leaf': 1, 'max_features': 0.2, 'max_samples': 0.4}. Best is trial 26 with value: 0.754060935833106.\u001b[0m\n",
      "\u001b[32m[I 2023-04-28 17:19:44,921]\u001b[0m Trial 28 finished with value: 0.752553807537225 and parameters: {'n_estimators': 205, 'max_depth': 8, 'min_samples_split': 45, 'min_samples_leaf': 2, 'max_features': 0.5, 'max_samples': 0.6000000000000001}. Best is trial 26 with value: 0.754060935833106.\u001b[0m\n",
      "\u001b[32m[I 2023-04-28 17:19:46,106]\u001b[0m Trial 22 finished with value: 0.7533983081326268 and parameters: {'n_estimators': 236, 'max_depth': 6, 'min_samples_split': 20, 'min_samples_leaf': 2, 'max_features': 0.2, 'max_samples': 0.7}. Best is trial 26 with value: 0.754060935833106.\u001b[0m\n",
      "\u001b[32m[I 2023-04-28 17:19:46,371]\u001b[0m Trial 33 finished with value: 0.7519134007331557 and parameters: {'n_estimators': 238, 'max_depth': 6, 'min_samples_split': 15, 'min_samples_leaf': 10, 'max_features': 0.2, 'max_samples': 0.4}. Best is trial 26 with value: 0.754060935833106.\u001b[0m\n",
      "\u001b[32m[I 2023-04-28 17:20:04,433]\u001b[0m Trial 42 finished with value: 0.7523354336256284 and parameters: {'n_estimators': 113, 'max_depth': 8, 'min_samples_split': 25, 'min_samples_leaf': 7, 'max_features': 0.4, 'max_samples': 0.6000000000000001}. Best is trial 26 with value: 0.754060935833106.\u001b[0m\n",
      "\u001b[32m[I 2023-04-28 17:20:04,514]\u001b[0m Trial 36 finished with value: 0.7522205489909167 and parameters: {'n_estimators': 243, 'max_depth': 9, 'min_samples_split': 25, 'min_samples_leaf': 6, 'max_features': 0.4, 'max_samples': 0.4}. Best is trial 26 with value: 0.754060935833106.\u001b[0m\n",
      "\u001b[32m[I 2023-04-28 17:20:05,011]\u001b[0m Trial 20 finished with value: 0.7529430309603344 and parameters: {'n_estimators': 254, 'max_depth': 7, 'min_samples_split': 5, 'min_samples_leaf': 5, 'max_features': 0.30000000000000004, 'max_samples': 0.7}. Best is trial 26 with value: 0.754060935833106.\u001b[0m\n",
      "\u001b[32m[I 2023-04-28 17:20:05,432]\u001b[0m Trial 39 finished with value: 0.7516045392829819 and parameters: {'n_estimators': 268, 'max_depth': 9, 'min_samples_split': 25, 'min_samples_leaf': 1, 'max_features': 0.6, 'max_samples': 0.5}. Best is trial 26 with value: 0.754060935833106.\u001b[0m\n",
      "\u001b[32m[I 2023-04-28 17:20:06,047]\u001b[0m Trial 45 finished with value: 0.7517926603957605 and parameters: {'n_estimators': 140, 'max_depth': 6, 'min_samples_split': 10, 'min_samples_leaf': 2, 'max_features': 0.5, 'max_samples': 0.6000000000000001}. Best is trial 26 with value: 0.754060935833106.\u001b[0m\n",
      "\u001b[32m[I 2023-04-28 17:20:07,209]\u001b[0m Trial 14 finished with value: 0.7535147778601275 and parameters: {'n_estimators': 305, 'max_depth': 9, 'min_samples_split': 15, 'min_samples_leaf': 3, 'max_features': 0.2, 'max_samples': 0.7}. Best is trial 26 with value: 0.754060935833106.\u001b[0m\n",
      "\u001b[32m[I 2023-04-28 17:20:23,903]\u001b[0m Trial 4 finished with value: 0.7505982149709618 and parameters: {'n_estimators': 331, 'max_depth': 10, 'min_samples_split': 5, 'min_samples_leaf': 2, 'max_features': 0.5, 'max_samples': 0.4}. Best is trial 26 with value: 0.754060935833106.\u001b[0m\n",
      "\u001b[32m[I 2023-04-28 17:20:24,828]\u001b[0m Trial 1 finished with value: 0.7532447830681429 and parameters: {'n_estimators': 385, 'max_depth': 6, 'min_samples_split': 50, 'min_samples_leaf': 6, 'max_features': 0.4, 'max_samples': 0.6000000000000001}. Best is trial 26 with value: 0.754060935833106.\u001b[0m\n",
      "\u001b[32m[I 2023-04-28 17:20:25,804]\u001b[0m Trial 41 finished with value: 0.7518058837874989 and parameters: {'n_estimators': 171, 'max_depth': 5, 'min_samples_split': 50, 'min_samples_leaf': 6, 'max_features': 0.4, 'max_samples': 0.6000000000000001}. Best is trial 26 with value: 0.754060935833106.\u001b[0m\n",
      "\u001b[32m[I 2023-04-28 17:20:26,105]\u001b[0m Trial 10 finished with value: 0.7518839192397231 and parameters: {'n_estimators': 343, 'max_depth': 5, 'min_samples_split': 5, 'min_samples_leaf': 3, 'max_features': 0.5, 'max_samples': 0.6000000000000001}. Best is trial 26 with value: 0.754060935833106.\u001b[0m\n",
      "\u001b[32m[I 2023-04-28 17:20:27,132]\u001b[0m Trial 15 finished with value: 0.7515044742434792 and parameters: {'n_estimators': 362, 'max_depth': 5, 'min_samples_split': 40, 'min_samples_leaf': 1, 'max_features': 0.6, 'max_samples': 0.5}. Best is trial 26 with value: 0.754060935833106.\u001b[0m\n",
      "\u001b[32m[I 2023-04-28 17:20:28,203]\u001b[0m Trial 47 finished with value: 0.7517238132905041 and parameters: {'n_estimators': 231, 'max_depth': 9, 'min_samples_split': 25, 'min_samples_leaf': 6, 'max_features': 0.30000000000000004, 'max_samples': 0.5}. Best is trial 26 with value: 0.754060935833106.\u001b[0m\n",
      "\u001b[32m[I 2023-04-28 17:20:28,491]\u001b[0m Trial 34 finished with value: 0.7528323569938566 and parameters: {'n_estimators': 393, 'max_depth': 8, 'min_samples_split': 20, 'min_samples_leaf': 7, 'max_features': 0.30000000000000004, 'max_samples': 0.4}. Best is trial 26 with value: 0.754060935833106.\u001b[0m\n",
      "\u001b[32m[I 2023-04-28 17:20:29,161]\u001b[0m Trial 50 finished with value: 0.7510332916169252 and parameters: {'n_estimators': 198, 'max_depth': 6, 'min_samples_split': 50, 'min_samples_leaf': 4, 'max_features': 0.6, 'max_samples': 0.5}. Best is trial 26 with value: 0.754060935833106.\u001b[0m\n",
      "\u001b[32m[I 2023-04-28 17:20:29,862]\u001b[0m Trial 51 finished with value: 0.751098064463241 and parameters: {'n_estimators': 201, 'max_depth': 6, 'min_samples_split': 50, 'min_samples_leaf': 4, 'max_features': 0.6, 'max_samples': 0.5}. Best is trial 26 with value: 0.754060935833106.\u001b[0m\n",
      "\u001b[32m[I 2023-04-28 17:20:29,954]\u001b[0m Trial 52 finished with value: 0.7522563176362744 and parameters: {'n_estimators': 203, 'max_depth': 6, 'min_samples_split': 50, 'min_samples_leaf': 1, 'max_features': 0.5, 'max_samples': 0.5}. Best is trial 26 with value: 0.754060935833106.\u001b[0m\n",
      "\u001b[32m[I 2023-04-28 17:20:42,290]\u001b[0m Trial 2 finished with value: 0.752743869564706 and parameters: {'n_estimators': 414, 'max_depth': 8, 'min_samples_split': 45, 'min_samples_leaf': 4, 'max_features': 0.6, 'max_samples': 0.4}. Best is trial 26 with value: 0.754060935833106.\u001b[0m\n",
      "\u001b[32m[I 2023-04-28 17:20:46,274]\u001b[0m Trial 5 finished with value: 0.7519992419527387 and parameters: {'n_estimators': 423, 'max_depth': 5, 'min_samples_split': 5, 'min_samples_leaf': 6, 'max_features': 0.30000000000000004, 'max_samples': 0.4}. Best is trial 26 with value: 0.754060935833106.\u001b[0m\n",
      "\u001b[32m[I 2023-04-28 17:20:47,376]\u001b[0m Trial 7 finished with value: 0.7518746446215804 and parameters: {'n_estimators': 444, 'max_depth': 9, 'min_samples_split': 10, 'min_samples_leaf': 6, 'max_features': 0.6, 'max_samples': 0.7}. Best is trial 26 with value: 0.754060935833106.\u001b[0m\n",
      "\u001b[32m[I 2023-04-28 17:20:47,817]\u001b[0m Trial 54 finished with value: 0.7516341588663146 and parameters: {'n_estimators': 238, 'max_depth': 6, 'min_samples_split': 50, 'min_samples_leaf': 1, 'max_features': 0.6, 'max_samples': 0.5}. Best is trial 26 with value: 0.754060935833106.\u001b[0m\n",
      "\u001b[32m[I 2023-04-28 17:20:48,369]\u001b[0m Trial 55 finished with value: 0.751708489699838 and parameters: {'n_estimators': 236, 'max_depth': 6, 'min_samples_split': 50, 'min_samples_leaf': 1, 'max_features': 0.6, 'max_samples': 0.5}. Best is trial 26 with value: 0.754060935833106.\u001b[0m\n",
      "\u001b[32m[I 2023-04-28 17:20:48,584]\u001b[0m Trial 43 finished with value: 0.75338588265589 and parameters: {'n_estimators': 268, 'max_depth': 10, 'min_samples_split': 50, 'min_samples_leaf': 1, 'max_features': 0.4, 'max_samples': 0.6000000000000001}. Best is trial 26 with value: 0.754060935833106.\u001b[0m\n",
      "\u001b[32m[I 2023-04-28 17:20:49,105]\u001b[0m Trial 46 finished with value: 0.751282822774171 and parameters: {'n_estimators': 256, 'max_depth': 5, 'min_samples_split': 25, 'min_samples_leaf': 1, 'max_features': 0.6, 'max_samples': 0.4}. Best is trial 26 with value: 0.754060935833106.\u001b[0m\n",
      "\u001b[32m[I 2023-04-28 17:20:49,155]\u001b[0m Trial 44 finished with value: 0.7532096279378182 and parameters: {'n_estimators': 257, 'max_depth': 6, 'min_samples_split': 25, 'min_samples_leaf': 7, 'max_features': 0.30000000000000004, 'max_samples': 0.5}. Best is trial 26 with value: 0.754060935833106.\u001b[0m\n",
      "\u001b[32m[I 2023-04-28 17:20:50,351]\u001b[0m Trial 37 finished with value: 0.7539213712933973 and parameters: {'n_estimators': 451, 'max_depth': 8, 'min_samples_split': 50, 'min_samples_leaf': 2, 'max_features': 0.30000000000000004, 'max_samples': 0.4}. Best is trial 26 with value: 0.754060935833106.\u001b[0m\n",
      "\u001b[32m[I 2023-04-28 17:20:51,184]\u001b[0m Trial 49 finished with value: 0.7502294555560597 and parameters: {'n_estimators': 291, 'max_depth': 9, 'min_samples_split': 5, 'min_samples_leaf': 4, 'max_features': 0.6, 'max_samples': 0.5}. Best is trial 26 with value: 0.754060935833106.\u001b[0m\n",
      "\u001b[32m[I 2023-04-28 17:20:51,852]\u001b[0m Trial 21 finished with value: 0.7524539910408692 and parameters: {'n_estimators': 461, 'max_depth': 6, 'min_samples_split': 45, 'min_samples_leaf': 7, 'max_features': 0.4, 'max_samples': 0.7}. Best is trial 26 with value: 0.754060935833106.\u001b[0m\n",
      "\u001b[32m[I 2023-04-28 17:20:52,864]\u001b[0m Trial 35 finished with value: 0.754568647766557 and parameters: {'n_estimators': 468, 'max_depth': 9, 'min_samples_split': 30, 'min_samples_leaf': 2, 'max_features': 0.2, 'max_samples': 0.4}. Best is trial 35 with value: 0.754568647766557.\u001b[0m\n",
      "\u001b[32m[I 2023-04-28 17:21:09,012]\u001b[0m Trial 53 finished with value: 0.7523366649505798 and parameters: {'n_estimators': 253, 'max_depth': 6, 'min_samples_split': 50, 'min_samples_leaf': 1, 'max_features': 0.5, 'max_samples': 0.5}. Best is trial 35 with value: 0.754568647766557.\u001b[0m\n",
      "\u001b[32m[I 2023-04-28 17:21:10,702]\u001b[0m Trial 56 finished with value: 0.7517135321753203 and parameters: {'n_estimators': 275, 'max_depth': 6, 'min_samples_split': 35, 'min_samples_leaf': 1, 'max_features': 0.5, 'max_samples': 0.5}. Best is trial 35 with value: 0.754568647766557.\u001b[0m\n",
      "\u001b[32m[I 2023-04-28 17:21:11,375]\u001b[0m Trial 57 finished with value: 0.7529368146740173 and parameters: {'n_estimators': 301, 'max_depth': 6, 'min_samples_split': 40, 'min_samples_leaf': 1, 'max_features': 0.4, 'max_samples': 0.5}. Best is trial 35 with value: 0.754568647766557.\u001b[0m\n",
      "\u001b[32m[I 2023-04-28 17:21:11,685]\u001b[0m Trial 58 finished with value: 0.7539559028250448 and parameters: {'n_estimators': 267, 'max_depth': 9, 'min_samples_split': 40, 'min_samples_leaf': 1, 'max_features': 0.2, 'max_samples': 0.5}. Best is trial 35 with value: 0.754568647766557.\u001b[0m\n",
      "\u001b[32m[I 2023-04-28 17:21:12,276]\u001b[0m Trial 60 finished with value: 0.752972508812451 and parameters: {'n_estimators': 260, 'max_depth': 6, 'min_samples_split': 45, 'min_samples_leaf': 1, 'max_features': 0.4, 'max_samples': 0.5}. Best is trial 35 with value: 0.754568647766557.\u001b[0m\n",
      "\u001b[32m[I 2023-04-28 17:21:12,290]\u001b[0m Trial 59 finished with value: 0.7537592274210875 and parameters: {'n_estimators': 252, 'max_depth': 9, 'min_samples_split': 40, 'min_samples_leaf': 1, 'max_features': 0.2, 'max_samples': 0.5}. Best is trial 35 with value: 0.754568647766557.\u001b[0m\n",
      "\u001b[32m[I 2023-04-28 17:21:12,908]\u001b[0m Trial 61 finished with value: 0.7536785328746396 and parameters: {'n_estimators': 256, 'max_depth': 9, 'min_samples_split': 40, 'min_samples_leaf': 1, 'max_features': 0.2, 'max_samples': 0.4}. Best is trial 35 with value: 0.754568647766557.\u001b[0m\n",
      "\u001b[32m[I 2023-04-28 17:21:13,502]\u001b[0m Trial 62 finished with value: 0.7543641162703889 and parameters: {'n_estimators': 270, 'max_depth': 9, 'min_samples_split': 35, 'min_samples_leaf': 1, 'max_features': 0.2, 'max_samples': 0.4}. Best is trial 35 with value: 0.754568647766557.\u001b[0m\n",
      "\u001b[32m[I 2023-04-28 17:21:14,008]\u001b[0m Trial 63 finished with value: 0.7541485632581523 and parameters: {'n_estimators': 259, 'max_depth': 9, 'min_samples_split': 35, 'min_samples_leaf': 1, 'max_features': 0.2, 'max_samples': 0.4}. Best is trial 35 with value: 0.754568647766557.\u001b[0m\n",
      "\u001b[32m[I 2023-04-28 17:21:14,623]\u001b[0m Trial 64 finished with value: 0.7526150055450704 and parameters: {'n_estimators': 279, 'max_depth': 9, 'min_samples_split': 35, 'min_samples_leaf': 1, 'max_features': 0.30000000000000004, 'max_samples': 0.4}. Best is trial 35 with value: 0.754568647766557.\u001b[0m\n",
      "\u001b[32m[I 2023-04-28 17:21:26,994]\u001b[0m Trial 40 finished with value: 0.7520959694928692 and parameters: {'n_estimators': 454, 'max_depth': 5, 'min_samples_split': 10, 'min_samples_leaf': 8, 'max_features': 0.5, 'max_samples': 0.7}. Best is trial 35 with value: 0.754568647766557.\u001b[0m\n",
      "\u001b[32m[I 2023-04-28 17:21:30,693]\u001b[0m Trial 66 finished with value: 0.7537953883015167 and parameters: {'n_estimators': 295, 'max_depth': 7, 'min_samples_split': 35, 'min_samples_leaf': 1, 'max_features': 0.30000000000000004, 'max_samples': 0.5}. Best is trial 35 with value: 0.754568647766557.\u001b[0m\n",
      "\u001b[32m[I 2023-04-28 17:21:30,840]\u001b[0m Trial 67 finished with value: 0.7543325821952354 and parameters: {'n_estimators': 306, 'max_depth': 9, 'min_samples_split': 40, 'min_samples_leaf': 1, 'max_features': 0.2, 'max_samples': 0.5}. Best is trial 35 with value: 0.754568647766557.\u001b[0m\n",
      "\u001b[32m[I 2023-04-28 17:21:31,480]\u001b[0m Trial 68 finished with value: 0.7542822841395299 and parameters: {'n_estimators': 306, 'max_depth': 7, 'min_samples_split': 35, 'min_samples_leaf': 3, 'max_features': 0.2, 'max_samples': 0.4}. Best is trial 35 with value: 0.754568647766557.\u001b[0m\n",
      "\u001b[32m[I 2023-04-28 17:21:31,732]\u001b[0m Trial 69 finished with value: 0.7541229279279027 and parameters: {'n_estimators': 291, 'max_depth': 7, 'min_samples_split': 35, 'min_samples_leaf': 3, 'max_features': 0.2, 'max_samples': 0.4}. Best is trial 35 with value: 0.754568647766557.\u001b[0m\n",
      "\u001b[32m[I 2023-04-28 17:21:47,093]\u001b[0m Trial 71 finished with value: 0.7536427725389514 and parameters: {'n_estimators': 289, 'max_depth': 9, 'min_samples_split': 35, 'min_samples_leaf': 3, 'max_features': 0.2, 'max_samples': 0.5}. Best is trial 35 with value: 0.754568647766557.\u001b[0m\n",
      "\u001b[32m[I 2023-04-28 17:21:47,766]\u001b[0m Trial 65 finished with value: 0.7535411306229618 and parameters: {'n_estimators': 338, 'max_depth': 9, 'min_samples_split': 35, 'min_samples_leaf': 1, 'max_features': 0.30000000000000004, 'max_samples': 0.5}. Best is trial 35 with value: 0.754568647766557.\u001b[0m\n",
      "\u001b[32m[I 2023-04-28 17:21:48,113]\u001b[0m Trial 72 finished with value: 0.7536787876733803 and parameters: {'n_estimators': 282, 'max_depth': 9, 'min_samples_split': 35, 'min_samples_leaf': 3, 'max_features': 0.2, 'max_samples': 0.5}. Best is trial 35 with value: 0.754568647766557.\u001b[0m\n",
      "\u001b[32m[I 2023-04-28 17:21:48,562]\u001b[0m Trial 73 finished with value: 0.7537266040322997 and parameters: {'n_estimators': 277, 'max_depth': 9, 'min_samples_split': 35, 'min_samples_leaf': 3, 'max_features': 0.2, 'max_samples': 0.5}. Best is trial 35 with value: 0.754568647766557.\u001b[0m\n",
      "\u001b[32m[I 2023-04-28 17:21:49,116]\u001b[0m Trial 75 finished with value: 0.7547941253251275 and parameters: {'n_estimators': 309, 'max_depth': 9, 'min_samples_split': 35, 'min_samples_leaf': 3, 'max_features': 0.2, 'max_samples': 0.4}. Best is trial 75 with value: 0.7547941253251275.\u001b[0m\n",
      "\u001b[32m[I 2023-04-28 17:21:49,629]\u001b[0m Trial 76 finished with value: 0.7542008646911315 and parameters: {'n_estimators': 276, 'max_depth': 7, 'min_samples_split': 30, 'min_samples_leaf': 3, 'max_features': 0.2, 'max_samples': 0.4}. Best is trial 75 with value: 0.7547941253251275.\u001b[0m\n",
      "\u001b[32m[I 2023-04-28 17:21:49,673]\u001b[0m Trial 48 finished with value: 0.7524205469555144 and parameters: {'n_estimators': 493, 'max_depth': 10, 'min_samples_split': 5, 'min_samples_leaf': 4, 'max_features': 0.30000000000000004, 'max_samples': 0.4}. Best is trial 75 with value: 0.7547941253251275.\u001b[0m\n",
      "\u001b[32m[I 2023-04-28 17:21:49,839]\u001b[0m Trial 77 finished with value: 0.7544294178544358 and parameters: {'n_estimators': 282, 'max_depth': 9, 'min_samples_split': 30, 'min_samples_leaf': 4, 'max_features': 0.2, 'max_samples': 0.4}. Best is trial 75 with value: 0.7547941253251275.\u001b[0m\n",
      "\u001b[32m[I 2023-04-28 17:21:50,123]\u001b[0m Trial 70 finished with value: 0.7550952273180103 and parameters: {'n_estimators': 358, 'max_depth': 9, 'min_samples_split': 35, 'min_samples_leaf': 3, 'max_features': 0.2, 'max_samples': 0.4}. Best is trial 70 with value: 0.7550952273180103.\u001b[0m\n",
      "\u001b[32m[I 2023-04-28 17:21:50,402]\u001b[0m Trial 78 finished with value: 0.7544066594437899 and parameters: {'n_estimators': 291, 'max_depth': 7, 'min_samples_split': 30, 'min_samples_leaf': 3, 'max_features': 0.2, 'max_samples': 0.4}. Best is trial 70 with value: 0.7550952273180103.\u001b[0m\n",
      "\u001b[32m[I 2023-04-28 17:21:51,040]\u001b[0m Trial 80 finished with value: 0.7534940914515535 and parameters: {'n_estimators': 288, 'max_depth': 7, 'min_samples_split': 20, 'min_samples_leaf': 3, 'max_features': 0.2, 'max_samples': 0.7}. Best is trial 70 with value: 0.7550952273180103.\u001b[0m\n",
      "\u001b[32m[I 2023-04-28 17:21:58,102]\u001b[0m Trial 81 finished with value: 0.7537265710737232 and parameters: {'n_estimators': 306, 'max_depth': 7, 'min_samples_split': 20, 'min_samples_leaf': 3, 'max_features': 0.2, 'max_samples': 0.7}. Best is trial 70 with value: 0.7550952273180103.\u001b[0m\n",
      "\u001b[32m[I 2023-04-28 17:22:00,345]\u001b[0m Trial 82 finished with value: 0.7535180093878724 and parameters: {'n_estimators': 284, 'max_depth': 7, 'min_samples_split': 20, 'min_samples_leaf': 3, 'max_features': 0.2, 'max_samples': 0.7}. Best is trial 70 with value: 0.7550952273180103.\u001b[0m\n",
      "\u001b[32m[I 2023-04-28 17:22:00,903]\u001b[0m Trial 83 finished with value: 0.7538639976008398 and parameters: {'n_estimators': 281, 'max_depth': 7, 'min_samples_split': 30, 'min_samples_leaf': 3, 'max_features': 0.2, 'max_samples': 0.7}. Best is trial 70 with value: 0.7550952273180103.\u001b[0m\n",
      "\u001b[32m[I 2023-04-28 17:22:00,943]\u001b[0m Trial 84 finished with value: 0.7536224408318857 and parameters: {'n_estimators': 265, 'max_depth': 7, 'min_samples_split': 20, 'min_samples_leaf': 3, 'max_features': 0.2, 'max_samples': 0.7}. Best is trial 70 with value: 0.7550952273180103.\u001b[0m\n",
      "\u001b[32m[I 2023-04-28 17:22:01,118]\u001b[0m Trial 85 finished with value: 0.753751412970591 and parameters: {'n_estimators': 290, 'max_depth': 7, 'min_samples_split': 30, 'min_samples_leaf': 3, 'max_features': 0.2, 'max_samples': 0.7}. Best is trial 70 with value: 0.7550952273180103.\u001b[0m\n",
      "\u001b[32m[I 2023-04-28 17:22:01,276]\u001b[0m Trial 86 finished with value: 0.7537946329619004 and parameters: {'n_estimators': 284, 'max_depth': 7, 'min_samples_split': 30, 'min_samples_leaf': 3, 'max_features': 0.2, 'max_samples': 0.7}. Best is trial 70 with value: 0.7550952273180103.\u001b[0m\n",
      "\u001b[32m[I 2023-04-28 17:22:01,524]\u001b[0m Trial 87 finished with value: 0.7537190279479393 and parameters: {'n_estimators': 302, 'max_depth': 7, 'min_samples_split': 30, 'min_samples_leaf': 3, 'max_features': 0.2, 'max_samples': 0.7}. Best is trial 70 with value: 0.7550952273180103.\u001b[0m\n",
      "\u001b[32m[I 2023-04-28 17:22:01,805]\u001b[0m Trial 88 finished with value: 0.753745748390305 and parameters: {'n_estimators': 299, 'max_depth': 7, 'min_samples_split': 20, 'min_samples_leaf': 3, 'max_features': 0.2, 'max_samples': 0.7}. Best is trial 70 with value: 0.7550952273180103.\u001b[0m\n",
      "\u001b[32m[I 2023-04-28 17:22:08,721]\u001b[0m Trial 74 finished with value: 0.7536949989048043 and parameters: {'n_estimators': 472, 'max_depth': 9, 'min_samples_split': 35, 'min_samples_leaf': 1, 'max_features': 0.2, 'max_samples': 0.5}. Best is trial 70 with value: 0.7550952273180103.\u001b[0m\n",
      "\u001b[32m[I 2023-04-28 17:22:09,628]\u001b[0m Trial 79 finished with value: 0.7544332761553382 and parameters: {'n_estimators': 476, 'max_depth': 9, 'min_samples_split': 30, 'min_samples_leaf': 3, 'max_features': 0.2, 'max_samples': 0.4}. Best is trial 70 with value: 0.7550952273180103.\u001b[0m\n",
      "\u001b[32m[I 2023-04-28 17:22:15,570]\u001b[0m Trial 90 finished with value: 0.7538761158065412 and parameters: {'n_estimators': 457, 'max_depth': 7, 'min_samples_split': 20, 'min_samples_leaf': 3, 'max_features': 0.2, 'max_samples': 0.7}. Best is trial 70 with value: 0.7550952273180103.\u001b[0m\n",
      "\u001b[32m[I 2023-04-28 17:22:19,239]\u001b[0m Trial 93 finished with value: 0.7545692653897411 and parameters: {'n_estimators': 440, 'max_depth': 7, 'min_samples_split': 30, 'min_samples_leaf': 3, 'max_features': 0.2, 'max_samples': 0.4}. Best is trial 70 with value: 0.7550952273180103.\u001b[0m\n",
      "\u001b[32m[I 2023-04-28 17:22:19,843]\u001b[0m Trial 89 finished with value: 0.7543566989100514 and parameters: {'n_estimators': 481, 'max_depth': 7, 'min_samples_split': 45, 'min_samples_leaf': 3, 'max_features': 0.2, 'max_samples': 0.4}. Best is trial 70 with value: 0.7550952273180103.\u001b[0m\n",
      "\u001b[32m[I 2023-04-28 17:22:20,141]\u001b[0m Trial 94 finished with value: 0.7545129065972613 and parameters: {'n_estimators': 430, 'max_depth': 7, 'min_samples_split': 30, 'min_samples_leaf': 3, 'max_features': 0.2, 'max_samples': 0.4}. Best is trial 70 with value: 0.7550952273180103.\u001b[0m\n",
      "\u001b[32m[I 2023-04-28 17:22:20,496]\u001b[0m Trial 96 finished with value: 0.754501523003686 and parameters: {'n_estimators': 469, 'max_depth': 9, 'min_samples_split': 30, 'min_samples_leaf': 3, 'max_features': 0.2, 'max_samples': 0.4}. Best is trial 70 with value: 0.7550952273180103.\u001b[0m\n",
      "\u001b[32m[I 2023-04-28 17:22:20,601]\u001b[0m Trial 91 finished with value: 0.753573570171984 and parameters: {'n_estimators': 494, 'max_depth': 7, 'min_samples_split': 20, 'min_samples_leaf': 3, 'max_features': 0.2, 'max_samples': 0.4}. Best is trial 70 with value: 0.7550952273180103.\u001b[0m\n",
      "\u001b[32m[I 2023-04-28 17:22:20,703]\u001b[0m Trial 97 finished with value: 0.7541560179653187 and parameters: {'n_estimators': 463, 'max_depth': 7, 'min_samples_split': 30, 'min_samples_leaf': 2, 'max_features': 0.2, 'max_samples': 0.4}. Best is trial 70 with value: 0.7550952273180103.\u001b[0m\n",
      "\u001b[32m[I 2023-04-28 17:22:20,816]\u001b[0m Trial 98 finished with value: 0.7541057439049508 and parameters: {'n_estimators': 467, 'max_depth': 7, 'min_samples_split': 30, 'min_samples_leaf': 2, 'max_features': 0.2, 'max_samples': 0.4}. Best is trial 70 with value: 0.7550952273180103.\u001b[0m\n",
      "\u001b[32m[I 2023-04-28 17:22:20,843]\u001b[0m Trial 99 finished with value: 0.754363504342596 and parameters: {'n_estimators': 433, 'max_depth': 7, 'min_samples_split': 30, 'min_samples_leaf': 2, 'max_features': 0.2, 'max_samples': 0.4}. Best is trial 70 with value: 0.7550952273180103.\u001b[0m\n",
      "\u001b[32m[I 2023-04-28 17:22:20,916]\u001b[0m Trial 92 finished with value: 0.7542117506382107 and parameters: {'n_estimators': 491, 'max_depth': 7, 'min_samples_split': 30, 'min_samples_leaf': 3, 'max_features': 0.2, 'max_samples': 0.4}. Best is trial 70 with value: 0.7550952273180103.\u001b[0m\n",
      "\u001b[32m[I 2023-04-28 17:22:21,061]\u001b[0m Trial 95 finished with value: 0.75413626616114 and parameters: {'n_estimators': 494, 'max_depth': 7, 'min_samples_split': 30, 'min_samples_leaf': 3, 'max_features': 0.2, 'max_samples': 0.4}. Best is trial 70 with value: 0.7550952273180103.\u001b[0m\n"
     ]
    }
   ],
   "source": [
    "# tune using optuna\n",
    "clf = RandomForestClassifier(random_state=42, class_weight=\"balanced\", criterion='entropy', n_jobs=-1)\n",
    "param_distributions = {\n",
    "    'n_estimators':optuna.distributions.IntDistribution(100, 500, log=True),\n",
    "    'max_depth':optuna.distributions.IntDistribution(5, 10, step=1), \n",
    "    'min_samples_split':optuna.distributions.IntDistribution(5, 50, step=5), \n",
    "    'min_samples_leaf':optuna.distributions.IntDistribution(1, 10, step=1),\n",
    "    'max_features':optuna.distributions.FloatDistribution(0.2, 0.6, step=0.1),\n",
    "    'max_samples':optuna.distributions.FloatDistribution(0.4, 0.7, step=0.1)\n",
    "}\n",
    "optuna_search = optuna.integration.OptunaSearchCV(clf, param_distributions, n_trials=100, scoring=\"roc_auc\", n_jobs=-1)\n",
    "X, y = train.drop(['order_status_key', 'fold'], axis=1), train['order_status_key']\n",
    "optuna_search.fit(X, y)\n",
    "y_pred = optuna_search.predict(X)"
   ]
  },
  {
   "cell_type": "code",
   "execution_count": 30,
   "id": "db59b076-2deb-4b8f-ab2d-d06d84637729",
   "metadata": {},
   "outputs": [
    {
     "data": {
      "text/plain": [
       "{'n_estimators': 358,\n",
       " 'max_depth': 9,\n",
       " 'min_samples_split': 35,\n",
       " 'min_samples_leaf': 3,\n",
       " 'max_features': 0.2,\n",
       " 'max_samples': 0.4}"
      ]
     },
     "execution_count": 30,
     "metadata": {},
     "output_type": "execute_result"
    }
   ],
   "source": [
    "optuna_search.best_params_"
   ]
  },
  {
   "cell_type": "code",
   "execution_count": 10,
   "id": "3f023241-11bd-4c29-9c97-00bfafd72977",
   "metadata": {
    "collapsed": true,
    "jupyter": {
     "outputs_hidden": true
    },
    "tags": []
   },
   "outputs": [
    {
     "ename": "KeyboardInterrupt",
     "evalue": "",
     "output_type": "error",
     "traceback": [
      "\u001b[0;31m---------------------------------------------------------------------------\u001b[0m",
      "\u001b[0;31mKeyboardInterrupt\u001b[0m                         Traceback (most recent call last)",
      "\u001b[0;32m/tmp/ipykernel_1573367/9535278.py\u001b[0m in \u001b[0;36m<module>\u001b[0;34m\u001b[0m\n\u001b[1;32m     11\u001b[0m \u001b[0mgrid_search\u001b[0m \u001b[0;34m=\u001b[0m \u001b[0mGridSearchCV\u001b[0m\u001b[0;34m(\u001b[0m\u001b[0mclf\u001b[0m\u001b[0;34m,\u001b[0m \u001b[0mparam_grid\u001b[0m\u001b[0;34m=\u001b[0m\u001b[0mparams\u001b[0m\u001b[0;34m,\u001b[0m \u001b[0mscoring\u001b[0m\u001b[0;34m=\u001b[0m\u001b[0;34m\"roc_auc\"\u001b[0m\u001b[0;34m,\u001b[0m \u001b[0mn_jobs\u001b[0m\u001b[0;34m=\u001b[0m\u001b[0;34m-\u001b[0m\u001b[0;36m1\u001b[0m\u001b[0;34m)\u001b[0m\u001b[0;34m\u001b[0m\u001b[0;34m\u001b[0m\u001b[0m\n\u001b[1;32m     12\u001b[0m \u001b[0mX\u001b[0m\u001b[0;34m,\u001b[0m \u001b[0my\u001b[0m \u001b[0;34m=\u001b[0m \u001b[0mtrain\u001b[0m\u001b[0;34m.\u001b[0m\u001b[0mdrop\u001b[0m\u001b[0;34m(\u001b[0m\u001b[0;34m[\u001b[0m\u001b[0;34m'order_status_key'\u001b[0m\u001b[0;34m,\u001b[0m \u001b[0;34m'fold'\u001b[0m\u001b[0;34m]\u001b[0m\u001b[0;34m,\u001b[0m \u001b[0maxis\u001b[0m\u001b[0;34m=\u001b[0m\u001b[0;36m1\u001b[0m\u001b[0;34m)\u001b[0m\u001b[0;34m,\u001b[0m \u001b[0mtrain\u001b[0m\u001b[0;34m[\u001b[0m\u001b[0;34m'order_status_key'\u001b[0m\u001b[0;34m]\u001b[0m\u001b[0;34m\u001b[0m\u001b[0;34m\u001b[0m\u001b[0m\n\u001b[0;32m---> 13\u001b[0;31m \u001b[0mgrid_search\u001b[0m\u001b[0;34m.\u001b[0m\u001b[0mfit\u001b[0m\u001b[0;34m(\u001b[0m\u001b[0mX\u001b[0m\u001b[0;34m,\u001b[0m \u001b[0my\u001b[0m\u001b[0;34m)\u001b[0m\u001b[0;34m\u001b[0m\u001b[0;34m\u001b[0m\u001b[0m\n\u001b[0m",
      "\u001b[0;32m/sda/software/anaconda3/lib/python3.9/site-packages/sklearn/model_selection/_search.py\u001b[0m in \u001b[0;36mfit\u001b[0;34m(self, X, y, groups, **fit_params)\u001b[0m\n\u001b[1;32m    889\u001b[0m                 \u001b[0;32mreturn\u001b[0m \u001b[0mresults\u001b[0m\u001b[0;34m\u001b[0m\u001b[0;34m\u001b[0m\u001b[0m\n\u001b[1;32m    890\u001b[0m \u001b[0;34m\u001b[0m\u001b[0m\n\u001b[0;32m--> 891\u001b[0;31m             \u001b[0mself\u001b[0m\u001b[0;34m.\u001b[0m\u001b[0m_run_search\u001b[0m\u001b[0;34m(\u001b[0m\u001b[0mevaluate_candidates\u001b[0m\u001b[0;34m)\u001b[0m\u001b[0;34m\u001b[0m\u001b[0;34m\u001b[0m\u001b[0m\n\u001b[0m\u001b[1;32m    892\u001b[0m \u001b[0;34m\u001b[0m\u001b[0m\n\u001b[1;32m    893\u001b[0m             \u001b[0;31m# multimetric is determined here because in the case of a callable\u001b[0m\u001b[0;34m\u001b[0m\u001b[0;34m\u001b[0m\u001b[0m\n",
      "\u001b[0;32m/sda/software/anaconda3/lib/python3.9/site-packages/sklearn/model_selection/_search.py\u001b[0m in \u001b[0;36m_run_search\u001b[0;34m(self, evaluate_candidates)\u001b[0m\n\u001b[1;32m   1390\u001b[0m     \u001b[0;32mdef\u001b[0m \u001b[0m_run_search\u001b[0m\u001b[0;34m(\u001b[0m\u001b[0mself\u001b[0m\u001b[0;34m,\u001b[0m \u001b[0mevaluate_candidates\u001b[0m\u001b[0;34m)\u001b[0m\u001b[0;34m:\u001b[0m\u001b[0;34m\u001b[0m\u001b[0;34m\u001b[0m\u001b[0m\n\u001b[1;32m   1391\u001b[0m         \u001b[0;34m\"\"\"Search all candidates in param_grid\"\"\"\u001b[0m\u001b[0;34m\u001b[0m\u001b[0;34m\u001b[0m\u001b[0m\n\u001b[0;32m-> 1392\u001b[0;31m         \u001b[0mevaluate_candidates\u001b[0m\u001b[0;34m(\u001b[0m\u001b[0mParameterGrid\u001b[0m\u001b[0;34m(\u001b[0m\u001b[0mself\u001b[0m\u001b[0;34m.\u001b[0m\u001b[0mparam_grid\u001b[0m\u001b[0;34m)\u001b[0m\u001b[0;34m)\u001b[0m\u001b[0;34m\u001b[0m\u001b[0;34m\u001b[0m\u001b[0m\n\u001b[0m\u001b[1;32m   1393\u001b[0m \u001b[0;34m\u001b[0m\u001b[0m\n\u001b[1;32m   1394\u001b[0m \u001b[0;34m\u001b[0m\u001b[0m\n",
      "\u001b[0;32m/sda/software/anaconda3/lib/python3.9/site-packages/sklearn/model_selection/_search.py\u001b[0m in \u001b[0;36mevaluate_candidates\u001b[0;34m(candidate_params, cv, more_results)\u001b[0m\n\u001b[1;32m    836\u001b[0m                     )\n\u001b[1;32m    837\u001b[0m \u001b[0;34m\u001b[0m\u001b[0m\n\u001b[0;32m--> 838\u001b[0;31m                 out = parallel(\n\u001b[0m\u001b[1;32m    839\u001b[0m                     delayed(_fit_and_score)(\n\u001b[1;32m    840\u001b[0m                         \u001b[0mclone\u001b[0m\u001b[0;34m(\u001b[0m\u001b[0mbase_estimator\u001b[0m\u001b[0;34m)\u001b[0m\u001b[0;34m,\u001b[0m\u001b[0;34m\u001b[0m\u001b[0;34m\u001b[0m\u001b[0m\n",
      "\u001b[0;32m/sda/software/anaconda3/lib/python3.9/site-packages/joblib/parallel.py\u001b[0m in \u001b[0;36m__call__\u001b[0;34m(self, iterable)\u001b[0m\n\u001b[1;32m   1054\u001b[0m \u001b[0;34m\u001b[0m\u001b[0m\n\u001b[1;32m   1055\u001b[0m             \u001b[0;32mwith\u001b[0m \u001b[0mself\u001b[0m\u001b[0;34m.\u001b[0m\u001b[0m_backend\u001b[0m\u001b[0;34m.\u001b[0m\u001b[0mretrieval_context\u001b[0m\u001b[0;34m(\u001b[0m\u001b[0;34m)\u001b[0m\u001b[0;34m:\u001b[0m\u001b[0;34m\u001b[0m\u001b[0;34m\u001b[0m\u001b[0m\n\u001b[0;32m-> 1056\u001b[0;31m                 \u001b[0mself\u001b[0m\u001b[0;34m.\u001b[0m\u001b[0mretrieve\u001b[0m\u001b[0;34m(\u001b[0m\u001b[0;34m)\u001b[0m\u001b[0;34m\u001b[0m\u001b[0;34m\u001b[0m\u001b[0m\n\u001b[0m\u001b[1;32m   1057\u001b[0m             \u001b[0;31m# Make sure that we get a last message telling us we are done\u001b[0m\u001b[0;34m\u001b[0m\u001b[0;34m\u001b[0m\u001b[0m\n\u001b[1;32m   1058\u001b[0m             \u001b[0melapsed_time\u001b[0m \u001b[0;34m=\u001b[0m \u001b[0mtime\u001b[0m\u001b[0;34m.\u001b[0m\u001b[0mtime\u001b[0m\u001b[0;34m(\u001b[0m\u001b[0;34m)\u001b[0m \u001b[0;34m-\u001b[0m \u001b[0mself\u001b[0m\u001b[0;34m.\u001b[0m\u001b[0m_start_time\u001b[0m\u001b[0;34m\u001b[0m\u001b[0;34m\u001b[0m\u001b[0m\n",
      "\u001b[0;32m/sda/software/anaconda3/lib/python3.9/site-packages/joblib/parallel.py\u001b[0m in \u001b[0;36mretrieve\u001b[0;34m(self)\u001b[0m\n\u001b[1;32m    933\u001b[0m             \u001b[0;32mtry\u001b[0m\u001b[0;34m:\u001b[0m\u001b[0;34m\u001b[0m\u001b[0;34m\u001b[0m\u001b[0m\n\u001b[1;32m    934\u001b[0m                 \u001b[0;32mif\u001b[0m \u001b[0mgetattr\u001b[0m\u001b[0;34m(\u001b[0m\u001b[0mself\u001b[0m\u001b[0;34m.\u001b[0m\u001b[0m_backend\u001b[0m\u001b[0;34m,\u001b[0m \u001b[0;34m'supports_timeout'\u001b[0m\u001b[0;34m,\u001b[0m \u001b[0;32mFalse\u001b[0m\u001b[0;34m)\u001b[0m\u001b[0;34m:\u001b[0m\u001b[0;34m\u001b[0m\u001b[0;34m\u001b[0m\u001b[0m\n\u001b[0;32m--> 935\u001b[0;31m                     \u001b[0mself\u001b[0m\u001b[0;34m.\u001b[0m\u001b[0m_output\u001b[0m\u001b[0;34m.\u001b[0m\u001b[0mextend\u001b[0m\u001b[0;34m(\u001b[0m\u001b[0mjob\u001b[0m\u001b[0;34m.\u001b[0m\u001b[0mget\u001b[0m\u001b[0;34m(\u001b[0m\u001b[0mtimeout\u001b[0m\u001b[0;34m=\u001b[0m\u001b[0mself\u001b[0m\u001b[0;34m.\u001b[0m\u001b[0mtimeout\u001b[0m\u001b[0;34m)\u001b[0m\u001b[0;34m)\u001b[0m\u001b[0;34m\u001b[0m\u001b[0;34m\u001b[0m\u001b[0m\n\u001b[0m\u001b[1;32m    936\u001b[0m                 \u001b[0;32melse\u001b[0m\u001b[0;34m:\u001b[0m\u001b[0;34m\u001b[0m\u001b[0;34m\u001b[0m\u001b[0m\n\u001b[1;32m    937\u001b[0m                     \u001b[0mself\u001b[0m\u001b[0;34m.\u001b[0m\u001b[0m_output\u001b[0m\u001b[0;34m.\u001b[0m\u001b[0mextend\u001b[0m\u001b[0;34m(\u001b[0m\u001b[0mjob\u001b[0m\u001b[0;34m.\u001b[0m\u001b[0mget\u001b[0m\u001b[0;34m(\u001b[0m\u001b[0;34m)\u001b[0m\u001b[0;34m)\u001b[0m\u001b[0;34m\u001b[0m\u001b[0;34m\u001b[0m\u001b[0m\n",
      "\u001b[0;32m/sda/software/anaconda3/lib/python3.9/site-packages/joblib/_parallel_backends.py\u001b[0m in \u001b[0;36mwrap_future_result\u001b[0;34m(future, timeout)\u001b[0m\n\u001b[1;32m    540\u001b[0m         AsyncResults.get from multiprocessing.\"\"\"\n\u001b[1;32m    541\u001b[0m         \u001b[0;32mtry\u001b[0m\u001b[0;34m:\u001b[0m\u001b[0;34m\u001b[0m\u001b[0;34m\u001b[0m\u001b[0m\n\u001b[0;32m--> 542\u001b[0;31m             \u001b[0;32mreturn\u001b[0m \u001b[0mfuture\u001b[0m\u001b[0;34m.\u001b[0m\u001b[0mresult\u001b[0m\u001b[0;34m(\u001b[0m\u001b[0mtimeout\u001b[0m\u001b[0;34m=\u001b[0m\u001b[0mtimeout\u001b[0m\u001b[0;34m)\u001b[0m\u001b[0;34m\u001b[0m\u001b[0;34m\u001b[0m\u001b[0m\n\u001b[0m\u001b[1;32m    543\u001b[0m         \u001b[0;32mexcept\u001b[0m \u001b[0mCfTimeoutError\u001b[0m \u001b[0;32mas\u001b[0m \u001b[0me\u001b[0m\u001b[0;34m:\u001b[0m\u001b[0;34m\u001b[0m\u001b[0;34m\u001b[0m\u001b[0m\n\u001b[1;32m    544\u001b[0m             \u001b[0;32mraise\u001b[0m \u001b[0mTimeoutError\u001b[0m \u001b[0;32mfrom\u001b[0m \u001b[0me\u001b[0m\u001b[0;34m\u001b[0m\u001b[0;34m\u001b[0m\u001b[0m\n",
      "\u001b[0;32m/sda/software/anaconda3/lib/python3.9/concurrent/futures/_base.py\u001b[0m in \u001b[0;36mresult\u001b[0;34m(self, timeout)\u001b[0m\n\u001b[1;32m    439\u001b[0m                     \u001b[0;32mreturn\u001b[0m \u001b[0mself\u001b[0m\u001b[0;34m.\u001b[0m\u001b[0m__get_result\u001b[0m\u001b[0;34m(\u001b[0m\u001b[0;34m)\u001b[0m\u001b[0;34m\u001b[0m\u001b[0;34m\u001b[0m\u001b[0m\n\u001b[1;32m    440\u001b[0m \u001b[0;34m\u001b[0m\u001b[0m\n\u001b[0;32m--> 441\u001b[0;31m                 \u001b[0mself\u001b[0m\u001b[0;34m.\u001b[0m\u001b[0m_condition\u001b[0m\u001b[0;34m.\u001b[0m\u001b[0mwait\u001b[0m\u001b[0;34m(\u001b[0m\u001b[0mtimeout\u001b[0m\u001b[0;34m)\u001b[0m\u001b[0;34m\u001b[0m\u001b[0;34m\u001b[0m\u001b[0m\n\u001b[0m\u001b[1;32m    442\u001b[0m \u001b[0;34m\u001b[0m\u001b[0m\n\u001b[1;32m    443\u001b[0m                 \u001b[0;32mif\u001b[0m \u001b[0mself\u001b[0m\u001b[0;34m.\u001b[0m\u001b[0m_state\u001b[0m \u001b[0;32min\u001b[0m \u001b[0;34m[\u001b[0m\u001b[0mCANCELLED\u001b[0m\u001b[0;34m,\u001b[0m \u001b[0mCANCELLED_AND_NOTIFIED\u001b[0m\u001b[0;34m]\u001b[0m\u001b[0;34m:\u001b[0m\u001b[0;34m\u001b[0m\u001b[0;34m\u001b[0m\u001b[0m\n",
      "\u001b[0;32m/sda/software/anaconda3/lib/python3.9/threading.py\u001b[0m in \u001b[0;36mwait\u001b[0;34m(self, timeout)\u001b[0m\n\u001b[1;32m    310\u001b[0m         \u001b[0;32mtry\u001b[0m\u001b[0;34m:\u001b[0m    \u001b[0;31m# restore state no matter what (e.g., KeyboardInterrupt)\u001b[0m\u001b[0;34m\u001b[0m\u001b[0;34m\u001b[0m\u001b[0m\n\u001b[1;32m    311\u001b[0m             \u001b[0;32mif\u001b[0m \u001b[0mtimeout\u001b[0m \u001b[0;32mis\u001b[0m \u001b[0;32mNone\u001b[0m\u001b[0;34m:\u001b[0m\u001b[0;34m\u001b[0m\u001b[0;34m\u001b[0m\u001b[0m\n\u001b[0;32m--> 312\u001b[0;31m                 \u001b[0mwaiter\u001b[0m\u001b[0;34m.\u001b[0m\u001b[0macquire\u001b[0m\u001b[0;34m(\u001b[0m\u001b[0;34m)\u001b[0m\u001b[0;34m\u001b[0m\u001b[0;34m\u001b[0m\u001b[0m\n\u001b[0m\u001b[1;32m    313\u001b[0m                 \u001b[0mgotit\u001b[0m \u001b[0;34m=\u001b[0m \u001b[0;32mTrue\u001b[0m\u001b[0;34m\u001b[0m\u001b[0;34m\u001b[0m\u001b[0m\n\u001b[1;32m    314\u001b[0m             \u001b[0;32melse\u001b[0m\u001b[0;34m:\u001b[0m\u001b[0;34m\u001b[0m\u001b[0;34m\u001b[0m\u001b[0m\n",
      "\u001b[0;31mKeyboardInterrupt\u001b[0m: "
     ]
    }
   ],
   "source": [
    "# tune using grid search\n",
    "# params = {\n",
    "#     'n_estimators':[30,40,50,100,200],\n",
    "#     'max_depth':[8,9,10,11,12], \n",
    "#     'min_samples_split':[5,10,15,20], \n",
    "#     'min_samples_leaf':[1,2,4,6],\n",
    "#     'max_features':[0.2,0.3,0.4],\n",
    "#     'max_samples':[0.3,0.4,0.5,0.6]\n",
    "#             }\n",
    "# clf = RandomForestClassifier(random_state=42, class_weight=\"balanced\", criterion='entropy', n_jobs=-1, verbose=0)\n",
    "# grid_search = GridSearchCV(clf, param_grid=params, scoring=\"roc_auc\", n_jobs=-1)\n",
    "# X, y = train.drop(['order_status_key', 'fold'], axis=1), train['order_status_key']\n",
    "# grid_search.fit(X, y)"
   ]
  },
  {
   "cell_type": "code",
   "execution_count": null,
   "id": "b4f4b250-5df0-4a4d-a8ab-b2930cf7f84e",
   "metadata": {},
   "outputs": [],
   "source": [
    "# grid_search.best_params_"
   ]
  },
  {
   "cell_type": "code",
   "execution_count": 11,
   "id": "7cc300e3-f835-4cd2-b50c-caa798b3d203",
   "metadata": {},
   "outputs": [],
   "source": [
    "def train_rf_cv(X, y, param, verbose=True):\n",
    "    clf = RandomForestClassifier(**param)\n",
    "    cvs = []\n",
    "    for fold in range(0, 5):\n",
    "        train_x = X.query(f'fold != {fold}').drop(columns='fold')\n",
    "        train_y = y[train_x.index]\n",
    "        valid_x = X.query(f'fold == {fold}').drop(columns='fold')\n",
    "        valid_y = y[valid_x.index]\n",
    "        valid_score = clf.fit(train_x, train_y).predict_proba(valid_x)[:, 1]\n",
    "        cvs.append(roc_auc_score(valid_y, valid_score))\n",
    "    \n",
    "    if verbose:\n",
    "        print(\"five fold auc:\", *cvs, sep=\", \")\n",
    "        print(\"mean auc:\", np.mean(cvs))\n",
    "        \n",
    "    return cvs"
   ]
  },
  {
   "cell_type": "code",
   "execution_count": 12,
   "id": "da9f572c-ffce-4222-b4d4-4c5afb00c3f4",
   "metadata": {},
   "outputs": [],
   "source": [
    "def train_rf(X, y, param):\n",
    "    clf = RandomForestClassifier(**param)\n",
    "    clf.fit(X, y)\n",
    "    return clf"
   ]
  },
  {
   "cell_type": "code",
   "execution_count": 40,
   "id": "fa7df3f6-64f1-403c-86ce-332115656add",
   "metadata": {},
   "outputs": [
    {
     "name": "stdout",
     "output_type": "stream",
     "text": [
      "five fold auc:, 0.7483475428680908, 0.7357026535108727, 0.7483220872694556, 0.7775678512520618, 0.7565669310261955\n",
      "mean auc: 0.7533014131853354\n"
     ]
    }
   ],
   "source": [
    "param = {'n_estimators':358, 'criterion':'entropy', 'max_depth':9, 'min_samples_split':35, 'min_samples_leaf':3, \\\n",
    "         'max_features':0.2,'n_jobs':-1, 'random_state':42, 'class_weight':'balanced', 'max_samples':0.4}\n",
    "# param.update(optuna_search.best_params_)\n",
    "cvs = train_rf_cv(train.drop('order_status_key', axis=1), train['order_status_key'], param)"
   ]
  },
  {
   "cell_type": "code",
   "execution_count": 41,
   "id": "99cef1ff-4cd7-4c01-a04e-dc2ed0525a25",
   "metadata": {},
   "outputs": [],
   "source": [
    "clf = train_rf(train.drop(['order_status_key', 'fold'], axis=1), train['order_status_key'], param)\n",
    "pickle.dump(clf, open(config.RF, \"wb\"))"
   ]
  },
  {
   "cell_type": "markdown",
   "id": "9b442ce3-5ef2-41ad-b42d-24bc94d7c304",
   "metadata": {},
   "source": [
    "## XGBoost"
   ]
  },
  {
   "cell_type": "code",
   "execution_count": 4,
   "id": "b1f512b7-fa0a-4693-b9e0-1ea488809aed",
   "metadata": {},
   "outputs": [],
   "source": [
    "train = pd.read_csv(config.TRAIN3)\n",
    "cat_features = ['gender', 'degree', 'card_num']\n",
    "train[cat_features] = train[cat_features].astype('category')"
   ]
  },
  {
   "cell_type": "code",
   "execution_count": null,
   "id": "28de07a7-bf46-411c-acb4-46ccb50c3f9e",
   "metadata": {},
   "outputs": [],
   "source": [
    " Value: 0.7541475985895597\n",
    "  Params: \n",
    "    grow_policy: lossguide\n",
    "    max_depth: 5\n",
    "    eta: 2.2381136185393096e-05\n",
    "    min_child_weight: 28\n",
    "    subsample: 0.8\n",
    "    colsample_bytree: 0.4\n",
    "    scale_pos_weight: 6.0\n",
    "    max_leaves: 9\n",
    "    max_bin: 130"
   ]
  },
  {
   "cell_type": "code",
   "execution_count": 8,
   "id": "f920f797-7331-4ec3-a476-26c4d087fa59",
   "metadata": {
    "collapsed": true,
    "jupyter": {
     "outputs_hidden": true
    },
    "tags": []
   },
   "outputs": [
    {
     "name": "stderr",
     "output_type": "stream",
     "text": [
      "\u001b[32m[I 2023-05-04 15:23:38,302]\u001b[0m A new study created in memory with name: no-name-e8efc702-f444-46eb-8aa4-f83faa695436\u001b[0m\n",
      "\u001b[32m[I 2023-05-04 15:23:39,036]\u001b[0m Trial 0 finished with value: 0.7466479764461019 and parameters: {'max_depth': 5, 'eta': 0.0002367492595841048, 'min_child_weight': 2, 'subsample': 0.3, 'colsample_bytree': 0.7, 'scale_pos_weight': 2.5, 'max_leaves': 12, 'max_bin': 170}. Best is trial 0 with value: 0.7466479764461019.\u001b[0m\n",
      "\u001b[32m[I 2023-05-04 15:23:39,956]\u001b[0m Trial 1 finished with value: 0.7516017900428498 and parameters: {'max_depth': 6, 'eta': 9.430384174287375e-05, 'min_child_weight': 24, 'subsample': 0.7, 'colsample_bytree': 0.30000000000000004, 'scale_pos_weight': 9.5, 'max_leaves': 2, 'max_bin': 100}. Best is trial 1 with value: 0.7516017900428498.\u001b[0m\n",
      "\u001b[32m[I 2023-05-04 15:23:40,462]\u001b[0m Trial 2 finished with value: 0.7482624902268016 and parameters: {'max_depth': 4, 'eta': 0.0004944493395366299, 'min_child_weight': 20, 'subsample': 0.6000000000000001, 'colsample_bytree': 0.4, 'scale_pos_weight': 3.0, 'max_leaves': 7, 'max_bin': 160}. Best is trial 1 with value: 0.7516017900428498.\u001b[0m\n",
      "\u001b[32m[I 2023-05-04 15:23:41,717]\u001b[0m Trial 3 finished with value: 0.7452556758310184 and parameters: {'max_depth': 8, 'eta': 0.000260840352877802, 'min_child_weight': 2, 'subsample': 0.5, 'colsample_bytree': 0.4, 'scale_pos_weight': 7.5, 'max_leaves': 12, 'max_bin': 130}. Best is trial 1 with value: 0.7516017900428498.\u001b[0m\n",
      "\u001b[32m[I 2023-05-04 15:23:42,417]\u001b[0m Trial 4 finished with value: 0.7467343064423093 and parameters: {'max_depth': 8, 'eta': 1.1215168172252122e-05, 'min_child_weight': 30, 'subsample': 0.3, 'colsample_bytree': 0.5, 'scale_pos_weight': 2.0, 'max_leaves': 7, 'max_bin': 190}. Best is trial 1 with value: 0.7516017900428498.\u001b[0m\n",
      "\u001b[32m[I 2023-05-04 15:23:43,437]\u001b[0m Trial 5 finished with value: 0.7517910363689022 and parameters: {'max_depth': 5, 'eta': 3.3369170064160113e-05, 'min_child_weight': 4, 'subsample': 0.7, 'colsample_bytree': 0.5, 'scale_pos_weight': 2.5, 'max_leaves': 2, 'max_bin': 270}. Best is trial 5 with value: 0.7517910363689022.\u001b[0m\n",
      "\u001b[32m[I 2023-05-04 15:23:43,981]\u001b[0m Trial 6 finished with value: 0.7493553078340389 and parameters: {'max_depth': 5, 'eta': 0.0003379145504170849, 'min_child_weight': 34, 'subsample': 1.0, 'colsample_bytree': 0.4, 'scale_pos_weight': 9.5, 'max_leaves': 6, 'max_bin': 300}. Best is trial 5 with value: 0.7517910363689022.\u001b[0m\n",
      "\u001b[32m[I 2023-05-04 15:23:44,046]\u001b[0m Trial 7 pruned. Trial was pruned at iteration 11.\u001b[0m\n",
      "\u001b[32m[I 2023-05-04 15:23:44,121]\u001b[0m Trial 8 pruned. Trial was pruned at iteration 16.\u001b[0m\n",
      "\u001b[32m[I 2023-05-04 15:23:44,178]\u001b[0m Trial 9 pruned. Trial was pruned at iteration 10.\u001b[0m\n",
      "\u001b[32m[I 2023-05-04 15:23:44,281]\u001b[0m Trial 10 pruned. Trial was pruned at iteration 10.\u001b[0m\n",
      "\u001b[32m[I 2023-05-04 15:23:44,905]\u001b[0m Trial 11 finished with value: 0.7451752002770388 and parameters: {'max_depth': 3, 'eta': 6.904330311394822e-05, 'min_child_weight': 22, 'subsample': 0.8, 'colsample_bytree': 0.2, 'scale_pos_weight': 4.5, 'max_leaves': 2, 'max_bin': 250}. Best is trial 5 with value: 0.7517910363689022.\u001b[0m\n",
      "\u001b[32m[I 2023-05-04 15:23:45,020]\u001b[0m Trial 12 pruned. Trial was pruned at iteration 11.\u001b[0m\n",
      "\u001b[32m[I 2023-05-04 15:23:45,152]\u001b[0m Trial 13 pruned. Trial was pruned at iteration 10.\u001b[0m\n",
      "\u001b[32m[I 2023-05-04 15:23:45,253]\u001b[0m Trial 14 pruned. Trial was pruned at iteration 10.\u001b[0m\n",
      "\u001b[32m[I 2023-05-04 15:23:45,362]\u001b[0m Trial 15 pruned. Trial was pruned at iteration 10.\u001b[0m\n",
      "\u001b[32m[I 2023-05-04 15:23:45,480]\u001b[0m Trial 16 pruned. Trial was pruned at iteration 10.\u001b[0m\n",
      "\u001b[32m[I 2023-05-04 15:23:45,596]\u001b[0m Trial 17 pruned. Trial was pruned at iteration 15.\u001b[0m\n",
      "\u001b[32m[I 2023-05-04 15:23:45,715]\u001b[0m Trial 18 pruned. Trial was pruned at iteration 10.\u001b[0m\n",
      "\u001b[32m[I 2023-05-04 15:23:45,833]\u001b[0m Trial 19 pruned. Trial was pruned at iteration 10.\u001b[0m\n",
      "\u001b[32m[I 2023-05-04 15:23:45,948]\u001b[0m Trial 20 pruned. Trial was pruned at iteration 10.\u001b[0m\n",
      "\u001b[32m[I 2023-05-04 15:23:46,498]\u001b[0m Trial 21 finished with value: 0.7493870845702135 and parameters: {'max_depth': 5, 'eta': 0.00013711776214302582, 'min_child_weight': 34, 'subsample': 1.0, 'colsample_bytree': 0.4, 'scale_pos_weight': 9.5, 'max_leaves': 6, 'max_bin': 300}. Best is trial 5 with value: 0.7517910363689022.\u001b[0m\n",
      "\u001b[32m[I 2023-05-04 15:23:46,608]\u001b[0m Trial 22 pruned. Trial was pruned at iteration 13.\u001b[0m\n",
      "\u001b[32m[I 2023-05-04 15:23:47,375]\u001b[0m Trial 23 finished with value: 0.7525822426658764 and parameters: {'max_depth': 6, 'eta': 0.00012480882257527625, 'min_child_weight': 34, 'subsample': 0.8, 'colsample_bytree': 0.4, 'scale_pos_weight': 7.0, 'max_leaves': 5, 'max_bin': 280}. Best is trial 23 with value: 0.7525822426658764.\u001b[0m\n",
      "\u001b[32m[I 2023-05-04 15:23:47,473]\u001b[0m Trial 24 pruned. Trial was pruned at iteration 10.\u001b[0m\n",
      "\u001b[32m[I 2023-05-04 15:23:47,609]\u001b[0m Trial 25 pruned. Trial was pruned at iteration 10.\u001b[0m\n",
      "\u001b[32m[I 2023-05-04 15:23:48,447]\u001b[0m Trial 26 finished with value: 0.7525646823736224 and parameters: {'max_depth': 7, 'eta': 4.4837498376231645e-05, 'min_child_weight': 32, 'subsample': 0.8, 'colsample_bytree': 0.4, 'scale_pos_weight': 6.5, 'max_leaves': 3, 'max_bin': 280}. Best is trial 23 with value: 0.7525822426658764.\u001b[0m\n",
      "\u001b[32m[I 2023-05-04 15:23:49,092]\u001b[0m Trial 27 pruned. Trial was pruned at iteration 49.\u001b[0m\n",
      "\u001b[32m[I 2023-05-04 15:23:49,969]\u001b[0m Trial 28 finished with value: 0.7524002215974097 and parameters: {'max_depth': 9, 'eta': 2.0657454258429374e-05, 'min_child_weight': 32, 'subsample': 0.8, 'colsample_bytree': 0.4, 'scale_pos_weight': 7.0, 'max_leaves': 5, 'max_bin': 270}. Best is trial 23 with value: 0.7525822426658764.\u001b[0m\n",
      "\u001b[32m[I 2023-05-04 15:23:50,836]\u001b[0m Trial 29 finished with value: 0.7524002740697046 and parameters: {'max_depth': 9, 'eta': 0.00024673157647612246, 'min_child_weight': 32, 'subsample': 0.8, 'colsample_bytree': 0.4, 'scale_pos_weight': 7.0, 'max_leaves': 5, 'max_bin': 290}. Best is trial 23 with value: 0.7525822426658764.\u001b[0m\n",
      "\u001b[32m[I 2023-05-04 15:23:50,947]\u001b[0m Trial 30 pruned. Trial was pruned at iteration 11.\u001b[0m\n",
      "\u001b[32m[I 2023-05-04 15:23:52,096]\u001b[0m Trial 31 finished with value: 0.752491344265497 and parameters: {'max_depth': 9, 'eta': 0.00015030085547380553, 'min_child_weight': 32, 'subsample': 0.8, 'colsample_bytree': 0.4, 'scale_pos_weight': 7.0, 'max_leaves': 5, 'max_bin': 260}. Best is trial 23 with value: 0.7525822426658764.\u001b[0m\n",
      "\u001b[32m[I 2023-05-04 15:23:53,200]\u001b[0m Trial 32 finished with value: 0.7525394083739434 and parameters: {'max_depth': 8, 'eta': 0.00022088268283539873, 'min_child_weight': 30, 'subsample': 0.8, 'colsample_bytree': 0.4, 'scale_pos_weight': 6.5, 'max_leaves': 8, 'max_bin': 260}. Best is trial 23 with value: 0.7525822426658764.\u001b[0m\n",
      "\u001b[32m[I 2023-05-04 15:23:54,043]\u001b[0m Trial 33 finished with value: 0.7532627244847865 and parameters: {'max_depth': 8, 'eta': 0.00017987652249675388, 'min_child_weight': 28, 'subsample': 0.8, 'colsample_bytree': 0.4, 'scale_pos_weight': 6.0, 'max_leaves': 8, 'max_bin': 250}. Best is trial 33 with value: 0.7532627244847865.\u001b[0m\n",
      "\u001b[32m[I 2023-05-04 15:23:54,144]\u001b[0m Trial 34 pruned. Trial was pruned at iteration 10.\u001b[0m\n",
      "\u001b[32m[I 2023-05-04 15:23:54,325]\u001b[0m Trial 35 pruned. Trial was pruned at iteration 10.\u001b[0m\n",
      "\u001b[32m[I 2023-05-04 15:23:54,440]\u001b[0m Trial 36 pruned. Trial was pruned at iteration 10.\u001b[0m\n",
      "\u001b[32m[I 2023-05-04 15:23:55,435]\u001b[0m Trial 37 finished with value: 0.752569363051699 and parameters: {'max_depth': 8, 'eta': 0.0004927989761377972, 'min_child_weight': 36, 'subsample': 0.8, 'colsample_bytree': 0.4, 'scale_pos_weight': 6.5, 'max_leaves': 11, 'max_bin': 240}. Best is trial 33 with value: 0.7532627244847865.\u001b[0m\n",
      "\u001b[32m[I 2023-05-04 15:23:55,549]\u001b[0m Trial 38 pruned. Trial was pruned at iteration 10.\u001b[0m\n",
      "\u001b[32m[I 2023-05-04 15:23:55,711]\u001b[0m Trial 39 pruned. Trial was pruned at iteration 10.\u001b[0m\n",
      "\u001b[32m[I 2023-05-04 15:23:55,872]\u001b[0m Trial 40 pruned. Trial was pruned at iteration 10.\u001b[0m\n",
      "\u001b[32m[I 2023-05-04 15:23:56,682]\u001b[0m Trial 41 finished with value: 0.7525454062279945 and parameters: {'max_depth': 8, 'eta': 0.0002553873753499702, 'min_child_weight': 30, 'subsample': 0.8, 'colsample_bytree': 0.4, 'scale_pos_weight': 6.5, 'max_leaves': 10, 'max_bin': 240}. Best is trial 33 with value: 0.7532627244847865.\u001b[0m\n",
      "\u001b[32m[I 2023-05-04 15:23:57,772]\u001b[0m Trial 42 finished with value: 0.7523011668363146 and parameters: {'max_depth': 8, 'eta': 0.00030111299510121874, 'min_child_weight': 32, 'subsample': 0.8, 'colsample_bytree': 0.4, 'scale_pos_weight': 6.5, 'max_leaves': 10, 'max_bin': 240}. Best is trial 33 with value: 0.7532627244847865.\u001b[0m\n",
      "\u001b[32m[I 2023-05-04 15:23:57,881]\u001b[0m Trial 43 pruned. Trial was pruned at iteration 10.\u001b[0m\n",
      "\u001b[32m[I 2023-05-04 15:23:58,840]\u001b[0m Trial 44 pruned. Trial was pruned at iteration 49.\u001b[0m\n",
      "\u001b[32m[I 2023-05-04 15:23:59,128]\u001b[0m Trial 45 pruned. Trial was pruned at iteration 10.\u001b[0m\n",
      "\u001b[32m[I 2023-05-04 15:23:59,249]\u001b[0m Trial 46 pruned. Trial was pruned at iteration 10.\u001b[0m\n",
      "\u001b[32m[I 2023-05-04 15:23:59,374]\u001b[0m Trial 47 pruned. Trial was pruned at iteration 10.\u001b[0m\n",
      "\u001b[32m[I 2023-05-04 15:23:59,473]\u001b[0m Trial 48 pruned. Trial was pruned at iteration 10.\u001b[0m\n",
      "\u001b[32m[I 2023-05-04 15:23:59,608]\u001b[0m Trial 49 pruned. Trial was pruned at iteration 10.\u001b[0m\n",
      "\u001b[32m[I 2023-05-04 15:23:59,748]\u001b[0m Trial 50 pruned. Trial was pruned at iteration 10.\u001b[0m\n",
      "\u001b[32m[I 2023-05-04 15:24:00,768]\u001b[0m Trial 51 finished with value: 0.7525508032649345 and parameters: {'max_depth': 8, 'eta': 0.00022447362925001425, 'min_child_weight': 30, 'subsample': 0.8, 'colsample_bytree': 0.4, 'scale_pos_weight': 6.5, 'max_leaves': 8, 'max_bin': 260}. Best is trial 33 with value: 0.7532627244847865.\u001b[0m\n",
      "\u001b[32m[I 2023-05-04 15:24:01,615]\u001b[0m Trial 52 finished with value: 0.7521620743605242 and parameters: {'max_depth': 8, 'eta': 0.0002545153626277441, 'min_child_weight': 34, 'subsample': 0.8, 'colsample_bytree': 0.4, 'scale_pos_weight': 7.5, 'max_leaves': 9, 'max_bin': 260}. Best is trial 33 with value: 0.7532627244847865.\u001b[0m\n",
      "\u001b[32m[I 2023-05-04 15:24:01,739]\u001b[0m Trial 53 pruned. Trial was pruned at iteration 11.\u001b[0m\n",
      "\u001b[32m[I 2023-05-04 15:24:01,849]\u001b[0m Trial 54 pruned. Trial was pruned at iteration 10.\u001b[0m\n",
      "\u001b[32m[I 2023-05-04 15:24:01,981]\u001b[0m Trial 55 pruned. Trial was pruned at iteration 10.\u001b[0m\n",
      "\u001b[32m[I 2023-05-04 15:24:02,089]\u001b[0m Trial 56 pruned. Trial was pruned at iteration 10.\u001b[0m\n",
      "\u001b[32m[I 2023-05-04 15:24:02,191]\u001b[0m Trial 57 pruned. Trial was pruned at iteration 10.\u001b[0m\n",
      "\u001b[32m[I 2023-05-04 15:24:03,064]\u001b[0m Trial 58 finished with value: 0.752172945462239 and parameters: {'max_depth': 7, 'eta': 0.00022479050814502123, 'min_child_weight': 36, 'subsample': 0.8, 'colsample_bytree': 0.4, 'scale_pos_weight': 7.5, 'max_leaves': 3, 'max_bin': 280}. Best is trial 33 with value: 0.7532627244847865.\u001b[0m\n",
      "\u001b[32m[I 2023-05-04 15:24:03,179]\u001b[0m Trial 59 pruned. Trial was pruned at iteration 10.\u001b[0m\n",
      "\u001b[32m[I 2023-05-04 15:24:03,321]\u001b[0m Trial 60 pruned. Trial was pruned at iteration 11.\u001b[0m\n",
      "\u001b[32m[I 2023-05-04 15:24:04,279]\u001b[0m Trial 61 finished with value: 0.7531061746072562 and parameters: {'max_depth': 8, 'eta': 0.00025710878188604075, 'min_child_weight': 28, 'subsample': 0.8, 'colsample_bytree': 0.4, 'scale_pos_weight': 6.5, 'max_leaves': 8, 'max_bin': 260}. Best is trial 33 with value: 0.7532627244847865.\u001b[0m\n",
      "\u001b[32m[I 2023-05-04 15:24:04,600]\u001b[0m Trial 62 pruned. Trial was pruned at iteration 18.\u001b[0m\n",
      "\u001b[32m[I 2023-05-04 15:24:04,720]\u001b[0m Trial 63 pruned. Trial was pruned at iteration 11.\u001b[0m\n",
      "\u001b[32m[I 2023-05-04 15:24:04,827]\u001b[0m Trial 64 pruned. Trial was pruned at iteration 10.\u001b[0m\n",
      "\u001b[32m[I 2023-05-04 15:24:04,959]\u001b[0m Trial 65 pruned. Trial was pruned at iteration 10.\u001b[0m\n",
      "\u001b[32m[I 2023-05-04 15:24:05,083]\u001b[0m Trial 66 pruned. Trial was pruned at iteration 11.\u001b[0m\n",
      "\u001b[32m[I 2023-05-04 15:24:05,201]\u001b[0m Trial 67 pruned. Trial was pruned at iteration 10.\u001b[0m\n",
      "\u001b[32m[I 2023-05-04 15:24:05,309]\u001b[0m Trial 68 pruned. Trial was pruned at iteration 10.\u001b[0m\n",
      "\u001b[32m[I 2023-05-04 15:24:05,437]\u001b[0m Trial 69 pruned. Trial was pruned at iteration 10.\u001b[0m\n",
      "\u001b[32m[I 2023-05-04 15:24:05,606]\u001b[0m Trial 70 pruned. Trial was pruned at iteration 10.\u001b[0m\n",
      "\u001b[32m[I 2023-05-04 15:24:06,453]\u001b[0m Trial 71 finished with value: 0.7525502055756201 and parameters: {'max_depth': 8, 'eta': 0.00022634913089268293, 'min_child_weight': 30, 'subsample': 0.8, 'colsample_bytree': 0.4, 'scale_pos_weight': 6.5, 'max_leaves': 8, 'max_bin': 260}. Best is trial 33 with value: 0.7532627244847865.\u001b[0m\n",
      "\u001b[32m[I 2023-05-04 15:24:07,536]\u001b[0m Trial 72 finished with value: 0.7526280493919282 and parameters: {'max_depth': 8, 'eta': 0.00013890008630898545, 'min_child_weight': 30, 'subsample': 0.8, 'colsample_bytree': 0.4, 'scale_pos_weight': 6.5, 'max_leaves': 8, 'max_bin': 250}. Best is trial 33 with value: 0.7532627244847865.\u001b[0m\n",
      "\u001b[32m[I 2023-05-04 15:24:07,646]\u001b[0m Trial 73 pruned. Trial was pruned at iteration 10.\u001b[0m\n",
      "\u001b[32m[I 2023-05-04 15:24:07,763]\u001b[0m Trial 74 pruned. Trial was pruned at iteration 10.\u001b[0m\n",
      "\u001b[32m[I 2023-05-04 15:24:07,887]\u001b[0m Trial 75 pruned. Trial was pruned at iteration 10.\u001b[0m\n",
      "\u001b[32m[I 2023-05-04 15:24:08,011]\u001b[0m Trial 76 pruned. Trial was pruned at iteration 10.\u001b[0m\n",
      "\u001b[32m[I 2023-05-04 15:24:08,123]\u001b[0m Trial 77 pruned. Trial was pruned at iteration 10.\u001b[0m\n",
      "\u001b[32m[I 2023-05-04 15:24:08,232]\u001b[0m Trial 78 pruned. Trial was pruned at iteration 11.\u001b[0m\n",
      "\u001b[32m[I 2023-05-04 15:24:08,373]\u001b[0m Trial 79 pruned. Trial was pruned at iteration 10.\u001b[0m\n",
      "\u001b[32m[I 2023-05-04 15:24:08,489]\u001b[0m Trial 80 pruned. Trial was pruned at iteration 10.\u001b[0m\n",
      "\u001b[32m[I 2023-05-04 15:24:09,365]\u001b[0m Trial 81 finished with value: 0.7524939166683939 and parameters: {'max_depth': 8, 'eta': 0.0002705215865834545, 'min_child_weight': 30, 'subsample': 0.8, 'colsample_bytree': 0.4, 'scale_pos_weight': 6.5, 'max_leaves': 8, 'max_bin': 240}. Best is trial 33 with value: 0.7532627244847865.\u001b[0m\n",
      "\u001b[32m[I 2023-05-04 15:24:09,505]\u001b[0m Trial 82 pruned. Trial was pruned at iteration 11.\u001b[0m\n",
      "\u001b[32m[I 2023-05-04 15:24:10,252]\u001b[0m Trial 83 finished with value: 0.7525872329024815 and parameters: {'max_depth': 8, 'eta': 0.0002452228582415011, 'min_child_weight': 32, 'subsample': 0.8, 'colsample_bytree': 0.4, 'scale_pos_weight': 7.0, 'max_leaves': 11, 'max_bin': 240}. Best is trial 33 with value: 0.7532627244847865.\u001b[0m\n",
      "\u001b[32m[I 2023-05-04 15:24:10,371]\u001b[0m Trial 84 pruned. Trial was pruned at iteration 10.\u001b[0m\n",
      "\u001b[32m[I 2023-05-04 15:24:10,512]\u001b[0m Trial 85 pruned. Trial was pruned at iteration 10.\u001b[0m\n",
      "\u001b[32m[I 2023-05-04 15:24:11,412]\u001b[0m Trial 86 finished with value: 0.7528364823712697 and parameters: {'max_depth': 8, 'eta': 0.0001957828258168097, 'min_child_weight': 28, 'subsample': 0.8, 'colsample_bytree': 0.4, 'scale_pos_weight': 5.5, 'max_leaves': 2, 'max_bin': 270}. Best is trial 33 with value: 0.7532627244847865.\u001b[0m\n",
      "\u001b[32m[I 2023-05-04 15:24:11,526]\u001b[0m Trial 87 pruned. Trial was pruned at iteration 10.\u001b[0m\n",
      "\u001b[32m[I 2023-05-04 15:24:11,663]\u001b[0m Trial 88 pruned. Trial was pruned at iteration 10.\u001b[0m\n",
      "\u001b[32m[I 2023-05-04 15:24:11,797]\u001b[0m Trial 89 pruned. Trial was pruned at iteration 10.\u001b[0m\n",
      "\u001b[32m[I 2023-05-04 15:24:11,902]\u001b[0m Trial 90 pruned. Trial was pruned at iteration 10.\u001b[0m\n",
      "\u001b[32m[I 2023-05-04 15:24:12,084]\u001b[0m Trial 91 pruned. Trial was pruned at iteration 10.\u001b[0m\n",
      "\u001b[32m[I 2023-05-04 15:24:12,843]\u001b[0m Trial 92 pruned. Trial was pruned at iteration 42.\u001b[0m\n",
      "\u001b[32m[I 2023-05-04 15:24:12,969]\u001b[0m Trial 93 pruned. Trial was pruned at iteration 11.\u001b[0m\n",
      "\u001b[32m[I 2023-05-04 15:24:13,088]\u001b[0m Trial 94 pruned. Trial was pruned at iteration 11.\u001b[0m\n",
      "\u001b[32m[I 2023-05-04 15:24:13,224]\u001b[0m Trial 95 pruned. Trial was pruned at iteration 10.\u001b[0m\n",
      "\u001b[32m[I 2023-05-04 15:24:13,352]\u001b[0m Trial 96 pruned. Trial was pruned at iteration 11.\u001b[0m\n",
      "\u001b[32m[I 2023-05-04 15:24:13,471]\u001b[0m Trial 97 pruned. Trial was pruned at iteration 10.\u001b[0m\n",
      "\u001b[32m[I 2023-05-04 15:24:13,594]\u001b[0m Trial 98 pruned. Trial was pruned at iteration 11.\u001b[0m\n",
      "\u001b[32m[I 2023-05-04 15:24:14,178]\u001b[0m Trial 99 pruned. Trial was pruned at iteration 42.\u001b[0m\n"
     ]
    },
    {
     "name": "stdout",
     "output_type": "stream",
     "text": [
      "Number of finished trials: 100\n",
      "Best trial:\n",
      "  Value: 0.7532627244847865\n",
      "  Params: \n",
      "    max_depth: 8\n",
      "    eta: 0.00017987652249675388\n",
      "    min_child_weight: 28\n",
      "    subsample: 0.8\n",
      "    colsample_bytree: 0.4\n",
      "    scale_pos_weight: 6.0\n",
      "    max_leaves: 8\n",
      "    max_bin: 250\n"
     ]
    }
   ],
   "source": [
    "def objective(trial):\n",
    "    data = train.copy()\n",
    "    param = {\n",
    "        'booster':'gbtree', \n",
    "        'objective':'binary:logistic',\n",
    "        'eval_metric':'auc',\n",
    "        'grow_policy':'lossguide',\n",
    "        'max_depth':trial.suggest_int('max_depth', 3, 10, step=1), \n",
    "        'eta':trial.suggest_float('eta', 1e-6, 1e-3, log=True),\n",
    "        'min_child_weight':trial.suggest_int('min_child_weight', 2, 40, step=2),\n",
    "        'subsample':trial.suggest_float('subsample', 0.3, 1, step=0.1),\n",
    "        'colsample_bytree':trial.suggest_float('colsample_bytree', 0.2, 0.7, step=0.1),\n",
    "        'scale_pos_weight':trial.suggest_float('scale_pos_weight', 1, 10, step=0.5),\n",
    "        'max_leaves':trial.suggest_int('max_leaves', 2, 12, step=1),\n",
    "        'max_bin':trial.suggest_int('max_bin', 100, 300, step=10)\n",
    "    }\n",
    "    \n",
    "    # Add a callback for pruning.\n",
    "    pruning_callback = optuna.integration.XGBoostPruningCallback(trial, \"validation-auc\")\n",
    "    aucs = []\n",
    "    for fold in range(0, 5):\n",
    "        train_fold = data.query(f\"fold != {fold}\").drop('fold', axis=1)\n",
    "        valid_fold = data.query(f\"fold == {fold}\").drop('fold', axis=1)\n",
    "        train_x, train_y = train_fold.drop(['order_status_key'], axis=1), train_fold['order_status_key']\n",
    "        valid_x, valid_y = valid_fold.drop('order_status_key', axis=1), valid_fold['order_status_key'] \n",
    "        dtrain = xgb.DMatrix(train_x, label=train_y, enable_categorical=True)\n",
    "        dvalid = xgb.DMatrix(valid_x, label=valid_y, enable_categorical=True)\n",
    "        clf = xgb.train(param, dtrain, evals=[(dvalid, 'validation')], verbose_eval=0, num_boost_round=200, early_stopping_rounds=10, callbacks=[pruning_callback])\n",
    "        preds = clf.predict(dvalid)\n",
    "        value = roc_auc_score(valid_y, preds)\n",
    "        aucs.append(value)\n",
    "    return np.mean(aucs)\n",
    "\n",
    "\n",
    "if __name__ == \"__main__\":\n",
    "    study = optuna.create_study(\n",
    "        pruner=optuna.pruners.MedianPruner(n_warmup_steps=10), direction=\"maximize\"\n",
    "    )\n",
    "    study.optimize(objective, n_trials=100)\n",
    "\n",
    "    print(\"Number of finished trials: {}\".format(len(study.trials)))\n",
    "\n",
    "    print(\"Best trial:\")\n",
    "    trial = study.best_trial\n",
    "\n",
    "    print(\"  Value: {}\".format(trial.value))\n",
    "\n",
    "    print(\"  Params: \")\n",
    "    for key, value in trial.params.items():\n",
    "        print(\"    {}: {}\".format(key, value))"
   ]
  },
  {
   "cell_type": "code",
   "execution_count": null,
   "id": "d6f88f4d-4dce-483a-92ca-557a34993089",
   "metadata": {},
   "outputs": [],
   "source": [
    "param = {'grow_policy': 'lossguide',\n",
    "        'max_depth': 5,\n",
    "        'eta': 2.2381136185393096e-05,\n",
    "        'min_child_weight': 28,\n",
    "        'subsample': 0.8,\n",
    "        'colsample_bytree': 0.4,\n",
    "        'scale_pos_weight': 6.0,\n",
    "        'max_leaves': 9,\n",
    "        'max_bin': 130}\n",
    "train_x, train_y = train.drop(['order_status_key', 'fold'], axis=1), train['order_status_key']\n",
    "dtrain = xgb.DMatrix(train_x, label=train_y, enable_categorical=True)\n",
    "clf = xgb.train(param, dtrain, num_boost_round=200, early_stopping_rounds=10)\n"
   ]
  }
 ],
 "metadata": {
  "kernelspec": {
   "display_name": "Python 3 (ipykernel)",
   "language": "python",
   "name": "python3"
  },
  "language_info": {
   "codemirror_mode": {
    "name": "ipython",
    "version": 3
   },
   "file_extension": ".py",
   "mimetype": "text/x-python",
   "name": "python",
   "nbconvert_exporter": "python",
   "pygments_lexer": "ipython3",
   "version": "3.9.13"
  }
 },
 "nbformat": 4,
 "nbformat_minor": 5
}
