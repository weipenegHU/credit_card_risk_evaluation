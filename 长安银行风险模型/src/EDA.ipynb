{
 "cells": [
  {
   "cell_type": "code",
   "execution_count": 1,
   "id": "d1d47a53-f0a8-445d-909b-29467bac0688",
   "metadata": {},
   "outputs": [],
   "source": [
    "import pandas as pd\n",
    "pd.set_option('display.max_columns', 500)\n",
    "pd.set_option('display.max_rows', 100)\n",
    "import numpy as np\n",
    "import os\n",
    "from utils import peek\n",
    "from sklearn.preprocessing import StandardScaler, MinMaxScaler\n",
    "from statsmodels.stats.outliers_influence import variance_inflation_factor\n",
    "from statsmodels.tools.tools import add_constant\n",
    "import missingno as msno\n",
    "import seaborn as sns\n",
    "import config\n",
    "import pickle"
   ]
  },
  {
   "cell_type": "code",
   "execution_count": 2,
   "id": "3178aea8-5a9a-4d6e-90d3-bd6e59b72fa8",
   "metadata": {},
   "outputs": [],
   "source": [
    "def calc_iv(matrix, feature, target, pr=False):\n",
    "    df = matrix.copy()\n",
    "    lst = []\n",
    "    df[feature] = df[feature].fillna(\"NULL\")\n",
    "\n",
    "    for i in range(df[feature].nunique()):\n",
    "        val = list(df[feature].unique())[i]\n",
    "        lst.append([feature,                                                        # Variable\n",
    "                    val,                                                            # Value\n",
    "                    df[df[feature] == val].count()[feature],                        # All\n",
    "                    df[(df[feature] == val) & (df[target] == 1)].count()[feature],  # Good (think: Fraud == 0)\n",
    "                    df[(df[feature] == val) & (df[target] == 0)].count()[feature]]) # Bad (think: Fraud == 1)\n",
    "\n",
    "    data = pd.DataFrame(lst, columns=['Variable', 'Value', 'All', 'Good', 'Bad'])\n",
    "\n",
    "    data['Distribution Good'] = (data['Good'] + 1) / data['Good'].sum()\n",
    "    data['Distribution Bad'] = (data['Bad'] + 1) / data['Bad'].sum()\n",
    "    data['WoE'] = np.log(data['Distribution Good'] / data['Distribution Bad'])\n",
    "    data = data.replace({'WoE': {np.inf: 0, -np.inf: 0}})\n",
    "    data['IV'] = (data['Distribution Good'] - data['Distribution Bad']) * data['WoE']\n",
    "\n",
    "    if pr:\n",
    "        print(data.sort_values('Value'))\n",
    "        print('IV = ', round(data['IV'].sum(), 6))\n",
    "\n",
    "    return round(data['IV'].sum(), 6)"
   ]
  },
  {
   "cell_type": "markdown",
   "id": "80808c7f-5fde-46da-a762-23c2f85a1b0f",
   "metadata": {},
   "source": [
    "1w个样本中，正负样本的比例为3:7"
   ]
  },
  {
   "cell_type": "code",
   "execution_count": 3,
   "id": "1d9b96d4-5f35-4bf2-a536-06b946ebe2a6",
   "metadata": {},
   "outputs": [
    {
     "data": {
      "text/plain": [
       "0.0    7231\n",
       "1.0    2816\n",
       "Name: (sample, order_status_key), dtype: int64"
      ]
     },
     "execution_count": 3,
     "metadata": {},
     "output_type": "execute_result"
    }
   ],
   "source": [
    "data = pd.read_csv(config.DATA, header = [0, 1], low_memory=False)\n",
    "order_status_map = {2:1}\n",
    "data[('sample', 'order_status_key')] = data[('sample', 'order_status_key')].map(order_status_map).fillna(0)\n",
    "data[('sample', 'order_status_key')].value_counts()"
   ]
  },
  {
   "cell_type": "markdown",
   "id": "2ffd3795-0d00-4797-85ec-9ef6730f2c46",
   "metadata": {
    "tags": []
   },
   "source": [
    "## 百融多头\n",
    "虽然有较好的区分效果，但是只覆盖了80%的客户。尽管如此，没覆盖到的客户批核率很高，有38%。"
   ]
  },
  {
   "cell_type": "code",
   "execution_count": 4,
   "id": "39fc51f4-f950-4df6-92b0-4faf7b9a63fb",
   "metadata": {},
   "outputs": [
    {
     "name": "stdout",
     "output_type": "stream",
     "text": [
      "百融多头查得样本数:  8033\n",
      "占比:  0.7995421518861352\n"
     ]
    }
   ],
   "source": [
    "br_duotou = data[['sample', 'br_duotou']]\n",
    "br_duotou.columns = br_duotou.columns.get_level_values(1)\n",
    "br_duotou_retrieved = br_duotou['flag_applyloanstr'].sum()\n",
    "print(\"百融多头查得样本数: \", br_duotou_retrieved)\n",
    "print(\"占比: \", br_duotou_retrieved / data.shape[0])"
   ]
  },
  {
   "cell_type": "code",
   "execution_count": 5,
   "id": "60604891-e1c9-4c9d-b773-fc27a734a766",
   "metadata": {},
   "outputs": [
    {
     "name": "stdout",
     "output_type": "stream",
     "text": [
      "百融多头查不到的样本的核卡率:  0.3728897715988083\n"
     ]
    }
   ],
   "source": [
    "br_duotou_retrieved_fail = br_duotou[br_duotou['flag_applyloanstr'] != 1]\n",
    "fail_appr_rate = br_duotou_retrieved_fail['order_status_key'].sum() / br_duotou_retrieved_fail.shape[0]\n",
    "print(\"百融多头查不到的样本的核卡率: \", fail_appr_rate)"
   ]
  },
  {
   "cell_type": "markdown",
   "id": "c901ec25-0bd7-468a-bde0-ca1244aeb1e9",
   "metadata": {},
   "source": [
    "### 计算百融多头特征iv"
   ]
  },
  {
   "cell_type": "code",
   "execution_count": 6,
   "id": "45317890-2377-4819-9729-a386230fd2fe",
   "metadata": {},
   "outputs": [],
   "source": [
    "br_duotou_id = br_duotou.query('flag_applyloanstr == 1').filter(regex=\"^(?!.*cell)\") #只使用身份证查得的数据\n",
    "interval_feats = br_duotou_id.filter(regex=\"inteday\").columns\n",
    "br_duotou_id[interval_feats] = br_duotou_id[interval_feats].fillna(9999)\n",
    "br_duotou_id = br_duotou_id.fillna(0)"
   ]
  },
  {
   "cell_type": "code",
   "execution_count": 7,
   "id": "475bd246-77e6-403d-b8fa-884366eb87fd",
   "metadata": {
    "tags": []
   },
   "outputs": [],
   "source": [
    "def binning(series):\n",
    "    percentiles = list(range(0, 101, 10))\n",
    "    val = np.percentile(series, percentiles).tolist()\n",
    "    if max(series) != 9999:\n",
    "        bins = list(sorted(set([min(val) - 1] + val)))\n",
    "    else:\n",
    "        bins = list(sorted(set( [min(val) - 1] + val + [9998, 9999])))\n",
    "    series_bin = pd.cut(series, bins, labels=list(range(len(bins) - 1))).astype(\"int\")\n",
    "    return series_bin\n",
    "    \n",
    "features = br_duotou_id.iloc[:, 4:].columns\n",
    "br_duotou_id_bin = br_duotou_id.copy()\n",
    "br_duotou_id_bin[features] = br_duotou_id_bin[features].apply(binning)"
   ]
  },
  {
   "cell_type": "code",
   "execution_count": 8,
   "id": "56e3a011-f125-4402-8a34-7a4fdc423339",
   "metadata": {},
   "outputs": [],
   "source": [
    "feature_iv = []\n",
    "for feature in features:\n",
    "    feature_iv.append([feature, calc_iv(br_duotou_id_bin, feature, 'order_status_key')])\n",
    "feature_iv = pd.DataFrame(feature_iv, columns = ['feature', 'iv']).sort_values('iv', ascending=False)"
   ]
  },
  {
   "cell_type": "code",
   "execution_count": 9,
   "id": "ca777ded-9fd1-4596-b88e-89da03772c06",
   "metadata": {
    "tags": []
   },
   "outputs": [
    {
     "name": "stdout",
     "output_type": "stream",
     "text": [
      "number of discard features:  0\n"
     ]
    },
    {
     "name": "stderr",
     "output_type": "stream",
     "text": [
      "/sda/software/anaconda3/lib/python3.9/site-packages/statsmodels/stats/outliers_influence.py:195: RuntimeWarning: divide by zero encountered in double_scalars\n",
      "  vif = 1. / (1. - r_squared_i)\n"
     ]
    },
    {
     "name": "stdout",
     "output_type": "stream",
     "text": [
      "number of discard features:  1\n"
     ]
    },
    {
     "name": "stderr",
     "output_type": "stream",
     "text": [
      "/sda/software/anaconda3/lib/python3.9/site-packages/statsmodels/stats/outliers_influence.py:195: RuntimeWarning: divide by zero encountered in double_scalars\n",
      "  vif = 1. / (1. - r_squared_i)\n"
     ]
    },
    {
     "name": "stdout",
     "output_type": "stream",
     "text": [
      "number of discard features:  1\n"
     ]
    },
    {
     "name": "stderr",
     "output_type": "stream",
     "text": [
      "/sda/software/anaconda3/lib/python3.9/site-packages/statsmodels/stats/outliers_influence.py:195: RuntimeWarning: divide by zero encountered in double_scalars\n",
      "  vif = 1. / (1. - r_squared_i)\n"
     ]
    },
    {
     "name": "stdout",
     "output_type": "stream",
     "text": [
      "number of discard features:  2\n"
     ]
    },
    {
     "name": "stderr",
     "output_type": "stream",
     "text": [
      "/sda/software/anaconda3/lib/python3.9/site-packages/statsmodels/stats/outliers_influence.py:195: RuntimeWarning: divide by zero encountered in double_scalars\n",
      "  vif = 1. / (1. - r_squared_i)\n"
     ]
    },
    {
     "name": "stdout",
     "output_type": "stream",
     "text": [
      "number of discard features:  2\n"
     ]
    },
    {
     "name": "stderr",
     "output_type": "stream",
     "text": [
      "/sda/software/anaconda3/lib/python3.9/site-packages/statsmodels/stats/outliers_influence.py:195: RuntimeWarning: divide by zero encountered in double_scalars\n",
      "  vif = 1. / (1. - r_squared_i)\n"
     ]
    },
    {
     "name": "stdout",
     "output_type": "stream",
     "text": [
      "number of discard features:  2\n"
     ]
    },
    {
     "name": "stderr",
     "output_type": "stream",
     "text": [
      "/sda/software/anaconda3/lib/python3.9/site-packages/statsmodels/stats/outliers_influence.py:195: RuntimeWarning: divide by zero encountered in double_scalars\n",
      "  vif = 1. / (1. - r_squared_i)\n"
     ]
    },
    {
     "name": "stdout",
     "output_type": "stream",
     "text": [
      "number of discard features:  3\n"
     ]
    },
    {
     "name": "stderr",
     "output_type": "stream",
     "text": [
      "/sda/software/anaconda3/lib/python3.9/site-packages/statsmodels/stats/outliers_influence.py:195: RuntimeWarning: divide by zero encountered in double_scalars\n",
      "  vif = 1. / (1. - r_squared_i)\n"
     ]
    },
    {
     "name": "stdout",
     "output_type": "stream",
     "text": [
      "number of discard features:  4\n"
     ]
    },
    {
     "name": "stderr",
     "output_type": "stream",
     "text": [
      "/sda/software/anaconda3/lib/python3.9/site-packages/statsmodels/stats/outliers_influence.py:195: RuntimeWarning: divide by zero encountered in double_scalars\n",
      "  vif = 1. / (1. - r_squared_i)\n"
     ]
    },
    {
     "name": "stdout",
     "output_type": "stream",
     "text": [
      "number of discard features:  5\n"
     ]
    },
    {
     "name": "stderr",
     "output_type": "stream",
     "text": [
      "/sda/software/anaconda3/lib/python3.9/site-packages/statsmodels/stats/outliers_influence.py:195: RuntimeWarning: divide by zero encountered in double_scalars\n",
      "  vif = 1. / (1. - r_squared_i)\n"
     ]
    },
    {
     "name": "stdout",
     "output_type": "stream",
     "text": [
      "number of discard features:  6\n"
     ]
    },
    {
     "name": "stderr",
     "output_type": "stream",
     "text": [
      "/sda/software/anaconda3/lib/python3.9/site-packages/statsmodels/stats/outliers_influence.py:195: RuntimeWarning: divide by zero encountered in double_scalars\n",
      "  vif = 1. / (1. - r_squared_i)\n"
     ]
    },
    {
     "name": "stdout",
     "output_type": "stream",
     "text": [
      "number of discard features:  7\n"
     ]
    },
    {
     "name": "stderr",
     "output_type": "stream",
     "text": [
      "/sda/software/anaconda3/lib/python3.9/site-packages/statsmodels/stats/outliers_influence.py:195: RuntimeWarning: divide by zero encountered in double_scalars\n",
      "  vif = 1. / (1. - r_squared_i)\n"
     ]
    },
    {
     "name": "stdout",
     "output_type": "stream",
     "text": [
      "number of discard features:  7\n"
     ]
    },
    {
     "name": "stderr",
     "output_type": "stream",
     "text": [
      "/sda/software/anaconda3/lib/python3.9/site-packages/statsmodels/stats/outliers_influence.py:195: RuntimeWarning: divide by zero encountered in double_scalars\n",
      "  vif = 1. / (1. - r_squared_i)\n"
     ]
    },
    {
     "name": "stdout",
     "output_type": "stream",
     "text": [
      "number of discard features:  8\n"
     ]
    },
    {
     "name": "stderr",
     "output_type": "stream",
     "text": [
      "/sda/software/anaconda3/lib/python3.9/site-packages/statsmodels/stats/outliers_influence.py:195: RuntimeWarning: divide by zero encountered in double_scalars\n",
      "  vif = 1. / (1. - r_squared_i)\n"
     ]
    },
    {
     "name": "stdout",
     "output_type": "stream",
     "text": [
      "number of discard features:  9\n"
     ]
    },
    {
     "name": "stderr",
     "output_type": "stream",
     "text": [
      "/sda/software/anaconda3/lib/python3.9/site-packages/statsmodels/stats/outliers_influence.py:195: RuntimeWarning: divide by zero encountered in double_scalars\n",
      "  vif = 1. / (1. - r_squared_i)\n"
     ]
    },
    {
     "name": "stdout",
     "output_type": "stream",
     "text": [
      "number of discard features:  10\n"
     ]
    },
    {
     "name": "stderr",
     "output_type": "stream",
     "text": [
      "/sda/software/anaconda3/lib/python3.9/site-packages/statsmodels/stats/outliers_influence.py:195: RuntimeWarning: divide by zero encountered in double_scalars\n",
      "  vif = 1. / (1. - r_squared_i)\n"
     ]
    },
    {
     "name": "stdout",
     "output_type": "stream",
     "text": [
      "number of discard features:  11\n"
     ]
    },
    {
     "name": "stderr",
     "output_type": "stream",
     "text": [
      "/sda/software/anaconda3/lib/python3.9/site-packages/statsmodels/stats/outliers_influence.py:195: RuntimeWarning: divide by zero encountered in double_scalars\n",
      "  vif = 1. / (1. - r_squared_i)\n"
     ]
    },
    {
     "name": "stdout",
     "output_type": "stream",
     "text": [
      "number of discard features:  12\n"
     ]
    },
    {
     "name": "stderr",
     "output_type": "stream",
     "text": [
      "/sda/software/anaconda3/lib/python3.9/site-packages/statsmodels/stats/outliers_influence.py:195: RuntimeWarning: divide by zero encountered in double_scalars\n",
      "  vif = 1. / (1. - r_squared_i)\n"
     ]
    },
    {
     "name": "stdout",
     "output_type": "stream",
     "text": [
      "number of discard features:  12\n"
     ]
    },
    {
     "name": "stderr",
     "output_type": "stream",
     "text": [
      "/sda/software/anaconda3/lib/python3.9/site-packages/statsmodels/stats/outliers_influence.py:195: RuntimeWarning: divide by zero encountered in double_scalars\n",
      "  vif = 1. / (1. - r_squared_i)\n"
     ]
    },
    {
     "name": "stdout",
     "output_type": "stream",
     "text": [
      "number of discard features:  13\n"
     ]
    },
    {
     "name": "stderr",
     "output_type": "stream",
     "text": [
      "/sda/software/anaconda3/lib/python3.9/site-packages/statsmodels/stats/outliers_influence.py:195: RuntimeWarning: divide by zero encountered in double_scalars\n",
      "  vif = 1. / (1. - r_squared_i)\n"
     ]
    },
    {
     "name": "stdout",
     "output_type": "stream",
     "text": [
      "number of discard features:  14\n"
     ]
    },
    {
     "name": "stderr",
     "output_type": "stream",
     "text": [
      "/sda/software/anaconda3/lib/python3.9/site-packages/statsmodels/stats/outliers_influence.py:195: RuntimeWarning: divide by zero encountered in double_scalars\n",
      "  vif = 1. / (1. - r_squared_i)\n"
     ]
    },
    {
     "name": "stdout",
     "output_type": "stream",
     "text": [
      "number of discard features:  14\n"
     ]
    },
    {
     "name": "stderr",
     "output_type": "stream",
     "text": [
      "/sda/software/anaconda3/lib/python3.9/site-packages/statsmodels/stats/outliers_influence.py:195: RuntimeWarning: divide by zero encountered in double_scalars\n",
      "  vif = 1. / (1. - r_squared_i)\n"
     ]
    },
    {
     "name": "stdout",
     "output_type": "stream",
     "text": [
      "number of discard features:  15\n"
     ]
    },
    {
     "name": "stderr",
     "output_type": "stream",
     "text": [
      "/sda/software/anaconda3/lib/python3.9/site-packages/statsmodels/stats/outliers_influence.py:195: RuntimeWarning: divide by zero encountered in double_scalars\n",
      "  vif = 1. / (1. - r_squared_i)\n"
     ]
    },
    {
     "name": "stdout",
     "output_type": "stream",
     "text": [
      "number of discard features:  16\n"
     ]
    },
    {
     "name": "stderr",
     "output_type": "stream",
     "text": [
      "/sda/software/anaconda3/lib/python3.9/site-packages/statsmodels/stats/outliers_influence.py:195: RuntimeWarning: divide by zero encountered in double_scalars\n",
      "  vif = 1. / (1. - r_squared_i)\n"
     ]
    },
    {
     "name": "stdout",
     "output_type": "stream",
     "text": [
      "number of discard features:  17\n"
     ]
    },
    {
     "name": "stderr",
     "output_type": "stream",
     "text": [
      "/sda/software/anaconda3/lib/python3.9/site-packages/statsmodels/stats/outliers_influence.py:195: RuntimeWarning: divide by zero encountered in double_scalars\n",
      "  vif = 1. / (1. - r_squared_i)\n"
     ]
    },
    {
     "name": "stdout",
     "output_type": "stream",
     "text": [
      "number of discard features:  18\n"
     ]
    },
    {
     "name": "stderr",
     "output_type": "stream",
     "text": [
      "/sda/software/anaconda3/lib/python3.9/site-packages/statsmodels/stats/outliers_influence.py:195: RuntimeWarning: divide by zero encountered in double_scalars\n",
      "  vif = 1. / (1. - r_squared_i)\n"
     ]
    },
    {
     "name": "stdout",
     "output_type": "stream",
     "text": [
      "number of discard features:  19\n"
     ]
    },
    {
     "name": "stderr",
     "output_type": "stream",
     "text": [
      "/sda/software/anaconda3/lib/python3.9/site-packages/statsmodels/stats/outliers_influence.py:195: RuntimeWarning: divide by zero encountered in double_scalars\n",
      "  vif = 1. / (1. - r_squared_i)\n"
     ]
    },
    {
     "name": "stdout",
     "output_type": "stream",
     "text": [
      "number of discard features:  20\n"
     ]
    },
    {
     "name": "stderr",
     "output_type": "stream",
     "text": [
      "/sda/software/anaconda3/lib/python3.9/site-packages/statsmodels/stats/outliers_influence.py:195: RuntimeWarning: divide by zero encountered in double_scalars\n",
      "  vif = 1. / (1. - r_squared_i)\n"
     ]
    },
    {
     "name": "stdout",
     "output_type": "stream",
     "text": [
      "number of discard features:  21\n"
     ]
    },
    {
     "name": "stderr",
     "output_type": "stream",
     "text": [
      "/sda/software/anaconda3/lib/python3.9/site-packages/statsmodels/stats/outliers_influence.py:195: RuntimeWarning: divide by zero encountered in double_scalars\n",
      "  vif = 1. / (1. - r_squared_i)\n"
     ]
    },
    {
     "name": "stdout",
     "output_type": "stream",
     "text": [
      "number of discard features:  22\n"
     ]
    },
    {
     "name": "stderr",
     "output_type": "stream",
     "text": [
      "/sda/software/anaconda3/lib/python3.9/site-packages/statsmodels/stats/outliers_influence.py:195: RuntimeWarning: divide by zero encountered in double_scalars\n",
      "  vif = 1. / (1. - r_squared_i)\n"
     ]
    },
    {
     "name": "stdout",
     "output_type": "stream",
     "text": [
      "number of discard features:  23\n"
     ]
    },
    {
     "name": "stderr",
     "output_type": "stream",
     "text": [
      "/sda/software/anaconda3/lib/python3.9/site-packages/statsmodels/stats/outliers_influence.py:195: RuntimeWarning: divide by zero encountered in double_scalars\n",
      "  vif = 1. / (1. - r_squared_i)\n"
     ]
    },
    {
     "name": "stdout",
     "output_type": "stream",
     "text": [
      "number of discard features:  24\n"
     ]
    },
    {
     "name": "stderr",
     "output_type": "stream",
     "text": [
      "/sda/software/anaconda3/lib/python3.9/site-packages/statsmodels/stats/outliers_influence.py:195: RuntimeWarning: divide by zero encountered in double_scalars\n",
      "  vif = 1. / (1. - r_squared_i)\n"
     ]
    },
    {
     "name": "stdout",
     "output_type": "stream",
     "text": [
      "number of discard features:  25\n"
     ]
    },
    {
     "name": "stderr",
     "output_type": "stream",
     "text": [
      "/sda/software/anaconda3/lib/python3.9/site-packages/statsmodels/stats/outliers_influence.py:195: RuntimeWarning: divide by zero encountered in double_scalars\n",
      "  vif = 1. / (1. - r_squared_i)\n"
     ]
    },
    {
     "name": "stdout",
     "output_type": "stream",
     "text": [
      "number of discard features:  26\n"
     ]
    },
    {
     "name": "stderr",
     "output_type": "stream",
     "text": [
      "/sda/software/anaconda3/lib/python3.9/site-packages/statsmodels/stats/outliers_influence.py:195: RuntimeWarning: divide by zero encountered in double_scalars\n",
      "  vif = 1. / (1. - r_squared_i)\n"
     ]
    },
    {
     "name": "stdout",
     "output_type": "stream",
     "text": [
      "number of discard features:  27\n"
     ]
    },
    {
     "name": "stderr",
     "output_type": "stream",
     "text": [
      "/sda/software/anaconda3/lib/python3.9/site-packages/statsmodels/stats/outliers_influence.py:195: RuntimeWarning: divide by zero encountered in double_scalars\n",
      "  vif = 1. / (1. - r_squared_i)\n"
     ]
    },
    {
     "name": "stdout",
     "output_type": "stream",
     "text": [
      "number of discard features:  28\n"
     ]
    },
    {
     "name": "stderr",
     "output_type": "stream",
     "text": [
      "/sda/software/anaconda3/lib/python3.9/site-packages/statsmodels/stats/outliers_influence.py:195: RuntimeWarning: divide by zero encountered in double_scalars\n",
      "  vif = 1. / (1. - r_squared_i)\n"
     ]
    },
    {
     "name": "stdout",
     "output_type": "stream",
     "text": [
      "number of discard features:  29\n"
     ]
    },
    {
     "name": "stderr",
     "output_type": "stream",
     "text": [
      "/sda/software/anaconda3/lib/python3.9/site-packages/statsmodels/stats/outliers_influence.py:195: RuntimeWarning: divide by zero encountered in double_scalars\n",
      "  vif = 1. / (1. - r_squared_i)\n"
     ]
    },
    {
     "name": "stdout",
     "output_type": "stream",
     "text": [
      "number of discard features:  30\n"
     ]
    },
    {
     "name": "stderr",
     "output_type": "stream",
     "text": [
      "/sda/software/anaconda3/lib/python3.9/site-packages/statsmodels/stats/outliers_influence.py:195: RuntimeWarning: divide by zero encountered in double_scalars\n",
      "  vif = 1. / (1. - r_squared_i)\n"
     ]
    },
    {
     "name": "stdout",
     "output_type": "stream",
     "text": [
      "number of discard features:  31\n"
     ]
    },
    {
     "name": "stderr",
     "output_type": "stream",
     "text": [
      "/sda/software/anaconda3/lib/python3.9/site-packages/statsmodels/stats/outliers_influence.py:195: RuntimeWarning: divide by zero encountered in double_scalars\n",
      "  vif = 1. / (1. - r_squared_i)\n"
     ]
    },
    {
     "name": "stdout",
     "output_type": "stream",
     "text": [
      "number of discard features:  32\n"
     ]
    },
    {
     "name": "stderr",
     "output_type": "stream",
     "text": [
      "/sda/software/anaconda3/lib/python3.9/site-packages/statsmodels/stats/outliers_influence.py:195: RuntimeWarning: divide by zero encountered in double_scalars\n",
      "  vif = 1. / (1. - r_squared_i)\n"
     ]
    },
    {
     "name": "stdout",
     "output_type": "stream",
     "text": [
      "number of discard features:  33\n"
     ]
    },
    {
     "name": "stderr",
     "output_type": "stream",
     "text": [
      "/sda/software/anaconda3/lib/python3.9/site-packages/statsmodels/stats/outliers_influence.py:195: RuntimeWarning: divide by zero encountered in double_scalars\n",
      "  vif = 1. / (1. - r_squared_i)\n"
     ]
    },
    {
     "name": "stdout",
     "output_type": "stream",
     "text": [
      "number of discard features:  34\n"
     ]
    },
    {
     "name": "stderr",
     "output_type": "stream",
     "text": [
      "/sda/software/anaconda3/lib/python3.9/site-packages/statsmodels/stats/outliers_influence.py:195: RuntimeWarning: divide by zero encountered in double_scalars\n",
      "  vif = 1. / (1. - r_squared_i)\n"
     ]
    },
    {
     "name": "stdout",
     "output_type": "stream",
     "text": [
      "number of discard features:  35\n"
     ]
    },
    {
     "name": "stderr",
     "output_type": "stream",
     "text": [
      "/sda/software/anaconda3/lib/python3.9/site-packages/statsmodels/stats/outliers_influence.py:195: RuntimeWarning: divide by zero encountered in double_scalars\n",
      "  vif = 1. / (1. - r_squared_i)\n"
     ]
    },
    {
     "name": "stdout",
     "output_type": "stream",
     "text": [
      "number of discard features:  36\n"
     ]
    },
    {
     "name": "stderr",
     "output_type": "stream",
     "text": [
      "/sda/software/anaconda3/lib/python3.9/site-packages/statsmodels/stats/outliers_influence.py:195: RuntimeWarning: divide by zero encountered in double_scalars\n",
      "  vif = 1. / (1. - r_squared_i)\n"
     ]
    },
    {
     "name": "stdout",
     "output_type": "stream",
     "text": [
      "number of discard features:  36\n"
     ]
    },
    {
     "name": "stderr",
     "output_type": "stream",
     "text": [
      "/sda/software/anaconda3/lib/python3.9/site-packages/statsmodels/stats/outliers_influence.py:195: RuntimeWarning: divide by zero encountered in double_scalars\n",
      "  vif = 1. / (1. - r_squared_i)\n"
     ]
    },
    {
     "name": "stdout",
     "output_type": "stream",
     "text": [
      "number of discard features:  36\n"
     ]
    },
    {
     "name": "stderr",
     "output_type": "stream",
     "text": [
      "/sda/software/anaconda3/lib/python3.9/site-packages/statsmodels/stats/outliers_influence.py:195: RuntimeWarning: divide by zero encountered in double_scalars\n",
      "  vif = 1. / (1. - r_squared_i)\n"
     ]
    },
    {
     "name": "stdout",
     "output_type": "stream",
     "text": [
      "number of discard features:  37\n"
     ]
    },
    {
     "name": "stderr",
     "output_type": "stream",
     "text": [
      "/sda/software/anaconda3/lib/python3.9/site-packages/statsmodels/stats/outliers_influence.py:195: RuntimeWarning: divide by zero encountered in double_scalars\n",
      "  vif = 1. / (1. - r_squared_i)\n"
     ]
    },
    {
     "name": "stdout",
     "output_type": "stream",
     "text": [
      "number of discard features:  38\n"
     ]
    },
    {
     "name": "stderr",
     "output_type": "stream",
     "text": [
      "/sda/software/anaconda3/lib/python3.9/site-packages/statsmodels/stats/outliers_influence.py:195: RuntimeWarning: divide by zero encountered in double_scalars\n",
      "  vif = 1. / (1. - r_squared_i)\n"
     ]
    },
    {
     "name": "stdout",
     "output_type": "stream",
     "text": [
      "number of discard features:  39\n"
     ]
    },
    {
     "name": "stderr",
     "output_type": "stream",
     "text": [
      "/sda/software/anaconda3/lib/python3.9/site-packages/statsmodels/stats/outliers_influence.py:195: RuntimeWarning: divide by zero encountered in double_scalars\n",
      "  vif = 1. / (1. - r_squared_i)\n"
     ]
    },
    {
     "name": "stdout",
     "output_type": "stream",
     "text": [
      "number of discard features:  40\n"
     ]
    },
    {
     "name": "stderr",
     "output_type": "stream",
     "text": [
      "/sda/software/anaconda3/lib/python3.9/site-packages/statsmodels/stats/outliers_influence.py:195: RuntimeWarning: divide by zero encountered in double_scalars\n",
      "  vif = 1. / (1. - r_squared_i)\n"
     ]
    },
    {
     "name": "stdout",
     "output_type": "stream",
     "text": [
      "number of discard features:  41\n"
     ]
    },
    {
     "name": "stderr",
     "output_type": "stream",
     "text": [
      "/sda/software/anaconda3/lib/python3.9/site-packages/statsmodels/stats/outliers_influence.py:195: RuntimeWarning: divide by zero encountered in double_scalars\n",
      "  vif = 1. / (1. - r_squared_i)\n"
     ]
    },
    {
     "name": "stdout",
     "output_type": "stream",
     "text": [
      "number of discard features:  42\n"
     ]
    },
    {
     "name": "stderr",
     "output_type": "stream",
     "text": [
      "/sda/software/anaconda3/lib/python3.9/site-packages/statsmodels/stats/outliers_influence.py:195: RuntimeWarning: divide by zero encountered in double_scalars\n",
      "  vif = 1. / (1. - r_squared_i)\n"
     ]
    },
    {
     "name": "stdout",
     "output_type": "stream",
     "text": [
      "number of discard features:  43\n"
     ]
    },
    {
     "name": "stderr",
     "output_type": "stream",
     "text": [
      "/sda/software/anaconda3/lib/python3.9/site-packages/statsmodels/stats/outliers_influence.py:195: RuntimeWarning: divide by zero encountered in double_scalars\n",
      "  vif = 1. / (1. - r_squared_i)\n"
     ]
    },
    {
     "name": "stdout",
     "output_type": "stream",
     "text": [
      "number of discard features:  43\n"
     ]
    },
    {
     "name": "stderr",
     "output_type": "stream",
     "text": [
      "/sda/software/anaconda3/lib/python3.9/site-packages/statsmodels/stats/outliers_influence.py:195: RuntimeWarning: divide by zero encountered in double_scalars\n",
      "  vif = 1. / (1. - r_squared_i)\n"
     ]
    },
    {
     "name": "stdout",
     "output_type": "stream",
     "text": [
      "number of discard features:  44\n"
     ]
    },
    {
     "name": "stderr",
     "output_type": "stream",
     "text": [
      "/sda/software/anaconda3/lib/python3.9/site-packages/statsmodels/stats/outliers_influence.py:195: RuntimeWarning: divide by zero encountered in double_scalars\n",
      "  vif = 1. / (1. - r_squared_i)\n"
     ]
    },
    {
     "name": "stdout",
     "output_type": "stream",
     "text": [
      "number of discard features:  45\n"
     ]
    },
    {
     "name": "stderr",
     "output_type": "stream",
     "text": [
      "/sda/software/anaconda3/lib/python3.9/site-packages/statsmodels/stats/outliers_influence.py:195: RuntimeWarning: divide by zero encountered in double_scalars\n",
      "  vif = 1. / (1. - r_squared_i)\n"
     ]
    },
    {
     "name": "stdout",
     "output_type": "stream",
     "text": [
      "number of discard features:  46\n"
     ]
    },
    {
     "name": "stderr",
     "output_type": "stream",
     "text": [
      "/sda/software/anaconda3/lib/python3.9/site-packages/statsmodels/stats/outliers_influence.py:195: RuntimeWarning: divide by zero encountered in double_scalars\n",
      "  vif = 1. / (1. - r_squared_i)\n"
     ]
    },
    {
     "name": "stdout",
     "output_type": "stream",
     "text": [
      "number of discard features:  46\n"
     ]
    },
    {
     "name": "stderr",
     "output_type": "stream",
     "text": [
      "/sda/software/anaconda3/lib/python3.9/site-packages/statsmodels/stats/outliers_influence.py:195: RuntimeWarning: divide by zero encountered in double_scalars\n",
      "  vif = 1. / (1. - r_squared_i)\n"
     ]
    },
    {
     "name": "stdout",
     "output_type": "stream",
     "text": [
      "number of discard features:  47\n"
     ]
    },
    {
     "name": "stderr",
     "output_type": "stream",
     "text": [
      "/sda/software/anaconda3/lib/python3.9/site-packages/statsmodels/stats/outliers_influence.py:195: RuntimeWarning: divide by zero encountered in double_scalars\n",
      "  vif = 1. / (1. - r_squared_i)\n"
     ]
    },
    {
     "name": "stdout",
     "output_type": "stream",
     "text": [
      "number of discard features:  48\n"
     ]
    },
    {
     "name": "stderr",
     "output_type": "stream",
     "text": [
      "/sda/software/anaconda3/lib/python3.9/site-packages/statsmodels/stats/outliers_influence.py:195: RuntimeWarning: divide by zero encountered in double_scalars\n",
      "  vif = 1. / (1. - r_squared_i)\n"
     ]
    },
    {
     "name": "stdout",
     "output_type": "stream",
     "text": [
      "number of discard features:  49\n"
     ]
    },
    {
     "name": "stderr",
     "output_type": "stream",
     "text": [
      "/sda/software/anaconda3/lib/python3.9/site-packages/statsmodels/stats/outliers_influence.py:195: RuntimeWarning: divide by zero encountered in double_scalars\n",
      "  vif = 1. / (1. - r_squared_i)\n"
     ]
    },
    {
     "name": "stdout",
     "output_type": "stream",
     "text": [
      "number of discard features:  50\n"
     ]
    },
    {
     "name": "stderr",
     "output_type": "stream",
     "text": [
      "/sda/software/anaconda3/lib/python3.9/site-packages/statsmodels/stats/outliers_influence.py:195: RuntimeWarning: divide by zero encountered in double_scalars\n",
      "  vif = 1. / (1. - r_squared_i)\n"
     ]
    },
    {
     "name": "stdout",
     "output_type": "stream",
     "text": [
      "number of discard features:  51\n"
     ]
    },
    {
     "name": "stderr",
     "output_type": "stream",
     "text": [
      "/sda/software/anaconda3/lib/python3.9/site-packages/statsmodels/stats/outliers_influence.py:195: RuntimeWarning: divide by zero encountered in double_scalars\n",
      "  vif = 1. / (1. - r_squared_i)\n"
     ]
    },
    {
     "name": "stdout",
     "output_type": "stream",
     "text": [
      "number of discard features:  52\n"
     ]
    },
    {
     "name": "stderr",
     "output_type": "stream",
     "text": [
      "/sda/software/anaconda3/lib/python3.9/site-packages/statsmodels/stats/outliers_influence.py:195: RuntimeWarning: divide by zero encountered in double_scalars\n",
      "  vif = 1. / (1. - r_squared_i)\n"
     ]
    },
    {
     "name": "stdout",
     "output_type": "stream",
     "text": [
      "number of discard features:  53\n"
     ]
    },
    {
     "name": "stderr",
     "output_type": "stream",
     "text": [
      "/sda/software/anaconda3/lib/python3.9/site-packages/statsmodels/stats/outliers_influence.py:195: RuntimeWarning: divide by zero encountered in double_scalars\n",
      "  vif = 1. / (1. - r_squared_i)\n"
     ]
    },
    {
     "name": "stdout",
     "output_type": "stream",
     "text": [
      "number of discard features:  54\n"
     ]
    },
    {
     "name": "stderr",
     "output_type": "stream",
     "text": [
      "/sda/software/anaconda3/lib/python3.9/site-packages/statsmodels/stats/outliers_influence.py:195: RuntimeWarning: divide by zero encountered in double_scalars\n",
      "  vif = 1. / (1. - r_squared_i)\n"
     ]
    },
    {
     "name": "stdout",
     "output_type": "stream",
     "text": [
      "number of discard features:  55\n"
     ]
    },
    {
     "name": "stderr",
     "output_type": "stream",
     "text": [
      "/sda/software/anaconda3/lib/python3.9/site-packages/statsmodels/stats/outliers_influence.py:195: RuntimeWarning: divide by zero encountered in double_scalars\n",
      "  vif = 1. / (1. - r_squared_i)\n"
     ]
    },
    {
     "name": "stdout",
     "output_type": "stream",
     "text": [
      "number of discard features:  56\n"
     ]
    },
    {
     "name": "stderr",
     "output_type": "stream",
     "text": [
      "/sda/software/anaconda3/lib/python3.9/site-packages/statsmodels/stats/outliers_influence.py:195: RuntimeWarning: divide by zero encountered in double_scalars\n",
      "  vif = 1. / (1. - r_squared_i)\n"
     ]
    },
    {
     "name": "stdout",
     "output_type": "stream",
     "text": [
      "number of discard features:  57\n"
     ]
    },
    {
     "name": "stderr",
     "output_type": "stream",
     "text": [
      "/sda/software/anaconda3/lib/python3.9/site-packages/statsmodels/stats/outliers_influence.py:195: RuntimeWarning: divide by zero encountered in double_scalars\n",
      "  vif = 1. / (1. - r_squared_i)\n"
     ]
    },
    {
     "name": "stdout",
     "output_type": "stream",
     "text": [
      "number of discard features:  58\n"
     ]
    },
    {
     "name": "stderr",
     "output_type": "stream",
     "text": [
      "/sda/software/anaconda3/lib/python3.9/site-packages/statsmodels/stats/outliers_influence.py:195: RuntimeWarning: divide by zero encountered in double_scalars\n",
      "  vif = 1. / (1. - r_squared_i)\n"
     ]
    },
    {
     "name": "stdout",
     "output_type": "stream",
     "text": [
      "number of discard features:  59\n"
     ]
    },
    {
     "name": "stderr",
     "output_type": "stream",
     "text": [
      "/sda/software/anaconda3/lib/python3.9/site-packages/statsmodels/stats/outliers_influence.py:195: RuntimeWarning: divide by zero encountered in double_scalars\n",
      "  vif = 1. / (1. - r_squared_i)\n"
     ]
    },
    {
     "name": "stdout",
     "output_type": "stream",
     "text": [
      "number of discard features:  60\n"
     ]
    },
    {
     "name": "stderr",
     "output_type": "stream",
     "text": [
      "/sda/software/anaconda3/lib/python3.9/site-packages/statsmodels/stats/outliers_influence.py:195: RuntimeWarning: divide by zero encountered in double_scalars\n",
      "  vif = 1. / (1. - r_squared_i)\n"
     ]
    },
    {
     "name": "stdout",
     "output_type": "stream",
     "text": [
      "number of discard features:  61\n"
     ]
    },
    {
     "name": "stderr",
     "output_type": "stream",
     "text": [
      "/sda/software/anaconda3/lib/python3.9/site-packages/statsmodels/stats/outliers_influence.py:195: RuntimeWarning: divide by zero encountered in double_scalars\n",
      "  vif = 1. / (1. - r_squared_i)\n"
     ]
    },
    {
     "name": "stdout",
     "output_type": "stream",
     "text": [
      "number of discard features:  62\n"
     ]
    },
    {
     "name": "stderr",
     "output_type": "stream",
     "text": [
      "/sda/software/anaconda3/lib/python3.9/site-packages/statsmodels/stats/outliers_influence.py:195: RuntimeWarning: divide by zero encountered in double_scalars\n",
      "  vif = 1. / (1. - r_squared_i)\n"
     ]
    },
    {
     "name": "stdout",
     "output_type": "stream",
     "text": [
      "number of discard features:  63\n"
     ]
    },
    {
     "name": "stderr",
     "output_type": "stream",
     "text": [
      "/sda/software/anaconda3/lib/python3.9/site-packages/statsmodels/stats/outliers_influence.py:195: RuntimeWarning: divide by zero encountered in double_scalars\n",
      "  vif = 1. / (1. - r_squared_i)\n"
     ]
    },
    {
     "name": "stdout",
     "output_type": "stream",
     "text": [
      "number of discard features:  64\n"
     ]
    },
    {
     "name": "stderr",
     "output_type": "stream",
     "text": [
      "/sda/software/anaconda3/lib/python3.9/site-packages/statsmodels/stats/outliers_influence.py:195: RuntimeWarning: divide by zero encountered in double_scalars\n",
      "  vif = 1. / (1. - r_squared_i)\n"
     ]
    },
    {
     "name": "stdout",
     "output_type": "stream",
     "text": [
      "number of discard features:  65\n"
     ]
    },
    {
     "name": "stderr",
     "output_type": "stream",
     "text": [
      "/sda/software/anaconda3/lib/python3.9/site-packages/statsmodels/stats/outliers_influence.py:195: RuntimeWarning: divide by zero encountered in double_scalars\n",
      "  vif = 1. / (1. - r_squared_i)\n"
     ]
    },
    {
     "name": "stdout",
     "output_type": "stream",
     "text": [
      "number of discard features:  66\n"
     ]
    },
    {
     "name": "stderr",
     "output_type": "stream",
     "text": [
      "/sda/software/anaconda3/lib/python3.9/site-packages/statsmodels/stats/outliers_influence.py:195: RuntimeWarning: divide by zero encountered in double_scalars\n",
      "  vif = 1. / (1. - r_squared_i)\n"
     ]
    },
    {
     "name": "stdout",
     "output_type": "stream",
     "text": [
      "number of discard features:  67\n"
     ]
    },
    {
     "name": "stderr",
     "output_type": "stream",
     "text": [
      "/sda/software/anaconda3/lib/python3.9/site-packages/statsmodels/stats/outliers_influence.py:195: RuntimeWarning: divide by zero encountered in double_scalars\n",
      "  vif = 1. / (1. - r_squared_i)\n"
     ]
    },
    {
     "name": "stdout",
     "output_type": "stream",
     "text": [
      "number of discard features:  68\n"
     ]
    },
    {
     "name": "stderr",
     "output_type": "stream",
     "text": [
      "/sda/software/anaconda3/lib/python3.9/site-packages/statsmodels/stats/outliers_influence.py:195: RuntimeWarning: divide by zero encountered in double_scalars\n",
      "  vif = 1. / (1. - r_squared_i)\n"
     ]
    },
    {
     "name": "stdout",
     "output_type": "stream",
     "text": [
      "number of discard features:  69\n"
     ]
    },
    {
     "name": "stderr",
     "output_type": "stream",
     "text": [
      "/sda/software/anaconda3/lib/python3.9/site-packages/statsmodels/stats/outliers_influence.py:195: RuntimeWarning: divide by zero encountered in double_scalars\n",
      "  vif = 1. / (1. - r_squared_i)\n"
     ]
    },
    {
     "name": "stdout",
     "output_type": "stream",
     "text": [
      "number of discard features:  70\n"
     ]
    },
    {
     "name": "stderr",
     "output_type": "stream",
     "text": [
      "/sda/software/anaconda3/lib/python3.9/site-packages/statsmodels/stats/outliers_influence.py:195: RuntimeWarning: divide by zero encountered in double_scalars\n",
      "  vif = 1. / (1. - r_squared_i)\n"
     ]
    },
    {
     "name": "stdout",
     "output_type": "stream",
     "text": [
      "number of discard features:  71\n"
     ]
    },
    {
     "name": "stderr",
     "output_type": "stream",
     "text": [
      "/sda/software/anaconda3/lib/python3.9/site-packages/statsmodels/stats/outliers_influence.py:195: RuntimeWarning: divide by zero encountered in double_scalars\n",
      "  vif = 1. / (1. - r_squared_i)\n"
     ]
    },
    {
     "name": "stdout",
     "output_type": "stream",
     "text": [
      "number of discard features:  72\n"
     ]
    },
    {
     "name": "stderr",
     "output_type": "stream",
     "text": [
      "/sda/software/anaconda3/lib/python3.9/site-packages/statsmodels/stats/outliers_influence.py:195: RuntimeWarning: divide by zero encountered in double_scalars\n",
      "  vif = 1. / (1. - r_squared_i)\n"
     ]
    },
    {
     "name": "stdout",
     "output_type": "stream",
     "text": [
      "number of discard features:  73\n"
     ]
    },
    {
     "name": "stderr",
     "output_type": "stream",
     "text": [
      "/sda/software/anaconda3/lib/python3.9/site-packages/statsmodels/stats/outliers_influence.py:195: RuntimeWarning: divide by zero encountered in double_scalars\n",
      "  vif = 1. / (1. - r_squared_i)\n"
     ]
    },
    {
     "name": "stdout",
     "output_type": "stream",
     "text": [
      "number of discard features:  74\n"
     ]
    },
    {
     "name": "stderr",
     "output_type": "stream",
     "text": [
      "/sda/software/anaconda3/lib/python3.9/site-packages/statsmodels/stats/outliers_influence.py:195: RuntimeWarning: divide by zero encountered in double_scalars\n",
      "  vif = 1. / (1. - r_squared_i)\n"
     ]
    },
    {
     "name": "stdout",
     "output_type": "stream",
     "text": [
      "number of discard features:  75\n"
     ]
    },
    {
     "name": "stderr",
     "output_type": "stream",
     "text": [
      "/sda/software/anaconda3/lib/python3.9/site-packages/statsmodels/stats/outliers_influence.py:195: RuntimeWarning: divide by zero encountered in double_scalars\n",
      "  vif = 1. / (1. - r_squared_i)\n"
     ]
    },
    {
     "name": "stdout",
     "output_type": "stream",
     "text": [
      "number of discard features:  75\n"
     ]
    },
    {
     "name": "stderr",
     "output_type": "stream",
     "text": [
      "/sda/software/anaconda3/lib/python3.9/site-packages/statsmodels/stats/outliers_influence.py:195: RuntimeWarning: divide by zero encountered in double_scalars\n",
      "  vif = 1. / (1. - r_squared_i)\n"
     ]
    },
    {
     "name": "stdout",
     "output_type": "stream",
     "text": [
      "number of discard features:  76\n"
     ]
    },
    {
     "name": "stderr",
     "output_type": "stream",
     "text": [
      "/sda/software/anaconda3/lib/python3.9/site-packages/statsmodels/stats/outliers_influence.py:195: RuntimeWarning: divide by zero encountered in double_scalars\n",
      "  vif = 1. / (1. - r_squared_i)\n"
     ]
    },
    {
     "name": "stdout",
     "output_type": "stream",
     "text": [
      "number of discard features:  77\n"
     ]
    },
    {
     "name": "stderr",
     "output_type": "stream",
     "text": [
      "/sda/software/anaconda3/lib/python3.9/site-packages/statsmodels/stats/outliers_influence.py:195: RuntimeWarning: divide by zero encountered in double_scalars\n",
      "  vif = 1. / (1. - r_squared_i)\n"
     ]
    },
    {
     "name": "stdout",
     "output_type": "stream",
     "text": [
      "number of discard features:  78\n"
     ]
    },
    {
     "name": "stderr",
     "output_type": "stream",
     "text": [
      "/sda/software/anaconda3/lib/python3.9/site-packages/statsmodels/stats/outliers_influence.py:195: RuntimeWarning: divide by zero encountered in double_scalars\n",
      "  vif = 1. / (1. - r_squared_i)\n"
     ]
    },
    {
     "name": "stdout",
     "output_type": "stream",
     "text": [
      "number of discard features:  78\n"
     ]
    },
    {
     "name": "stderr",
     "output_type": "stream",
     "text": [
      "/sda/software/anaconda3/lib/python3.9/site-packages/statsmodels/stats/outliers_influence.py:195: RuntimeWarning: divide by zero encountered in double_scalars\n",
      "  vif = 1. / (1. - r_squared_i)\n"
     ]
    },
    {
     "name": "stdout",
     "output_type": "stream",
     "text": [
      "number of discard features:  79\n"
     ]
    },
    {
     "name": "stderr",
     "output_type": "stream",
     "text": [
      "/sda/software/anaconda3/lib/python3.9/site-packages/statsmodels/stats/outliers_influence.py:195: RuntimeWarning: divide by zero encountered in double_scalars\n",
      "  vif = 1. / (1. - r_squared_i)\n"
     ]
    },
    {
     "name": "stdout",
     "output_type": "stream",
     "text": [
      "number of discard features:  80\n"
     ]
    },
    {
     "name": "stderr",
     "output_type": "stream",
     "text": [
      "/sda/software/anaconda3/lib/python3.9/site-packages/statsmodels/stats/outliers_influence.py:195: RuntimeWarning: divide by zero encountered in double_scalars\n",
      "  vif = 1. / (1. - r_squared_i)\n"
     ]
    },
    {
     "name": "stdout",
     "output_type": "stream",
     "text": [
      "number of discard features:  81\n"
     ]
    },
    {
     "name": "stderr",
     "output_type": "stream",
     "text": [
      "/sda/software/anaconda3/lib/python3.9/site-packages/statsmodels/stats/outliers_influence.py:195: RuntimeWarning: divide by zero encountered in double_scalars\n",
      "  vif = 1. / (1. - r_squared_i)\n"
     ]
    },
    {
     "name": "stdout",
     "output_type": "stream",
     "text": [
      "number of discard features:  82\n"
     ]
    },
    {
     "name": "stderr",
     "output_type": "stream",
     "text": [
      "/sda/software/anaconda3/lib/python3.9/site-packages/statsmodels/stats/outliers_influence.py:195: RuntimeWarning: divide by zero encountered in double_scalars\n",
      "  vif = 1. / (1. - r_squared_i)\n"
     ]
    },
    {
     "name": "stdout",
     "output_type": "stream",
     "text": [
      "number of discard features:  83\n"
     ]
    },
    {
     "name": "stderr",
     "output_type": "stream",
     "text": [
      "/sda/software/anaconda3/lib/python3.9/site-packages/statsmodels/stats/outliers_influence.py:195: RuntimeWarning: divide by zero encountered in double_scalars\n",
      "  vif = 1. / (1. - r_squared_i)\n"
     ]
    },
    {
     "name": "stdout",
     "output_type": "stream",
     "text": [
      "number of discard features:  84\n"
     ]
    },
    {
     "name": "stderr",
     "output_type": "stream",
     "text": [
      "/sda/software/anaconda3/lib/python3.9/site-packages/statsmodels/stats/outliers_influence.py:195: RuntimeWarning: divide by zero encountered in double_scalars\n",
      "  vif = 1. / (1. - r_squared_i)\n"
     ]
    },
    {
     "name": "stdout",
     "output_type": "stream",
     "text": [
      "number of discard features:  85\n"
     ]
    },
    {
     "name": "stderr",
     "output_type": "stream",
     "text": [
      "/sda/software/anaconda3/lib/python3.9/site-packages/statsmodels/stats/outliers_influence.py:195: RuntimeWarning: divide by zero encountered in double_scalars\n",
      "  vif = 1. / (1. - r_squared_i)\n"
     ]
    },
    {
     "name": "stdout",
     "output_type": "stream",
     "text": [
      "number of discard features:  86\n"
     ]
    },
    {
     "name": "stderr",
     "output_type": "stream",
     "text": [
      "/sda/software/anaconda3/lib/python3.9/site-packages/statsmodels/stats/outliers_influence.py:195: RuntimeWarning: divide by zero encountered in double_scalars\n",
      "  vif = 1. / (1. - r_squared_i)\n"
     ]
    },
    {
     "name": "stdout",
     "output_type": "stream",
     "text": [
      "number of discard features:  87\n"
     ]
    },
    {
     "name": "stderr",
     "output_type": "stream",
     "text": [
      "/sda/software/anaconda3/lib/python3.9/site-packages/statsmodels/stats/outliers_influence.py:195: RuntimeWarning: divide by zero encountered in double_scalars\n",
      "  vif = 1. / (1. - r_squared_i)\n"
     ]
    },
    {
     "name": "stdout",
     "output_type": "stream",
     "text": [
      "number of discard features:  88\n"
     ]
    },
    {
     "name": "stderr",
     "output_type": "stream",
     "text": [
      "/sda/software/anaconda3/lib/python3.9/site-packages/statsmodels/stats/outliers_influence.py:195: RuntimeWarning: divide by zero encountered in double_scalars\n",
      "  vif = 1. / (1. - r_squared_i)\n"
     ]
    },
    {
     "name": "stdout",
     "output_type": "stream",
     "text": [
      "number of discard features:  89\n"
     ]
    },
    {
     "name": "stderr",
     "output_type": "stream",
     "text": [
      "/sda/software/anaconda3/lib/python3.9/site-packages/statsmodels/stats/outliers_influence.py:195: RuntimeWarning: divide by zero encountered in double_scalars\n",
      "  vif = 1. / (1. - r_squared_i)\n"
     ]
    },
    {
     "name": "stdout",
     "output_type": "stream",
     "text": [
      "number of discard features:  90\n"
     ]
    },
    {
     "name": "stderr",
     "output_type": "stream",
     "text": [
      "/sda/software/anaconda3/lib/python3.9/site-packages/statsmodels/stats/outliers_influence.py:195: RuntimeWarning: divide by zero encountered in double_scalars\n",
      "  vif = 1. / (1. - r_squared_i)\n"
     ]
    },
    {
     "name": "stdout",
     "output_type": "stream",
     "text": [
      "number of discard features:  91\n"
     ]
    },
    {
     "name": "stderr",
     "output_type": "stream",
     "text": [
      "/sda/software/anaconda3/lib/python3.9/site-packages/statsmodels/stats/outliers_influence.py:195: RuntimeWarning: divide by zero encountered in double_scalars\n",
      "  vif = 1. / (1. - r_squared_i)\n"
     ]
    },
    {
     "name": "stdout",
     "output_type": "stream",
     "text": [
      "number of discard features:  92\n"
     ]
    },
    {
     "name": "stderr",
     "output_type": "stream",
     "text": [
      "/sda/software/anaconda3/lib/python3.9/site-packages/statsmodels/stats/outliers_influence.py:195: RuntimeWarning: divide by zero encountered in double_scalars\n",
      "  vif = 1. / (1. - r_squared_i)\n"
     ]
    },
    {
     "name": "stdout",
     "output_type": "stream",
     "text": [
      "number of discard features:  93\n"
     ]
    },
    {
     "name": "stderr",
     "output_type": "stream",
     "text": [
      "/sda/software/anaconda3/lib/python3.9/site-packages/statsmodels/stats/outliers_influence.py:195: RuntimeWarning: divide by zero encountered in double_scalars\n",
      "  vif = 1. / (1. - r_squared_i)\n"
     ]
    },
    {
     "name": "stdout",
     "output_type": "stream",
     "text": [
      "number of discard features:  94\n"
     ]
    },
    {
     "name": "stderr",
     "output_type": "stream",
     "text": [
      "/sda/software/anaconda3/lib/python3.9/site-packages/statsmodels/stats/outliers_influence.py:195: RuntimeWarning: divide by zero encountered in double_scalars\n",
      "  vif = 1. / (1. - r_squared_i)\n"
     ]
    },
    {
     "name": "stdout",
     "output_type": "stream",
     "text": [
      "number of discard features:  95\n"
     ]
    },
    {
     "name": "stderr",
     "output_type": "stream",
     "text": [
      "/sda/software/anaconda3/lib/python3.9/site-packages/statsmodels/stats/outliers_influence.py:195: RuntimeWarning: divide by zero encountered in double_scalars\n",
      "  vif = 1. / (1. - r_squared_i)\n"
     ]
    },
    {
     "name": "stdout",
     "output_type": "stream",
     "text": [
      "number of discard features:  95\n"
     ]
    },
    {
     "name": "stderr",
     "output_type": "stream",
     "text": [
      "/sda/software/anaconda3/lib/python3.9/site-packages/statsmodels/stats/outliers_influence.py:195: RuntimeWarning: divide by zero encountered in double_scalars\n",
      "  vif = 1. / (1. - r_squared_i)\n"
     ]
    },
    {
     "name": "stdout",
     "output_type": "stream",
     "text": [
      "number of discard features:  96\n"
     ]
    },
    {
     "name": "stderr",
     "output_type": "stream",
     "text": [
      "/sda/software/anaconda3/lib/python3.9/site-packages/statsmodels/stats/outliers_influence.py:195: RuntimeWarning: divide by zero encountered in double_scalars\n",
      "  vif = 1. / (1. - r_squared_i)\n"
     ]
    },
    {
     "name": "stdout",
     "output_type": "stream",
     "text": [
      "number of discard features:  97\n"
     ]
    },
    {
     "name": "stderr",
     "output_type": "stream",
     "text": [
      "/sda/software/anaconda3/lib/python3.9/site-packages/statsmodels/stats/outliers_influence.py:195: RuntimeWarning: divide by zero encountered in double_scalars\n",
      "  vif = 1. / (1. - r_squared_i)\n"
     ]
    },
    {
     "name": "stdout",
     "output_type": "stream",
     "text": [
      "number of discard features:  98\n"
     ]
    },
    {
     "name": "stderr",
     "output_type": "stream",
     "text": [
      "/sda/software/anaconda3/lib/python3.9/site-packages/statsmodels/stats/outliers_influence.py:195: RuntimeWarning: divide by zero encountered in double_scalars\n",
      "  vif = 1. / (1. - r_squared_i)\n"
     ]
    },
    {
     "name": "stdout",
     "output_type": "stream",
     "text": [
      "number of discard features:  99\n"
     ]
    },
    {
     "name": "stderr",
     "output_type": "stream",
     "text": [
      "/sda/software/anaconda3/lib/python3.9/site-packages/statsmodels/stats/outliers_influence.py:195: RuntimeWarning: divide by zero encountered in double_scalars\n",
      "  vif = 1. / (1. - r_squared_i)\n"
     ]
    },
    {
     "name": "stdout",
     "output_type": "stream",
     "text": [
      "number of discard features:  100\n"
     ]
    },
    {
     "name": "stderr",
     "output_type": "stream",
     "text": [
      "/sda/software/anaconda3/lib/python3.9/site-packages/statsmodels/stats/outliers_influence.py:195: RuntimeWarning: divide by zero encountered in double_scalars\n",
      "  vif = 1. / (1. - r_squared_i)\n"
     ]
    },
    {
     "name": "stdout",
     "output_type": "stream",
     "text": [
      "number of discard features:  101\n"
     ]
    },
    {
     "name": "stderr",
     "output_type": "stream",
     "text": [
      "/sda/software/anaconda3/lib/python3.9/site-packages/statsmodels/stats/outliers_influence.py:195: RuntimeWarning: divide by zero encountered in double_scalars\n",
      "  vif = 1. / (1. - r_squared_i)\n"
     ]
    },
    {
     "name": "stdout",
     "output_type": "stream",
     "text": [
      "number of discard features:  102\n"
     ]
    },
    {
     "name": "stderr",
     "output_type": "stream",
     "text": [
      "/sda/software/anaconda3/lib/python3.9/site-packages/statsmodels/stats/outliers_influence.py:195: RuntimeWarning: divide by zero encountered in double_scalars\n",
      "  vif = 1. / (1. - r_squared_i)\n"
     ]
    },
    {
     "name": "stdout",
     "output_type": "stream",
     "text": [
      "number of discard features:  103\n"
     ]
    },
    {
     "name": "stderr",
     "output_type": "stream",
     "text": [
      "/sda/software/anaconda3/lib/python3.9/site-packages/statsmodels/stats/outliers_influence.py:195: RuntimeWarning: divide by zero encountered in double_scalars\n",
      "  vif = 1. / (1. - r_squared_i)\n"
     ]
    },
    {
     "name": "stdout",
     "output_type": "stream",
     "text": [
      "number of discard features:  104\n"
     ]
    },
    {
     "name": "stderr",
     "output_type": "stream",
     "text": [
      "/sda/software/anaconda3/lib/python3.9/site-packages/statsmodels/stats/outliers_influence.py:195: RuntimeWarning: divide by zero encountered in double_scalars\n",
      "  vif = 1. / (1. - r_squared_i)\n"
     ]
    },
    {
     "name": "stdout",
     "output_type": "stream",
     "text": [
      "number of discard features:  105\n"
     ]
    },
    {
     "name": "stderr",
     "output_type": "stream",
     "text": [
      "/sda/software/anaconda3/lib/python3.9/site-packages/statsmodels/stats/outliers_influence.py:195: RuntimeWarning: divide by zero encountered in double_scalars\n",
      "  vif = 1. / (1. - r_squared_i)\n"
     ]
    },
    {
     "name": "stdout",
     "output_type": "stream",
     "text": [
      "number of discard features:  106\n"
     ]
    },
    {
     "name": "stderr",
     "output_type": "stream",
     "text": [
      "/sda/software/anaconda3/lib/python3.9/site-packages/statsmodels/stats/outliers_influence.py:195: RuntimeWarning: divide by zero encountered in double_scalars\n",
      "  vif = 1. / (1. - r_squared_i)\n"
     ]
    },
    {
     "name": "stdout",
     "output_type": "stream",
     "text": [
      "number of discard features:  107\n"
     ]
    },
    {
     "name": "stderr",
     "output_type": "stream",
     "text": [
      "/sda/software/anaconda3/lib/python3.9/site-packages/statsmodels/stats/outliers_influence.py:195: RuntimeWarning: divide by zero encountered in double_scalars\n",
      "  vif = 1. / (1. - r_squared_i)\n"
     ]
    },
    {
     "name": "stdout",
     "output_type": "stream",
     "text": [
      "number of discard features:  108\n"
     ]
    },
    {
     "name": "stderr",
     "output_type": "stream",
     "text": [
      "/sda/software/anaconda3/lib/python3.9/site-packages/statsmodels/stats/outliers_influence.py:195: RuntimeWarning: divide by zero encountered in double_scalars\n",
      "  vif = 1. / (1. - r_squared_i)\n"
     ]
    },
    {
     "name": "stdout",
     "output_type": "stream",
     "text": [
      "number of discard features:  109\n"
     ]
    },
    {
     "name": "stderr",
     "output_type": "stream",
     "text": [
      "/sda/software/anaconda3/lib/python3.9/site-packages/statsmodels/stats/outliers_influence.py:195: RuntimeWarning: divide by zero encountered in double_scalars\n",
      "  vif = 1. / (1. - r_squared_i)\n"
     ]
    },
    {
     "name": "stdout",
     "output_type": "stream",
     "text": [
      "number of discard features:  110\n"
     ]
    },
    {
     "name": "stderr",
     "output_type": "stream",
     "text": [
      "/sda/software/anaconda3/lib/python3.9/site-packages/statsmodels/stats/outliers_influence.py:195: RuntimeWarning: divide by zero encountered in double_scalars\n",
      "  vif = 1. / (1. - r_squared_i)\n"
     ]
    },
    {
     "name": "stdout",
     "output_type": "stream",
     "text": [
      "number of discard features:  111\n"
     ]
    },
    {
     "name": "stderr",
     "output_type": "stream",
     "text": [
      "/sda/software/anaconda3/lib/python3.9/site-packages/statsmodels/stats/outliers_influence.py:195: RuntimeWarning: divide by zero encountered in double_scalars\n",
      "  vif = 1. / (1. - r_squared_i)\n"
     ]
    },
    {
     "name": "stdout",
     "output_type": "stream",
     "text": [
      "number of discard features:  112\n"
     ]
    },
    {
     "name": "stderr",
     "output_type": "stream",
     "text": [
      "/sda/software/anaconda3/lib/python3.9/site-packages/statsmodels/stats/outliers_influence.py:195: RuntimeWarning: divide by zero encountered in double_scalars\n",
      "  vif = 1. / (1. - r_squared_i)\n"
     ]
    },
    {
     "name": "stdout",
     "output_type": "stream",
     "text": [
      "number of discard features:  113\n"
     ]
    },
    {
     "name": "stderr",
     "output_type": "stream",
     "text": [
      "/sda/software/anaconda3/lib/python3.9/site-packages/statsmodels/stats/outliers_influence.py:195: RuntimeWarning: divide by zero encountered in double_scalars\n",
      "  vif = 1. / (1. - r_squared_i)\n"
     ]
    },
    {
     "name": "stdout",
     "output_type": "stream",
     "text": [
      "number of discard features:  114\n"
     ]
    },
    {
     "name": "stderr",
     "output_type": "stream",
     "text": [
      "/sda/software/anaconda3/lib/python3.9/site-packages/statsmodels/stats/outliers_influence.py:195: RuntimeWarning: divide by zero encountered in double_scalars\n",
      "  vif = 1. / (1. - r_squared_i)\n"
     ]
    },
    {
     "name": "stdout",
     "output_type": "stream",
     "text": [
      "number of discard features:  115\n"
     ]
    },
    {
     "name": "stderr",
     "output_type": "stream",
     "text": [
      "/sda/software/anaconda3/lib/python3.9/site-packages/statsmodels/stats/outliers_influence.py:195: RuntimeWarning: divide by zero encountered in double_scalars\n",
      "  vif = 1. / (1. - r_squared_i)\n"
     ]
    },
    {
     "name": "stdout",
     "output_type": "stream",
     "text": [
      "number of discard features:  116\n"
     ]
    },
    {
     "name": "stderr",
     "output_type": "stream",
     "text": [
      "/sda/software/anaconda3/lib/python3.9/site-packages/statsmodels/stats/outliers_influence.py:195: RuntimeWarning: divide by zero encountered in double_scalars\n",
      "  vif = 1. / (1. - r_squared_i)\n"
     ]
    },
    {
     "name": "stdout",
     "output_type": "stream",
     "text": [
      "number of discard features:  117\n"
     ]
    },
    {
     "name": "stderr",
     "output_type": "stream",
     "text": [
      "/sda/software/anaconda3/lib/python3.9/site-packages/statsmodels/stats/outliers_influence.py:195: RuntimeWarning: divide by zero encountered in double_scalars\n",
      "  vif = 1. / (1. - r_squared_i)\n"
     ]
    },
    {
     "name": "stdout",
     "output_type": "stream",
     "text": [
      "number of discard features:  118\n"
     ]
    },
    {
     "name": "stderr",
     "output_type": "stream",
     "text": [
      "/sda/software/anaconda3/lib/python3.9/site-packages/statsmodels/stats/outliers_influence.py:195: RuntimeWarning: divide by zero encountered in double_scalars\n",
      "  vif = 1. / (1. - r_squared_i)\n"
     ]
    },
    {
     "name": "stdout",
     "output_type": "stream",
     "text": [
      "number of discard features:  119\n"
     ]
    },
    {
     "name": "stderr",
     "output_type": "stream",
     "text": [
      "/sda/software/anaconda3/lib/python3.9/site-packages/statsmodels/stats/outliers_influence.py:195: RuntimeWarning: divide by zero encountered in double_scalars\n",
      "  vif = 1. / (1. - r_squared_i)\n"
     ]
    },
    {
     "name": "stdout",
     "output_type": "stream",
     "text": [
      "number of discard features:  120\n"
     ]
    },
    {
     "name": "stderr",
     "output_type": "stream",
     "text": [
      "/sda/software/anaconda3/lib/python3.9/site-packages/statsmodels/stats/outliers_influence.py:195: RuntimeWarning: divide by zero encountered in double_scalars\n",
      "  vif = 1. / (1. - r_squared_i)\n"
     ]
    },
    {
     "name": "stdout",
     "output_type": "stream",
     "text": [
      "number of discard features:  121\n"
     ]
    },
    {
     "name": "stderr",
     "output_type": "stream",
     "text": [
      "/sda/software/anaconda3/lib/python3.9/site-packages/statsmodels/stats/outliers_influence.py:195: RuntimeWarning: divide by zero encountered in double_scalars\n",
      "  vif = 1. / (1. - r_squared_i)\n"
     ]
    },
    {
     "name": "stdout",
     "output_type": "stream",
     "text": [
      "number of discard features:  122\n"
     ]
    },
    {
     "name": "stderr",
     "output_type": "stream",
     "text": [
      "/sda/software/anaconda3/lib/python3.9/site-packages/statsmodels/stats/outliers_influence.py:195: RuntimeWarning: divide by zero encountered in double_scalars\n",
      "  vif = 1. / (1. - r_squared_i)\n"
     ]
    },
    {
     "name": "stdout",
     "output_type": "stream",
     "text": [
      "number of discard features:  123\n"
     ]
    },
    {
     "name": "stderr",
     "output_type": "stream",
     "text": [
      "/sda/software/anaconda3/lib/python3.9/site-packages/statsmodels/stats/outliers_influence.py:195: RuntimeWarning: divide by zero encountered in double_scalars\n",
      "  vif = 1. / (1. - r_squared_i)\n"
     ]
    },
    {
     "name": "stdout",
     "output_type": "stream",
     "text": [
      "number of discard features:  123\n"
     ]
    },
    {
     "name": "stderr",
     "output_type": "stream",
     "text": [
      "/sda/software/anaconda3/lib/python3.9/site-packages/statsmodels/stats/outliers_influence.py:195: RuntimeWarning: divide by zero encountered in double_scalars\n",
      "  vif = 1. / (1. - r_squared_i)\n"
     ]
    },
    {
     "name": "stdout",
     "output_type": "stream",
     "text": [
      "number of discard features:  124\n"
     ]
    },
    {
     "name": "stderr",
     "output_type": "stream",
     "text": [
      "/sda/software/anaconda3/lib/python3.9/site-packages/statsmodels/stats/outliers_influence.py:195: RuntimeWarning: divide by zero encountered in double_scalars\n",
      "  vif = 1. / (1. - r_squared_i)\n"
     ]
    },
    {
     "name": "stdout",
     "output_type": "stream",
     "text": [
      "number of discard features:  125\n"
     ]
    },
    {
     "name": "stderr",
     "output_type": "stream",
     "text": [
      "/sda/software/anaconda3/lib/python3.9/site-packages/statsmodels/stats/outliers_influence.py:195: RuntimeWarning: divide by zero encountered in double_scalars\n",
      "  vif = 1. / (1. - r_squared_i)\n"
     ]
    },
    {
     "name": "stdout",
     "output_type": "stream",
     "text": [
      "number of discard features:  126\n"
     ]
    },
    {
     "name": "stderr",
     "output_type": "stream",
     "text": [
      "/sda/software/anaconda3/lib/python3.9/site-packages/statsmodels/stats/outliers_influence.py:195: RuntimeWarning: divide by zero encountered in double_scalars\n",
      "  vif = 1. / (1. - r_squared_i)\n"
     ]
    },
    {
     "name": "stdout",
     "output_type": "stream",
     "text": [
      "number of discard features:  127\n"
     ]
    },
    {
     "name": "stderr",
     "output_type": "stream",
     "text": [
      "/sda/software/anaconda3/lib/python3.9/site-packages/statsmodels/stats/outliers_influence.py:195: RuntimeWarning: divide by zero encountered in double_scalars\n",
      "  vif = 1. / (1. - r_squared_i)\n"
     ]
    },
    {
     "name": "stdout",
     "output_type": "stream",
     "text": [
      "number of discard features:  128\n"
     ]
    },
    {
     "name": "stderr",
     "output_type": "stream",
     "text": [
      "/sda/software/anaconda3/lib/python3.9/site-packages/statsmodels/stats/outliers_influence.py:195: RuntimeWarning: divide by zero encountered in double_scalars\n",
      "  vif = 1. / (1. - r_squared_i)\n"
     ]
    },
    {
     "name": "stdout",
     "output_type": "stream",
     "text": [
      "number of discard features:  129\n"
     ]
    },
    {
     "name": "stderr",
     "output_type": "stream",
     "text": [
      "/sda/software/anaconda3/lib/python3.9/site-packages/statsmodels/stats/outliers_influence.py:195: RuntimeWarning: divide by zero encountered in double_scalars\n",
      "  vif = 1. / (1. - r_squared_i)\n"
     ]
    },
    {
     "name": "stdout",
     "output_type": "stream",
     "text": [
      "number of discard features:  130\n"
     ]
    },
    {
     "name": "stderr",
     "output_type": "stream",
     "text": [
      "/sda/software/anaconda3/lib/python3.9/site-packages/statsmodels/stats/outliers_influence.py:195: RuntimeWarning: divide by zero encountered in double_scalars\n",
      "  vif = 1. / (1. - r_squared_i)\n"
     ]
    },
    {
     "name": "stdout",
     "output_type": "stream",
     "text": [
      "number of discard features:  131\n"
     ]
    },
    {
     "name": "stderr",
     "output_type": "stream",
     "text": [
      "/sda/software/anaconda3/lib/python3.9/site-packages/statsmodels/stats/outliers_influence.py:195: RuntimeWarning: divide by zero encountered in double_scalars\n",
      "  vif = 1. / (1. - r_squared_i)\n"
     ]
    },
    {
     "name": "stdout",
     "output_type": "stream",
     "text": [
      "number of discard features:  132\n"
     ]
    },
    {
     "name": "stderr",
     "output_type": "stream",
     "text": [
      "/sda/software/anaconda3/lib/python3.9/site-packages/statsmodels/stats/outliers_influence.py:195: RuntimeWarning: divide by zero encountered in double_scalars\n",
      "  vif = 1. / (1. - r_squared_i)\n"
     ]
    },
    {
     "name": "stdout",
     "output_type": "stream",
     "text": [
      "number of discard features:  133\n"
     ]
    },
    {
     "name": "stderr",
     "output_type": "stream",
     "text": [
      "/sda/software/anaconda3/lib/python3.9/site-packages/statsmodels/stats/outliers_influence.py:195: RuntimeWarning: divide by zero encountered in double_scalars\n",
      "  vif = 1. / (1. - r_squared_i)\n"
     ]
    },
    {
     "name": "stdout",
     "output_type": "stream",
     "text": [
      "number of discard features:  134\n"
     ]
    },
    {
     "name": "stderr",
     "output_type": "stream",
     "text": [
      "/sda/software/anaconda3/lib/python3.9/site-packages/statsmodels/stats/outliers_influence.py:195: RuntimeWarning: divide by zero encountered in double_scalars\n",
      "  vif = 1. / (1. - r_squared_i)\n"
     ]
    },
    {
     "name": "stdout",
     "output_type": "stream",
     "text": [
      "number of discard features:  135\n"
     ]
    },
    {
     "name": "stderr",
     "output_type": "stream",
     "text": [
      "/sda/software/anaconda3/lib/python3.9/site-packages/statsmodels/stats/outliers_influence.py:195: RuntimeWarning: divide by zero encountered in double_scalars\n",
      "  vif = 1. / (1. - r_squared_i)\n"
     ]
    },
    {
     "name": "stdout",
     "output_type": "stream",
     "text": [
      "number of discard features:  136\n"
     ]
    },
    {
     "name": "stderr",
     "output_type": "stream",
     "text": [
      "/sda/software/anaconda3/lib/python3.9/site-packages/statsmodels/stats/outliers_influence.py:195: RuntimeWarning: divide by zero encountered in double_scalars\n",
      "  vif = 1. / (1. - r_squared_i)\n"
     ]
    },
    {
     "name": "stdout",
     "output_type": "stream",
     "text": [
      "number of discard features:  137\n"
     ]
    },
    {
     "name": "stderr",
     "output_type": "stream",
     "text": [
      "/sda/software/anaconda3/lib/python3.9/site-packages/statsmodels/stats/outliers_influence.py:195: RuntimeWarning: divide by zero encountered in double_scalars\n",
      "  vif = 1. / (1. - r_squared_i)\n"
     ]
    },
    {
     "name": "stdout",
     "output_type": "stream",
     "text": [
      "number of discard features:  138\n"
     ]
    },
    {
     "name": "stderr",
     "output_type": "stream",
     "text": [
      "/sda/software/anaconda3/lib/python3.9/site-packages/statsmodels/stats/outliers_influence.py:195: RuntimeWarning: divide by zero encountered in double_scalars\n",
      "  vif = 1. / (1. - r_squared_i)\n"
     ]
    },
    {
     "name": "stdout",
     "output_type": "stream",
     "text": [
      "number of discard features:  139\n"
     ]
    },
    {
     "name": "stderr",
     "output_type": "stream",
     "text": [
      "/sda/software/anaconda3/lib/python3.9/site-packages/statsmodels/stats/outliers_influence.py:195: RuntimeWarning: divide by zero encountered in double_scalars\n",
      "  vif = 1. / (1. - r_squared_i)\n"
     ]
    },
    {
     "name": "stdout",
     "output_type": "stream",
     "text": [
      "number of discard features:  140\n"
     ]
    },
    {
     "name": "stderr",
     "output_type": "stream",
     "text": [
      "/sda/software/anaconda3/lib/python3.9/site-packages/statsmodels/stats/outliers_influence.py:195: RuntimeWarning: divide by zero encountered in double_scalars\n",
      "  vif = 1. / (1. - r_squared_i)\n"
     ]
    },
    {
     "name": "stdout",
     "output_type": "stream",
     "text": [
      "number of discard features:  141\n"
     ]
    },
    {
     "name": "stderr",
     "output_type": "stream",
     "text": [
      "/sda/software/anaconda3/lib/python3.9/site-packages/statsmodels/stats/outliers_influence.py:195: RuntimeWarning: divide by zero encountered in double_scalars\n",
      "  vif = 1. / (1. - r_squared_i)\n"
     ]
    },
    {
     "name": "stdout",
     "output_type": "stream",
     "text": [
      "number of discard features:  142\n"
     ]
    },
    {
     "name": "stderr",
     "output_type": "stream",
     "text": [
      "/sda/software/anaconda3/lib/python3.9/site-packages/statsmodels/stats/outliers_influence.py:195: RuntimeWarning: divide by zero encountered in double_scalars\n",
      "  vif = 1. / (1. - r_squared_i)\n"
     ]
    },
    {
     "name": "stdout",
     "output_type": "stream",
     "text": [
      "number of discard features:  143\n"
     ]
    },
    {
     "name": "stderr",
     "output_type": "stream",
     "text": [
      "/sda/software/anaconda3/lib/python3.9/site-packages/statsmodels/stats/outliers_influence.py:195: RuntimeWarning: divide by zero encountered in double_scalars\n",
      "  vif = 1. / (1. - r_squared_i)\n"
     ]
    },
    {
     "name": "stdout",
     "output_type": "stream",
     "text": [
      "number of discard features:  144\n"
     ]
    },
    {
     "name": "stderr",
     "output_type": "stream",
     "text": [
      "/sda/software/anaconda3/lib/python3.9/site-packages/statsmodels/stats/outliers_influence.py:195: RuntimeWarning: divide by zero encountered in double_scalars\n",
      "  vif = 1. / (1. - r_squared_i)\n"
     ]
    },
    {
     "name": "stdout",
     "output_type": "stream",
     "text": [
      "number of discard features:  145\n"
     ]
    },
    {
     "name": "stderr",
     "output_type": "stream",
     "text": [
      "/sda/software/anaconda3/lib/python3.9/site-packages/statsmodels/stats/outliers_influence.py:195: RuntimeWarning: divide by zero encountered in double_scalars\n",
      "  vif = 1. / (1. - r_squared_i)\n"
     ]
    },
    {
     "name": "stdout",
     "output_type": "stream",
     "text": [
      "number of discard features:  146\n"
     ]
    },
    {
     "name": "stderr",
     "output_type": "stream",
     "text": [
      "/sda/software/anaconda3/lib/python3.9/site-packages/statsmodels/stats/outliers_influence.py:195: RuntimeWarning: divide by zero encountered in double_scalars\n",
      "  vif = 1. / (1. - r_squared_i)\n"
     ]
    },
    {
     "name": "stdout",
     "output_type": "stream",
     "text": [
      "number of discard features:  147\n"
     ]
    },
    {
     "name": "stderr",
     "output_type": "stream",
     "text": [
      "/sda/software/anaconda3/lib/python3.9/site-packages/statsmodels/stats/outliers_influence.py:195: RuntimeWarning: divide by zero encountered in double_scalars\n",
      "  vif = 1. / (1. - r_squared_i)\n"
     ]
    },
    {
     "name": "stdout",
     "output_type": "stream",
     "text": [
      "number of discard features:  148\n"
     ]
    },
    {
     "name": "stderr",
     "output_type": "stream",
     "text": [
      "/sda/software/anaconda3/lib/python3.9/site-packages/statsmodels/stats/outliers_influence.py:195: RuntimeWarning: divide by zero encountered in double_scalars\n",
      "  vif = 1. / (1. - r_squared_i)\n"
     ]
    },
    {
     "name": "stdout",
     "output_type": "stream",
     "text": [
      "number of discard features:  149\n"
     ]
    },
    {
     "name": "stderr",
     "output_type": "stream",
     "text": [
      "/sda/software/anaconda3/lib/python3.9/site-packages/statsmodels/stats/outliers_influence.py:195: RuntimeWarning: divide by zero encountered in double_scalars\n",
      "  vif = 1. / (1. - r_squared_i)\n"
     ]
    },
    {
     "name": "stdout",
     "output_type": "stream",
     "text": [
      "number of discard features:  150\n"
     ]
    },
    {
     "name": "stderr",
     "output_type": "stream",
     "text": [
      "/sda/software/anaconda3/lib/python3.9/site-packages/statsmodels/stats/outliers_influence.py:195: RuntimeWarning: divide by zero encountered in double_scalars\n",
      "  vif = 1. / (1. - r_squared_i)\n"
     ]
    },
    {
     "name": "stdout",
     "output_type": "stream",
     "text": [
      "number of discard features:  151\n"
     ]
    },
    {
     "name": "stderr",
     "output_type": "stream",
     "text": [
      "/sda/software/anaconda3/lib/python3.9/site-packages/statsmodels/stats/outliers_influence.py:195: RuntimeWarning: divide by zero encountered in double_scalars\n",
      "  vif = 1. / (1. - r_squared_i)\n"
     ]
    },
    {
     "name": "stdout",
     "output_type": "stream",
     "text": [
      "number of discard features:  152\n"
     ]
    },
    {
     "name": "stderr",
     "output_type": "stream",
     "text": [
      "/sda/software/anaconda3/lib/python3.9/site-packages/statsmodels/stats/outliers_influence.py:195: RuntimeWarning: divide by zero encountered in double_scalars\n",
      "  vif = 1. / (1. - r_squared_i)\n"
     ]
    },
    {
     "name": "stdout",
     "output_type": "stream",
     "text": [
      "number of discard features:  153\n"
     ]
    },
    {
     "name": "stderr",
     "output_type": "stream",
     "text": [
      "/sda/software/anaconda3/lib/python3.9/site-packages/statsmodels/stats/outliers_influence.py:195: RuntimeWarning: divide by zero encountered in double_scalars\n",
      "  vif = 1. / (1. - r_squared_i)\n"
     ]
    },
    {
     "name": "stdout",
     "output_type": "stream",
     "text": [
      "number of discard features:  154\n"
     ]
    },
    {
     "name": "stderr",
     "output_type": "stream",
     "text": [
      "/sda/software/anaconda3/lib/python3.9/site-packages/statsmodels/stats/outliers_influence.py:195: RuntimeWarning: divide by zero encountered in double_scalars\n",
      "  vif = 1. / (1. - r_squared_i)\n"
     ]
    },
    {
     "name": "stdout",
     "output_type": "stream",
     "text": [
      "number of discard features:  155\n"
     ]
    },
    {
     "name": "stderr",
     "output_type": "stream",
     "text": [
      "/sda/software/anaconda3/lib/python3.9/site-packages/statsmodels/stats/outliers_influence.py:195: RuntimeWarning: divide by zero encountered in double_scalars\n",
      "  vif = 1. / (1. - r_squared_i)\n"
     ]
    },
    {
     "name": "stdout",
     "output_type": "stream",
     "text": [
      "number of discard features:  156\n"
     ]
    },
    {
     "name": "stderr",
     "output_type": "stream",
     "text": [
      "/sda/software/anaconda3/lib/python3.9/site-packages/statsmodels/stats/outliers_influence.py:195: RuntimeWarning: divide by zero encountered in double_scalars\n",
      "  vif = 1. / (1. - r_squared_i)\n"
     ]
    },
    {
     "name": "stdout",
     "output_type": "stream",
     "text": [
      "number of discard features:  157\n"
     ]
    },
    {
     "name": "stderr",
     "output_type": "stream",
     "text": [
      "/sda/software/anaconda3/lib/python3.9/site-packages/statsmodels/stats/outliers_influence.py:195: RuntimeWarning: divide by zero encountered in double_scalars\n",
      "  vif = 1. / (1. - r_squared_i)\n"
     ]
    },
    {
     "name": "stdout",
     "output_type": "stream",
     "text": [
      "number of discard features:  158\n"
     ]
    },
    {
     "name": "stderr",
     "output_type": "stream",
     "text": [
      "/sda/software/anaconda3/lib/python3.9/site-packages/statsmodels/stats/outliers_influence.py:195: RuntimeWarning: divide by zero encountered in double_scalars\n",
      "  vif = 1. / (1. - r_squared_i)\n"
     ]
    },
    {
     "name": "stdout",
     "output_type": "stream",
     "text": [
      "number of discard features:  159\n"
     ]
    },
    {
     "name": "stderr",
     "output_type": "stream",
     "text": [
      "/sda/software/anaconda3/lib/python3.9/site-packages/statsmodels/stats/outliers_influence.py:195: RuntimeWarning: divide by zero encountered in double_scalars\n",
      "  vif = 1. / (1. - r_squared_i)\n"
     ]
    },
    {
     "name": "stdout",
     "output_type": "stream",
     "text": [
      "number of discard features:  160\n"
     ]
    },
    {
     "name": "stderr",
     "output_type": "stream",
     "text": [
      "/sda/software/anaconda3/lib/python3.9/site-packages/statsmodels/stats/outliers_influence.py:195: RuntimeWarning: divide by zero encountered in double_scalars\n",
      "  vif = 1. / (1. - r_squared_i)\n"
     ]
    },
    {
     "name": "stdout",
     "output_type": "stream",
     "text": [
      "number of discard features:  161\n"
     ]
    },
    {
     "name": "stderr",
     "output_type": "stream",
     "text": [
      "/sda/software/anaconda3/lib/python3.9/site-packages/statsmodels/stats/outliers_influence.py:195: RuntimeWarning: divide by zero encountered in double_scalars\n",
      "  vif = 1. / (1. - r_squared_i)\n"
     ]
    },
    {
     "name": "stdout",
     "output_type": "stream",
     "text": [
      "number of discard features:  162\n"
     ]
    },
    {
     "name": "stderr",
     "output_type": "stream",
     "text": [
      "/sda/software/anaconda3/lib/python3.9/site-packages/statsmodels/stats/outliers_influence.py:195: RuntimeWarning: divide by zero encountered in double_scalars\n",
      "  vif = 1. / (1. - r_squared_i)\n"
     ]
    },
    {
     "name": "stdout",
     "output_type": "stream",
     "text": [
      "number of discard features:  163\n"
     ]
    },
    {
     "name": "stderr",
     "output_type": "stream",
     "text": [
      "/sda/software/anaconda3/lib/python3.9/site-packages/statsmodels/stats/outliers_influence.py:195: RuntimeWarning: divide by zero encountered in double_scalars\n",
      "  vif = 1. / (1. - r_squared_i)\n"
     ]
    },
    {
     "name": "stdout",
     "output_type": "stream",
     "text": [
      "number of discard features:  164\n"
     ]
    },
    {
     "name": "stderr",
     "output_type": "stream",
     "text": [
      "/sda/software/anaconda3/lib/python3.9/site-packages/statsmodels/stats/outliers_influence.py:195: RuntimeWarning: divide by zero encountered in double_scalars\n",
      "  vif = 1. / (1. - r_squared_i)\n"
     ]
    },
    {
     "name": "stdout",
     "output_type": "stream",
     "text": [
      "number of discard features:  165\n"
     ]
    },
    {
     "name": "stderr",
     "output_type": "stream",
     "text": [
      "/sda/software/anaconda3/lib/python3.9/site-packages/statsmodels/stats/outliers_influence.py:195: RuntimeWarning: divide by zero encountered in double_scalars\n",
      "  vif = 1. / (1. - r_squared_i)\n"
     ]
    },
    {
     "name": "stdout",
     "output_type": "stream",
     "text": [
      "number of discard features:  166\n"
     ]
    },
    {
     "name": "stderr",
     "output_type": "stream",
     "text": [
      "/sda/software/anaconda3/lib/python3.9/site-packages/statsmodels/stats/outliers_influence.py:195: RuntimeWarning: divide by zero encountered in double_scalars\n",
      "  vif = 1. / (1. - r_squared_i)\n"
     ]
    },
    {
     "name": "stdout",
     "output_type": "stream",
     "text": [
      "number of discard features:  167\n"
     ]
    },
    {
     "name": "stderr",
     "output_type": "stream",
     "text": [
      "/sda/software/anaconda3/lib/python3.9/site-packages/statsmodels/stats/outliers_influence.py:195: RuntimeWarning: divide by zero encountered in double_scalars\n",
      "  vif = 1. / (1. - r_squared_i)\n"
     ]
    },
    {
     "name": "stdout",
     "output_type": "stream",
     "text": [
      "number of discard features:  168\n"
     ]
    },
    {
     "name": "stderr",
     "output_type": "stream",
     "text": [
      "/sda/software/anaconda3/lib/python3.9/site-packages/statsmodels/stats/outliers_influence.py:195: RuntimeWarning: divide by zero encountered in double_scalars\n",
      "  vif = 1. / (1. - r_squared_i)\n"
     ]
    },
    {
     "name": "stdout",
     "output_type": "stream",
     "text": [
      "number of discard features:  169\n"
     ]
    },
    {
     "name": "stderr",
     "output_type": "stream",
     "text": [
      "/sda/software/anaconda3/lib/python3.9/site-packages/statsmodels/stats/outliers_influence.py:195: RuntimeWarning: divide by zero encountered in double_scalars\n",
      "  vif = 1. / (1. - r_squared_i)\n"
     ]
    },
    {
     "name": "stdout",
     "output_type": "stream",
     "text": [
      "number of discard features:  170\n"
     ]
    },
    {
     "name": "stderr",
     "output_type": "stream",
     "text": [
      "/sda/software/anaconda3/lib/python3.9/site-packages/statsmodels/stats/outliers_influence.py:195: RuntimeWarning: divide by zero encountered in double_scalars\n",
      "  vif = 1. / (1. - r_squared_i)\n"
     ]
    },
    {
     "name": "stdout",
     "output_type": "stream",
     "text": [
      "number of discard features:  171\n"
     ]
    },
    {
     "name": "stderr",
     "output_type": "stream",
     "text": [
      "/sda/software/anaconda3/lib/python3.9/site-packages/statsmodels/stats/outliers_influence.py:195: RuntimeWarning: divide by zero encountered in double_scalars\n",
      "  vif = 1. / (1. - r_squared_i)\n"
     ]
    },
    {
     "name": "stdout",
     "output_type": "stream",
     "text": [
      "number of discard features:  172\n"
     ]
    },
    {
     "name": "stderr",
     "output_type": "stream",
     "text": [
      "/sda/software/anaconda3/lib/python3.9/site-packages/statsmodels/stats/outliers_influence.py:195: RuntimeWarning: divide by zero encountered in double_scalars\n",
      "  vif = 1. / (1. - r_squared_i)\n"
     ]
    },
    {
     "name": "stdout",
     "output_type": "stream",
     "text": [
      "number of discard features:  173\n"
     ]
    },
    {
     "name": "stderr",
     "output_type": "stream",
     "text": [
      "/sda/software/anaconda3/lib/python3.9/site-packages/statsmodels/stats/outliers_influence.py:195: RuntimeWarning: divide by zero encountered in double_scalars\n",
      "  vif = 1. / (1. - r_squared_i)\n"
     ]
    },
    {
     "name": "stdout",
     "output_type": "stream",
     "text": [
      "number of discard features:  174\n"
     ]
    },
    {
     "name": "stderr",
     "output_type": "stream",
     "text": [
      "/sda/software/anaconda3/lib/python3.9/site-packages/statsmodels/stats/outliers_influence.py:195: RuntimeWarning: divide by zero encountered in double_scalars\n",
      "  vif = 1. / (1. - r_squared_i)\n"
     ]
    },
    {
     "name": "stdout",
     "output_type": "stream",
     "text": [
      "number of discard features:  174\n"
     ]
    },
    {
     "name": "stderr",
     "output_type": "stream",
     "text": [
      "/sda/software/anaconda3/lib/python3.9/site-packages/statsmodels/stats/outliers_influence.py:195: RuntimeWarning: divide by zero encountered in double_scalars\n",
      "  vif = 1. / (1. - r_squared_i)\n"
     ]
    },
    {
     "name": "stdout",
     "output_type": "stream",
     "text": [
      "number of discard features:  175\n"
     ]
    },
    {
     "name": "stderr",
     "output_type": "stream",
     "text": [
      "/sda/software/anaconda3/lib/python3.9/site-packages/statsmodels/stats/outliers_influence.py:195: RuntimeWarning: divide by zero encountered in double_scalars\n",
      "  vif = 1. / (1. - r_squared_i)\n"
     ]
    },
    {
     "name": "stdout",
     "output_type": "stream",
     "text": [
      "number of discard features:  176\n"
     ]
    },
    {
     "name": "stderr",
     "output_type": "stream",
     "text": [
      "/sda/software/anaconda3/lib/python3.9/site-packages/statsmodels/stats/outliers_influence.py:195: RuntimeWarning: divide by zero encountered in double_scalars\n",
      "  vif = 1. / (1. - r_squared_i)\n"
     ]
    },
    {
     "name": "stdout",
     "output_type": "stream",
     "text": [
      "number of discard features:  177\n"
     ]
    },
    {
     "name": "stderr",
     "output_type": "stream",
     "text": [
      "/sda/software/anaconda3/lib/python3.9/site-packages/statsmodels/stats/outliers_influence.py:195: RuntimeWarning: divide by zero encountered in double_scalars\n",
      "  vif = 1. / (1. - r_squared_i)\n"
     ]
    },
    {
     "name": "stdout",
     "output_type": "stream",
     "text": [
      "number of discard features:  178\n"
     ]
    },
    {
     "name": "stderr",
     "output_type": "stream",
     "text": [
      "/sda/software/anaconda3/lib/python3.9/site-packages/statsmodels/stats/outliers_influence.py:195: RuntimeWarning: divide by zero encountered in double_scalars\n",
      "  vif = 1. / (1. - r_squared_i)\n"
     ]
    },
    {
     "name": "stdout",
     "output_type": "stream",
     "text": [
      "number of discard features:  179\n"
     ]
    },
    {
     "name": "stderr",
     "output_type": "stream",
     "text": [
      "/sda/software/anaconda3/lib/python3.9/site-packages/statsmodels/stats/outliers_influence.py:195: RuntimeWarning: divide by zero encountered in double_scalars\n",
      "  vif = 1. / (1. - r_squared_i)\n"
     ]
    },
    {
     "name": "stdout",
     "output_type": "stream",
     "text": [
      "number of discard features:  180\n"
     ]
    },
    {
     "name": "stderr",
     "output_type": "stream",
     "text": [
      "/sda/software/anaconda3/lib/python3.9/site-packages/statsmodels/stats/outliers_influence.py:195: RuntimeWarning: divide by zero encountered in double_scalars\n",
      "  vif = 1. / (1. - r_squared_i)\n"
     ]
    },
    {
     "name": "stdout",
     "output_type": "stream",
     "text": [
      "number of discard features:  181\n"
     ]
    },
    {
     "name": "stderr",
     "output_type": "stream",
     "text": [
      "/sda/software/anaconda3/lib/python3.9/site-packages/statsmodels/stats/outliers_influence.py:195: RuntimeWarning: divide by zero encountered in double_scalars\n",
      "  vif = 1. / (1. - r_squared_i)\n"
     ]
    },
    {
     "name": "stdout",
     "output_type": "stream",
     "text": [
      "number of discard features:  182\n"
     ]
    },
    {
     "name": "stderr",
     "output_type": "stream",
     "text": [
      "/sda/software/anaconda3/lib/python3.9/site-packages/statsmodels/stats/outliers_influence.py:195: RuntimeWarning: divide by zero encountered in double_scalars\n",
      "  vif = 1. / (1. - r_squared_i)\n"
     ]
    },
    {
     "name": "stdout",
     "output_type": "stream",
     "text": [
      "number of discard features:  182\n"
     ]
    },
    {
     "name": "stderr",
     "output_type": "stream",
     "text": [
      "/sda/software/anaconda3/lib/python3.9/site-packages/statsmodels/stats/outliers_influence.py:195: RuntimeWarning: divide by zero encountered in double_scalars\n",
      "  vif = 1. / (1. - r_squared_i)\n"
     ]
    },
    {
     "name": "stdout",
     "output_type": "stream",
     "text": [
      "number of discard features:  183\n"
     ]
    },
    {
     "name": "stderr",
     "output_type": "stream",
     "text": [
      "/sda/software/anaconda3/lib/python3.9/site-packages/statsmodels/stats/outliers_influence.py:195: RuntimeWarning: divide by zero encountered in double_scalars\n",
      "  vif = 1. / (1. - r_squared_i)\n"
     ]
    },
    {
     "name": "stdout",
     "output_type": "stream",
     "text": [
      "number of discard features:  184\n"
     ]
    },
    {
     "name": "stderr",
     "output_type": "stream",
     "text": [
      "/sda/software/anaconda3/lib/python3.9/site-packages/statsmodels/stats/outliers_influence.py:195: RuntimeWarning: divide by zero encountered in double_scalars\n",
      "  vif = 1. / (1. - r_squared_i)\n"
     ]
    },
    {
     "name": "stdout",
     "output_type": "stream",
     "text": [
      "number of discard features:  185\n"
     ]
    },
    {
     "name": "stderr",
     "output_type": "stream",
     "text": [
      "/sda/software/anaconda3/lib/python3.9/site-packages/statsmodels/stats/outliers_influence.py:195: RuntimeWarning: divide by zero encountered in double_scalars\n",
      "  vif = 1. / (1. - r_squared_i)\n"
     ]
    },
    {
     "name": "stdout",
     "output_type": "stream",
     "text": [
      "number of discard features:  186\n"
     ]
    },
    {
     "name": "stderr",
     "output_type": "stream",
     "text": [
      "/sda/software/anaconda3/lib/python3.9/site-packages/statsmodels/stats/outliers_influence.py:195: RuntimeWarning: divide by zero encountered in double_scalars\n",
      "  vif = 1. / (1. - r_squared_i)\n"
     ]
    },
    {
     "name": "stdout",
     "output_type": "stream",
     "text": [
      "number of discard features:  187\n"
     ]
    },
    {
     "name": "stderr",
     "output_type": "stream",
     "text": [
      "/sda/software/anaconda3/lib/python3.9/site-packages/statsmodels/stats/outliers_influence.py:195: RuntimeWarning: divide by zero encountered in double_scalars\n",
      "  vif = 1. / (1. - r_squared_i)\n"
     ]
    },
    {
     "name": "stdout",
     "output_type": "stream",
     "text": [
      "number of discard features:  188\n",
      "number of discard features:  189\n",
      "number of discard features:  190\n",
      "number of discard features:  191\n",
      "number of discard features:  192\n",
      "number of discard features:  193\n",
      "number of discard features:  194\n",
      "number of discard features:  195\n",
      "number of discard features:  196\n",
      "number of discard features:  197\n",
      "number of discard features:  197\n",
      "number of discard features:  198\n",
      "number of discard features:  199\n",
      "number of discard features:  199\n",
      "number of discard features:  200\n",
      "number of discard features:  201\n",
      "number of discard features:  202\n",
      "number of discard features:  203\n",
      "number of discard features:  204\n",
      "number of discard features:  205\n",
      "number of discard features:  206\n",
      "number of discard features:  207\n",
      "number of discard features:  208\n",
      "number of discard features:  209\n",
      "number of discard features:  210\n",
      "number of discard features:  211\n",
      "number of discard features:  212\n",
      "number of discard features:  213\n",
      "number of discard features:  214\n",
      "number of discard features:  215\n",
      "number of discard features:  216\n",
      "number of discard features:  217\n",
      "number of discard features:  218\n",
      "number of discard features:  219\n",
      "number of discard features:  220\n",
      "number of discard features:  220\n",
      "number of discard features:  221\n",
      "number of discard features:  222\n",
      "number of discard features:  223\n",
      "number of discard features:  224\n",
      "number of discard features:  225\n",
      "number of discard features:  226\n",
      "number of discard features:  227\n",
      "number of discard features:  228\n",
      "number of discard features:  229\n",
      "number of discard features:  230\n",
      "number of discard features:  231\n",
      "number of discard features:  232\n",
      "number of discard features:  233\n",
      "number of discard features:  234\n",
      "number of discard features:  235\n",
      "number of discard features:  236\n",
      "number of discard features:  237\n",
      "number of discard features:  238\n",
      "number of discard features:  239\n",
      "number of discard features:  240\n",
      "number of discard features:  241\n",
      "number of discard features:  242\n",
      "number of discard features:  243\n",
      "number of discard features:  243\n",
      "number of discard features:  243\n",
      "number of discard features:  244\n",
      "number of discard features:  245\n",
      "number of discard features:  246\n",
      "number of discard features:  247\n",
      "number of discard features:  248\n",
      "number of discard features:  249\n",
      "number of discard features:  250\n",
      "number of discard features:  251\n",
      "number of discard features:  252\n",
      "number of discard features:  253\n",
      "number of discard features:  254\n",
      "number of discard features:  255\n",
      "number of discard features:  256\n",
      "number of discard features:  257\n",
      "number of discard features:  258\n",
      "number of discard features:  259\n",
      "number of discard features:  260\n",
      "number of discard features:  261\n",
      "number of discard features:  262\n",
      "number of discard features:  263\n",
      "number of discard features:  264\n",
      "number of discard features:  265\n",
      "number of discard features:  266\n",
      "number of discard features:  267\n",
      "number of discard features:  268\n",
      "number of discard features:  269\n",
      "number of discard features:  270\n",
      "number of discard features:  271\n",
      "number of discard features:  271\n",
      "number of discard features:  272\n",
      "number of discard features:  273\n",
      "number of discard features:  274\n",
      "number of discard features:  275\n",
      "number of discard features:  276\n",
      "number of discard features:  277\n",
      "number of discard features:  278\n",
      "number of discard features:  279\n",
      "number of discard features:  280\n",
      "number of discard features:  281\n",
      "number of discard features:  282\n",
      "number of discard features:  283\n",
      "number of discard features:  284\n",
      "number of discard features:  285\n",
      "number of discard features:  286\n",
      "number of discard features:  286\n",
      "number of discard features:  287\n",
      "number of discard features:  288\n",
      "number of discard features:  289\n",
      "number of discard features:  290\n",
      "number of discard features:  291\n",
      "number of discard features:  291\n",
      "number of discard features:  292\n",
      "number of discard features:  293\n",
      "number of discard features:  294\n",
      "number of discard features:  295\n",
      "number of discard features:  296\n",
      "number of discard features:  297\n",
      "number of discard features:  298\n",
      "number of discard features:  299\n",
      "number of discard features:  300\n",
      "number of discard features:  301\n",
      "number of discard features:  302\n",
      "number of discard features:  303\n",
      "number of discard features:  304\n",
      "number of discard features:  305\n",
      "number of discard features:  306\n",
      "number of discard features:  307\n",
      "number of discard features:  308\n",
      "number of discard features:  309\n",
      "number of discard features:  310\n",
      "number of discard features:  311\n",
      "number of discard features:  312\n",
      "number of discard features:  313\n",
      "number of discard features:  314\n",
      "number of discard features:  315\n",
      "number of discard features:  316\n",
      "number of discard features:  317\n",
      "number of discard features:  318\n",
      "number of discard features:  319\n"
     ]
    }
   ],
   "source": [
    "iv_threshold = 0.02\n",
    "qualified_features = feature_iv.query(f'iv > {iv_threshold}').reset_index(drop=True)\n",
    "cursor = -1\n",
    "\n",
    "discard_features = []\n",
    "while abs(cursor) < qualified_features.shape[0]:\n",
    "    print('number of discard features: ', len(discard_features))\n",
    "    X = add_constant(br_duotou_id[filter(lambda x: x not in discard_features, qualified_features['feature'])])\n",
    "    vif = pd.Series([variance_inflation_factor(X.values, i) for i in range(X.shape[1])], index=X.columns).rename('vif')\n",
    "    qualified_features = qualified_features.drop(columns=['vif'], errors='ignore').merge(vif, left_on='feature', right_index=True, how=\"inner\")\n",
    "    feature, iv, vif_val = qualified_features.iloc[cursor, :].values\n",
    "    if vif_val < 4:\n",
    "        cursor = cursor - 1\n",
    "    else:\n",
    "        discard_features.append(feature)"
   ]
  },
  {
   "cell_type": "code",
   "execution_count": 10,
   "id": "2bd613da-b790-4a0c-8f06-6aca65c3bb8e",
   "metadata": {},
   "outputs": [],
   "source": [
    "qualified_features = qualified_features.reset_index(drop=True)\n",
    "br_duotou_qualified_features = qualified_features.copy()"
   ]
  },
  {
   "cell_type": "code",
   "execution_count": 22,
   "id": "12ad5a87-0fc3-4eef-9ad4-1f514eb01213",
   "metadata": {},
   "outputs": [
    {
     "data": {
      "text/html": [
       "<div>\n",
       "<style scoped>\n",
       "    .dataframe tbody tr th:only-of-type {\n",
       "        vertical-align: middle;\n",
       "    }\n",
       "\n",
       "    .dataframe tbody tr th {\n",
       "        vertical-align: top;\n",
       "    }\n",
       "\n",
       "    .dataframe thead th {\n",
       "        text-align: right;\n",
       "    }\n",
       "</style>\n",
       "<table border=\"1\" class=\"dataframe\">\n",
       "  <thead>\n",
       "    <tr style=\"text-align: right;\">\n",
       "      <th></th>\n",
       "      <th>feature</th>\n",
       "      <th>iv</th>\n",
       "      <th>vif</th>\n",
       "    </tr>\n",
       "  </thead>\n",
       "  <tbody>\n",
       "    <tr>\n",
       "      <th>0</th>\n",
       "      <td>als_m12_id_nbank_orgnum</td>\n",
       "      <td>1.315481</td>\n",
       "      <td>4.340915</td>\n",
       "    </tr>\n",
       "    <tr>\n",
       "      <th>1</th>\n",
       "      <td>als_m3_id_nbank_min_inteday</td>\n",
       "      <td>1.030968</td>\n",
       "      <td>1.888262</td>\n",
       "    </tr>\n",
       "    <tr>\n",
       "      <th>2</th>\n",
       "      <td>als_m12_id_nbank_min_inteday</td>\n",
       "      <td>0.988303</td>\n",
       "      <td>2.857176</td>\n",
       "    </tr>\n",
       "    <tr>\n",
       "      <th>3</th>\n",
       "      <td>als_m12_id_min_inteday</td>\n",
       "      <td>0.813420</td>\n",
       "      <td>1.922801</td>\n",
       "    </tr>\n",
       "    <tr>\n",
       "      <th>4</th>\n",
       "      <td>als_lst_id_nbank_inteday</td>\n",
       "      <td>0.504349</td>\n",
       "      <td>1.746055</td>\n",
       "    </tr>\n",
       "    <tr>\n",
       "      <th>5</th>\n",
       "      <td>als_m12_id_rel_orgnum</td>\n",
       "      <td>0.501569</td>\n",
       "      <td>2.508075</td>\n",
       "    </tr>\n",
       "    <tr>\n",
       "      <th>6</th>\n",
       "      <td>als_m12_id_cooff_orgnum</td>\n",
       "      <td>0.422419</td>\n",
       "      <td>2.116554</td>\n",
       "    </tr>\n",
       "    <tr>\n",
       "      <th>7</th>\n",
       "      <td>als_m12_id_nbank_night_orgnum</td>\n",
       "      <td>0.346511</td>\n",
       "      <td>2.065256</td>\n",
       "    </tr>\n",
       "    <tr>\n",
       "      <th>8</th>\n",
       "      <td>als_m12_id_bank_ret_orgnum</td>\n",
       "      <td>0.341991</td>\n",
       "      <td>1.838720</td>\n",
       "    </tr>\n",
       "    <tr>\n",
       "      <th>9</th>\n",
       "      <td>als_lst_id_nbank_consnum</td>\n",
       "      <td>0.289215</td>\n",
       "      <td>1.384507</td>\n",
       "    </tr>\n",
       "    <tr>\n",
       "      <th>10</th>\n",
       "      <td>als_m6_id_bank_min_inteday</td>\n",
       "      <td>0.278500</td>\n",
       "      <td>1.797154</td>\n",
       "    </tr>\n",
       "    <tr>\n",
       "      <th>11</th>\n",
       "      <td>als_m12_id_bank_week_orgnum</td>\n",
       "      <td>0.188294</td>\n",
       "      <td>2.113618</td>\n",
       "    </tr>\n",
       "    <tr>\n",
       "      <th>12</th>\n",
       "      <td>als_m12_id_af_allnum</td>\n",
       "      <td>0.122501</td>\n",
       "      <td>1.447375</td>\n",
       "    </tr>\n",
       "    <tr>\n",
       "      <th>13</th>\n",
       "      <td>als_d7_id_nbank_week_orgnum</td>\n",
       "      <td>0.101661</td>\n",
       "      <td>1.218484</td>\n",
       "    </tr>\n",
       "    <tr>\n",
       "      <th>14</th>\n",
       "      <td>als_m1_id_nbank_night_orgnum</td>\n",
       "      <td>0.097734</td>\n",
       "      <td>1.760711</td>\n",
       "    </tr>\n",
       "    <tr>\n",
       "      <th>15</th>\n",
       "      <td>als_m1_id_af_orgnum</td>\n",
       "      <td>0.054259</td>\n",
       "      <td>1.299823</td>\n",
       "    </tr>\n",
       "    <tr>\n",
       "      <th>16</th>\n",
       "      <td>als_m1_id_bank_week_orgnum</td>\n",
       "      <td>0.047074</td>\n",
       "      <td>1.657740</td>\n",
       "    </tr>\n",
       "    <tr>\n",
       "      <th>17</th>\n",
       "      <td>als_m6_id_oth_orgnum</td>\n",
       "      <td>0.040266</td>\n",
       "      <td>1.119509</td>\n",
       "    </tr>\n",
       "    <tr>\n",
       "      <th>18</th>\n",
       "      <td>als_m12_id_bank_night_orgnum</td>\n",
       "      <td>0.040262</td>\n",
       "      <td>2.815423</td>\n",
       "    </tr>\n",
       "    <tr>\n",
       "      <th>19</th>\n",
       "      <td>als_m6_id_nbank_selfnum</td>\n",
       "      <td>0.027129</td>\n",
       "      <td>1.020739</td>\n",
       "    </tr>\n",
       "    <tr>\n",
       "      <th>20</th>\n",
       "      <td>als_d7_id_nbank_night_allnum</td>\n",
       "      <td>0.025821</td>\n",
       "      <td>1.410668</td>\n",
       "    </tr>\n",
       "    <tr>\n",
       "      <th>21</th>\n",
       "      <td>als_d7_id_cooff_allnum</td>\n",
       "      <td>0.023216</td>\n",
       "      <td>1.115444</td>\n",
       "    </tr>\n",
       "    <tr>\n",
       "      <th>22</th>\n",
       "      <td>als_m6_id_bank_min_monnum</td>\n",
       "      <td>0.020677</td>\n",
       "      <td>1.084673</td>\n",
       "    </tr>\n",
       "    <tr>\n",
       "      <th>23</th>\n",
       "      <td>als_m6_id_bank_night_allnum</td>\n",
       "      <td>0.020423</td>\n",
       "      <td>2.694566</td>\n",
       "    </tr>\n",
       "    <tr>\n",
       "      <th>24</th>\n",
       "      <td>als_d7_id_bank_week_allnum</td>\n",
       "      <td>0.020154</td>\n",
       "      <td>1.447782</td>\n",
       "    </tr>\n",
       "  </tbody>\n",
       "</table>\n",
       "</div>"
      ],
      "text/plain": [
       "                          feature        iv       vif\n",
       "0         als_m12_id_nbank_orgnum  1.315481  4.340915\n",
       "1     als_m3_id_nbank_min_inteday  1.030968  1.888262\n",
       "2    als_m12_id_nbank_min_inteday  0.988303  2.857176\n",
       "3          als_m12_id_min_inteday  0.813420  1.922801\n",
       "4        als_lst_id_nbank_inteday  0.504349  1.746055\n",
       "5           als_m12_id_rel_orgnum  0.501569  2.508075\n",
       "6         als_m12_id_cooff_orgnum  0.422419  2.116554\n",
       "7   als_m12_id_nbank_night_orgnum  0.346511  2.065256\n",
       "8      als_m12_id_bank_ret_orgnum  0.341991  1.838720\n",
       "9        als_lst_id_nbank_consnum  0.289215  1.384507\n",
       "10     als_m6_id_bank_min_inteday  0.278500  1.797154\n",
       "11    als_m12_id_bank_week_orgnum  0.188294  2.113618\n",
       "12           als_m12_id_af_allnum  0.122501  1.447375\n",
       "13    als_d7_id_nbank_week_orgnum  0.101661  1.218484\n",
       "14   als_m1_id_nbank_night_orgnum  0.097734  1.760711\n",
       "15            als_m1_id_af_orgnum  0.054259  1.299823\n",
       "16     als_m1_id_bank_week_orgnum  0.047074  1.657740\n",
       "17           als_m6_id_oth_orgnum  0.040266  1.119509\n",
       "18   als_m12_id_bank_night_orgnum  0.040262  2.815423\n",
       "19        als_m6_id_nbank_selfnum  0.027129  1.020739\n",
       "20   als_d7_id_nbank_night_allnum  0.025821  1.410668\n",
       "21         als_d7_id_cooff_allnum  0.023216  1.115444\n",
       "22      als_m6_id_bank_min_monnum  0.020677  1.084673\n",
       "23    als_m6_id_bank_night_allnum  0.020423  2.694566\n",
       "24     als_d7_id_bank_week_allnum  0.020154  1.447782"
      ]
     },
     "execution_count": 22,
     "metadata": {},
     "output_type": "execute_result"
    }
   ],
   "source": [
    "br_duotou_qualified_features"
   ]
  },
  {
   "cell_type": "markdown",
   "id": "e5b7b27f-2aaf-40b8-9b2c-dc165c16e936",
   "metadata": {},
   "source": [
    "对于iv最高的特征als_m12_id_nbank_orgnum（近12个月非银机构申请机构数），可以在几乎不影响召回率的情况下把样本划分为两个客群"
   ]
  },
  {
   "cell_type": "code",
   "execution_count": 11,
   "id": "952f1ea4-7f08-4e0b-9bda-58febca6c30a",
   "metadata": {
    "tags": []
   },
   "outputs": [
    {
     "data": {
      "text/html": [
       "<div>\n",
       "<style scoped>\n",
       "    .dataframe tbody tr th:only-of-type {\n",
       "        vertical-align: middle;\n",
       "    }\n",
       "\n",
       "    .dataframe tbody tr th {\n",
       "        vertical-align: top;\n",
       "    }\n",
       "\n",
       "    .dataframe thead th {\n",
       "        text-align: right;\n",
       "    }\n",
       "</style>\n",
       "<table border=\"1\" class=\"dataframe\">\n",
       "  <thead>\n",
       "    <tr style=\"text-align: right;\">\n",
       "      <th></th>\n",
       "      <th>ae_m12_id_nbank_orgnum_d_threshold</th>\n",
       "      <th>filter_rate</th>\n",
       "      <th>recall</th>\n",
       "      <th>appr_rate</th>\n",
       "    </tr>\n",
       "  </thead>\n",
       "  <tbody>\n",
       "    <tr>\n",
       "      <th>0</th>\n",
       "      <td>1</td>\n",
       "      <td>0.6299</td>\n",
       "      <td>0.6077</td>\n",
       "      <td>0.4221</td>\n",
       "    </tr>\n",
       "    <tr>\n",
       "      <th>1</th>\n",
       "      <td>2</td>\n",
       "      <td>0.4828</td>\n",
       "      <td>0.8092</td>\n",
       "      <td>0.4022</td>\n",
       "    </tr>\n",
       "    <tr>\n",
       "      <th>2</th>\n",
       "      <td>3</td>\n",
       "      <td>0.3890</td>\n",
       "      <td>0.9056</td>\n",
       "      <td>0.3810</td>\n",
       "    </tr>\n",
       "    <tr>\n",
       "      <th>3</th>\n",
       "      <td>4</td>\n",
       "      <td>0.3237</td>\n",
       "      <td>0.9477</td>\n",
       "      <td>0.3602</td>\n",
       "    </tr>\n",
       "    <tr>\n",
       "      <th>4</th>\n",
       "      <td>5</td>\n",
       "      <td>0.2761</td>\n",
       "      <td>0.9719</td>\n",
       "      <td>0.3451</td>\n",
       "    </tr>\n",
       "    <tr>\n",
       "      <th>5</th>\n",
       "      <td>6</td>\n",
       "      <td>0.2436</td>\n",
       "      <td>0.9811</td>\n",
       "      <td>0.3334</td>\n",
       "    </tr>\n",
       "    <tr>\n",
       "      <th>6</th>\n",
       "      <td>7</td>\n",
       "      <td>0.2166</td>\n",
       "      <td>0.9864</td>\n",
       "      <td>0.3237</td>\n",
       "    </tr>\n",
       "    <tr>\n",
       "      <th>7</th>\n",
       "      <td>8</td>\n",
       "      <td>0.1937</td>\n",
       "      <td>0.9913</td>\n",
       "      <td>0.3160</td>\n",
       "    </tr>\n",
       "    <tr>\n",
       "      <th>8</th>\n",
       "      <td>9</td>\n",
       "      <td>0.1769</td>\n",
       "      <td>0.9952</td>\n",
       "      <td>0.3108</td>\n",
       "    </tr>\n",
       "    <tr>\n",
       "      <th>9</th>\n",
       "      <td>10</td>\n",
       "      <td>0.1625</td>\n",
       "      <td>0.9956</td>\n",
       "      <td>0.3056</td>\n",
       "    </tr>\n",
       "    <tr>\n",
       "      <th>10</th>\n",
       "      <td>11</td>\n",
       "      <td>0.1488</td>\n",
       "      <td>0.9966</td>\n",
       "      <td>0.3010</td>\n",
       "    </tr>\n",
       "    <tr>\n",
       "      <th>11</th>\n",
       "      <td>12</td>\n",
       "      <td>0.1343</td>\n",
       "      <td>0.9966</td>\n",
       "      <td>0.2959</td>\n",
       "    </tr>\n",
       "    <tr>\n",
       "      <th>12</th>\n",
       "      <td>13</td>\n",
       "      <td>0.1241</td>\n",
       "      <td>0.9971</td>\n",
       "      <td>0.2926</td>\n",
       "    </tr>\n",
       "    <tr>\n",
       "      <th>13</th>\n",
       "      <td>14</td>\n",
       "      <td>0.1159</td>\n",
       "      <td>0.9971</td>\n",
       "      <td>0.2899</td>\n",
       "    </tr>\n",
       "    <tr>\n",
       "      <th>14</th>\n",
       "      <td>15</td>\n",
       "      <td>0.1042</td>\n",
       "      <td>0.9981</td>\n",
       "      <td>0.2864</td>\n",
       "    </tr>\n",
       "  </tbody>\n",
       "</table>\n",
       "</div>"
      ],
      "text/plain": [
       "    ae_m12_id_nbank_orgnum_d_threshold  filter_rate  recall  appr_rate\n",
       "0                                    1       0.6299  0.6077     0.4221\n",
       "1                                    2       0.4828  0.8092     0.4022\n",
       "2                                    3       0.3890  0.9056     0.3810\n",
       "3                                    4       0.3237  0.9477     0.3602\n",
       "4                                    5       0.2761  0.9719     0.3451\n",
       "5                                    6       0.2436  0.9811     0.3334\n",
       "6                                    7       0.2166  0.9864     0.3237\n",
       "7                                    8       0.1937  0.9913     0.3160\n",
       "8                                    9       0.1769  0.9952     0.3108\n",
       "9                                   10       0.1625  0.9956     0.3056\n",
       "10                                  11       0.1488  0.9966     0.3010\n",
       "11                                  12       0.1343  0.9966     0.2959\n",
       "12                                  13       0.1241  0.9971     0.2926\n",
       "13                                  14       0.1159  0.9971     0.2899\n",
       "14                                  15       0.1042  0.9981     0.2864"
      ]
     },
     "execution_count": 11,
     "metadata": {},
     "output_type": "execute_result"
    }
   ],
   "source": [
    "# 近12个月非银机构申请机构数（去重）\n",
    "feat = r'als_m12_id_nbank_orgnum'\n",
    "\n",
    "thresholds = list(range(1, 16))\n",
    "matrix_orgnum = br_duotou_id[['order_status_key',  feat]]\n",
    "result = []\n",
    "for t in thresholds:\n",
    "    bt = matrix_orgnum[matrix_orgnum[feat] <= t]\n",
    "    filter_rate = np.round(1 - bt.shape[0] / matrix_orgnum.shape[0], 4)\n",
    "    recall = np.round(bt['order_status_key'].sum() / matrix_orgnum['order_status_key'].sum(), 4)\n",
    "    appr_rate = np.round(bt['order_status_key'].sum() / bt.shape[0], 4)\n",
    "    result.append([t, filter_rate, recall, appr_rate])\n",
    "result = pd.DataFrame(result, columns = ['ae_m12_id_nbank_orgnum_d_threshold', 'filter_rate', 'recall', 'appr_rate'])\n",
    "result"
   ]
  },
  {
   "cell_type": "markdown",
   "id": "7b06791f-83bc-4a91-a72a-e7975761bff5",
   "metadata": {},
   "source": [
    "## 百融黑名单\n",
    "没有通过黑名单的客户占3.5%左右，而且基本不能通过银行审核，而且免费，可以用作规则"
   ]
  },
  {
   "cell_type": "code",
   "execution_count": 12,
   "id": "521d4411-a352-4b30-b87f-00ccc7b10189",
   "metadata": {},
   "outputs": [
    {
     "name": "stdout",
     "output_type": "stream",
     "text": [
      "黑名单占比:  0.03404001194386384\n"
     ]
    }
   ],
   "source": [
    "br_black_list = data[['sample', 'br_black_list']]\n",
    "br_black_list.columns = br_black_list.columns.get_level_values(1)\n",
    "br_in_black_list = br_black_list['flag_specialList_c'].sum()\n",
    "print(\"黑名单占比: \", br_in_black_list / data.shape[0])"
   ]
  },
  {
   "cell_type": "code",
   "execution_count": 13,
   "id": "5ad8f5d9-5d91-4a8d-aa52-fe5c650e7735",
   "metadata": {},
   "outputs": [
    {
     "data": {
      "text/plain": [
       "9.0"
      ]
     },
     "execution_count": 13,
     "metadata": {},
     "output_type": "execute_result"
    }
   ],
   "source": [
    "br_black_list[br_black_list['flag_specialList_c'] == 1]['order_status_key'].sum()"
   ]
  },
  {
   "cell_type": "markdown",
   "id": "6ddb2fff-cea1-42ee-887e-58abb1af1e90",
   "metadata": {},
   "source": [
    "## 百融偿债压力指数\n",
    "在偿债压力较高的用户群里（前20%），区分度较高，但是在剩下的客群里区分度不高"
   ]
  },
  {
   "cell_type": "code",
   "execution_count": 14,
   "id": "0c5da29d-32c7-4dbc-b770-ce735a327121",
   "metadata": {
    "tags": []
   },
   "outputs": [
    {
     "name": "stdout",
     "output_type": "stream",
     "text": [
      "查得样本占比:  0.9586941375534985\n"
     ]
    }
   ],
   "source": [
    "br_debt_pressure = data[['sample', 'br_debt_pressure']]\n",
    "br_debt_pressure.columns = br_debt_pressure.columns.get_level_values(1)\n",
    "br_debt_pressure_retrieved = br_debt_pressure.query('flag_debtrepaystress == 1')\n",
    "print(\"查得样本占比: \", br_debt_pressure_retrieved.shape[0] / br_debt_pressure.shape[0])"
   ]
  },
  {
   "cell_type": "code",
   "execution_count": 15,
   "id": "977b1061-13ed-4177-b4e4-d0e91baac1d9",
   "metadata": {
    "tags": []
   },
   "outputs": [
    {
     "name": "stdout",
     "output_type": "stream",
     "text": [
      "           Variable  Value   All  Good  Bad  Distribution Good  \\\n",
      "10  drs_nodebtscore      0     1     1    0           0.000732   \n",
      "1   drs_nodebtscore      1  1329   614  715           0.225110   \n",
      "3   drs_nodebtscore      2  1149   467  682           0.171303   \n",
      "4   drs_nodebtscore      3   804   296  508           0.108712   \n",
      "2   drs_nodebtscore      4  1418   498  920           0.182650   \n",
      "5   drs_nodebtscore      5   589   213  376           0.078331   \n",
      "7   drs_nodebtscore      6  1026   285  741           0.104685   \n",
      "8   drs_nodebtscore      7   529   124  405           0.045754   \n",
      "0   drs_nodebtscore      8   868   153  715           0.056369   \n",
      "9   drs_nodebtscore      9   980    67  913           0.024890   \n",
      "6   drs_nodebtscore     10   939    14  925           0.005490   \n",
      "\n",
      "    Distribution Bad       WoE        IV  \n",
      "10          0.000145  1.619635  0.000951  \n",
      "1           0.103768  0.774430  0.093971  \n",
      "3           0.098986  0.548461  0.039663  \n",
      "4           0.073768  0.387772  0.013550  \n",
      "2           0.133478  0.313634  0.015422  \n",
      "5           0.054638  0.360218  0.008535  \n",
      "7           0.107536 -0.026870  0.000077  \n",
      "8           0.058841 -0.251552  0.003292  \n",
      "0           0.103768 -0.610240  0.028925  \n",
      "9           0.132464 -1.671835  0.179845  \n",
      "6           0.134203 -3.196337  0.411408  \n",
      "IV =  0.795639\n"
     ]
    },
    {
     "data": {
      "text/plain": [
       "0.795639"
      ]
     },
     "execution_count": 15,
     "metadata": {},
     "output_type": "execute_result"
    }
   ],
   "source": [
    "br_debt_pressure_bin = br_debt_pressure_retrieved.copy()\n",
    "br_debt_pressure_bin['drs_nodebtscore'] = MinMaxScaler().fit_transform(br_debt_pressure_bin[['drs_nodebtscore']])\n",
    "br_debt_pressure_bin['drs_nodebtscore'] = br_debt_pressure_bin[['drs_nodebtscore']].apply(binning)\n",
    "calc_iv(br_debt_pressure_bin, 'drs_nodebtscore', 'order_status_key', True)"
   ]
  },
  {
   "cell_type": "markdown",
   "id": "f782cefc-6ca6-4e5a-bd10-990cbac5c00b",
   "metadata": {},
   "source": [
    "## 百融法院被执行人\n",
    "法院被执行人能够过滤3%的客户，但是因为收费，所以不考虑使用"
   ]
  },
  {
   "cell_type": "code",
   "execution_count": 16,
   "id": "3cfb6aea-3ab0-4cd7-8665-e779e044ba5d",
   "metadata": {},
   "outputs": [
    {
     "name": "stdout",
     "output_type": "stream",
     "text": [
      "查得占比:  0.03473673733452772\n"
     ]
    }
   ],
   "source": [
    "br_execution = data[['sample', 'br_execution']]\n",
    "br_execution.columns = br_execution.columns.get_level_values(1)\n",
    "retrieved = br_execution['flag_executionpro'].sum()\n",
    "print(\"查得占比: \", retrieved / br_execution.shape[0])"
   ]
  },
  {
   "cell_type": "markdown",
   "id": "092f970f-5ddc-4a85-90a6-15d12c97bdc8",
   "metadata": {},
   "source": [
    "## 百融停机次数\n",
    "只有23条数据可以验证，无法评估有效性"
   ]
  },
  {
   "cell_type": "code",
   "execution_count": 17,
   "id": "74dfb31d-e8bd-47a1-90bb-a16a28fbb8fc",
   "metadata": {
    "tags": []
   },
   "outputs": [
    {
     "name": "stdout",
     "output_type": "stream",
     "text": [
      "23.0\n"
     ]
    }
   ],
   "source": [
    "br_cell_disconnect = data[['sample', 'br_cell_disconnect']]\n",
    "br_cell_disconnect.columns = br_cell_disconnect.columns.get_level_values(1)\n",
    "retrieved = br_cell_disconnect['flag_teldownnum'].sum()\n",
    "print(retrieved)"
   ]
  },
  {
   "cell_type": "markdown",
   "id": "f996e75c-c37e-4ec2-be88-41b9216b633b",
   "metadata": {},
   "source": [
    "## 百融在网时长\n",
    "只有26条数据可以验证，无法评估有效性"
   ]
  },
  {
   "cell_type": "code",
   "execution_count": 18,
   "id": "777190f1-7381-4c91-a6ab-6f81b4adce23",
   "metadata": {
    "tags": []
   },
   "outputs": [
    {
     "name": "stdout",
     "output_type": "stream",
     "text": [
      "26.0\n"
     ]
    }
   ],
   "source": [
    "br_cell_length = data[['sample', 'br_cell_length']]\n",
    "br_cell_length.columns = br_cell_length.columns.get_level_values(1)\n",
    "retrieved = br_cell_length['flag_telperiod'].sum()\n",
    "print(retrieved)"
   ]
  },
  {
   "cell_type": "markdown",
   "id": "f1e3a622-8894-4c8e-b97d-a1fccdb1ae65",
   "metadata": {},
   "source": [
    "## 百融在网状态（不用）\n",
    "只有26条数据可以验证，无法评估有效性"
   ]
  },
  {
   "cell_type": "code",
   "execution_count": 19,
   "id": "431b3edc-d599-4fb6-9a85-9a7d358ec813",
   "metadata": {
    "tags": []
   },
   "outputs": [
    {
     "name": "stdout",
     "output_type": "stream",
     "text": [
      "26.0\n"
     ]
    }
   ],
   "source": [
    "br_cell_status = data[['sample', 'br_cell_status']]\n",
    "br_cell_status.columns = br_cell_status.columns.get_level_values(1)\n",
    "retrieved = br_cell_status['flag_telstatus'].sum()\n",
    "print(retrieved)"
   ]
  },
  {
   "cell_type": "markdown",
   "id": "2ff9b1ce-b72b-4f05-87f0-b00653c04c9d",
   "metadata": {},
   "source": [
    "## 腾讯反欺诈\n",
    "反欺诈数据覆盖程度较高，IV也挺高，但是相对于百融多头来说召回率没那么高"
   ]
  },
  {
   "cell_type": "code",
   "execution_count": 29,
   "id": "579e1e48-27e5-40f8-ac42-244171867b58",
   "metadata": {
    "tags": []
   },
   "outputs": [],
   "source": [
    "tencent_fraud_risk = data[['sample', 'tc_fraud_risk']]\n",
    "tencent_fraud_risk.columns = tencent_fraud_risk.columns.get_level_values(1)\n",
    "tencent_fraud_risk = tencent_fraud_risk.drop(columns=['id_found:', 'found:', 'risk_code:'])"
   ]
  },
  {
   "cell_type": "code",
   "execution_count": 31,
   "id": "d596b7bc-5de0-4975-91ff-eea9bf308234",
   "metadata": {},
   "outputs": [],
   "source": [
    "features = tencent_fraud_risk.iloc[:, 3:].columns\n",
    "tencent_fraud_risk = tencent_fraud_risk.dropna(subset=['highirr_v6_20220425_score'])\n",
    "tencent_fraud_risk_bin = tencent_fraud_risk.copy()\n",
    "tencent_fraud_risk_bin[features] = MinMaxScaler().fit_transform(tencent_fraud_risk_bin[features])\n",
    "tencent_fraud_risk_bin[features] = tencent_fraud_risk_bin[features].apply(binning)"
   ]
  },
  {
   "cell_type": "code",
   "execution_count": 32,
   "id": "425afb64-47e7-43e4-b73e-dd735b55a882",
   "metadata": {},
   "outputs": [
    {
     "data": {
      "text/html": [
       "<div>\n",
       "<style scoped>\n",
       "    .dataframe tbody tr th:only-of-type {\n",
       "        vertical-align: middle;\n",
       "    }\n",
       "\n",
       "    .dataframe tbody tr th {\n",
       "        vertical-align: top;\n",
       "    }\n",
       "\n",
       "    .dataframe thead th {\n",
       "        text-align: right;\n",
       "    }\n",
       "</style>\n",
       "<table border=\"1\" class=\"dataframe\">\n",
       "  <thead>\n",
       "    <tr style=\"text-align: right;\">\n",
       "      <th></th>\n",
       "      <th>feature</th>\n",
       "      <th>iv</th>\n",
       "    </tr>\n",
       "  </thead>\n",
       "  <tbody>\n",
       "    <tr>\n",
       "      <th>6</th>\n",
       "      <td>model_risk_v7_stongyong_score</td>\n",
       "      <td>0.926523</td>\n",
       "    </tr>\n",
       "    <tr>\n",
       "      <th>5</th>\n",
       "      <td>model_risk_v7_slowirr_score</td>\n",
       "      <td>0.854736</td>\n",
       "    </tr>\n",
       "    <tr>\n",
       "      <th>2</th>\n",
       "      <td>lowirr_v6_20220425_score</td>\n",
       "      <td>0.787051</td>\n",
       "    </tr>\n",
       "    <tr>\n",
       "      <th>4</th>\n",
       "      <td>model_risk_v7_shighirr_score</td>\n",
       "      <td>0.767500</td>\n",
       "    </tr>\n",
       "    <tr>\n",
       "      <th>3</th>\n",
       "      <td>tongyong_v6_20220425_score</td>\n",
       "      <td>0.723072</td>\n",
       "    </tr>\n",
       "    <tr>\n",
       "      <th>1</th>\n",
       "      <td>highirr_v6_20220425_score</td>\n",
       "      <td>0.658863</td>\n",
       "    </tr>\n",
       "    <tr>\n",
       "      <th>0</th>\n",
       "      <td>risk_score:</td>\n",
       "      <td>0.504523</td>\n",
       "    </tr>\n",
       "    <tr>\n",
       "      <th>7</th>\n",
       "      <td>v6_seq_online</td>\n",
       "      <td>0.330441</td>\n",
       "    </tr>\n",
       "  </tbody>\n",
       "</table>\n",
       "</div>"
      ],
      "text/plain": [
       "                         feature        iv\n",
       "6  model_risk_v7_stongyong_score  0.926523\n",
       "5    model_risk_v7_slowirr_score  0.854736\n",
       "2       lowirr_v6_20220425_score  0.787051\n",
       "4   model_risk_v7_shighirr_score  0.767500\n",
       "3     tongyong_v6_20220425_score  0.723072\n",
       "1      highirr_v6_20220425_score  0.658863\n",
       "0                    risk_score:  0.504523\n",
       "7                  v6_seq_online  0.330441"
      ]
     },
     "execution_count": 32,
     "metadata": {},
     "output_type": "execute_result"
    }
   ],
   "source": [
    "feature_iv = []\n",
    "for feature in features:\n",
    "    feature_iv.append([feature, calc_iv(tencent_fraud_risk_bin, feature, 'order_status_key')])\n",
    "feature_iv = pd.DataFrame(feature_iv, columns = ['feature', 'iv']).sort_values('iv', ascending=False)\n",
    "feature_iv"
   ]
  },
  {
   "cell_type": "code",
   "execution_count": 33,
   "id": "e93bb80c-6967-4363-a1ee-70f14f066962",
   "metadata": {},
   "outputs": [
    {
     "data": {
      "text/plain": [
       "const                            13.792263\n",
       "risk_score:                       1.823339\n",
       "model_risk_v7_stongyong_score     2.118700\n",
       "v6_seq_online                     1.417448\n",
       "Name: vif, dtype: float64"
      ]
     },
     "execution_count": 33,
     "metadata": {},
     "output_type": "execute_result"
    }
   ],
   "source": [
    "discard_features = ['highirr_v6_20220425_score', 'tongyong_v6_20220425_score', 'model_risk_v7_shighirr_score', 'model_risk_v7_slowirr_score', 'lowirr_v6_20220425_score']\n",
    "X = add_constant(tencent_fraud_risk[filter(lambda x: x not in discard_features, features)])\n",
    "vif = pd.Series([variance_inflation_factor(X.values, i) for i in range(X.shape[1])], index = X.columns).rename('vif')\n",
    "vif"
   ]
  },
  {
   "cell_type": "markdown",
   "id": "076a6f08-1eef-4ec2-b362-13182ad9744e",
   "metadata": {},
   "source": [
    "## 腾讯多头\n",
    "从评估结果上看，百融多头会比腾讯多头好些"
   ]
  },
  {
   "cell_type": "code",
   "execution_count": 34,
   "id": "55dc3f06-3c05-4950-941d-1681b03c682b",
   "metadata": {},
   "outputs": [],
   "source": [
    "tc_duotou = data[['sample', 'tc_duotou']]\n",
    "tc_duotou.columns = tc_duotou.columns.get_level_values(1)"
   ]
  },
  {
   "cell_type": "code",
   "execution_count": 35,
   "id": "5a8566e9-4bc9-4803-ad4f-b8ac49ef3b74",
   "metadata": {
    "tags": []
   },
   "outputs": [
    {
     "data": {
      "text/plain": [
       "<AxesSubplot:>"
      ]
     },
     "execution_count": 35,
     "metadata": {},
     "output_type": "execute_result"
    },
    {
     "data": {
      "image/png": "[encoded data removed]",
      "text/plain": [
       "<Figure size 2500x1000 with 2 Axes>"
      ]
     },
     "metadata": {},
     "output_type": "display_data"
    }
   ],
   "source": [
    "msno.matrix(tc_duotou)"
   ]
  },
  {
   "cell_type": "code",
   "execution_count": 36,
   "id": "6314f6de-a07e-4c56-be39-7ba777a35710",
   "metadata": {},
   "outputs": [
    {
     "data": {
      "text/plain": [
       "90"
      ]
     },
     "execution_count": 36,
     "metadata": {},
     "output_type": "execute_result"
    }
   ],
   "source": [
    "# 只使用空值较少的列\n",
    "keep_features = list(filter(lambda x: sum(tc_duotou[x].isna().values == False) > 5000, tc_duotou.columns))\n",
    "len(keep_features)"
   ]
  },
  {
   "cell_type": "markdown",
   "id": "65ca880e-e195-4452-becb-610bbcb87eb2",
   "metadata": {},
   "source": [
    "腾讯多头只有一半的特征覆盖率达80%以上"
   ]
  },
  {
   "cell_type": "code",
   "execution_count": 37,
   "id": "8d246a77-c436-416b-980b-9ccb6e3dec5e",
   "metadata": {
    "tags": []
   },
   "outputs": [
    {
     "name": "stdout",
     "output_type": "stream",
     "text": [
      "<class 'pandas.core.frame.DataFrame'>\n",
      "RangeIndex: 10047 entries, 0 to 10046\n",
      "Data columns (total 90 columns):\n",
      " #   Column              Non-Null Count  Dtype  \n",
      "---  ------              --------------  -----  \n",
      " 0   customer_phone      10047 non-null  object \n",
      " 1   apply_date_key      10047 non-null  object \n",
      " 2   order_status_key    10047 non-null  float64\n",
      " 3   180天内总申请次数          8228 non-null   float64\n",
      " 4   180天内银行申请次数         8228 non-null   float64\n",
      " 5   180天内持牌消金申请次数       8228 non-null   float64\n",
      " 6   180天内互金申请次数         8228 non-null   float64\n",
      " 7   180天内金融科技申请次数       8228 non-null   float64\n",
      " 8   180天内其他申请次数         8228 non-null   float64\n",
      " 9   360天内总申请次数          8228 non-null   float64\n",
      " 10  360天内银行申请次数         8228 non-null   float64\n",
      " 11  360天内持牌消金申请次数       8228 non-null   float64\n",
      " 12  360天内互金申请次数         8228 non-null   float64\n",
      " 13  360天内金融科技申请次数       8228 non-null   float64\n",
      " 14  360天内其他申请次数         8228 non-null   float64\n",
      " 15  720天内总申请次数          8228 non-null   float64\n",
      " 16  720天内银行申请次数         8228 non-null   float64\n",
      " 17  720天内持牌消金申请次数       8228 non-null   float64\n",
      " 18  720天内互金申请次数         8228 non-null   float64\n",
      " 19  720天内金融科技申请次数       8228 non-null   float64\n",
      " 20  720天内其他申请次数         8228 non-null   float64\n",
      " 21  180天内总申请平台数         8228 non-null   float64\n",
      " 22  180天内银行申请平台数        8228 non-null   float64\n",
      " 23  180天内持牌消金申请平台数      8228 non-null   float64\n",
      " 24  180天内互金申请平台数        8228 non-null   float64\n",
      " 25  180天内金融科技申请平台数      8228 non-null   float64\n",
      " 26  180天内其他申请平台数        8228 non-null   float64\n",
      " 27  360天内总申请平台数         8228 non-null   float64\n",
      " 28  360天内银行申请平台数        8228 non-null   float64\n",
      " 29  360天内持牌消金申请平台数      8228 non-null   float64\n",
      " 30  360天内互金申请平台数        8228 non-null   float64\n",
      " 31  360天内金融科技申请平台数      8228 non-null   float64\n",
      " 32  360天内其他申请平台数        8228 non-null   float64\n",
      " 33  720天内总申请平台数         8228 non-null   float64\n",
      " 34  720天内银行申请平台数        8228 non-null   float64\n",
      " 35  720天内持牌消金申请平台数      8228 non-null   float64\n",
      " 36  720天内互金申请平台数        8228 non-null   float64\n",
      " 37  720天内金融科技申请平台数      8228 non-null   float64\n",
      " 38  720天内其他申请平台数        8228 non-null   float64\n",
      " 39  180天总申请白天次数         8228 non-null   float64\n",
      " 40  360天总申请白天次数         8228 non-null   float64\n",
      " 41  720天总申请白天次数         8228 non-null   float64\n",
      " 42  180天总申请夜晚次数         8228 non-null   float64\n",
      " 43  360天总申请夜晚次数         8228 non-null   float64\n",
      " 44  720天总申请夜晚次数         8228 non-null   float64\n",
      " 45  180天银行申请白天次数        8228 non-null   float64\n",
      " 46  360天银行申请白天次数        8228 non-null   float64\n",
      " 47  720天银行申请白天次数        8228 non-null   float64\n",
      " 48  180天银行申请夜晚次数        8228 non-null   float64\n",
      " 49  360天银行申请夜晚次数        8228 non-null   float64\n",
      " 50  720天银行申请夜晚次数        8228 non-null   float64\n",
      " 51  180天总申请白天平台数        8228 non-null   float64\n",
      " 52  360天总申请白天平台数        8228 non-null   float64\n",
      " 53  720天总申请白天平台数        8228 non-null   float64\n",
      " 54  180天总申请夜晚平台数        8228 non-null   float64\n",
      " 55  360天总申请夜晚平台数        8228 non-null   float64\n",
      " 56  720天总申请夜晚平台数        8228 non-null   float64\n",
      " 57  180天银行申请白天平台数       8228 non-null   float64\n",
      " 58  360天银行申请白天平台数       8228 non-null   float64\n",
      " 59  720天银行申请白天平台数       8228 non-null   float64\n",
      " 60  180天银行申请夜晚平台数       8228 non-null   float64\n",
      " 61  360天银行申请夜晚平台数       8228 non-null   float64\n",
      " 62  720天银行申请夜晚平台数       8228 non-null   float64\n",
      " 63  7天相对过去180天新增总平台数    8228 non-null   float64\n",
      " 64  7天相对过去360天新增总平台数    8228 non-null   float64\n",
      " 65  7天相对过去720天新增总平台数    8228 non-null   float64\n",
      " 66  15天相对过去180天新增总平台数   8228 non-null   float64\n",
      " 67  15天相对过去360天新增总平台数   8228 non-null   float64\n",
      " 68  15天相对过去720天新增总平台数   8228 non-null   float64\n",
      " 69  30天相对过去180天新增总平台数   8228 non-null   float64\n",
      " 70  30天相对过去360天新增总平台数   8228 non-null   float64\n",
      " 71  30天相对过去720天新增总平台数   8228 non-null   float64\n",
      " 72  7天相对过去180天新增银行平台数   8228 non-null   float64\n",
      " 73  7天相对过去360天新增银行平台数   8228 non-null   float64\n",
      " 74  7天相对过去720天新增银行平台数   8228 non-null   float64\n",
      " 75  15天相对过去180天新增银行平台数  8228 non-null   float64\n",
      " 76  15天相对过去360天新增银行平台数  8228 non-null   float64\n",
      " 77  15天相对过去720天新增银行平台数  8228 non-null   float64\n",
      " 78  30天相对过去180天新增银行平台数  8228 non-null   float64\n",
      " 79  30天相对过去360天新增银行平台数  8228 non-null   float64\n",
      " 80  30天相对过去720天新增银行平台数  8228 non-null   float64\n",
      " 81  最早一次查询距今的天数         8228 non-null   float64\n",
      " 82  最近一次查询距今的天数         8228 non-null   float64\n",
      " 83  最早一次在非银机构距今的天数      7947 non-null   float64\n",
      " 84  最近一次在非银机构距今的天数      7947 non-null   float64\n",
      " 85  多头申请通用分             9286 non-null   float64\n",
      " 86  长周期多头申请分            9286 non-null   float64\n",
      " 87  短周期多头申请分            9286 non-null   float64\n",
      " 88  银行多头申请分             9286 non-null   float64\n",
      " 89  非银多头申请分             9286 non-null   float64\n",
      "dtypes: float64(88), object(2)\n",
      "memory usage: 6.9+ MB\n"
     ]
    }
   ],
   "source": [
    "tc_duotou[keep_features].info(verbose=True, show_counts=True)"
   ]
  },
  {
   "cell_type": "code",
   "execution_count": 38,
   "id": "d5c7414e-05fa-4f66-8947-213883689ae0",
   "metadata": {},
   "outputs": [],
   "source": [
    "tc_duotou = tc_duotou[keep_features]"
   ]
  },
  {
   "cell_type": "code",
   "execution_count": 39,
   "id": "ffba46cb-a364-4928-88c6-90cff53d7c1f",
   "metadata": {
    "tags": []
   },
   "outputs": [],
   "source": [
    "tc_duotou_bin = tc_duotou.copy()\n",
    "apply_count = tc_duotou_bin.filter(regex=\"\\d+天|order_status_key\").dropna(subset=\"30天相对过去720天新增银行平台数\")\n",
    "apply_count.iloc[:, 1:] = apply_count.iloc[:, 1:].apply(binning)"
   ]
  },
  {
   "cell_type": "code",
   "execution_count": 40,
   "id": "8fec2451-a011-444f-bcbd-2292364612fc",
   "metadata": {
    "collapsed": true,
    "jupyter": {
     "outputs_hidden": true
    },
    "tags": []
   },
   "outputs": [
    {
     "data": {
      "text/html": [
       "<div>\n",
       "<style scoped>\n",
       "    .dataframe tbody tr th:only-of-type {\n",
       "        vertical-align: middle;\n",
       "    }\n",
       "\n",
       "    .dataframe tbody tr th {\n",
       "        vertical-align: top;\n",
       "    }\n",
       "\n",
       "    .dataframe thead th {\n",
       "        text-align: right;\n",
       "    }\n",
       "</style>\n",
       "<table border=\"1\" class=\"dataframe\">\n",
       "  <thead>\n",
       "    <tr style=\"text-align: right;\">\n",
       "      <th></th>\n",
       "      <th>feature</th>\n",
       "      <th>iv</th>\n",
       "    </tr>\n",
       "  </thead>\n",
       "  <tbody>\n",
       "    <tr>\n",
       "      <th>20</th>\n",
       "      <td>180天总申请白天平台数</td>\n",
       "      <td>0.995927</td>\n",
       "    </tr>\n",
       "    <tr>\n",
       "      <th>10</th>\n",
       "      <td>180天内总申请平台数</td>\n",
       "      <td>0.984277</td>\n",
       "    </tr>\n",
       "    <tr>\n",
       "      <th>36</th>\n",
       "      <td>360天内总申请平台数</td>\n",
       "      <td>0.970329</td>\n",
       "    </tr>\n",
       "    <tr>\n",
       "      <th>72</th>\n",
       "      <td>7天相对过去180天新增总平台数</td>\n",
       "      <td>0.926409</td>\n",
       "    </tr>\n",
       "    <tr>\n",
       "      <th>46</th>\n",
       "      <td>360天总申请白天平台数</td>\n",
       "      <td>0.923856</td>\n",
       "    </tr>\n",
       "    <tr>\n",
       "      <th>74</th>\n",
       "      <td>7天相对过去360天新增总平台数</td>\n",
       "      <td>0.882045</td>\n",
       "    </tr>\n",
       "    <tr>\n",
       "      <th>56</th>\n",
       "      <td>720天内总申请平台数</td>\n",
       "      <td>0.875220</td>\n",
       "    </tr>\n",
       "    <tr>\n",
       "      <th>66</th>\n",
       "      <td>720天总申请白天平台数</td>\n",
       "      <td>0.865227</td>\n",
       "    </tr>\n",
       "    <tr>\n",
       "      <th>2</th>\n",
       "      <td>15天相对过去360天新增总平台数</td>\n",
       "      <td>0.853127</td>\n",
       "    </tr>\n",
       "    <tr>\n",
       "      <th>76</th>\n",
       "      <td>7天相对过去720天新增总平台数</td>\n",
       "      <td>0.850185</td>\n",
       "    </tr>\n",
       "    <tr>\n",
       "      <th>41</th>\n",
       "      <td>360天内金融科技申请次数</td>\n",
       "      <td>0.839424</td>\n",
       "    </tr>\n",
       "    <tr>\n",
       "      <th>0</th>\n",
       "      <td>15天相对过去180天新增总平台数</td>\n",
       "      <td>0.838077</td>\n",
       "    </tr>\n",
       "    <tr>\n",
       "      <th>14</th>\n",
       "      <td>180天内金融科技申请平台数</td>\n",
       "      <td>0.833434</td>\n",
       "    </tr>\n",
       "    <tr>\n",
       "      <th>4</th>\n",
       "      <td>15天相对过去720天新增总平台数</td>\n",
       "      <td>0.803950</td>\n",
       "    </tr>\n",
       "    <tr>\n",
       "      <th>61</th>\n",
       "      <td>720天内金融科技申请次数</td>\n",
       "      <td>0.789886</td>\n",
       "    </tr>\n",
       "    <tr>\n",
       "      <th>60</th>\n",
       "      <td>720天内金融科技申请平台数</td>\n",
       "      <td>0.775273</td>\n",
       "    </tr>\n",
       "    <tr>\n",
       "      <th>40</th>\n",
       "      <td>360天内金融科技申请平台数</td>\n",
       "      <td>0.771185</td>\n",
       "    </tr>\n",
       "    <tr>\n",
       "      <th>28</th>\n",
       "      <td>30天相对过去360天新增总平台数</td>\n",
       "      <td>0.756076</td>\n",
       "    </tr>\n",
       "    <tr>\n",
       "      <th>11</th>\n",
       "      <td>180天内总申请次数</td>\n",
       "      <td>0.754487</td>\n",
       "    </tr>\n",
       "    <tr>\n",
       "      <th>15</th>\n",
       "      <td>180天内金融科技申请次数</td>\n",
       "      <td>0.750449</td>\n",
       "    </tr>\n",
       "    <tr>\n",
       "      <th>21</th>\n",
       "      <td>180天总申请白天次数</td>\n",
       "      <td>0.749344</td>\n",
       "    </tr>\n",
       "    <tr>\n",
       "      <th>30</th>\n",
       "      <td>30天相对过去720天新增总平台数</td>\n",
       "      <td>0.744050</td>\n",
       "    </tr>\n",
       "    <tr>\n",
       "      <th>47</th>\n",
       "      <td>360天总申请白天次数</td>\n",
       "      <td>0.738069</td>\n",
       "    </tr>\n",
       "    <tr>\n",
       "      <th>37</th>\n",
       "      <td>360天内总申请次数</td>\n",
       "      <td>0.733124</td>\n",
       "    </tr>\n",
       "    <tr>\n",
       "      <th>26</th>\n",
       "      <td>30天相对过去180天新增总平台数</td>\n",
       "      <td>0.703505</td>\n",
       "    </tr>\n",
       "    <tr>\n",
       "      <th>52</th>\n",
       "      <td>720天内互金申请平台数</td>\n",
       "      <td>0.664999</td>\n",
       "    </tr>\n",
       "    <tr>\n",
       "      <th>67</th>\n",
       "      <td>720天总申请白天次数</td>\n",
       "      <td>0.651672</td>\n",
       "    </tr>\n",
       "    <tr>\n",
       "      <th>57</th>\n",
       "      <td>720天内总申请次数</td>\n",
       "      <td>0.646131</td>\n",
       "    </tr>\n",
       "    <tr>\n",
       "      <th>32</th>\n",
       "      <td>360天内互金申请平台数</td>\n",
       "      <td>0.631076</td>\n",
       "    </tr>\n",
       "    <tr>\n",
       "      <th>58</th>\n",
       "      <td>720天内持牌消金申请平台数</td>\n",
       "      <td>0.563975</td>\n",
       "    </tr>\n",
       "    <tr>\n",
       "      <th>6</th>\n",
       "      <td>180天内互金申请平台数</td>\n",
       "      <td>0.560220</td>\n",
       "    </tr>\n",
       "    <tr>\n",
       "      <th>59</th>\n",
       "      <td>720天内持牌消金申请次数</td>\n",
       "      <td>0.553829</td>\n",
       "    </tr>\n",
       "    <tr>\n",
       "      <th>35</th>\n",
       "      <td>360天内其他申请次数</td>\n",
       "      <td>0.536725</td>\n",
       "    </tr>\n",
       "    <tr>\n",
       "      <th>9</th>\n",
       "      <td>180天内其他申请次数</td>\n",
       "      <td>0.510668</td>\n",
       "    </tr>\n",
       "    <tr>\n",
       "      <th>55</th>\n",
       "      <td>720天内其他申请次数</td>\n",
       "      <td>0.443107</td>\n",
       "    </tr>\n",
       "    <tr>\n",
       "      <th>38</th>\n",
       "      <td>360天内持牌消金申请平台数</td>\n",
       "      <td>0.439936</td>\n",
       "    </tr>\n",
       "    <tr>\n",
       "      <th>39</th>\n",
       "      <td>360天内持牌消金申请次数</td>\n",
       "      <td>0.433340</td>\n",
       "    </tr>\n",
       "    <tr>\n",
       "      <th>8</th>\n",
       "      <td>180天内其他申请平台数</td>\n",
       "      <td>0.427827</td>\n",
       "    </tr>\n",
       "    <tr>\n",
       "      <th>13</th>\n",
       "      <td>180天内持牌消金申请次数</td>\n",
       "      <td>0.397636</td>\n",
       "    </tr>\n",
       "    <tr>\n",
       "      <th>34</th>\n",
       "      <td>360天内其他申请平台数</td>\n",
       "      <td>0.395448</td>\n",
       "    </tr>\n",
       "    <tr>\n",
       "      <th>54</th>\n",
       "      <td>720天内其他申请平台数</td>\n",
       "      <td>0.389461</td>\n",
       "    </tr>\n",
       "    <tr>\n",
       "      <th>12</th>\n",
       "      <td>180天内持牌消金申请平台数</td>\n",
       "      <td>0.382037</td>\n",
       "    </tr>\n",
       "    <tr>\n",
       "      <th>53</th>\n",
       "      <td>720天内互金申请次数</td>\n",
       "      <td>0.370309</td>\n",
       "    </tr>\n",
       "    <tr>\n",
       "      <th>64</th>\n",
       "      <td>720天总申请夜晚平台数</td>\n",
       "      <td>0.359700</td>\n",
       "    </tr>\n",
       "    <tr>\n",
       "      <th>33</th>\n",
       "      <td>360天内互金申请次数</td>\n",
       "      <td>0.357179</td>\n",
       "    </tr>\n",
       "    <tr>\n",
       "      <th>44</th>\n",
       "      <td>360天总申请夜晚平台数</td>\n",
       "      <td>0.333180</td>\n",
       "    </tr>\n",
       "    <tr>\n",
       "      <th>7</th>\n",
       "      <td>180天内互金申请次数</td>\n",
       "      <td>0.332165</td>\n",
       "    </tr>\n",
       "    <tr>\n",
       "      <th>65</th>\n",
       "      <td>720天总申请夜晚次数</td>\n",
       "      <td>0.284390</td>\n",
       "    </tr>\n",
       "    <tr>\n",
       "      <th>42</th>\n",
       "      <td>360天内银行申请平台数</td>\n",
       "      <td>0.255060</td>\n",
       "    </tr>\n",
       "    <tr>\n",
       "      <th>43</th>\n",
       "      <td>360天内银行申请次数</td>\n",
       "      <td>0.251356</td>\n",
       "    </tr>\n",
       "    <tr>\n",
       "      <th>62</th>\n",
       "      <td>720天内银行申请平台数</td>\n",
       "      <td>0.250351</td>\n",
       "    </tr>\n",
       "    <tr>\n",
       "      <th>70</th>\n",
       "      <td>720天银行申请白天平台数</td>\n",
       "      <td>0.245212</td>\n",
       "    </tr>\n",
       "    <tr>\n",
       "      <th>45</th>\n",
       "      <td>360天总申请夜晚次数</td>\n",
       "      <td>0.242710</td>\n",
       "    </tr>\n",
       "    <tr>\n",
       "      <th>50</th>\n",
       "      <td>360天银行申请白天平台数</td>\n",
       "      <td>0.228401</td>\n",
       "    </tr>\n",
       "    <tr>\n",
       "      <th>51</th>\n",
       "      <td>360天银行申请白天次数</td>\n",
       "      <td>0.227308</td>\n",
       "    </tr>\n",
       "    <tr>\n",
       "      <th>71</th>\n",
       "      <td>720天银行申请白天次数</td>\n",
       "      <td>0.225794</td>\n",
       "    </tr>\n",
       "    <tr>\n",
       "      <th>63</th>\n",
       "      <td>720天内银行申请次数</td>\n",
       "      <td>0.222033</td>\n",
       "    </tr>\n",
       "    <tr>\n",
       "      <th>18</th>\n",
       "      <td>180天总申请夜晚平台数</td>\n",
       "      <td>0.218749</td>\n",
       "    </tr>\n",
       "    <tr>\n",
       "      <th>16</th>\n",
       "      <td>180天内银行申请平台数</td>\n",
       "      <td>0.216251</td>\n",
       "    </tr>\n",
       "    <tr>\n",
       "      <th>17</th>\n",
       "      <td>180天内银行申请次数</td>\n",
       "      <td>0.214544</td>\n",
       "    </tr>\n",
       "    <tr>\n",
       "      <th>77</th>\n",
       "      <td>7天相对过去720天新增银行平台数</td>\n",
       "      <td>0.213496</td>\n",
       "    </tr>\n",
       "    <tr>\n",
       "      <th>5</th>\n",
       "      <td>15天相对过去720天新增银行平台数</td>\n",
       "      <td>0.195659</td>\n",
       "    </tr>\n",
       "    <tr>\n",
       "      <th>19</th>\n",
       "      <td>180天总申请夜晚次数</td>\n",
       "      <td>0.195314</td>\n",
       "    </tr>\n",
       "    <tr>\n",
       "      <th>25</th>\n",
       "      <td>180天银行申请白天次数</td>\n",
       "      <td>0.194943</td>\n",
       "    </tr>\n",
       "    <tr>\n",
       "      <th>24</th>\n",
       "      <td>180天银行申请白天平台数</td>\n",
       "      <td>0.191651</td>\n",
       "    </tr>\n",
       "    <tr>\n",
       "      <th>31</th>\n",
       "      <td>30天相对过去720天新增银行平台数</td>\n",
       "      <td>0.175338</td>\n",
       "    </tr>\n",
       "    <tr>\n",
       "      <th>73</th>\n",
       "      <td>7天相对过去180天新增银行平台数</td>\n",
       "      <td>0.174230</td>\n",
       "    </tr>\n",
       "    <tr>\n",
       "      <th>75</th>\n",
       "      <td>7天相对过去360天新增银行平台数</td>\n",
       "      <td>0.170825</td>\n",
       "    </tr>\n",
       "    <tr>\n",
       "      <th>3</th>\n",
       "      <td>15天相对过去360天新增银行平台数</td>\n",
       "      <td>0.152942</td>\n",
       "    </tr>\n",
       "    <tr>\n",
       "      <th>1</th>\n",
       "      <td>15天相对过去180天新增银行平台数</td>\n",
       "      <td>0.149528</td>\n",
       "    </tr>\n",
       "    <tr>\n",
       "      <th>29</th>\n",
       "      <td>30天相对过去360天新增银行平台数</td>\n",
       "      <td>0.134014</td>\n",
       "    </tr>\n",
       "    <tr>\n",
       "      <th>27</th>\n",
       "      <td>30天相对过去180天新增银行平台数</td>\n",
       "      <td>0.124053</td>\n",
       "    </tr>\n",
       "    <tr>\n",
       "      <th>49</th>\n",
       "      <td>360天银行申请夜晚次数</td>\n",
       "      <td>0.051905</td>\n",
       "    </tr>\n",
       "    <tr>\n",
       "      <th>48</th>\n",
       "      <td>360天银行申请夜晚平台数</td>\n",
       "      <td>0.051905</td>\n",
       "    </tr>\n",
       "    <tr>\n",
       "      <th>68</th>\n",
       "      <td>720天银行申请夜晚平台数</td>\n",
       "      <td>0.048672</td>\n",
       "    </tr>\n",
       "    <tr>\n",
       "      <th>69</th>\n",
       "      <td>720天银行申请夜晚次数</td>\n",
       "      <td>0.042087</td>\n",
       "    </tr>\n",
       "    <tr>\n",
       "      <th>23</th>\n",
       "      <td>180天银行申请夜晚次数</td>\n",
       "      <td>0.037229</td>\n",
       "    </tr>\n",
       "    <tr>\n",
       "      <th>22</th>\n",
       "      <td>180天银行申请夜晚平台数</td>\n",
       "      <td>0.037229</td>\n",
       "    </tr>\n",
       "  </tbody>\n",
       "</table>\n",
       "</div>"
      ],
      "text/plain": [
       "               feature        iv\n",
       "20        180天总申请白天平台数  0.995927\n",
       "10         180天内总申请平台数  0.984277\n",
       "36         360天内总申请平台数  0.970329\n",
       "72    7天相对过去180天新增总平台数  0.926409\n",
       "46        360天总申请白天平台数  0.923856\n",
       "74    7天相对过去360天新增总平台数  0.882045\n",
       "56         720天内总申请平台数  0.875220\n",
       "66        720天总申请白天平台数  0.865227\n",
       "2    15天相对过去360天新增总平台数  0.853127\n",
       "76    7天相对过去720天新增总平台数  0.850185\n",
       "41       360天内金融科技申请次数  0.839424\n",
       "0    15天相对过去180天新增总平台数  0.838077\n",
       "14      180天内金融科技申请平台数  0.833434\n",
       "4    15天相对过去720天新增总平台数  0.803950\n",
       "61       720天内金融科技申请次数  0.789886\n",
       "60      720天内金融科技申请平台数  0.775273\n",
       "40      360天内金融科技申请平台数  0.771185\n",
       "28   30天相对过去360天新增总平台数  0.756076\n",
       "11          180天内总申请次数  0.754487\n",
       "15       180天内金融科技申请次数  0.750449\n",
       "21         180天总申请白天次数  0.749344\n",
       "30   30天相对过去720天新增总平台数  0.744050\n",
       "47         360天总申请白天次数  0.738069\n",
       "37          360天内总申请次数  0.733124\n",
       "26   30天相对过去180天新增总平台数  0.703505\n",
       "52        720天内互金申请平台数  0.664999\n",
       "67         720天总申请白天次数  0.651672\n",
       "57          720天内总申请次数  0.646131\n",
       "32        360天内互金申请平台数  0.631076\n",
       "58      720天内持牌消金申请平台数  0.563975\n",
       "6         180天内互金申请平台数  0.560220\n",
       "59       720天内持牌消金申请次数  0.553829\n",
       "35         360天内其他申请次数  0.536725\n",
       "9          180天内其他申请次数  0.510668\n",
       "55         720天内其他申请次数  0.443107\n",
       "38      360天内持牌消金申请平台数  0.439936\n",
       "39       360天内持牌消金申请次数  0.433340\n",
       "8         180天内其他申请平台数  0.427827\n",
       "13       180天内持牌消金申请次数  0.397636\n",
       "34        360天内其他申请平台数  0.395448\n",
       "54        720天内其他申请平台数  0.389461\n",
       "12      180天内持牌消金申请平台数  0.382037\n",
       "53         720天内互金申请次数  0.370309\n",
       "64        720天总申请夜晚平台数  0.359700\n",
       "33         360天内互金申请次数  0.357179\n",
       "44        360天总申请夜晚平台数  0.333180\n",
       "7          180天内互金申请次数  0.332165\n",
       "65         720天总申请夜晚次数  0.284390\n",
       "42        360天内银行申请平台数  0.255060\n",
       "43         360天内银行申请次数  0.251356\n",
       "62        720天内银行申请平台数  0.250351\n",
       "70       720天银行申请白天平台数  0.245212\n",
       "45         360天总申请夜晚次数  0.242710\n",
       "50       360天银行申请白天平台数  0.228401\n",
       "51        360天银行申请白天次数  0.227308\n",
       "71        720天银行申请白天次数  0.225794\n",
       "63         720天内银行申请次数  0.222033\n",
       "18        180天总申请夜晚平台数  0.218749\n",
       "16        180天内银行申请平台数  0.216251\n",
       "17         180天内银行申请次数  0.214544\n",
       "77   7天相对过去720天新增银行平台数  0.213496\n",
       "5   15天相对过去720天新增银行平台数  0.195659\n",
       "19         180天总申请夜晚次数  0.195314\n",
       "25        180天银行申请白天次数  0.194943\n",
       "24       180天银行申请白天平台数  0.191651\n",
       "31  30天相对过去720天新增银行平台数  0.175338\n",
       "73   7天相对过去180天新增银行平台数  0.174230\n",
       "75   7天相对过去360天新增银行平台数  0.170825\n",
       "3   15天相对过去360天新增银行平台数  0.152942\n",
       "1   15天相对过去180天新增银行平台数  0.149528\n",
       "29  30天相对过去360天新增银行平台数  0.134014\n",
       "27  30天相对过去180天新增银行平台数  0.124053\n",
       "49        360天银行申请夜晚次数  0.051905\n",
       "48       360天银行申请夜晚平台数  0.051905\n",
       "68       720天银行申请夜晚平台数  0.048672\n",
       "69        720天银行申请夜晚次数  0.042087\n",
       "23        180天银行申请夜晚次数  0.037229\n",
       "22       180天银行申请夜晚平台数  0.037229"
      ]
     },
     "execution_count": 40,
     "metadata": {},
     "output_type": "execute_result"
    }
   ],
   "source": [
    "feature_iv = []\n",
    "for f in apply_count.columns.difference(['order_status_key']):\n",
    "    feature_iv.append([f, calc_iv(apply_count, f, 'order_status_key')])\n",
    "feature_iv = pd.DataFrame(feature_iv, columns=['feature', 'iv']).sort_values('iv', ascending=False)\n",
    "feature_iv"
   ]
  },
  {
   "cell_type": "code",
   "execution_count": 41,
   "id": "4341157a-1122-4b72-8666-50d1e03e1df6",
   "metadata": {},
   "outputs": [],
   "source": [
    "apply_inte = tc_duotou_bin[['最早一次在非银机构距今的天数', '最近一次在非银机构距今的天数', 'order_status_key']].dropna(subset=\"最早一次在非银机构距今的天数\")\n",
    "apply_inte.iloc[:, :-1] = apply_inte.iloc[:, :-1].apply(binning)"
   ]
  },
  {
   "cell_type": "code",
   "execution_count": 42,
   "id": "4eafbbc3-6c30-4906-962f-94c1495b8d79",
   "metadata": {},
   "outputs": [
    {
     "data": {
      "text/html": [
       "<div>\n",
       "<style scoped>\n",
       "    .dataframe tbody tr th:only-of-type {\n",
       "        vertical-align: middle;\n",
       "    }\n",
       "\n",
       "    .dataframe tbody tr th {\n",
       "        vertical-align: top;\n",
       "    }\n",
       "\n",
       "    .dataframe thead th {\n",
       "        text-align: right;\n",
       "    }\n",
       "</style>\n",
       "<table border=\"1\" class=\"dataframe\">\n",
       "  <thead>\n",
       "    <tr style=\"text-align: right;\">\n",
       "      <th></th>\n",
       "      <th>feature</th>\n",
       "      <th>iv</th>\n",
       "    </tr>\n",
       "  </thead>\n",
       "  <tbody>\n",
       "    <tr>\n",
       "      <th>1</th>\n",
       "      <td>最近一次在非银机构距今的天数</td>\n",
       "      <td>0.324254</td>\n",
       "    </tr>\n",
       "    <tr>\n",
       "      <th>0</th>\n",
       "      <td>最早一次在非银机构距今的天数</td>\n",
       "      <td>0.064857</td>\n",
       "    </tr>\n",
       "  </tbody>\n",
       "</table>\n",
       "</div>"
      ],
      "text/plain": [
       "          feature        iv\n",
       "1  最近一次在非银机构距今的天数  0.324254\n",
       "0  最早一次在非银机构距今的天数  0.064857"
      ]
     },
     "execution_count": 42,
     "metadata": {},
     "output_type": "execute_result"
    }
   ],
   "source": [
    "feature_iv = []\n",
    "for f in apply_inte.columns.difference(['order_status_key']):\n",
    "    feature_iv.append([f, calc_iv(apply_inte, f, 'order_status_key')])\n",
    "feature_iv = pd.DataFrame(feature_iv, columns=['feature', 'iv']).sort_values('iv', ascending=False)\n",
    "feature_iv"
   ]
  },
  {
   "cell_type": "code",
   "execution_count": 43,
   "id": "327b5f22-87e8-403d-bcf8-7d30d31ffcc8",
   "metadata": {},
   "outputs": [],
   "source": [
    "apply_score = tc_duotou_bin.filter(regex=\"申请分|order_status\").dropna(subset=\"非银多头申请分\")\n",
    "apply_score.iloc[:, 1:] = MinMaxScaler().fit_transform(apply_score.iloc[:, 1:])\n",
    "apply_score.iloc[:, 1:] = apply_score.iloc[:, 1:].apply(binning)"
   ]
  },
  {
   "cell_type": "code",
   "execution_count": 44,
   "id": "cd2c7415-e8c1-4666-8e23-4c8e86c1a90e",
   "metadata": {},
   "outputs": [
    {
     "data": {
      "text/html": [
       "<div>\n",
       "<style scoped>\n",
       "    .dataframe tbody tr th:only-of-type {\n",
       "        vertical-align: middle;\n",
       "    }\n",
       "\n",
       "    .dataframe tbody tr th {\n",
       "        vertical-align: top;\n",
       "    }\n",
       "\n",
       "    .dataframe thead th {\n",
       "        text-align: right;\n",
       "    }\n",
       "</style>\n",
       "<table border=\"1\" class=\"dataframe\">\n",
       "  <thead>\n",
       "    <tr style=\"text-align: right;\">\n",
       "      <th></th>\n",
       "      <th>feature</th>\n",
       "      <th>iv</th>\n",
       "    </tr>\n",
       "  </thead>\n",
       "  <tbody>\n",
       "    <tr>\n",
       "      <th>0</th>\n",
       "      <td>短周期多头申请分</td>\n",
       "      <td>0.720474</td>\n",
       "    </tr>\n",
       "    <tr>\n",
       "      <th>3</th>\n",
       "      <td>非银多头申请分</td>\n",
       "      <td>0.506807</td>\n",
       "    </tr>\n",
       "    <tr>\n",
       "      <th>1</th>\n",
       "      <td>银行多头申请分</td>\n",
       "      <td>0.408525</td>\n",
       "    </tr>\n",
       "    <tr>\n",
       "      <th>2</th>\n",
       "      <td>长周期多头申请分</td>\n",
       "      <td>0.349152</td>\n",
       "    </tr>\n",
       "  </tbody>\n",
       "</table>\n",
       "</div>"
      ],
      "text/plain": [
       "    feature        iv\n",
       "0  短周期多头申请分  0.720474\n",
       "3   非银多头申请分  0.506807\n",
       "1   银行多头申请分  0.408525\n",
       "2  长周期多头申请分  0.349152"
      ]
     },
     "execution_count": 44,
     "metadata": {},
     "output_type": "execute_result"
    }
   ],
   "source": [
    "feature_iv = []\n",
    "for f in apply_score.columns.difference(['order_status_key']):\n",
    "    feature_iv.append([f, calc_iv(apply_score, f, 'order_status_key')])\n",
    "feature_iv = pd.DataFrame(feature_iv, columns=['feature', 'iv']).sort_values('iv', ascending=False)\n",
    "feature_iv"
   ]
  },
  {
   "cell_type": "markdown",
   "id": "d2861ffd-7ef9-46d6-a497-3362fa5f7b0c",
   "metadata": {},
   "source": [
    "## 腾讯逾期\n",
    "覆盖客户少，而且有逾期记录的客户中，无法有效区分出高质量客户"
   ]
  },
  {
   "cell_type": "code",
   "execution_count": 45,
   "id": "d4d009c7-425c-4df7-a20f-ce0a46d88059",
   "metadata": {},
   "outputs": [],
   "source": [
    "tc_overdue = data[['sample', 'tc_overdue']]\n",
    "tc_overdue.columns = tc_overdue.columns.get_level_values(1)"
   ]
  },
  {
   "cell_type": "code",
   "execution_count": 46,
   "id": "37f33e6c-3d4f-4dd7-846d-3e702cb53d6e",
   "metadata": {
    "collapsed": true,
    "jupyter": {
     "outputs_hidden": true
    },
    "tags": []
   },
   "outputs": [
    {
     "data": {
      "text/plain": [
       "<AxesSubplot:>"
      ]
     },
     "execution_count": 46,
     "metadata": {},
     "output_type": "execute_result"
    },
    {
     "data": {
      "image/png": "[encoded data removed]",
      "text/plain": [
       "<Figure size 2500x1000 with 2 Axes>"
      ]
     },
     "metadata": {},
     "output_type": "display_data"
    }
   ],
   "source": [
    "msno.matrix(tc_overdue)"
   ]
  },
  {
   "cell_type": "code",
   "execution_count": 47,
   "id": "d84b694b-9f3e-483e-9525-59d27bdb7bc8",
   "metadata": {},
   "outputs": [],
   "source": [
    "tc_overdue = tc_overdue.fillna(0)\n",
    "tc_overdue['have_record'] = tc_overdue.iloc[:, 3:].sum(axis=1) > 0"
   ]
  },
  {
   "cell_type": "code",
   "execution_count": 48,
   "id": "0b5c040d-e61d-4da0-b0b0-7ec2d05c47d6",
   "metadata": {},
   "outputs": [
    {
     "data": {
      "text/plain": [
       "0.0    297\n",
       "1.0     97\n",
       "Name: order_status_key, dtype: int64"
      ]
     },
     "execution_count": 48,
     "metadata": {},
     "output_type": "execute_result"
    }
   ],
   "source": [
    "tc_overdue.query('have_record == 1')['order_status_key'].value_counts()"
   ]
  },
  {
   "cell_type": "markdown",
   "id": "8ccc7db0-ef18-4c0d-b80f-89a17be4ad26",
   "metadata": {},
   "source": [
    "## 腾讯圈团&可疑&电诈\n",
    "没什么用"
   ]
  },
  {
   "cell_type": "code",
   "execution_count": 49,
   "id": "a03cb86a-288d-4b8b-b7df-da090f3ed07a",
   "metadata": {},
   "outputs": [],
   "source": [
    "tc_risk = data[['sample', 'tc_risk']]\n",
    "tc_risk.columns = tc_risk.columns.get_level_values(1)"
   ]
  },
  {
   "cell_type": "code",
   "execution_count": 50,
   "id": "e661fd8a-e6b1-473d-a28f-519306f1aef6",
   "metadata": {},
   "outputs": [
    {
     "name": "stderr",
     "output_type": "stream",
     "text": [
      "/tmp/ipykernel_189066/1877764883.py:1: SettingWithCopyWarning: \n",
      "A value is trying to be set on a copy of a slice from a DataFrame.\n",
      "Try using .loc[row_indexer,col_indexer] = value instead\n",
      "\n",
      "See the caveats in the documentation: https://pandas.pydata.org/pandas-docs/stable/user_guide/indexing.html#returning-a-view-versus-a-copy\n",
      "  tc_risk['疑似被电诈V3（92006）'] = np.nan\n"
     ]
    }
   ],
   "source": [
    "tc_risk['疑似被电诈V3（92006）'] = np.nan"
   ]
  },
  {
   "cell_type": "code",
   "execution_count": 51,
   "id": "828b3c18-320d-41ea-bb38-748e0d1918f9",
   "metadata": {},
   "outputs": [
    {
     "name": "stdout",
     "output_type": "stream",
     "text": [
      "(9111, 5)\n",
      "                     customer_phone apply_date_key  order_status_key  \\\n",
      "1  057331edd64b9002ddfc084e2d09b441     2023-03-25               1.0   \n",
      "2  2d84b1d936cfc398062267ae3c88ba5e     2023-03-22               1.0   \n",
      "\n",
      "   圈团1迭代浓度分V2(21007)  圈团3浓度分V1（23006）  \n",
      "1               45.0             26.0  \n",
      "2               37.0             26.0  \n"
     ]
    }
   ],
   "source": [
    "keep_features = list(filter(lambda x: sum(tc_risk[x].isna().values) < 2000, tc_risk.columns))\n",
    "tc_risk = tc_risk[keep_features].dropna()\n",
    "peek(tc_risk, 2)"
   ]
  },
  {
   "cell_type": "code",
   "execution_count": 52,
   "id": "ee482a97-de80-4972-956e-afbcbfc4e600",
   "metadata": {},
   "outputs": [],
   "source": [
    "tc_risk.iloc[:, 3:] = MinMaxScaler().fit_transform(tc_risk.iloc[:, 3:])\n",
    "tc_risk.iloc[:, 3:] = tc_risk.iloc[:, 3:].apply(binning)"
   ]
  },
  {
   "cell_type": "code",
   "execution_count": 53,
   "id": "4b439056-54fa-4caa-b0b0-321544fd971a",
   "metadata": {},
   "outputs": [
    {
     "name": "stdout",
     "output_type": "stream",
     "text": [
      "圈团1迭代浓度分V2(21007) iv:  0.070432\n",
      "圈团3浓度分V1（23006） iv:  0.048504\n"
     ]
    }
   ],
   "source": [
    "for c in tc_risk.iloc[:, 3:].columns:\n",
    "    print(c, \"iv: \", calc_iv(tc_risk, c, 'order_status_key', False))"
   ]
  },
  {
   "cell_type": "markdown",
   "id": "a98a2a18-8c01-4a3e-9f00-1de89b9b8f99",
   "metadata": {},
   "source": [
    "## 尚为逾期\n",
    "效果一般"
   ]
  },
  {
   "cell_type": "code",
   "execution_count": 54,
   "id": "b9d3fe80-05cf-44c6-b3de-d081a1caf930",
   "metadata": {
    "tags": []
   },
   "outputs": [],
   "source": [
    "sw_overdue = data[['sample', 'sw_overdue']]\n",
    "sw_overdue.columns = sw_overdue.columns.get_level_values(1)\n",
    "sw_overdue = sw_overdue.query(\"y == 'y'\").drop('y', axis=1)"
   ]
  },
  {
   "cell_type": "code",
   "execution_count": 55,
   "id": "9fa212d6-4cc3-4510-b8d3-5d05f2fc3f5b",
   "metadata": {
    "tags": []
   },
   "outputs": [
    {
     "data": {
      "text/plain": [
       "<AxesSubplot:>"
      ]
     },
     "execution_count": 55,
     "metadata": {},
     "output_type": "execute_result"
    },
    {
     "data": {
      "image/png": "[encoded data removed]",
      "text/plain": [
       "<Figure size 2500x1000 with 2 Axes>"
      ]
     },
     "metadata": {},
     "output_type": "display_data"
    }
   ],
   "source": [
    "msno.matrix(sw_overdue)"
   ]
  },
  {
   "cell_type": "code",
   "execution_count": 56,
   "id": "b7d07042-906d-49ad-a706-42ab53a9cdba",
   "metadata": {
    "tags": []
   },
   "outputs": [],
   "source": [
    "keep_features = list(filter(lambda x: sum(sw_overdue[x].isna().values) < 2000, sw_overdue.columns))\n",
    "sw_overdue = sw_overdue[keep_features].dropna()"
   ]
  },
  {
   "cell_type": "code",
   "execution_count": 57,
   "id": "4c47d4d1-5718-45f2-a8b9-739fee1d0a20",
   "metadata": {},
   "outputs": [],
   "source": [
    "sw_overdue.iloc[:, 3:] = sw_overdue.iloc[:, 3:].apply(binning)\n",
    "feature_iv = []\n",
    "for f in sw_overdue.iloc[:, 3:].columns:\n",
    "    feature_iv.append([f, calc_iv(sw_overdue, f, 'order_status_key', False)])\n",
    "feature_iv = pd.DataFrame(feature_iv, columns=['features', 'iv']).sort_values('iv', ascending=False)"
   ]
  },
  {
   "cell_type": "code",
   "execution_count": 58,
   "id": "4bf3815f-64f9-4e02-b7fe-ddf6959f20f4",
   "metadata": {},
   "outputs": [
    {
     "data": {
      "text/html": [
       "<div>\n",
       "<style scoped>\n",
       "    .dataframe tbody tr th:only-of-type {\n",
       "        vertical-align: middle;\n",
       "    }\n",
       "\n",
       "    .dataframe tbody tr th {\n",
       "        vertical-align: top;\n",
       "    }\n",
       "\n",
       "    .dataframe thead th {\n",
       "        text-align: right;\n",
       "    }\n",
       "</style>\n",
       "<table border=\"1\" class=\"dataframe\">\n",
       "  <thead>\n",
       "    <tr style=\"text-align: right;\">\n",
       "      <th></th>\n",
       "      <th>features</th>\n",
       "      <th>iv</th>\n",
       "    </tr>\n",
       "  </thead>\n",
       "  <tbody>\n",
       "    <tr>\n",
       "      <th>7</th>\n",
       "      <td>overdue_risk_ifin_loan_slight_plat_cnt_720d</td>\n",
       "      <td>0.237755</td>\n",
       "    </tr>\n",
       "    <tr>\n",
       "      <th>88</th>\n",
       "      <td>overdue_risk_ifin_loan_slight_cnt_720d</td>\n",
       "      <td>0.228164</td>\n",
       "    </tr>\n",
       "    <tr>\n",
       "      <th>36</th>\n",
       "      <td>overdue_risk_all_slight_plat_cnt_720d</td>\n",
       "      <td>0.200126</td>\n",
       "    </tr>\n",
       "    <tr>\n",
       "      <th>28</th>\n",
       "      <td>overdue_risk_all_slight_cnt_720d</td>\n",
       "      <td>0.177693</td>\n",
       "    </tr>\n",
       "    <tr>\n",
       "      <th>100</th>\n",
       "      <td>overdue_risk_all_serious_cnt_720d</td>\n",
       "      <td>0.164392</td>\n",
       "    </tr>\n",
       "    <tr>\n",
       "      <th>...</th>\n",
       "      <td>...</td>\n",
       "      <td>...</td>\n",
       "    </tr>\n",
       "    <tr>\n",
       "      <th>64</th>\n",
       "      <td>overdue_risk_credit_slight_plat_cnt_180d</td>\n",
       "      <td>0.059911</td>\n",
       "    </tr>\n",
       "    <tr>\n",
       "      <th>65</th>\n",
       "      <td>overdue_risk_credit_serious_cnt_60d</td>\n",
       "      <td>0.059911</td>\n",
       "    </tr>\n",
       "    <tr>\n",
       "      <th>66</th>\n",
       "      <td>overdue_risk_all_general_cnt_90d</td>\n",
       "      <td>0.059911</td>\n",
       "    </tr>\n",
       "    <tr>\n",
       "      <th>67</th>\n",
       "      <td>overdue_risk_all_serious_plat_cnt_360d</td>\n",
       "      <td>0.059911</td>\n",
       "    </tr>\n",
       "    <tr>\n",
       "      <th>167</th>\n",
       "      <td>overdue_risk_all_general_cnt_180d</td>\n",
       "      <td>0.059911</td>\n",
       "    </tr>\n",
       "  </tbody>\n",
       "</table>\n",
       "<p>168 rows × 2 columns</p>\n",
       "</div>"
      ],
      "text/plain": [
       "                                        features        iv\n",
       "7    overdue_risk_ifin_loan_slight_plat_cnt_720d  0.237755\n",
       "88        overdue_risk_ifin_loan_slight_cnt_720d  0.228164\n",
       "36         overdue_risk_all_slight_plat_cnt_720d  0.200126\n",
       "28              overdue_risk_all_slight_cnt_720d  0.177693\n",
       "100            overdue_risk_all_serious_cnt_720d  0.164392\n",
       "..                                           ...       ...\n",
       "64      overdue_risk_credit_slight_plat_cnt_180d  0.059911\n",
       "65           overdue_risk_credit_serious_cnt_60d  0.059911\n",
       "66              overdue_risk_all_general_cnt_90d  0.059911\n",
       "67        overdue_risk_all_serious_plat_cnt_360d  0.059911\n",
       "167            overdue_risk_all_general_cnt_180d  0.059911\n",
       "\n",
       "[168 rows x 2 columns]"
      ]
     },
     "execution_count": 58,
     "metadata": {},
     "output_type": "execute_result"
    }
   ],
   "source": [
    "feature_iv"
   ]
  },
  {
   "cell_type": "markdown",
   "id": "0939731f-8c45-4640-962c-9996398aee2d",
   "metadata": {},
   "source": [
    "## 尚为还款能力\n",
    "效果一般"
   ]
  },
  {
   "cell_type": "code",
   "execution_count": 59,
   "id": "9d690286-a645-4c0c-8c69-0c78c6aa6dec",
   "metadata": {},
   "outputs": [],
   "source": [
    "shangwei_repay = data[['sample', 'sw_repayability']]\n",
    "shangwei_repay.columns = shangwei_repay.columns.get_level_values(1)\n",
    "shangwei_repay = shangwei_repay.query(\"y == 'y'\").drop([\"y\"], axis=1)"
   ]
  },
  {
   "cell_type": "code",
   "execution_count": 60,
   "id": "10876072-906f-4050-9c67-f2e17e96746a",
   "metadata": {},
   "outputs": [
    {
     "name": "stdout",
     "output_type": "stream",
     "text": [
      "              Variable Value   All  Good   Bad  Distribution Good  \\\n",
      "4  repayabilitymodelv3     A   550    89   461           0.031960   \n",
      "0  repayabilitymodelv3     B  3146   591  2555           0.210227   \n",
      "3  repayabilitymodelv3     C  4719  1556  3163           0.552912   \n",
      "2  repayabilitymodelv3     D  1366   465   901           0.165483   \n",
      "1  repayabilitymodelv3     E   266   115   151           0.041193   \n",
      "\n",
      "   Distribution Bad       WoE        IV  \n",
      "4          0.063892 -0.692695  0.022119  \n",
      "0          0.353478 -0.519632  0.074438  \n",
      "3          0.437561  0.233984  0.026990  \n",
      "2          0.124741  0.282631  0.011515  \n",
      "1          0.021021  0.672770  0.013571  \n",
      "IV =  0.148633\n"
     ]
    },
    {
     "data": {
      "text/plain": [
       "0.148633"
      ]
     },
     "execution_count": 60,
     "metadata": {},
     "output_type": "execute_result"
    }
   ],
   "source": [
    "calc_iv(shangwei_repay, 'repayabilitymodelv3', 'order_status_key', True)"
   ]
  },
  {
   "cell_type": "markdown",
   "id": "86f77574-8cbd-4417-8c11-8d40432d6f24",
   "metadata": {},
   "source": [
    "## 尚为收入指数\n",
    "效果一般"
   ]
  },
  {
   "cell_type": "code",
   "execution_count": 61,
   "id": "e7f38f4a-e87b-4add-a328-09ef5b789b74",
   "metadata": {},
   "outputs": [],
   "source": [
    "shangwei_income = data[['sample', 'sw_income']]\n",
    "shangwei_income.columns = shangwei_income.columns.get_level_values(1)\n",
    "shangwei_income = shangwei_income.query(\"y == 'y'\").drop([\"y\"], axis=1)"
   ]
  },
  {
   "cell_type": "code",
   "execution_count": 62,
   "id": "4a05251a-f8b6-4d8f-b5f8-9421677c6197",
   "metadata": {},
   "outputs": [
    {
     "name": "stdout",
     "output_type": "stream",
     "text": [
      "             Variable Value   All  Good   Bad  Distribution Good  \\\n",
      "0  incomelevelmodelv5     A  5669  1303  4366           0.647789   \n",
      "1  incomelevelmodelv5     B  1168   363   805           0.180825   \n",
      "3  incomelevelmodelv5     C   426   144   282           0.072032   \n",
      "5  incomelevelmodelv5     D   153    68    85           0.034277   \n",
      "4  incomelevelmodelv5     E   138    53    85           0.026826   \n",
      "2  incomelevelmodelv5     F   188    82   106           0.041232   \n",
      "\n",
      "   Distribution Bad       WoE        IV  \n",
      "0          0.762262 -0.162725  0.018628  \n",
      "1          0.140688  0.250985  0.010074  \n",
      "3          0.049398  0.377202  0.008538  \n",
      "5          0.015011  0.825674  0.015907  \n",
      "4          0.015011  0.580552  0.006859  \n",
      "2          0.018677  0.791927  0.017862  \n",
      "IV =  0.077867\n"
     ]
    },
    {
     "data": {
      "text/plain": [
       "0.077867"
      ]
     },
     "execution_count": 62,
     "metadata": {},
     "output_type": "execute_result"
    }
   ],
   "source": [
    "calc_iv(shangwei_income, 'incomelevelmodelv5', 'order_status_key', True)"
   ]
  },
  {
   "cell_type": "markdown",
   "id": "baca7b10-68db-4611-b562-190eac000851",
   "metadata": {},
   "source": [
    "## 尚为履约能力\n",
    "效果一般"
   ]
  },
  {
   "cell_type": "code",
   "execution_count": 63,
   "id": "bdfe81a5-f7df-48ef-bb52-fa34151449b8",
   "metadata": {},
   "outputs": [],
   "source": [
    "shangwei_contract = data[['sample', 'sw_contract']]\n",
    "shangwei_contract.columns = shangwei_contract.columns.get_level_values(1)\n",
    "shangwei_contract = shangwei_contract.query(\"y == 'y'\").drop([\"y\"], axis=1)"
   ]
  },
  {
   "cell_type": "code",
   "execution_count": 64,
   "id": "a1058144-d1cb-4a40-ab46-5a682a3d2330",
   "metadata": {},
   "outputs": [
    {
     "name": "stdout",
     "output_type": "stream",
     "text": [
      "                         Variable  Value   All  Good   Bad  Distribution Good  \\\n",
      "10  performance_capacity_score_v3      0     1     0     1           0.000355   \n",
      "2   performance_capacity_score_v3      1  1027   266   761           0.094815   \n",
      "3   performance_capacity_score_v3      2   982   236   746           0.084162   \n",
      "0   performance_capacity_score_v3      3  1735   288  1447           0.102628   \n",
      "6   performance_capacity_score_v3      4   275    87   188           0.031250   \n",
      "4   performance_capacity_score_v3      5  1033   250   783           0.089134   \n",
      "7   performance_capacity_score_v3      6   975   285   690           0.101562   \n",
      "5   performance_capacity_score_v3      7  1007   400   607           0.142401   \n",
      "8   performance_capacity_score_v3      8  1032   345   687           0.122869   \n",
      "1   performance_capacity_score_v3      9  1723   567  1156           0.201705   \n",
      "9   performance_capacity_score_v3     10   257    92   165           0.033026   \n",
      "\n",
      "    Distribution Bad       WoE        IV  \n",
      "10          0.000277  0.249913  0.000020  \n",
      "2           0.105380 -0.105638  0.001116  \n",
      "3           0.103305 -0.204945  0.003923  \n",
      "0           0.200249 -0.668452  0.065255  \n",
      "6           0.026137  0.178650  0.000913  \n",
      "4           0.108422 -0.195896  0.003779  \n",
      "7           0.095561  0.060912  0.000366  \n",
      "5           0.084082  0.526846  0.030725  \n",
      "8           0.095146  0.255710  0.007089  \n",
      "1           0.160006  0.231596  0.009657  \n",
      "9           0.022957  0.363672  0.003662  \n",
      "IV =  0.126504\n"
     ]
    },
    {
     "data": {
      "text/plain": [
       "0.126504"
      ]
     },
     "execution_count": 64,
     "metadata": {},
     "output_type": "execute_result"
    }
   ],
   "source": [
    "shangwei_contract = shangwei_contract.copy()\n",
    "shangwei_contract['performance_capacity_score_v3'] = MinMaxScaler().fit_transform(shangwei_contract[['performance_capacity_score_v3']])\n",
    "shangwei_contract['performance_capacity_score_v3'] = shangwei_contract[['performance_capacity_score_v3']].apply(binning)\n",
    "calc_iv(shangwei_contract, 'performance_capacity_score_v3', 'order_status_key', True)"
   ]
  },
  {
   "cell_type": "markdown",
   "id": "72917f8c-d290-41e1-82c0-64cd19ad0f87",
   "metadata": {},
   "source": [
    "## 尚为综合信用评估\n",
    "覆盖率高，区分能力强"
   ]
  },
  {
   "cell_type": "code",
   "execution_count": 65,
   "id": "6da10f8b-3997-4e8e-bdb8-ec8bcc8cbae7",
   "metadata": {},
   "outputs": [],
   "source": [
    "shangwei_credit = data[['sample', 'sw_credit_eval']]\n",
    "shangwei_credit.columns = shangwei_credit.columns.get_level_values(1)\n",
    "shangwei_credit = shangwei_credit.query(\"y == 'y'\").drop('y', axis=1)"
   ]
  },
  {
   "cell_type": "code",
   "execution_count": 66,
   "id": "527fa56a-145f-4aa9-9b2b-c1ac67630e54",
   "metadata": {},
   "outputs": [
    {
     "name": "stdout",
     "output_type": "stream",
     "text": [
      "              Variable  Value   All  Good  Bad  Distribution Good  \\\n",
      "10  omriskscoregeneral      0     2     0    2           0.000355   \n",
      "0   omriskscoregeneral      1  1011    25  986           0.009243   \n",
      "8   omriskscoregeneral      2  1026   100  926           0.035905   \n",
      "7   omriskscoregeneral      3   986   152  834           0.054390   \n",
      "5   omriskscoregeneral      4  1000   178  822           0.063633   \n",
      "9   omriskscoregeneral      5   984   234  750           0.083541   \n",
      "1   omriskscoregeneral      6  1032   307  725           0.109492   \n",
      "4   omriskscoregeneral      7   990   383  607           0.136509   \n",
      "6   omriskscoregeneral      8   991   408  583           0.145396   \n",
      "3   omriskscoregeneral      9  1001   461  540           0.164237   \n",
      "2   omriskscoregeneral     10   992   565  427           0.201209   \n",
      "\n",
      "    Distribution Bad       WoE        IV  \n",
      "10          0.000417 -0.158505  0.000010  \n",
      "0           0.137045 -2.696466  0.344615  \n",
      "8           0.128714 -1.276726  0.118492  \n",
      "7           0.115940 -0.756887  0.046586  \n",
      "5           0.114274 -0.585463  0.029648  \n",
      "9           0.104277 -0.221713  0.004597  \n",
      "1           0.100805  0.082657  0.000718  \n",
      "4           0.084421  0.480575  0.025032  \n",
      "6           0.081089  0.583921  0.037551  \n",
      "3           0.075118  0.782253  0.069714  \n",
      "2           0.059428  1.219578  0.172913  \n",
      "IV =  0.849876\n"
     ]
    },
    {
     "data": {
      "text/plain": [
       "0.849876"
      ]
     },
     "execution_count": 66,
     "metadata": {},
     "output_type": "execute_result"
    }
   ],
   "source": [
    "shangwei_credit_bin = shangwei_credit.copy()\n",
    "shangwei_credit_bin['omriskscoregeneral'] = MinMaxScaler().fit_transform(shangwei_credit[['omriskscoregeneral']])\n",
    "shangwei_credit_bin['omriskscoregeneral'] = shangwei_credit_bin[['omriskscoregeneral']].apply(binning)\n",
    "calc_iv(shangwei_credit_bin, 'omriskscoregeneral', 'order_status_key', True)"
   ]
  },
  {
   "cell_type": "code",
   "execution_count": 67,
   "id": "2d8de042-3f86-4b52-b3da-51c1c82df2be",
   "metadata": {},
   "outputs": [
    {
     "data": {
      "text/plain": [
       "<AxesSubplot:xlabel='omriskscoregeneral', ylabel='Density'>"
      ]
     },
     "execution_count": 67,
     "metadata": {},
     "output_type": "execute_result"
    },
    {
     "data": {
      "image/png": "[encoded data removed]",
      "text/plain": [
       "<Figure size 640x480 with 1 Axes>"
      ]
     },
     "metadata": {},
     "output_type": "display_data"
    }
   ],
   "source": [
    "sns.kdeplot(x='omriskscoregeneral', data=shangwei_credit, hue='order_status_key')"
   ]
  },
  {
   "cell_type": "markdown",
   "id": "3673b9e1-d4d4-42eb-a79c-435d90b0598a",
   "metadata": {},
   "source": [
    "## 人口统计学信息"
   ]
  },
  {
   "cell_type": "code",
   "execution_count": 92,
   "id": "26836d46-3f8e-4a88-a7cc-96d7a83bac06",
   "metadata": {},
   "outputs": [
    {
     "name": "stderr",
     "output_type": "stream",
     "text": [
      "/tmp/ipykernel_189066/4276307831.py:3: SettingWithCopyWarning: \n",
      "A value is trying to be set on a copy of a slice from a DataFrame.\n",
      "Try using .loc[row_indexer,col_indexer] = value instead\n",
      "\n",
      "See the caveats in the documentation: https://pandas.pydata.org/pandas-docs/stable/user_guide/indexing.html#returning-a-view-versus-a-copy\n",
      "  demographic['actual_age'] = demographic[['actual_age']].apply(binning)\n"
     ]
    },
    {
     "data": {
      "text/plain": [
       "0.115589"
      ]
     },
     "execution_count": 92,
     "metadata": {},
     "output_type": "execute_result"
    }
   ],
   "source": [
    "demographic = data[['sample', 'demographic']]\n",
    "demographic.columns = demographic.columns.get_level_values(1)\n",
    "demographic['actual_age'] = demographic[['actual_age']].apply(binning)\n",
    "calc_iv(demographic, 'actual_age', 'order_status_key', False)"
   ]
  },
  {
   "cell_type": "code",
   "execution_count": 93,
   "id": "6298a0b5-0c39-46ed-b1e8-48c943ba0545",
   "metadata": {},
   "outputs": [
    {
     "data": {
      "text/plain": [
       "0.148834"
      ]
     },
     "execution_count": 93,
     "metadata": {},
     "output_type": "execute_result"
    }
   ],
   "source": [
    "calc_iv(demographic, 'gender', 'order_status_key', False)"
   ]
  },
  {
   "cell_type": "markdown",
   "id": "da2b87c0-ec66-4fc1-9fb0-d126a78c6a08",
   "metadata": {},
   "source": [
    "## 调查问卷信息"
   ]
  },
  {
   "cell_type": "code",
   "execution_count": 97,
   "id": "3f224997-0704-4d3a-a2be-2c3cf662d4b5",
   "metadata": {},
   "outputs": [
    {
     "name": "stdout",
     "output_type": "stream",
     "text": [
      "  Variable     Value   All  Good   Bad  Distribution Good  Distribution Bad  \\\n",
      "3   degree      NONE    75     5    70           0.002131          0.009819   \n",
      "0   degree      大学专科  6863  1923  4940           0.683239          0.683308   \n",
      "1   degree      大学本科  1254   522   732           0.185724          0.101369   \n",
      "4   degree  硕士（含）及以上    67    27    40           0.009943          0.005670   \n",
      "2   degree     高中及以下  1788   339  1449           0.120739          0.200526   \n",
      "\n",
      "        WoE            IV  \n",
      "3 -1.527861  1.174643e-02  \n",
      "0 -0.000101  7.037411e-09  \n",
      "1  0.605496  5.107678e-02  \n",
      "4  0.561692  2.400196e-03  \n",
      "2 -0.507313  4.047695e-02  \n",
      "IV =  0.1057\n"
     ]
    },
    {
     "name": "stderr",
     "output_type": "stream",
     "text": [
      "/tmp/ipykernel_189066/1655123393.py:3: SettingWithCopyWarning: \n",
      "A value is trying to be set on a copy of a slice from a DataFrame.\n",
      "Try using .loc[row_indexer,col_indexer] = value instead\n",
      "\n",
      "See the caveats in the documentation: https://pandas.pydata.org/pandas-docs/stable/user_guide/indexing.html#returning-a-view-versus-a-copy\n",
      "  quest['degree'] = quest['degree'].fillna('NONE')\n"
     ]
    },
    {
     "data": {
      "text/plain": [
       "0.1057"
      ]
     },
     "execution_count": 97,
     "metadata": {},
     "output_type": "execute_result"
    }
   ],
   "source": [
    "quest = data[['sample', 'quest']]\n",
    "quest.columns = quest.columns.get_level_values(1)\n",
    "quest['degree'] = quest['degree'].fillna('NONE')\n",
    "calc_iv(quest, 'degree', 'order_status_key', True)"
   ]
  },
  {
   "cell_type": "code",
   "execution_count": 99,
   "id": "8c9f7260-b82e-42af-9617-7da48616c69f",
   "metadata": {},
   "outputs": [
    {
     "name": "stdout",
     "output_type": "stream",
     "text": [
      "   Variable  Value   All  Good   Bad  Distribution Good  Distribution Bad  \\\n",
      "0  card_num     1张  3026   869  2157           0.308949          0.298437   \n",
      "3  card_num     2张  2337   836  1501           0.297230          0.207717   \n",
      "1  card_num     3张  1240   400   840           0.142401          0.116305   \n",
      "2  card_num  4张及以上  1108   348   760           0.123935          0.105241   \n",
      "4  card_num   NONE    79     5    74           0.002131          0.010372   \n",
      "5  card_num   无信用卡  2257   358  1899           0.127486          0.262758   \n",
      "\n",
      "        WoE        IV  \n",
      "0  0.034616  0.000364  \n",
      "3  0.358331  0.032075  \n",
      "1  0.202430  0.005283  \n",
      "2  0.163498  0.003056  \n",
      "4 -1.582669  0.013043  \n",
      "5 -0.723227  0.097832  \n",
      "IV =  0.151654\n"
     ]
    },
    {
     "name": "stderr",
     "output_type": "stream",
     "text": [
      "/tmp/ipykernel_189066/1822462063.py:3: SettingWithCopyWarning: \n",
      "A value is trying to be set on a copy of a slice from a DataFrame.\n",
      "Try using .loc[row_indexer,col_indexer] = value instead\n",
      "\n",
      "See the caveats in the documentation: https://pandas.pydata.org/pandas-docs/stable/user_guide/indexing.html#returning-a-view-versus-a-copy\n",
      "  quest['card_num'] = quest['card_num'].fillna('NONE')\n"
     ]
    },
    {
     "data": {
      "text/plain": [
       "0.151654"
      ]
     },
     "execution_count": 99,
     "metadata": {},
     "output_type": "execute_result"
    }
   ],
   "source": [
    "quest = data[['sample', 'quest']]\n",
    "quest.columns = quest.columns.get_level_values(1)\n",
    "quest['card_num'] = quest['card_num'].fillna('NONE')\n",
    "calc_iv(quest, 'card_num', 'order_status_key', True)"
   ]
  },
  {
   "cell_type": "markdown",
   "id": "7559eb05-7c0a-4b92-b6f1-7aa2571d5f5b",
   "metadata": {},
   "source": [
    "经初步分析，以下产品比较有效：\n",
    "- 百融多头：有较好的区分效果，但是只覆盖了80%的客户。尽管如此，没覆盖到的客户批核率很高，有38%（客群中核卡率是28%）。\n",
    "- 百融特殊名单：免费，没有通过黑名单的客户占3.5%左右，而且基本不能通过银行审核，可以用作规则\n",
    "- 百融偿债压力指数：在偿债压力较高的用户群里（前20%），区分度较高，但是在剩下的客群里区分度不高\n",
    "- 腾讯反欺诈：反欺诈数据覆盖程度较高，IV也较高，但是相对于百融多头来说召回率没那么高\n",
    "- 尚为综合信用评估：覆盖率高，区分能力跟腾讯反欺诈差不多\n",
    "- 因为调查问卷和人口学数据可以免费获取，虽然IV较低，但是加进去对模型也会有一定帮助"
   ]
  },
  {
   "cell_type": "markdown",
   "id": "18d2fce7-3ea4-4292-9a0d-5823dd12a6af",
   "metadata": {},
   "source": [
    "在所有特征中，百融多头的近12个非银申请机构数iv最高，根据近12个非银申请机构数是否大于8，能够过滤20%的客户，同时误杀率只有不到1%。  \n",
    "因此可以先考虑过滤掉百融查不到的，在近12个非银申请机构数大于8的，以及在百融黑名单中客户，再对剩下的客户进行建模。接下来探索一下  \n",
    "筛选出来的特征在剩下的客户中的重要性。"
   ]
  },
  {
   "cell_type": "code",
   "execution_count": 101,
   "id": "42db56eb-2caf-4d72-9ac8-42e891c60cfa",
   "metadata": {
    "tags": []
   },
   "outputs": [],
   "source": [
    "data2 = data[['sample', 'br_duotou', 'br_black_list', 'br_debt_pressure', 'tc_fraud_risk', 'sw_credit_eval', 'demographic', 'quest']]"
   ]
  },
  {
   "cell_type": "code",
   "execution_count": 103,
   "id": "75437730-1e4c-4432-9bdd-09e581afb781",
   "metadata": {},
   "outputs": [
    {
     "name": "stderr",
     "output_type": "stream",
     "text": [
      "/tmp/ipykernel_189066/3387587060.py:2: SettingWithCopyWarning: \n",
      "A value is trying to be set on a copy of a slice from a DataFrame.\n",
      "Try using .loc[row_indexer,col_indexer] = value instead\n",
      "\n",
      "See the caveats in the documentation: https://pandas.pydata.org/pandas-docs/stable/user_guide/indexing.html#returning-a-view-versus-a-copy\n",
      "  data2[interval_feature2] = data2[interval_feature2].fillna(9999)\n",
      "/tmp/ipykernel_189066/3387587060.py:3: SettingWithCopyWarning: \n",
      "A value is trying to be set on a copy of a slice from a DataFrame.\n",
      "Try using .loc[row_indexer,col_indexer] = value instead\n",
      "\n",
      "See the caveats in the documentation: https://pandas.pydata.org/pandas-docs/stable/user_guide/indexing.html#returning-a-view-versus-a-copy\n",
      "  data2['br_duotou'] = data2['br_duotou'].fillna(0)\n"
     ]
    }
   ],
   "source": [
    "interval_feature2 = [('br_duotou', f) for f in interval_feats]\n",
    "data2[interval_feature2] = data2[interval_feature2].fillna(9999)\n",
    "data2['br_duotou'] = data2['br_duotou'].fillna(0)"
   ]
  },
  {
   "cell_type": "code",
   "execution_count": 104,
   "id": "45b844a4-c803-4739-88ee-5d46dc1e467c",
   "metadata": {
    "tags": []
   },
   "outputs": [],
   "source": [
    "filter_cond = (data2[('br_duotou', 'flag_applyloanstr')] == 1) & \\\n",
    "              (data2[('br_duotou', 'als_m12_id_nbank_orgnum')] <= 8) & \\\n",
    "              (data2[('br_black_list', 'flag_specialList_c')] != 1)\n",
    "data2 = data2[filter_cond]"
   ]
  },
  {
   "cell_type": "markdown",
   "id": "2b3c2c71-7faf-4617-9711-fbad066ebf4c",
   "metadata": {},
   "source": [
    "## 百融多头\n",
    "根据规则过滤掉一部分样本后，得到进一步过滤一些没有价值的特征"
   ]
  },
  {
   "cell_type": "code",
   "execution_count": 72,
   "id": "71f6b821-593e-4797-9b2c-c3242efd1e47",
   "metadata": {},
   "outputs": [],
   "source": [
    "br_duotou2 = data2[['sample', 'br_duotou']]\n",
    "br_duotou2.columns = br_duotou2.columns.get_level_values(1)\n",
    "keep_features = ['customer_phone', 'apply_date_key', 'order_status_key'] + br_duotou_qualified_features['feature'].tolist()\n",
    "br_duotou2 = br_duotou2[keep_features]\n",
    "br_duotou2.iloc[:, 3:] = br_duotou2.iloc[:, 3:].apply(binning)"
   ]
  },
  {
   "cell_type": "code",
   "execution_count": 73,
   "id": "23c9abe5-d9d3-4409-8437-ad390a427b8b",
   "metadata": {
    "tags": []
   },
   "outputs": [
    {
     "data": {
      "text/html": [
       "<div>\n",
       "<style scoped>\n",
       "    .dataframe tbody tr th:only-of-type {\n",
       "        vertical-align: middle;\n",
       "    }\n",
       "\n",
       "    .dataframe tbody tr th {\n",
       "        vertical-align: top;\n",
       "    }\n",
       "\n",
       "    .dataframe thead th {\n",
       "        text-align: right;\n",
       "    }\n",
       "</style>\n",
       "<table border=\"1\" class=\"dataframe\">\n",
       "  <thead>\n",
       "    <tr style=\"text-align: right;\">\n",
       "      <th></th>\n",
       "      <th>feature</th>\n",
       "      <th>iv</th>\n",
       "    </tr>\n",
       "  </thead>\n",
       "  <tbody>\n",
       "    <tr>\n",
       "      <th>0</th>\n",
       "      <td>als_m12_id_nbank_orgnum</td>\n",
       "      <td>0.425344</td>\n",
       "    </tr>\n",
       "    <tr>\n",
       "      <th>2</th>\n",
       "      <td>als_m12_id_nbank_min_inteday</td>\n",
       "      <td>0.412836</td>\n",
       "    </tr>\n",
       "    <tr>\n",
       "      <th>3</th>\n",
       "      <td>als_m12_id_min_inteday</td>\n",
       "      <td>0.364673</td>\n",
       "    </tr>\n",
       "    <tr>\n",
       "      <th>1</th>\n",
       "      <td>als_m3_id_nbank_min_inteday</td>\n",
       "      <td>0.355481</td>\n",
       "    </tr>\n",
       "    <tr>\n",
       "      <th>4</th>\n",
       "      <td>als_lst_id_nbank_inteday</td>\n",
       "      <td>0.195354</td>\n",
       "    </tr>\n",
       "    <tr>\n",
       "      <th>9</th>\n",
       "      <td>als_lst_id_nbank_consnum</td>\n",
       "      <td>0.147418</td>\n",
       "    </tr>\n",
       "    <tr>\n",
       "      <th>5</th>\n",
       "      <td>als_m12_id_rel_orgnum</td>\n",
       "      <td>0.096597</td>\n",
       "    </tr>\n",
       "    <tr>\n",
       "      <th>10</th>\n",
       "      <td>als_m6_id_bank_min_inteday</td>\n",
       "      <td>0.089939</td>\n",
       "    </tr>\n",
       "    <tr>\n",
       "      <th>6</th>\n",
       "      <td>als_m12_id_cooff_orgnum</td>\n",
       "      <td>0.065411</td>\n",
       "    </tr>\n",
       "    <tr>\n",
       "      <th>8</th>\n",
       "      <td>als_m12_id_bank_ret_orgnum</td>\n",
       "      <td>0.035026</td>\n",
       "    </tr>\n",
       "    <tr>\n",
       "      <th>11</th>\n",
       "      <td>als_m12_id_bank_week_orgnum</td>\n",
       "      <td>0.032284</td>\n",
       "    </tr>\n",
       "    <tr>\n",
       "      <th>12</th>\n",
       "      <td>als_m12_id_af_allnum</td>\n",
       "      <td>0.032021</td>\n",
       "    </tr>\n",
       "    <tr>\n",
       "      <th>7</th>\n",
       "      <td>als_m12_id_nbank_night_orgnum</td>\n",
       "      <td>0.031007</td>\n",
       "    </tr>\n",
       "    <tr>\n",
       "      <th>13</th>\n",
       "      <td>als_d7_id_nbank_week_orgnum</td>\n",
       "      <td>0.026771</td>\n",
       "    </tr>\n",
       "    <tr>\n",
       "      <th>15</th>\n",
       "      <td>als_m1_id_af_orgnum</td>\n",
       "      <td>0.019302</td>\n",
       "    </tr>\n",
       "    <tr>\n",
       "      <th>14</th>\n",
       "      <td>als_m1_id_nbank_night_orgnum</td>\n",
       "      <td>0.018548</td>\n",
       "    </tr>\n",
       "    <tr>\n",
       "      <th>16</th>\n",
       "      <td>als_m1_id_bank_week_orgnum</td>\n",
       "      <td>0.017130</td>\n",
       "    </tr>\n",
       "    <tr>\n",
       "      <th>24</th>\n",
       "      <td>als_d7_id_bank_week_allnum</td>\n",
       "      <td>0.009359</td>\n",
       "    </tr>\n",
       "    <tr>\n",
       "      <th>19</th>\n",
       "      <td>als_m6_id_nbank_selfnum</td>\n",
       "      <td>0.008889</td>\n",
       "    </tr>\n",
       "    <tr>\n",
       "      <th>20</th>\n",
       "      <td>als_d7_id_nbank_night_allnum</td>\n",
       "      <td>0.005698</td>\n",
       "    </tr>\n",
       "    <tr>\n",
       "      <th>21</th>\n",
       "      <td>als_d7_id_cooff_allnum</td>\n",
       "      <td>0.005399</td>\n",
       "    </tr>\n",
       "    <tr>\n",
       "      <th>22</th>\n",
       "      <td>als_m6_id_bank_min_monnum</td>\n",
       "      <td>0.005399</td>\n",
       "    </tr>\n",
       "    <tr>\n",
       "      <th>17</th>\n",
       "      <td>als_m6_id_oth_orgnum</td>\n",
       "      <td>0.005248</td>\n",
       "    </tr>\n",
       "    <tr>\n",
       "      <th>18</th>\n",
       "      <td>als_m12_id_bank_night_orgnum</td>\n",
       "      <td>0.001867</td>\n",
       "    </tr>\n",
       "    <tr>\n",
       "      <th>23</th>\n",
       "      <td>als_m6_id_bank_night_allnum</td>\n",
       "      <td>0.000004</td>\n",
       "    </tr>\n",
       "  </tbody>\n",
       "</table>\n",
       "</div>"
      ],
      "text/plain": [
       "                          feature        iv\n",
       "0         als_m12_id_nbank_orgnum  0.425344\n",
       "2    als_m12_id_nbank_min_inteday  0.412836\n",
       "3          als_m12_id_min_inteday  0.364673\n",
       "1     als_m3_id_nbank_min_inteday  0.355481\n",
       "4        als_lst_id_nbank_inteday  0.195354\n",
       "9        als_lst_id_nbank_consnum  0.147418\n",
       "5           als_m12_id_rel_orgnum  0.096597\n",
       "10     als_m6_id_bank_min_inteday  0.089939\n",
       "6         als_m12_id_cooff_orgnum  0.065411\n",
       "8      als_m12_id_bank_ret_orgnum  0.035026\n",
       "11    als_m12_id_bank_week_orgnum  0.032284\n",
       "12           als_m12_id_af_allnum  0.032021\n",
       "7   als_m12_id_nbank_night_orgnum  0.031007\n",
       "13    als_d7_id_nbank_week_orgnum  0.026771\n",
       "15            als_m1_id_af_orgnum  0.019302\n",
       "14   als_m1_id_nbank_night_orgnum  0.018548\n",
       "16     als_m1_id_bank_week_orgnum  0.017130\n",
       "24     als_d7_id_bank_week_allnum  0.009359\n",
       "19        als_m6_id_nbank_selfnum  0.008889\n",
       "20   als_d7_id_nbank_night_allnum  0.005698\n",
       "21         als_d7_id_cooff_allnum  0.005399\n",
       "22      als_m6_id_bank_min_monnum  0.005399\n",
       "17           als_m6_id_oth_orgnum  0.005248\n",
       "18   als_m12_id_bank_night_orgnum  0.001867\n",
       "23    als_m6_id_bank_night_allnum  0.000004"
      ]
     },
     "execution_count": 73,
     "metadata": {},
     "output_type": "execute_result"
    }
   ],
   "source": [
    "br_duotou_iv = []\n",
    "for c in br_duotou2.iloc[:, 3:].columns:\n",
    "    br_duotou_iv.append([c, calc_iv(br_duotou2, c, 'order_status_key', False)])\n",
    "br_duotou_iv = pd.DataFrame(br_duotou_iv, columns=['feature', 'iv']).sort_values('iv', ascending=False)\n",
    "br_duotou_iv"
   ]
  },
  {
   "cell_type": "code",
   "execution_count": 74,
   "id": "21eacf55-6132-42b5-b030-1053f092c860",
   "metadata": {
    "tags": []
   },
   "outputs": [],
   "source": [
    "br_duotou_qualified_features = br_duotou_iv.query(\"iv >= 0.02\")"
   ]
  },
  {
   "cell_type": "markdown",
   "id": "438da178-b44a-446f-93fa-da9cb1cddff4",
   "metadata": {},
   "source": [
    "## 百融偿债压力指数"
   ]
  },
  {
   "cell_type": "code",
   "execution_count": 75,
   "id": "f3b1f9d4-4dfe-467c-b87f-4d4b9ba8dd93",
   "metadata": {},
   "outputs": [
    {
     "name": "stderr",
     "output_type": "stream",
     "text": [
      "/tmp/ipykernel_189066/4223384588.py:3: SettingWithCopyWarning: \n",
      "A value is trying to be set on a copy of a slice from a DataFrame.\n",
      "Try using .loc[row_indexer,col_indexer] = value instead\n",
      "\n",
      "See the caveats in the documentation: https://pandas.pydata.org/pandas-docs/stable/user_guide/indexing.html#returning-a-view-versus-a-copy\n",
      "  br_debt_pressure2['drs_nodebtscore'] = br_debt_pressure2[['drs_nodebtscore']].apply(binning)\n"
     ]
    }
   ],
   "source": [
    "br_debt_pressure2 = data2[['sample', 'br_debt_pressure']]\n",
    "br_debt_pressure2.columns = br_debt_pressure2.columns.get_level_values(1)\n",
    "br_debt_pressure2['drs_nodebtscore'] = br_debt_pressure2[['drs_nodebtscore']].apply(binning)"
   ]
  },
  {
   "cell_type": "code",
   "execution_count": 76,
   "id": "a7ca54fb-d50a-43ae-8951-64c52aea071a",
   "metadata": {},
   "outputs": [
    {
     "data": {
      "text/plain": [
       "0.283395"
      ]
     },
     "execution_count": 76,
     "metadata": {},
     "output_type": "execute_result"
    }
   ],
   "source": [
    "calc_iv(br_debt_pressure2, 'drs_nodebtscore', 'order_status_key', False)"
   ]
  },
  {
   "cell_type": "markdown",
   "id": "d1d0e4e4-c143-48e5-b498-c4811f7d26f0",
   "metadata": {},
   "source": [
    "## 腾讯反欺诈"
   ]
  },
  {
   "cell_type": "code",
   "execution_count": 77,
   "id": "654024a1-234f-4d58-a3cf-9bd356c089f7",
   "metadata": {},
   "outputs": [
    {
     "name": "stdout",
     "output_type": "stream",
     "text": [
      "<class 'pandas.core.frame.DataFrame'>\n",
      "Int64Index: 6253 entries, 1 to 10045\n",
      "Data columns (total 14 columns):\n",
      " #   Column                         Non-Null Count  Dtype  \n",
      "---  ------                         --------------  -----  \n",
      " 0   customer_phone                 6253 non-null   object \n",
      " 1   apply_date_key                 6253 non-null   object \n",
      " 2   order_status_key               6253 non-null   float64\n",
      " 3   id_found:                      6253 non-null   int64  \n",
      " 4   found:                         6253 non-null   int64  \n",
      " 5   risk_score:                    6253 non-null   int64  \n",
      " 6   risk_code:                     198 non-null    object \n",
      " 7   highirr_v6_20220425_score      6253 non-null   float64\n",
      " 8   lowirr_v6_20220425_score       6253 non-null   float64\n",
      " 9   tongyong_v6_20220425_score     6253 non-null   float64\n",
      " 10  model_risk_v7_shighirr_score   6253 non-null   float64\n",
      " 11  model_risk_v7_slowirr_score    6253 non-null   float64\n",
      " 12  model_risk_v7_stongyong_score  6253 non-null   float64\n",
      " 13  v6_seq_online                  6253 non-null   int64  \n",
      "dtypes: float64(7), int64(4), object(3)\n",
      "memory usage: 732.8+ KB\n"
     ]
    }
   ],
   "source": [
    "tc_fraud_risk2 = data2[['sample', 'tc_fraud_risk']]\n",
    "tc_fraud_risk2.columns = tc_fraud_risk2.columns.get_level_values(1)\n",
    "tc_fraud_risk2 = tc_fraud_risk2.dropna(subset=['highirr_v6_20220425_score'])\n",
    "tc_fraud_risk2.info()"
   ]
  },
  {
   "cell_type": "code",
   "execution_count": 78,
   "id": "441b054b-1d24-4471-a7a9-3b6ba9551e1b",
   "metadata": {},
   "outputs": [],
   "source": [
    "tc_fraud_risk2= tc_fraud_risk2.drop(['risk_code:', 'id_found:', 'found:'], axis=1)"
   ]
  },
  {
   "cell_type": "code",
   "execution_count": 79,
   "id": "84f08d60-7596-4933-9c65-e65e3a44736c",
   "metadata": {},
   "outputs": [],
   "source": [
    "tc_fraud_risk2.iloc[:, 3:] = tc_fraud_risk2.iloc[:, 3:].apply(binning)"
   ]
  },
  {
   "cell_type": "code",
   "execution_count": 80,
   "id": "87474b40-8006-4769-af24-6352617e66cc",
   "metadata": {},
   "outputs": [
    {
     "data": {
      "text/html": [
       "<div>\n",
       "<style scoped>\n",
       "    .dataframe tbody tr th:only-of-type {\n",
       "        vertical-align: middle;\n",
       "    }\n",
       "\n",
       "    .dataframe tbody tr th {\n",
       "        vertical-align: top;\n",
       "    }\n",
       "\n",
       "    .dataframe thead th {\n",
       "        text-align: right;\n",
       "    }\n",
       "</style>\n",
       "<table border=\"1\" class=\"dataframe\">\n",
       "  <thead>\n",
       "    <tr style=\"text-align: right;\">\n",
       "      <th></th>\n",
       "      <th>feature</th>\n",
       "      <th>iv</th>\n",
       "    </tr>\n",
       "  </thead>\n",
       "  <tbody>\n",
       "    <tr>\n",
       "      <th>6</th>\n",
       "      <td>model_risk_v7_stongyong_score</td>\n",
       "      <td>0.564820</td>\n",
       "    </tr>\n",
       "    <tr>\n",
       "      <th>5</th>\n",
       "      <td>model_risk_v7_slowirr_score</td>\n",
       "      <td>0.543284</td>\n",
       "    </tr>\n",
       "    <tr>\n",
       "      <th>4</th>\n",
       "      <td>model_risk_v7_shighirr_score</td>\n",
       "      <td>0.494361</td>\n",
       "    </tr>\n",
       "    <tr>\n",
       "      <th>2</th>\n",
       "      <td>lowirr_v6_20220425_score</td>\n",
       "      <td>0.443891</td>\n",
       "    </tr>\n",
       "    <tr>\n",
       "      <th>3</th>\n",
       "      <td>tongyong_v6_20220425_score</td>\n",
       "      <td>0.433905</td>\n",
       "    </tr>\n",
       "    <tr>\n",
       "      <th>1</th>\n",
       "      <td>highirr_v6_20220425_score</td>\n",
       "      <td>0.422496</td>\n",
       "    </tr>\n",
       "    <tr>\n",
       "      <th>0</th>\n",
       "      <td>risk_score:</td>\n",
       "      <td>0.298342</td>\n",
       "    </tr>\n",
       "    <tr>\n",
       "      <th>7</th>\n",
       "      <td>v6_seq_online</td>\n",
       "      <td>0.229814</td>\n",
       "    </tr>\n",
       "  </tbody>\n",
       "</table>\n",
       "</div>"
      ],
      "text/plain": [
       "                         feature        iv\n",
       "6  model_risk_v7_stongyong_score  0.564820\n",
       "5    model_risk_v7_slowirr_score  0.543284\n",
       "4   model_risk_v7_shighirr_score  0.494361\n",
       "2       lowirr_v6_20220425_score  0.443891\n",
       "3     tongyong_v6_20220425_score  0.433905\n",
       "1      highirr_v6_20220425_score  0.422496\n",
       "0                    risk_score:  0.298342\n",
       "7                  v6_seq_online  0.229814"
      ]
     },
     "execution_count": 80,
     "metadata": {},
     "output_type": "execute_result"
    }
   ],
   "source": [
    "tc_fraud_risk_iv = []\n",
    "for c in tc_fraud_risk2.iloc[:, 3:].columns:\n",
    "    tc_fraud_risk_iv.append([c, calc_iv(tc_fraud_risk2, c, 'order_status_key', False)])\n",
    "tc_fraud_risk_iv = pd.DataFrame(tc_fraud_risk_iv, columns=['feature', 'iv']).sort_values('iv', ascending=False)\n",
    "tc_fraud_risk_iv"
   ]
  },
  {
   "cell_type": "code",
   "execution_count": 81,
   "id": "82378ba9-e17b-435c-a2d8-c69a54371abd",
   "metadata": {},
   "outputs": [
    {
     "name": "stdout",
     "output_type": "stream",
     "text": [
      "number of discard features:  0\n",
      "number of discard features:  0\n",
      "number of discard features:  0\n",
      "number of discard features:  1\n",
      "number of discard features:  2\n",
      "number of discard features:  3\n",
      "number of discard features:  4\n",
      "number of discard features:  5\n"
     ]
    }
   ],
   "source": [
    "iv_threshold = 0.02\n",
    "tc_fraud_qualified_features = tc_fraud_risk_iv.query(f'iv > {iv_threshold}').reset_index(drop=True)\n",
    "cursor = -1\n",
    "\n",
    "discard_features = []\n",
    "while abs(cursor) < tc_fraud_qualified_features.shape[0]:\n",
    "    print('number of discard features: ', len(discard_features))\n",
    "    X = add_constant(tc_fraud_risk2[filter(lambda x: x not in discard_features, tc_fraud_qualified_features['feature'])])\n",
    "    vif = pd.Series([variance_inflation_factor(X.values, i) for i in range(X.shape[1])], index=X.columns).rename('vif')\n",
    "    tc_fraud_qualified_features = tc_fraud_qualified_features.drop(columns=['vif'], errors='ignore').merge(vif, left_on='feature', right_index=True, how=\"inner\")\n",
    "    feature, iv, vif_val = tc_fraud_qualified_features.iloc[cursor, :].values\n",
    "    if vif_val < 4:\n",
    "        cursor = cursor - 1\n",
    "    else:\n",
    "        discard_features.append(feature)"
   ]
  },
  {
   "cell_type": "code",
   "execution_count": 82,
   "id": "c6a149f2-607d-4d5a-b0df-bd40c449f9c2",
   "metadata": {},
   "outputs": [
    {
     "data": {
      "text/html": [
       "<div>\n",
       "<style scoped>\n",
       "    .dataframe tbody tr th:only-of-type {\n",
       "        vertical-align: middle;\n",
       "    }\n",
       "\n",
       "    .dataframe tbody tr th {\n",
       "        vertical-align: top;\n",
       "    }\n",
       "\n",
       "    .dataframe thead th {\n",
       "        text-align: right;\n",
       "    }\n",
       "</style>\n",
       "<table border=\"1\" class=\"dataframe\">\n",
       "  <thead>\n",
       "    <tr style=\"text-align: right;\">\n",
       "      <th></th>\n",
       "      <th>feature</th>\n",
       "      <th>iv</th>\n",
       "      <th>vif</th>\n",
       "    </tr>\n",
       "  </thead>\n",
       "  <tbody>\n",
       "    <tr>\n",
       "      <th>0</th>\n",
       "      <td>model_risk_v7_stongyong_score</td>\n",
       "      <td>0.564820</td>\n",
       "      <td>1.903498</td>\n",
       "    </tr>\n",
       "    <tr>\n",
       "      <th>6</th>\n",
       "      <td>risk_score:</td>\n",
       "      <td>0.298342</td>\n",
       "      <td>1.673558</td>\n",
       "    </tr>\n",
       "    <tr>\n",
       "      <th>7</th>\n",
       "      <td>v6_seq_online</td>\n",
       "      <td>0.229814</td>\n",
       "      <td>1.332896</td>\n",
       "    </tr>\n",
       "  </tbody>\n",
       "</table>\n",
       "</div>"
      ],
      "text/plain": [
       "                         feature        iv       vif\n",
       "0  model_risk_v7_stongyong_score  0.564820  1.903498\n",
       "6                    risk_score:  0.298342  1.673558\n",
       "7                  v6_seq_online  0.229814  1.332896"
      ]
     },
     "execution_count": 82,
     "metadata": {},
     "output_type": "execute_result"
    }
   ],
   "source": [
    "tc_fraud_qualified_features"
   ]
  },
  {
   "cell_type": "markdown",
   "id": "91fc0a5d-56e0-461a-a8d0-f43c1c092390",
   "metadata": {},
   "source": [
    "## 尚为综合信用评估"
   ]
  },
  {
   "cell_type": "code",
   "execution_count": 83,
   "id": "e501a861-b4f0-453f-a6f0-a593c982aa1d",
   "metadata": {
    "tags": []
   },
   "outputs": [
    {
     "data": {
      "text/plain": [
       "0.487268"
      ]
     },
     "execution_count": 83,
     "metadata": {},
     "output_type": "execute_result"
    }
   ],
   "source": [
    "sw_credit2 = data2[['sample', 'sw_credit_eval']]\n",
    "sw_credit2.columns = sw_credit2.columns.get_level_values(1)\n",
    "sw_credit2 = sw_credit2.query('y == \"y\"')\n",
    "sw_credit2['omriskscoregeneral'] = sw_credit2[['omriskscoregeneral']].apply(binning)\n",
    "calc_iv(sw_credit2, 'omriskscoregeneral', 'order_status_key', False)"
   ]
  },
  {
   "cell_type": "markdown",
   "id": "96a21a3f-12e8-4953-8202-899e975fe504",
   "metadata": {},
   "source": [
    "## 人口统计信息"
   ]
  },
  {
   "cell_type": "code",
   "execution_count": 105,
   "id": "25996983-cc04-4faa-b5f3-074cf61e4046",
   "metadata": {},
   "outputs": [
    {
     "name": "stderr",
     "output_type": "stream",
     "text": [
      "/tmp/ipykernel_189066/1348797953.py:3: SettingWithCopyWarning: \n",
      "A value is trying to be set on a copy of a slice from a DataFrame.\n",
      "Try using .loc[row_indexer,col_indexer] = value instead\n",
      "\n",
      "See the caveats in the documentation: https://pandas.pydata.org/pandas-docs/stable/user_guide/indexing.html#returning-a-view-versus-a-copy\n",
      "  demographic2['actual_age'] = demographic2[['actual_age']].apply(binning)\n"
     ]
    },
    {
     "data": {
      "text/plain": [
       "0.095221"
      ]
     },
     "execution_count": 105,
     "metadata": {},
     "output_type": "execute_result"
    }
   ],
   "source": [
    "demographic2 = data2[['sample', 'demographic']]\n",
    "demographic2.columns = demographic2.columns.get_level_values(1)\n",
    "demographic2['actual_age'] = demographic2[['actual_age']].apply(binning)\n",
    "calc_iv(demographic2, 'actual_age', 'order_status_key', False)"
   ]
  },
  {
   "cell_type": "code",
   "execution_count": 106,
   "id": "333e0216-c556-4d20-8166-42e6f613050a",
   "metadata": {},
   "outputs": [
    {
     "data": {
      "text/plain": [
       "0.100927"
      ]
     },
     "execution_count": 106,
     "metadata": {},
     "output_type": "execute_result"
    }
   ],
   "source": [
    "calc_iv(demographic2, 'gender', 'order_status_key', False)"
   ]
  },
  {
   "cell_type": "markdown",
   "id": "5bfe2f0e-5c64-4c36-b9ec-0864943d6b43",
   "metadata": {},
   "source": [
    "## 调查问卷数据"
   ]
  },
  {
   "cell_type": "code",
   "execution_count": 107,
   "id": "5c0d42e8-83c4-4342-ba92-597352bb058a",
   "metadata": {},
   "outputs": [
    {
     "name": "stdout",
     "output_type": "stream",
     "text": [
      "  Variable     Value   All  Good   Bad  Distribution Good  Distribution Bad  \\\n",
      "3   degree      NONE    48     2    46           0.001469          0.011111   \n",
      "1   degree      大学专科  4351  1421  2930           0.696376          0.692908   \n",
      "0   degree      大学本科   808   360   448           0.176787          0.106147   \n",
      "4   degree  硕士（含）及以上    43    19    24           0.009794          0.005910   \n",
      "2   degree     高中及以下  1022   240   782           0.118022          0.185106   \n",
      "\n",
      "        WoE        IV  \n",
      "3 -2.023263  0.019508  \n",
      "1  0.004993  0.000017  \n",
      "0  0.510127  0.036036  \n",
      "4  0.505129  0.001962  \n",
      "2 -0.450063  0.030192  \n",
      "IV =  0.087716\n"
     ]
    },
    {
     "name": "stderr",
     "output_type": "stream",
     "text": [
      "/tmp/ipykernel_189066/3983956311.py:3: SettingWithCopyWarning: \n",
      "A value is trying to be set on a copy of a slice from a DataFrame.\n",
      "Try using .loc[row_indexer,col_indexer] = value instead\n",
      "\n",
      "See the caveats in the documentation: https://pandas.pydata.org/pandas-docs/stable/user_guide/indexing.html#returning-a-view-versus-a-copy\n",
      "  quest2['degree'] = quest2['degree'].fillna('NONE')\n"
     ]
    },
    {
     "data": {
      "text/plain": [
       "0.087716"
      ]
     },
     "execution_count": 107,
     "metadata": {},
     "output_type": "execute_result"
    }
   ],
   "source": [
    "quest2 = data2[['sample', 'quest']]\n",
    "quest2.columns = quest2.columns.get_level_values(1)\n",
    "quest2['degree'] = quest2['degree'].fillna('NONE')\n",
    "calc_iv(quest2, 'degree', 'order_status_key', True)"
   ]
  },
  {
   "cell_type": "code",
   "execution_count": 108,
   "id": "7b4bf952-584f-4d77-9407-4c64d3bf5772",
   "metadata": {},
   "outputs": [
    {
     "name": "stdout",
     "output_type": "stream",
     "text": [
      "   Variable  Value   All  Good   Bad  Distribution Good  Distribution Bad  \\\n",
      "1  card_num     1张  1782   588  1194           0.288443          0.282506   \n",
      "3  card_num     2张  1548   624   924           0.306072          0.218676   \n",
      "0  card_num     3张   870   312   558           0.153281          0.132151   \n",
      "2  card_num  4张及以上   806   283   523           0.139079          0.123877   \n",
      "4  card_num   NONE    50     2    48           0.001469          0.011584   \n",
      "5  card_num   无信用卡  1216   233   983           0.114594          0.232624   \n",
      "\n",
      "        WoE        IV  \n",
      "1  0.020797  0.000123  \n",
      "3  0.336230  0.029385  \n",
      "0  0.148326  0.003134  \n",
      "2  0.115755  0.001760  \n",
      "4 -2.064936  0.020886  \n",
      "5 -0.708033  0.083569  \n",
      "IV =  0.138858\n"
     ]
    },
    {
     "name": "stderr",
     "output_type": "stream",
     "text": [
      "/tmp/ipykernel_189066/521172759.py:3: SettingWithCopyWarning: \n",
      "A value is trying to be set on a copy of a slice from a DataFrame.\n",
      "Try using .loc[row_indexer,col_indexer] = value instead\n",
      "\n",
      "See the caveats in the documentation: https://pandas.pydata.org/pandas-docs/stable/user_guide/indexing.html#returning-a-view-versus-a-copy\n",
      "  quest2['card_num'] = quest2['card_num'].fillna('NONE')\n"
     ]
    },
    {
     "data": {
      "text/plain": [
       "0.138858"
      ]
     },
     "execution_count": 108,
     "metadata": {},
     "output_type": "execute_result"
    }
   ],
   "source": [
    "quest2 = data2[['sample', 'quest']]\n",
    "quest2.columns = quest2.columns.get_level_values(1)\n",
    "quest2['card_num'] = quest2['card_num'].fillna('NONE')\n",
    "calc_iv(quest2, 'card_num', 'order_status_key', True)"
   ]
  },
  {
   "cell_type": "markdown",
   "id": "8399e777-d3ac-4a3f-b1b7-d6a2851c0ae8",
   "metadata": {},
   "source": [
    "## 最后选用特征"
   ]
  },
  {
   "cell_type": "code",
   "execution_count": 110,
   "id": "8a73ff27-c6cc-4417-b06b-1f111afd3761",
   "metadata": {},
   "outputs": [],
   "source": [
    "selected_features = br_duotou_qualified_features.feature.tolist() \\\n",
    "                    + ['flag_applyloanstr'] \\\n",
    "                    + ['flag_specialList_c'] \\\n",
    "                    + tc_fraud_qualified_features.feature.tolist() \\\n",
    "                    + ['omriskscoregeneral'] \\\n",
    "                    + ['actual_age', 'gender'] \\\n",
    "                    + ['degree', 'card_num']"
   ]
  },
  {
   "cell_type": "code",
   "execution_count": 111,
   "id": "d1d173ad-913e-4788-8baf-c9cf108aa824",
   "metadata": {},
   "outputs": [],
   "source": [
    "pickle.dump(selected_features, open(config.SELECTED_FEATURES, \"wb\"))"
   ]
  },
  {
   "cell_type": "markdown",
   "id": "0349037a-56bc-40f4-b999-e390a71e203e",
   "metadata": {},
   "source": [
    "## 总结\n",
    "经过前筛后剩下6200多条数据（约60%，也就是模型会应用于60%的客户身上），百融多头能够进一步过滤一些特征。\n",
    "腾讯反欺诈排除掉高vif的特征后，还有3个特征有比较高的iv，其中model_risk_v7_stongyong_score超过了0.5，\n",
    "尚为综合信用评估的iv也不错。\n",
    "\n",
    "经过一系列分析，最终选择一下特征入模：  \n",
    "百融多头：  \n",
    "- 'als_m12_id_nbank_orgnum',  \n",
    "- 'als_m12_id_nbank_min_inteday',\n",
    "- 'als_m12_id_min_inteday',\n",
    "- 'als_m3_id_nbank_min_inteday',\n",
    "- 'als_lst_id_nbank_inteday',\n",
    "- 'als_lst_id_nbank_consnum',\n",
    "- 'als_m12_id_rel_orgnum',\n",
    "- 'als_m6_id_bank_min_inteday',\n",
    "- 'als_m12_id_cooff_orgnum',\n",
    "- 'als_m12_id_bank_ret_orgnum',\n",
    "- 'als_m12_id_bank_week_orgnum',\n",
    "- 'als_m12_id_af_allnum',\n",
    "- 'als_d7_id_rel_allnum',\n",
    "- als_m12_id_nbank_night_orgnum',\n",
    "- 'als_d7_id_nbank_week_orgnum'  \n",
    "\n",
    "腾讯反欺诈：  \n",
    "- model_risk_v7_stongyong_score\n",
    "- risk_score:\n",
    "- v6_seq_online  \n",
    "\n",
    "尚为综合信用评估：\n",
    "- omriskscoregeneral\n",
    "\n",
    "人口学数据：\n",
    "- gender\n",
    "- actual_age\n",
    "\n",
    "调查问卷数据:\n",
    "- degree\n",
    "- card_num"
   ]
  }
 ],
 "metadata": {
  "kernelspec": {
   "display_name": "Python 3 (ipykernel)",
   "language": "python",
   "name": "python3"
  },
  "language_info": {
   "codemirror_mode": {
    "name": "ipython",
    "version": 3
   },
   "file_extension": ".py",
   "mimetype": "text/x-python",
   "name": "python",
   "nbconvert_exporter": "python",
   "pygments_lexer": "ipython3",
   "version": "3.9.13"
  }
 },
 "nbformat": 4,
 "nbformat_minor": 5
}
