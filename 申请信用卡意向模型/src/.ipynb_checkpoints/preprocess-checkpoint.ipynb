{
 "cells": [
  {
   "cell_type": "code",
   "execution_count": 33,
   "metadata": {},
   "outputs": [],
   "source": [
    "import pandas as pd\n",
    "pd.set_option(\"display.max_rows\", 100)\n",
    "pd.set_option(\"display.max_columns\", 100)\n",
    "import numpy as np\n",
    "from glob2 import glob\n",
    "import warnings\n",
    "\n",
    "warnings.filterwarnings(\"ignore\", module=\"lightgbm\")\n",
    "\n",
    "import matplotlib.pyplot as plt\n",
    "import seaborn as sns\n",
    "from sklearn.cluster import KMeans\n",
    "from sklearn.decomposition import PCA\n",
    "from sklearn.metrics import silhouette_score\n",
    "from sklearn.preprocessing import MinMaxScaler, LabelEncoder\n",
    "import pickle\n",
    "import re\n",
    "import gc"
   ]
  },
  {
   "cell_type": "code",
   "execution_count": 4,
   "metadata": {},
   "outputs": [],
   "source": [
    "import os"
   ]
  },
  {
   "cell_type": "code",
   "execution_count": 5,
   "metadata": {},
   "outputs": [],
   "source": [
    "def peek(df ,line = None):\n",
    "    print(df.shape)\n",
    "    if line is None:\n",
    "        print(df.head())\n",
    "    else:\n",
    "        print(df.head(line))"
   ]
  },
  {
   "cell_type": "code",
   "execution_count": 6,
   "metadata": {},
   "outputs": [],
   "source": [
    "def preprocess(file, purpose):\n",
    "    data = pd.read_csv(file, low_memory=False)\n",
    "    pat = re.compile(r\"\\d+(?=-)|\\d+\\.\\d+(?=-)|(?<=-)\\w+\")\n",
    "    match = pat.findall(file)\n",
    "    date, bank = match[0], match[2]\n",
    "    data = data.assign(bank=bank)\n",
    "    data = data[pd.notnull(data['mob'])]\n",
    "    return data"
   ]
  },
  {
   "cell_type": "code",
   "execution_count": 7,
   "metadata": {},
   "outputs": [],
   "source": [
    "import re\n",
    "\n",
    "# train_set, dev_set数据量较大，不太方便上传到git上，所以这里读的是软连接\n",
    "train = []\n",
    "for file in glob(\"../data/train_set/*.csv\"):\n",
    "    data = preprocess(file,\"train\")\n",
    "    train.append(data)\n",
    "train = pd.concat(train)"
   ]
  },
  {
   "cell_type": "code",
   "execution_count": 12,
   "metadata": {},
   "outputs": [],
   "source": [
    "dev = []\n",
    "for file in glob(\"../data/dev_set/*.csv\"):\n",
    "    data = preprocess(file,\"dev\")\n",
    "    dev.append(data)\n",
    "dev = pd.concat(dev)"
   ]
  },
  {
   "cell_type": "code",
   "execution_count": 13,
   "metadata": {},
   "outputs": [],
   "source": [
    "train['type'] = 'train'\n",
    "dev['type'] = 'dev'\n",
    "matrix = pd.concat([train, dev])"
   ]
  },
  {
   "cell_type": "code",
   "execution_count": 17,
   "metadata": {},
   "outputs": [],
   "source": [
    "def reduce_memory_usage(df, allow_categorical, float_type=\"float32\"):\n",
    "    def _downcast_numeric(series, allow_categorical, float_type):\n",
    "        if pd.api.types.is_sparse(series.dtype):\n",
    "            return series\n",
    "        elif pd.api.types.is_numeric_dtype(series) is False: \n",
    "            if pd.api.types.is_datetime64_any_dtype(series.dtype):\n",
    "                return series\n",
    "            else:\n",
    "                if allow_categorical:\n",
    "                    return series\n",
    "                else:\n",
    "                    code, uniq = series.factorize()\n",
    "                    series = pd.Series(code, index=series.index)\n",
    "                    series = _downcast_numeric(series, allow_categorical, float_type)\n",
    "                    return series\n",
    "        else:\n",
    "            series = pd.to_numeric(series, downcast=\"integer\")\n",
    "        if pd.api.types.is_float_dtype(series.dtype):\n",
    "            series = series.astype(float_type)\n",
    "        return series\n",
    "    \n",
    "    print(f\"before reducing memory: {np.sum(df.memory_usage()) / (1024*1024)}\")\n",
    "    if df.ndim == 1:\n",
    "        df = _downcast_numeric(df, allow_categorical, float_type)\n",
    "    else:\n",
    "        for col in df.columns:\n",
    "            df[col] = _downcast_numeric(df[col], allow_categorical, float_type)\n",
    "    print(f\"after reducing memory: {np.sum(df.memory_usage()) / (1024*1024)}\")\n",
    "\n",
    "    return df\n",
    "\n",
    "def reduce_new_col_mem(df, allow_categorical, old_cols=None):\n",
    "    if old_cols is not None:\n",
    "        new_cols = df.columns.difference(old_cols)\n",
    "    else:\n",
    "        new_cols = df.columns\n",
    "        \n",
    "    df[new_cols] = reduce_memory_usage(df[new_cols], allow_categorical)\n",
    "    old_cols = df.columns\n",
    "    return df, old_cols"
   ]
  },
  {
   "cell_type": "code",
   "execution_count": 19,
   "metadata": {},
   "outputs": [
    {
     "name": "stdout",
     "output_type": "stream",
     "text": [
      "before reducing memory: 2011.9474411010742\n",
      "after reducing memory: 1116.6308298110962\n"
     ]
    }
   ],
   "source": [
    "matrix, old_cols = reduce_new_col_mem(matrix, allow_categorical=True)"
   ]
  },
  {
   "cell_type": "code",
   "execution_count": 21,
   "metadata": {},
   "outputs": [],
   "source": [
    "matrix = matrix.query(\"age > 18 & age < 65\")"
   ]
  },
  {
   "cell_type": "code",
   "execution_count": 22,
   "metadata": {},
   "outputs": [],
   "source": [
    "# 计算用户生命周期中每月平均申请次数\n",
    "def add_average_apply_feature(matrix):\n",
    "    matrix[['信用卡申请数','信贷申请数', '核卡数', '被拒数', '线上申请信用卡次数', '线上申请信贷次数']] = \\\n",
    "        matrix[['信用卡申请数','信贷申请数', '核卡数', '被拒数', '线上申请信用卡次数', '线上申请信贷次数']].fillna(0)\n",
    "    \n",
    "    matrix['mob_month'] = ((matrix['mob'] / 30) + 1).astype(\"int\")\n",
    "    matrix['apply_credit_card_average_month'] = matrix['信用卡申请数'] / matrix['mob_month']\n",
    "    matrix['apply_loan_average_month'] = matrix['信贷申请数'] / matrix['mob_month']\n",
    "    matrix['apply_credit_card_online_average_month'] = matrix['线上申请信用卡次数'] / matrix['mob_month']\n",
    "    matrix['apply_loan_online_average_month'] = matrix['线上申请信贷次数'] / matrix['mob_month']\n",
    "    matrix['new_customer'] = matrix.mob_month == 1\n",
    "    matrix = matrix.drop(columns='mob_month')\n",
    "    return matrix\n",
    "\n",
    "matrix = add_average_apply_feature(matrix)"
   ]
  },
  {
   "cell_type": "code",
   "execution_count": 24,
   "metadata": {},
   "outputs": [
    {
     "name": "stdout",
     "output_type": "stream",
     "text": [
      "before reducing memory: 243.2744264602661\n"
     ]
    },
    {
     "name": "stderr",
     "output_type": "stream",
     "text": [
      "/tmp/ipykernel_157377/2647127644.py:27: SettingWithCopyWarning: \n",
      "A value is trying to be set on a copy of a slice from a DataFrame.\n",
      "Try using .loc[row_indexer,col_indexer] = value instead\n",
      "\n",
      "See the caveats in the documentation: https://pandas.pydata.org/pandas-docs/stable/user_guide/indexing.html#returning-a-view-versus-a-copy\n",
      "  df[col] = _downcast_numeric(df[col], allow_categorical, float_type)\n"
     ]
    },
    {
     "name": "stdout",
     "output_type": "stream",
     "text": [
      "after reducing memory: 243.2744264602661\n"
     ]
    }
   ],
   "source": [
    "matrix, old_cols = reduce_new_col_mem(matrix,True,old_cols)"
   ]
  },
  {
   "cell_type": "code",
   "execution_count": 25,
   "metadata": {},
   "outputs": [
    {
     "data": {
      "text/html": [
       "<div>\n",
       "<style scoped>\n",
       "    .dataframe tbody tr th:only-of-type {\n",
       "        vertical-align: middle;\n",
       "    }\n",
       "\n",
       "    .dataframe tbody tr th {\n",
       "        vertical-align: top;\n",
       "    }\n",
       "\n",
       "    .dataframe thead th {\n",
       "        text-align: right;\n",
       "    }\n",
       "</style>\n",
       "<table border=\"1\" class=\"dataframe\">\n",
       "  <thead>\n",
       "    <tr style=\"text-align: right;\">\n",
       "      <th></th>\n",
       "      <th>信用卡申请数</th>\n",
       "      <th>信贷申请数</th>\n",
       "      <th>核卡数</th>\n",
       "      <th>被拒数</th>\n",
       "      <th>线上申请信用卡次数</th>\n",
       "      <th>线上申请信贷次数</th>\n",
       "      <th>apply_credit_card_average_month</th>\n",
       "      <th>apply_loan_average_month</th>\n",
       "      <th>apply_credit_card_online_average_month</th>\n",
       "      <th>apply_loan_online_average_month</th>\n",
       "    </tr>\n",
       "  </thead>\n",
       "  <tbody>\n",
       "    <tr>\n",
       "      <th>count</th>\n",
       "      <td>1.020367e+07</td>\n",
       "      <td>1.020367e+07</td>\n",
       "      <td>1.020367e+07</td>\n",
       "      <td>1.020367e+07</td>\n",
       "      <td>1.020367e+07</td>\n",
       "      <td>1.020367e+07</td>\n",
       "      <td>1.020367e+07</td>\n",
       "      <td>1.020367e+07</td>\n",
       "      <td>1.020367e+07</td>\n",
       "      <td>1.020367e+07</td>\n",
       "    </tr>\n",
       "    <tr>\n",
       "      <th>mean</th>\n",
       "      <td>3.097373e+00</td>\n",
       "      <td>8.261236e-01</td>\n",
       "      <td>2.654311e-01</td>\n",
       "      <td>3.730215e-01</td>\n",
       "      <td>1.383556e+00</td>\n",
       "      <td>7.603440e-01</td>\n",
       "      <td>8.299860e-01</td>\n",
       "      <td>2.635477e-01</td>\n",
       "      <td>3.293868e-01</td>\n",
       "      <td>2.458391e-01</td>\n",
       "    </tr>\n",
       "    <tr>\n",
       "      <th>std</th>\n",
       "      <td>2.945577e+00</td>\n",
       "      <td>1.159419e+00</td>\n",
       "      <td>5.038522e-01</td>\n",
       "      <td>6.456428e-01</td>\n",
       "      <td>2.032897e+00</td>\n",
       "      <td>1.077152e+00</td>\n",
       "      <td>8.902491e-01</td>\n",
       "      <td>4.867920e-01</td>\n",
       "      <td>5.248405e-01</td>\n",
       "      <td>4.481927e-01</td>\n",
       "    </tr>\n",
       "    <tr>\n",
       "      <th>min</th>\n",
       "      <td>0.000000e+00</td>\n",
       "      <td>0.000000e+00</td>\n",
       "      <td>0.000000e+00</td>\n",
       "      <td>0.000000e+00</td>\n",
       "      <td>0.000000e+00</td>\n",
       "      <td>0.000000e+00</td>\n",
       "      <td>0.000000e+00</td>\n",
       "      <td>0.000000e+00</td>\n",
       "      <td>0.000000e+00</td>\n",
       "      <td>0.000000e+00</td>\n",
       "    </tr>\n",
       "    <tr>\n",
       "      <th>50%</th>\n",
       "      <td>2.000000e+00</td>\n",
       "      <td>0.000000e+00</td>\n",
       "      <td>0.000000e+00</td>\n",
       "      <td>0.000000e+00</td>\n",
       "      <td>1.000000e+00</td>\n",
       "      <td>0.000000e+00</td>\n",
       "      <td>5.000000e-01</td>\n",
       "      <td>0.000000e+00</td>\n",
       "      <td>1.111111e-01</td>\n",
       "      <td>0.000000e+00</td>\n",
       "    </tr>\n",
       "    <tr>\n",
       "      <th>75%</th>\n",
       "      <td>4.000000e+00</td>\n",
       "      <td>1.000000e+00</td>\n",
       "      <td>0.000000e+00</td>\n",
       "      <td>1.000000e+00</td>\n",
       "      <td>2.000000e+00</td>\n",
       "      <td>1.000000e+00</td>\n",
       "      <td>1.000000e+00</td>\n",
       "      <td>3.333333e-01</td>\n",
       "      <td>5.000000e-01</td>\n",
       "      <td>3.000000e-01</td>\n",
       "    </tr>\n",
       "    <tr>\n",
       "      <th>90%</th>\n",
       "      <td>6.000000e+00</td>\n",
       "      <td>2.000000e+00</td>\n",
       "      <td>1.000000e+00</td>\n",
       "      <td>1.000000e+00</td>\n",
       "      <td>4.000000e+00</td>\n",
       "      <td>2.000000e+00</td>\n",
       "      <td>2.000000e+00</td>\n",
       "      <td>1.000000e+00</td>\n",
       "      <td>1.000000e+00</td>\n",
       "      <td>1.000000e+00</td>\n",
       "    </tr>\n",
       "    <tr>\n",
       "      <th>95%</th>\n",
       "      <td>8.000000e+00</td>\n",
       "      <td>3.000000e+00</td>\n",
       "      <td>1.000000e+00</td>\n",
       "      <td>1.000000e+00</td>\n",
       "      <td>5.000000e+00</td>\n",
       "      <td>3.000000e+00</td>\n",
       "      <td>3.000000e+00</td>\n",
       "      <td>1.000000e+00</td>\n",
       "      <td>1.333333e+00</td>\n",
       "      <td>1.000000e+00</td>\n",
       "    </tr>\n",
       "    <tr>\n",
       "      <th>98%</th>\n",
       "      <td>1.100000e+01</td>\n",
       "      <td>4.000000e+00</td>\n",
       "      <td>2.000000e+00</td>\n",
       "      <td>2.000000e+00</td>\n",
       "      <td>7.000000e+00</td>\n",
       "      <td>4.000000e+00</td>\n",
       "      <td>4.000000e+00</td>\n",
       "      <td>2.000000e+00</td>\n",
       "      <td>2.000000e+00</td>\n",
       "      <td>2.000000e+00</td>\n",
       "    </tr>\n",
       "    <tr>\n",
       "      <th>max</th>\n",
       "      <td>2.460000e+02</td>\n",
       "      <td>5.200000e+01</td>\n",
       "      <td>8.000000e+00</td>\n",
       "      <td>1.400000e+01</td>\n",
       "      <td>1.280000e+02</td>\n",
       "      <td>5.200000e+01</td>\n",
       "      <td>3.900000e+01</td>\n",
       "      <td>1.166667e+01</td>\n",
       "      <td>1.500000e+01</td>\n",
       "      <td>1.066667e+01</td>\n",
       "    </tr>\n",
       "  </tbody>\n",
       "</table>\n",
       "</div>"
      ],
      "text/plain": [
       "             信用卡申请数         信贷申请数           核卡数           被拒数     线上申请信用卡次数  \\\n",
       "count  1.020367e+07  1.020367e+07  1.020367e+07  1.020367e+07  1.020367e+07   \n",
       "mean   3.097373e+00  8.261236e-01  2.654311e-01  3.730215e-01  1.383556e+00   \n",
       "std    2.945577e+00  1.159419e+00  5.038522e-01  6.456428e-01  2.032897e+00   \n",
       "min    0.000000e+00  0.000000e+00  0.000000e+00  0.000000e+00  0.000000e+00   \n",
       "50%    2.000000e+00  0.000000e+00  0.000000e+00  0.000000e+00  1.000000e+00   \n",
       "75%    4.000000e+00  1.000000e+00  0.000000e+00  1.000000e+00  2.000000e+00   \n",
       "90%    6.000000e+00  2.000000e+00  1.000000e+00  1.000000e+00  4.000000e+00   \n",
       "95%    8.000000e+00  3.000000e+00  1.000000e+00  1.000000e+00  5.000000e+00   \n",
       "98%    1.100000e+01  4.000000e+00  2.000000e+00  2.000000e+00  7.000000e+00   \n",
       "max    2.460000e+02  5.200000e+01  8.000000e+00  1.400000e+01  1.280000e+02   \n",
       "\n",
       "           线上申请信贷次数  apply_credit_card_average_month  \\\n",
       "count  1.020367e+07                     1.020367e+07   \n",
       "mean   7.603440e-01                     8.299860e-01   \n",
       "std    1.077152e+00                     8.902491e-01   \n",
       "min    0.000000e+00                     0.000000e+00   \n",
       "50%    0.000000e+00                     5.000000e-01   \n",
       "75%    1.000000e+00                     1.000000e+00   \n",
       "90%    2.000000e+00                     2.000000e+00   \n",
       "95%    3.000000e+00                     3.000000e+00   \n",
       "98%    4.000000e+00                     4.000000e+00   \n",
       "max    5.200000e+01                     3.900000e+01   \n",
       "\n",
       "       apply_loan_average_month  apply_credit_card_online_average_month  \\\n",
       "count              1.020367e+07                            1.020367e+07   \n",
       "mean               2.635477e-01                            3.293868e-01   \n",
       "std                4.867920e-01                            5.248405e-01   \n",
       "min                0.000000e+00                            0.000000e+00   \n",
       "50%                0.000000e+00                            1.111111e-01   \n",
       "75%                3.333333e-01                            5.000000e-01   \n",
       "90%                1.000000e+00                            1.000000e+00   \n",
       "95%                1.000000e+00                            1.333333e+00   \n",
       "98%                2.000000e+00                            2.000000e+00   \n",
       "max                1.166667e+01                            1.500000e+01   \n",
       "\n",
       "       apply_loan_online_average_month  \n",
       "count                     1.020367e+07  \n",
       "mean                      2.458391e-01  \n",
       "std                       4.481927e-01  \n",
       "min                       0.000000e+00  \n",
       "50%                       0.000000e+00  \n",
       "75%                       3.000000e-01  \n",
       "90%                       1.000000e+00  \n",
       "95%                       1.000000e+00  \n",
       "98%                       2.000000e+00  \n",
       "max                       1.066667e+01  "
      ]
     },
     "execution_count": 25,
     "metadata": {},
     "output_type": "execute_result"
    }
   ],
   "source": [
    "matrix[['信用卡申请数','信贷申请数', '核卡数', '被拒数', '线上申请信用卡次数', '线上申请信贷次数','apply_credit_card_average_month',\n",
    "       'apply_loan_average_month', 'apply_credit_card_online_average_month', 'apply_loan_online_average_month']].describe(percentiles=[0.75, 0.9, 0.95, 0.98])"
   ]
  },
  {
   "cell_type": "code",
   "execution_count": 26,
   "metadata": {},
   "outputs": [],
   "source": [
    "matrix = matrix.query('信用卡申请数 < 20')"
   ]
  },
  {
   "cell_type": "code",
   "execution_count": 27,
   "metadata": {},
   "outputs": [
    {
     "name": "stdout",
     "output_type": "stream",
     "text": [
      "before reducing memory: 155.25164794921875\n",
      "after reducing memory: 87.32905197143555\n"
     ]
    }
   ],
   "source": [
    "matrix['gender'] = matrix.gender.replace({'male':0, 'female':1})\n",
    "matrix['gender'] = reduce_memory_usage(matrix['gender'], True)"
   ]
  },
  {
   "cell_type": "code",
   "execution_count": 20,
   "metadata": {},
   "outputs": [],
   "source": [
    "# matrix['最近一次申请产品'] = matrix['最近一次申请产品'].map({1:'信用卡', 2:'信贷'}).fillna('无')\n",
    "# matrix['最近一次申请产品'] = reduce_memory_usage(matrix['最近一次申请产品'], allow_categorical=False)\n",
    "matrix['最近一次申请产品'] = matrix['最近一次申请产品'].fillna(0)"
   ]
  },
  {
   "cell_type": "code",
   "execution_count": 21,
   "metadata": {},
   "outputs": [],
   "source": [
    "matrix['是否曾经申请过相同银行'] = matrix['是否曾经申请过相同银行'].fillna(0).astype(\"int8\")"
   ]
  },
  {
   "cell_type": "code",
   "execution_count": 29,
   "metadata": {},
   "outputs": [],
   "source": [
    "# 若银行为非脱银行或者该字段为空，该字段的值为2\n",
    "feituo = ['招商银行', '交通银行', '浦发银行']\n",
    "matrix['是否有该银行核卡'] = matrix['是否有该银行核卡'].astype(\"Int8\")\n",
    "matrix.loc[matrix['bank'].isin(feituo), '是否有该银行核卡'] = np.nan\n",
    "matrix['是否有该银行核卡'] = matrix['是否有该银行核卡'].fillna(2).astype(\"int8\")\n",
    "\n",
    "# 若银行为非脱银行或者该字段为空，该字段的值为2\n",
    "matrix['是否曾被该银行拒绝过'] = matrix['是否曾被该银行拒绝过'].astype(\"Int8\")\n",
    "matrix.loc[matrix['bank'].isin(feituo), '是否曾被该银行拒绝过'] = np.nan\n",
    "matrix['是否曾被该银行拒绝过'] = matrix['是否曾被该银行拒绝过'].fillna(2).astype(\"int8\")"
   ]
  },
  {
   "cell_type": "code",
   "execution_count": 30,
   "metadata": {},
   "outputs": [],
   "source": [
    "matrix['是否和上一次申请的银行一致'] = matrix['是否和上一次申请的银行一致'].fillna(2).astype(\"int8\")"
   ]
  },
  {
   "cell_type": "code",
   "execution_count": 35,
   "metadata": {},
   "outputs": [],
   "source": [
    "major_banks = ['招商银行', '中信银行', '交通银行', '光大银行', '工商银行', '平安银行', '渤海银行', '广发银行',\n",
    "                   '民生银行', '华夏银行', '浦发银行', '建设银行']\n",
    "matrix['bank_processed'] = matrix['bank'].copy().astype('str')\n",
    "matrix.loc[~matrix['bank'].isin(major_banks), 'bank_processed'] = \"rare\"\n",
    "encoder = LabelEncoder()\n",
    "matrix['bank_processed'] = encoder.fit_transform(matrix['bank_processed']).astype(\"int8\")\n",
    "matrix = matrix.drop(columns=['bank'])\n",
    "pickle.dump(encoder, open(\"../model/support/bank_encoder.pkl\", \"wb\"))"
   ]
  },
  {
   "cell_type": "code",
   "execution_count": 38,
   "metadata": {},
   "outputs": [],
   "source": [
    "customer_source = pd.read_csv(\"../data/auxiliary/customer_source.csv\")\n",
    "matrix = matrix.merge(customer_source, on='customer_key', how='left')\n",
    "matrix['line_key'] = matrix['line_key'].fillna(4).astype(\"int8\")"
   ]
  },
  {
   "cell_type": "code",
   "execution_count": 42,
   "metadata": {},
   "outputs": [],
   "source": [
    "cluster_feature = ['信用卡申请数','信贷申请数','线上申请信用卡次数','线上申请信贷次数',\n",
    "                        'apply_credit_card_average_month','apply_loan_average_month','apply_credit_card_online_average_month',\n",
    "                        'apply_loan_online_average_month']\n",
    "kmeans = KMeans(n_clusters=3)\n",
    "matrix['cluster_n_3'] = kmeans.fit_predict(matrix[cluster_feature])"
   ]
  },
  {
   "cell_type": "code",
   "execution_count": 43,
   "metadata": {},
   "outputs": [],
   "source": [
    "pickle.dump(kmeans, open('../model/utils/kmeans.pkl', 'wb'))"
   ]
  },
  {
   "cell_type": "code",
   "execution_count": 40,
   "metadata": {},
   "outputs": [],
   "source": [
    "# components = pd.DataFrame(pca.transform(matrix[['信用卡申请数','信贷申请数','线上申请信用卡次数','线上申请信贷次数',\n",
    "#                         'apply_credit_card_average_month','apply_loan_average_month','apply_credit_card_online_average_month',\n",
    "#                         'apply_loan_online_average_month']])).apply(lambda x:x.astype(\"float32\"))\n",
    "# matrix['customer_group'] = model_reload.predict(components)"
   ]
  },
  {
   "cell_type": "code",
   "execution_count": 41,
   "metadata": {},
   "outputs": [],
   "source": [
    "matrix = matrix.drop(columns='send_date')"
   ]
  },
  {
   "cell_type": "code",
   "execution_count": 42,
   "metadata": {},
   "outputs": [
    {
     "name": "stdout",
     "output_type": "stream",
     "text": [
      "before reducing memory: 3143.3817281723022\n",
      "after reducing memory: 2088.260588645935\n"
     ]
    }
   ],
   "source": [
    "matrix = reduce_memory_usage(matrix, allow_categorical=False)"
   ]
  },
  {
   "cell_type": "code",
   "execution_count": 49,
   "metadata": {},
   "outputs": [
    {
     "data": {
      "text/plain": [
       "Index(['customer_key', '是否需要贷款', '学历', '是否拥有信用卡', '有多少张信用卡', '职业'], dtype='object')"
      ]
     },
     "execution_count": 49,
     "metadata": {},
     "output_type": "execute_result"
    }
   ],
   "source": [
    "questionnaire.columns"
   ]
  },
  {
   "cell_type": "code",
   "execution_count": 50,
   "metadata": {},
   "outputs": [
    {
     "name": "stderr",
     "output_type": "stream",
     "text": [
      "/tmp/ipykernel_157377/58152653.py:6: DtypeWarning: Columns (5) have mixed types. Specify dtype option on import or set low_memory=False.\n",
      "  questionnaire = pd.read_csv(\"../data/auxiliary/questionnaire.csv\")\n"
     ]
    }
   ],
   "source": [
    "pos_merchant = pd.read_csv(\"../data/auxiliary/pos_merchant.csv\")\n",
    "matrix.loc[matrix['customer_key'].isin(pos_merchant['customer_key']), 'pos_merchant'] = True\n",
    "matrix['pos_merchant'] = matrix['pos_merchant'].fillna(False)\n",
    "matrix['pos_merchant'] = matrix['pos_merchant'].astype(\"int8\")\n",
    "\n",
    "questionnaire = pd.read_csv(\"../data/auxiliary/questionnaire.csv\")\n",
    "matrix = matrix.merge(questionnaire, on = 'customer_key', how = 'left')\n",
    "#     贷款需求字段处理，空值用3填充\n",
    "loan_intention_map = {'没有': 0, '有': 1, '不确定，但我想了解': 2}\n",
    "matrix['是否需要贷款'] = matrix['是否需要贷款'].map(loan_intention_map)\n",
    "matrix['是否需要贷款'] = matrix['是否需要贷款'].fillna(3)\n",
    "\n",
    "#     学历字段处理，空值用0填充\n",
    "degree_unification = {'高中/中专/技校': '高中及以下', '小学及以下': '高中及以下', '初中': '高中及以下', \"硕士（含）及以上\": \"研究生及以上\"}\n",
    "matrix['学历'] = matrix['学历'].replace(degree_unification)\n",
    "degree_map = {'高中及以下': 1, '大学专科': 2, '大学本科': 3, '研究生及以上': 4}\n",
    "matrix['学历'] = matrix['学历'].map(degree_map)\n",
    "matrix['学历'] = matrix['学历'].fillna(0)\n",
    "\n",
    "#     利用是否拥有信用卡和多少张信用卡互相填补空值\n",
    "matrix.loc[(matrix['是否拥有信用卡'] == \"否\") &\n",
    "           (matrix['有多少张信用卡'].isna()), \"有多少张信用卡\"] = \"无信用卡\"\n",
    "matrix.loc[(matrix['是否拥有信用卡'].isna()) &\n",
    "           (matrix['有多少张信用卡'] == \"无信用卡\"), '是否拥有信用卡'] = \"否\"\n",
    "matrix.loc[(matrix['是否拥有信用卡'].isna()) &\n",
    "           (matrix['有多少张信用卡'] != \"无信用卡\") &\n",
    "           (pd.notnull(matrix['有多少张信用卡'])), '是否拥有信用卡'] = '是'\n",
    "matrix.loc[(matrix['是否拥有信用卡'] == \"是\") &\n",
    "           (matrix['有多少张信用卡'].isna()), \"有多少张信用卡\"] = \"至少一张信用卡\"\n",
    "\n",
    "#     是否拥有信用卡字段处理，空值用2处理\n",
    "own_credit_card_map = {'否': 0, '是': 1}\n",
    "matrix['是否拥有信用卡'] = matrix['是否拥有信用卡'].map(own_credit_card_map)\n",
    "matrix['是否拥有信用卡'] = matrix['是否拥有信用卡'].fillna(2)\n",
    "\n",
    "#     信用卡数量字段处理, 空值用6填充\n",
    "credit_card_num_map = {'无信用卡': 0, '至少一张信用卡': 1, '1张': 2, '2张': 3, '3张': 4, '4张及以上': 5}\n",
    "matrix['有多少张信用卡'] = matrix['有多少张信用卡'].map(credit_card_num_map)\n",
    "matrix['有多少张信用卡'] = matrix['有多少张信用卡'].fillna(6)\n",
    "\n",
    "#     行业字段处理，空值用9填充\n",
    "career_map = {'制造业/商业贸易/批发零售': 1, '旅游/酒店/餐饮等服务行业': 2, '自由职业': 3,\n",
    "              '金融/互联网/大众传媒': 4, '交通/运输/建筑': 5, '教育/科研/医疗卫生': 6, '政府机关/公共事业': 7,\n",
    "              '农林牧矿鱼': 8}\n",
    "matrix['职业'] = matrix['职业'].map(career_map)\n",
    "matrix['职业'] = matrix['职业'].fillna(9)"
   ]
  },
  {
   "cell_type": "code",
   "execution_count": 51,
   "metadata": {},
   "outputs": [],
   "source": [
    "matrix = matrix.drop(columns=['customer_key','customer_key.1'])"
   ]
  },
  {
   "cell_type": "code",
   "execution_count": 56,
   "metadata": {},
   "outputs": [],
   "source": [
    "train = matrix[matrix.type == \"train\"]\n",
    "dev = matrix[matrix.type == \"dev\"]"
   ]
  },
  {
   "cell_type": "code",
   "execution_count": 57,
   "metadata": {},
   "outputs": [],
   "source": [
    "train = train.drop(columns='type')"
   ]
  },
  {
   "cell_type": "code",
   "execution_count": 58,
   "metadata": {},
   "outputs": [],
   "source": [
    "dev = dev.drop(columns='type')"
   ]
  },
  {
   "cell_type": "code",
   "execution_count": 59,
   "metadata": {},
   "outputs": [],
   "source": [
    "train.to_pickle(\"../data/pkl/train.pkl\")\n",
    "dev.to_pickle(\"../data/pkl/dev.pkl\")"
   ]
  }
 ],
 "metadata": {
  "kernelspec": {
   "display_name": "Python 3 (ipykernel)",
   "language": "python",
   "name": "python3"
  },
  "language_info": {
   "codemirror_mode": {
    "name": "ipython",
    "version": 3
   },
   "file_extension": ".py",
   "mimetype": "text/x-python",
   "name": "python",
   "nbconvert_exporter": "python",
   "pygments_lexer": "ipython3",
   "version": "3.9.13"
  }
 },
 "nbformat": 4,
 "nbformat_minor": 4
}
