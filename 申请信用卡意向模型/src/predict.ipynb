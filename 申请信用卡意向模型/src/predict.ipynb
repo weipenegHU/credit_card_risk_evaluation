{
 "cells": [
  {
   "cell_type": "code",
   "execution_count": 77,
   "id": "1e0dfe05-5ba8-4ef7-b5d4-573adaf81590",
   "metadata": {},
   "outputs": [],
   "source": [
    "import pandas as pd\n",
    "import numpy as np\n",
    "import warnings\n",
    "warnings.filterwarnings(\"ignore\", module=\"lightgbm\")\n",
    "\n",
    "import joblib\n",
    "import re\n",
    "import sys\n",
    "import glob2\n",
    "import config"
   ]
  },
  {
   "cell_type": "code",
   "execution_count": 82,
   "id": "a7719dcb-9199-4466-bc6b-1924a5ccf002",
   "metadata": {},
   "outputs": [],
   "source": [
    "def preprocess(file):\n",
    "    data = pd.read_csv(file, low_memory=False)\n",
    "    pat = re.compile(r\"\\d+(?=-)|\\d+\\.\\d+(?=-)|(?<=-)\\w+\")\n",
    "    match = pat.findall(file)\n",
    "    date, bank = match[0], match[2]\n",
    "    data = data.assign(bank=bank)\n",
    "    data = data[pd.notnull(data['mob'])]\n",
    "    return data\n",
    "\n",
    "\n",
    "# 通过转换类型，减少数据所占内存\n",
    "# 转换数值型变量\n",
    "def reduce_memory_usage(matrix):\n",
    "    matrix['age'] = matrix['age'].astype(\"int8\")\n",
    "    matrix['mob'] = matrix['mob'].astype(\"int16\")\n",
    "    matrix['核卡率'] = matrix['核卡率'].astype(\"float32\")\n",
    "    matrix['被拒率'] = matrix['被拒率'].astype('float32')\n",
    "    matrix['距离上一次申请信用卡天数'] = matrix['距离上一次申请信用卡天数'].astype(\"Int16\")\n",
    "    matrix['下单用户'] = matrix['下单用户'].astype(\"int8\")\n",
    "    matrix['近一月推送次数'] = matrix['近一月推送次数'].fillna(0).astype(\"int16\")\n",
    "\n",
    "    # 转换类别变量\n",
    "    cat_vars = ['最近一次申请产品', 'bank', 'gender']\n",
    "    for v in cat_vars:\n",
    "        matrix[v] = matrix[v].astype('category')\n",
    "\n",
    "    # 转换布尔变量\n",
    "    bool_vars = ['是否曾经申请过相同银行', '是否有该银行的核卡', '是否曾被该银行拒绝过',\n",
    "                 '是否和上一次申请的银行一致']\n",
    "    for v in bool_vars:\n",
    "        matrix[v] = matrix[v].astype(\"boolean\")\n",
    "\n",
    "    return matrix\n",
    "\n",
    "\n",
    "def feature_engineering(matrix):\n",
    "    # 用0填充空值\n",
    "    matrix[['信用卡申请数', '信贷申请数', '线上申请信用卡次数', '线上申请信贷次数']] = \\\n",
    "        matrix[['信用卡申请数', '信贷申请数', '线上申请信用卡次数', '线上申请信贷次数']].fillna(0)\n",
    "\n",
    "\n",
    "    # 计算衍生变量\n",
    "    matrix['mob_month'] = ((matrix['mob'] / 30) + 1).astype(\"int\")\n",
    "    matrix['apply_credit_card_average_month'] = (matrix['信用卡申请数'] / matrix['mob_month']).astype(np.double)\n",
    "    matrix['apply_loan_average_month'] = (matrix['信贷申请数'] / matrix['mob_month'])\n",
    "    matrix['apply_credit_card_online_average_month'] = (matrix['线上申请信用卡次数'] / matrix['mob_month'])\n",
    "    matrix['apply_loan_online_average_month'] = (matrix['线上申请信贷次数'] / matrix['mob_month'])\n",
    "    matrix['new_customer'] = matrix.mob_month == 1\n",
    "    matrix['new_customer'] = matrix['new_customer'].astype(\"int8\")\n",
    "    matrix = matrix.drop(columns='mob_month')\n",
    "\n",
    "    # 剔除异常客户\n",
    "    matrix = matrix[matrix['信用卡申请数'] < 20]\n",
    "    matrix = matrix[(matrix['age'] > 18) & (matrix['age'] < 65)]\n",
    "\n",
    "    # matrix['信用卡申请数'] = matrix['信用卡申请数'].astype(\"int8\")\n",
    "    # matrix['线上申请信用卡次数'] = matrix['线上申请信用卡次数'].astype(\"int8\")\n",
    "    # matrix['线上申请信贷次数'] = matrix['线上申请信贷次数'].astype(\"int8\")\n",
    "    # matrix['信贷申请数'] = matrix['信贷申请数'].astype(\"int8\")\n",
    "\n",
    "    # 性别特征处理，用2填充空值\n",
    "    if matrix['gender'].isna().values.any():\n",
    "        gender_map = {'male': 0, 'female': 1, 'NONE': 2}\n",
    "        matrix['gender'] = matrix['gender'].fillna(\"NONE\")\n",
    "    else:\n",
    "        gender_map = {'male': 0, 'female': 1}\n",
    "    matrix['gender'] = matrix['gender'].map(gender_map).astype('int8')\n",
    "\n",
    "    # 若距离上一次申请信用卡天数为空，用-1填充\n",
    "    matrix['距离上一次申请信用卡天数'] = matrix['距离上一次申请信用卡天数'].fillna(-1).astype(\"int16\")\n",
    "    # 若上一次生产产品类型为空，用0填充\n",
    "    matrix['最近一次申请产品'] = matrix['最近一次申请产品'].astype(\"Int8\").fillna(0).astype(\"int8\")\n",
    "    # 若该字段为空，用0填充\n",
    "    matrix['是否曾经申请过相同银行'] = matrix['是否曾经申请过相同银行'].fillna(0).astype(\"int8\")\n",
    "\n",
    "    # 若银行为非脱银行或者该字段为空，该字段的值为2\n",
    "    feituo = ['招商银行', '交通银行', '浦发银行']\n",
    "    matrix['是否有该银行的核卡'] = matrix['是否有该银行的核卡'].astype(\"Int8\")\n",
    "    matrix.loc[matrix['bank'].isin(feituo), '是否有该银行的核卡'] = np.nan\n",
    "    matrix['是否有该银行的核卡'] = matrix['是否有该银行的核卡'].fillna(2).astype(\"int8\")\n",
    "\n",
    "    # 若银行为非脱银行或者该字段为空，该字段的值为2\n",
    "    matrix['是否曾被该银行拒绝过'] = matrix['是否曾被该银行拒绝过'].astype(\"Int8\")\n",
    "    matrix.loc[matrix['bank'].isin(feituo), '是否曾被该银行拒绝过'] = np.nan\n",
    "    matrix['是否曾被该银行拒绝过'] = matrix['是否曾被该银行拒绝过'].fillna(2).astype(\"int8\")\n",
    "\n",
    "    # 若该字段为空，用2填充\n",
    "    matrix['是否和上一次申请的银行一致'] = matrix['是否和上一次申请的银行一致'].astype(\"Int8\").fillna(2).astype(\"int8\")\n",
    "\n",
    "    bank_encoder = joblib.load(BANK_ENCODER_PATH)\n",
    "    major_banks = ['招商银行', '中信银行', '交通银行', '光大银行', '工商银行', '平安银行', '渤海银行', '广发银行',\n",
    "                   '民生银行', '华夏银行', '浦发银行', '建设银行']\n",
    "    matrix['bank_processed'] = matrix['bank'].copy().astype('str')\n",
    "    matrix.loc[~matrix['bank'].isin(major_banks), 'bank_processed'] = \"rare\"\n",
    "    matrix['bank_processed'] = bank_encoder.transform(matrix['bank_processed']).astype(\"int8\")\n",
    "    matrix = matrix.drop(columns=['bank'])\n",
    "\n",
    "    customer_source = pd.read_csv(CUSTOMER_SOURCE_PATH)\n",
    "    matrix = pd.merge(matrix, customer_source, on='customer_key', how='left')\n",
    "\n",
    "    # 若该字段为空，用4填充\n",
    "    matrix['line_key'] = matrix['line_key'].fillna(4)\n",
    "    matrix['line_key'] = matrix['line_key'].astype(\"int8\")\n",
    "\n",
    "    kmeans = joblib.load(KMEANS_PATH)\n",
    "    cluster_features = ['信用卡申请数', '信贷申请数', '线上申请信用卡次数', '线上申请信贷次数',\n",
    "                        'apply_credit_card_average_month', 'apply_loan_average_month',\n",
    "                        'apply_credit_card_online_average_month',\n",
    "                        'apply_loan_online_average_month']\n",
    "    matrix['cluster_n_3'] = kmeans.predict(matrix[cluster_features].astype(\"float32\"))\n",
    "\n",
    "    #     客群跟指定文件匹配，匹配上为True，匹配不上为False\n",
    "    pos_merchant = pd.read_csv(POS_MERCHANT_PATH)\n",
    "    matrix.loc[matrix['customer_key'].isin(pos_merchant['customer_key']), 'pos_merchant'] = True\n",
    "    matrix['pos_merchant'] = matrix['pos_merchant'].fillna(False)\n",
    "    matrix['pos_merchant'] = matrix['pos_merchant'].astype(\"int8\")\n",
    "\n",
    "    #     贷款需求字段处理，空值用3填充\n",
    "    qst = pd.read_csv(QUESTIONNAIRE_PATH)\n",
    "    matrix = pd.merge(matrix, qst, on ='customer_key', how='left')\n",
    "    loan_intention_map = {'没有': 0, '有': 1, '不确定，但我想了解': 2}\n",
    "    matrix['是否需要贷款'] = matrix['是否需要贷款'].map(loan_intention_map)\n",
    "    matrix['是否需要贷款'] = matrix['是否需要贷款'].fillna(3)\n",
    "\n",
    "    #     学历字段处理，空值用0填充\n",
    "    degree_unification = {'高中/中专/技校': '高中及以下', '小学及以下': '高中及以下', '初中': '高中及以下', \"硕士（含）及以上\": \"研究生及以上\"}\n",
    "    matrix['学历'] = matrix['学历'].replace(degree_unification)\n",
    "    degree_map = {'高中及以下': 1, '大学专科': 2, '大学本科': 3, '研究生及以上': 4}\n",
    "    matrix['学历'] = matrix['学历'].map(degree_map)\n",
    "    matrix['学历'] = matrix['学历'].fillna(0)\n",
    "\n",
    "    #     利用是否拥有信用卡和多少张信用卡互相填补空值\n",
    "    matrix.loc[(matrix['是否拥有信用卡'] == \"否\") &\n",
    "               (matrix['有多少张信用卡'].isna()), \"有多少张信用卡\"] = \"无信用卡\"\n",
    "    matrix.loc[(matrix['是否拥有信用卡'].isna()) &\n",
    "               (matrix['有多少张信用卡'] == \"无信用卡\"), '是否拥有信用卡'] = \"否\"\n",
    "    matrix.loc[(matrix['是否拥有信用卡'].isna()) &\n",
    "               (matrix['有多少张信用卡'] != \"无信用卡\") &\n",
    "               (pd.notnull(matrix['有多少张信用卡'])), '是否拥有信用卡'] = '是'\n",
    "    matrix.loc[(matrix['是否拥有信用卡'] == \"是\") &\n",
    "               (matrix['有多少张信用卡'].isna()), \"有多少张信用卡\"] = \"至少一张信用卡\"\n",
    "\n",
    "    #     是否拥有信用卡字段处理，空值用2处理\n",
    "    own_credit_card_map = {'否': 0, '是': 1}\n",
    "    matrix['是否拥有信用卡'] = matrix['是否拥有信用卡'].map(own_credit_card_map)\n",
    "    matrix['是否拥有信用卡'] = matrix['是否拥有信用卡'].fillna(2)\n",
    "\n",
    "    #     信用卡数量字段处理, 空值用6填充\n",
    "    credit_card_num_map = {'无信用卡': 0, '至少一张信用卡': 1, '1张': 2, '2张': 3, '3张': 4, '4张及以上': 5}\n",
    "    matrix['有多少张信用卡'] = matrix['有多少张信用卡'].map(credit_card_num_map)\n",
    "    matrix['有多少张信用卡'] = matrix['有多少张信用卡'].fillna(6)\n",
    "\n",
    "    #     行业字段处理，空值用9填充\n",
    "    职业_map = {'制造业/商业贸易/批发零售': 1, '旅游/酒店/餐饮等服务行业': 2, '自由职业': 3,\n",
    "                  '金融/互联网/大众传媒': 4, '交通/运输/建筑': 5, '教育/科研/医疗卫生': 6, '政府机关/公共事业': 7,\n",
    "                  '农林牧矿鱼': 8}\n",
    "    matrix['职业'] = matrix['职业'].map(职业_map)\n",
    "    matrix['职业'] = matrix['职业'].fillna(9)\n",
    "\n",
    "    # 因为lgbm是按列的index，而不是按名称抽取特征，因此要对列重新排序，以保持和训练集特征排序一致\n",
    "    matrix = matrix[['customer_key', '下单用户', 'age', 'gender', 'mob', '信用卡申请数', '信贷申请数',\n",
    "                     '核卡数', '被拒数', '核卡率', '被拒率', '最近一次申请产品',\n",
    "                     '线上申请信用卡次数', '线上申请信贷次数', '距离上一次申请信用卡天数',\n",
    "                     '是否曾经申请过相同银行', '是否有该银行的核卡', '是否曾被该银行拒绝过',\n",
    "                     '是否和上一次申请的银行一致', '该银行申请次数','近一月推送次数', 'apply_credit_card_average_month',\n",
    "                     'apply_loan_average_month', 'apply_credit_card_online_average_month',\n",
    "                     'apply_loan_online_average_month', 'new_customer', 'bank_processed',\n",
    "                     'line_key', 'cluster_n_3', 'pos_merchant', '是否需要贷款', '学历', '是否拥有信用卡',\n",
    "                     '有多少张信用卡', '职业']]\n",
    "    # matrix = matrix.drop(columns=['customer_key.1', '该银行申请次数'], errors='ignore')\n",
    "\n",
    "    return matrix\n",
    "\n",
    "\n",
    "def predict_apply_score(file_path, mode=\"pred\"):\n",
    "    if mode != \"pred\":\n",
    "        matrix = feature_engineering(reduce_memory_usage(preprocess(file_path)))\n",
    "    else:\n",
    "        matrix = preprocess(file_path)\n",
    "        matrix['下单用户'] = -1\n",
    "        matrix = feature_engineering(reduce_memory_usage(matrix))\n",
    "\n",
    "    predictions = matrix[['customer_key', '下单用户']].copy()\n",
    "\n",
    "    for num_model in range(0, 2):\n",
    "        lgbm = joblib.load(f'{LGBM_PATH}/gbm{num_model:1d}.pkl')\n",
    "        pred_score = lgbm.predict(matrix.drop(columns=['customer_key', '下单用户'], errors='ignore'))\n",
    "        predictions[f'model_{num_model}'] = pred_score\n",
    "        \n",
    "    predictions = predictions.melt(id_vars=['customer_key', '下单用户'], value_vars=['model_0', 'model_1'], var_name='model', value_name='score')\n",
    "\n",
    "    return predictions"
   ]
  },
  {
   "cell_type": "code",
   "execution_count": 83,
   "id": "aaa69941-2dde-43da-9ac2-5cf834ad9529",
   "metadata": {},
   "outputs": [
    {
     "name": "stdout",
     "output_type": "stream",
     "text": [
      "20220326-魔方E卡通-中信银行-0325魔方E卡通光大已核卡、被拒.csv\n"
     ]
    },
    {
     "name": "stderr",
     "output_type": "stream",
     "text": [
      "/tmp/ipykernel_180853/1600745512.py:119: DtypeWarning: Columns (5) have mixed types. Specify dtype option on import or set low_memory=False.\n",
      "  qst = pd.read_csv(QUESTIONNAIRE_PATH)\n"
     ]
    },
    {
     "name": "stdout",
     "output_type": "stream",
     "text": [
      "top 10%, precision 0.1050, recall 0.5234\n",
      "top 20%, precision 0.0693, recall 0.6495\n",
      "top 30%, precision 0.0542, recall 0.7617\n",
      "top 40%, precision 0.0412, recall 0.8178\n",
      "top 50%, precision 0.0340, recall 0.8551\n",
      "top 60%, precision 0.0299, recall 0.8925\n",
      "top 70%, precision 0.0280, recall 0.9439\n",
      "top 80%, precision 0.0267, recall 0.9813\n",
      "top 90%, precision 0.0250, recall 0.9907\n",
      "top 100%, precision 0.0231, recall 1.0000\n",
      "20220326-魔方用卡小助手-中信银行-0325魔方用卡小助手近2月申请光大（剔除已核卡、被拒）.csv\n"
     ]
    },
    {
     "name": "stderr",
     "output_type": "stream",
     "text": [
      "/tmp/ipykernel_180853/1600745512.py:119: DtypeWarning: Columns (5) have mixed types. Specify dtype option on import or set low_memory=False.\n",
      "  qst = pd.read_csv(QUESTIONNAIRE_PATH)\n"
     ]
    },
    {
     "name": "stdout",
     "output_type": "stream",
     "text": [
      "top 10%, precision 0.0949, recall 0.3822\n",
      "top 20%, precision 0.0696, recall 0.5405\n",
      "top 30%, precision 0.0586, recall 0.6718\n",
      "top 40%, precision 0.0520, recall 0.7954\n",
      "top 50%, precision 0.0462, recall 0.8726\n",
      "top 60%, precision 0.0411, recall 0.9228\n",
      "top 70%, precision 0.0365, recall 0.9459\n",
      "top 80%, precision 0.0331, recall 0.9653\n",
      "top 90%, precision 0.0307, recall 0.9923\n",
      "top 100%, precision 0.0282, recall 1.0000\n",
      "20220320-魔方办卡-交通银行-0320-魔方办卡-超2月申请【交通】.csv\n"
     ]
    },
    {
     "name": "stderr",
     "output_type": "stream",
     "text": [
      "/tmp/ipykernel_180853/1600745512.py:119: DtypeWarning: Columns (5) have mixed types. Specify dtype option on import or set low_memory=False.\n",
      "  qst = pd.read_csv(QUESTIONNAIRE_PATH)\n"
     ]
    },
    {
     "name": "stdout",
     "output_type": "stream",
     "text": [
      "top 10%, precision 0.0637, recall 0.3643\n",
      "top 20%, precision 0.0441, recall 0.4929\n",
      "top 30%, precision 0.0352, recall 0.5786\n",
      "top 40%, precision 0.0323, recall 0.7000\n",
      "top 50%, precision 0.0272, recall 0.7357\n",
      "top 60%, precision 0.0253, recall 0.8143\n",
      "top 70%, precision 0.0239, recall 0.8857\n",
      "top 80%, precision 0.0222, recall 0.9357\n",
      "top 90%, precision 0.0214, recall 0.9929\n",
      "top 100%, precision 0.0198, recall 1.0000\n",
      "20220326-魔方E卡通-中信银行-0325魔方E卡通近2月申请光大（剔除已核卡、被拒）.csv\n"
     ]
    },
    {
     "name": "stderr",
     "output_type": "stream",
     "text": [
      "/tmp/ipykernel_180853/1600745512.py:119: DtypeWarning: Columns (5) have mixed types. Specify dtype option on import or set low_memory=False.\n",
      "  qst = pd.read_csv(QUESTIONNAIRE_PATH)\n"
     ]
    },
    {
     "name": "stdout",
     "output_type": "stream",
     "text": [
      "top 10%, precision 0.2487, recall 0.4188\n",
      "top 20%, precision 0.1772, recall 0.5983\n",
      "top 30%, precision 0.1544, recall 0.7863\n",
      "top 40%, precision 0.1275, recall 0.8632\n",
      "top 50%, precision 0.1113, recall 0.9145\n",
      "top 60%, precision 0.0980, recall 0.9658\n",
      "top 70%, precision 0.0877, recall 0.9829\n",
      "top 80%, precision 0.0798, recall 1.0000\n",
      "top 90%, precision 0.0721, recall 1.0000\n",
      "top 100%, precision 0.0656, recall 1.0000\n",
      "20220320-魔方E卡通-中信银行-0320-魔方E卡-近2月申请【中信】.csv\n"
     ]
    },
    {
     "name": "stderr",
     "output_type": "stream",
     "text": [
      "/tmp/ipykernel_180853/1600745512.py:119: DtypeWarning: Columns (5) have mixed types. Specify dtype option on import or set low_memory=False.\n",
      "  qst = pd.read_csv(QUESTIONNAIRE_PATH)\n"
     ]
    },
    {
     "name": "stdout",
     "output_type": "stream",
     "text": [
      "top 10%, precision 0.3167, recall 0.3564\n",
      "top 20%, precision 0.2474, recall 0.5578\n",
      "top 30%, precision 0.2014, recall 0.6865\n",
      "top 40%, precision 0.1733, recall 0.7723\n",
      "top 50%, precision 0.1531, recall 0.8383\n",
      "top 60%, precision 0.1366, recall 0.8878\n",
      "top 70%, precision 0.1248, recall 0.9307\n",
      "top 80%, precision 0.1154, recall 0.9703\n",
      "top 90%, precision 0.1070, recall 0.9934\n",
      "top 100%, precision 0.0983, recall 1.0000\n",
      "20220313-魔方办卡-广发银行-魔方办卡-平安已核【广发】.csv\n"
     ]
    },
    {
     "name": "stderr",
     "output_type": "stream",
     "text": [
      "/tmp/ipykernel_180853/1600745512.py:119: DtypeWarning: Columns (5) have mixed types. Specify dtype option on import or set low_memory=False.\n",
      "  qst = pd.read_csv(QUESTIONNAIRE_PATH)\n"
     ]
    },
    {
     "name": "stdout",
     "output_type": "stream",
     "text": [
      "top 10%, precision 0.0816, recall 0.4909\n",
      "top 20%, precision 0.0594, recall 0.6909\n",
      "top 30%, precision 0.0467, recall 0.8364\n",
      "top 40%, precision 0.0385, recall 0.9091\n",
      "top 50%, precision 0.0314, recall 0.9273\n",
      "top 60%, precision 0.0256, recall 0.9273\n",
      "top 70%, precision 0.0227, recall 0.9455\n",
      "top 80%, precision 0.0211, recall 0.9818\n",
      "top 90%, precision 0.0197, recall 1.0000\n",
      "top 100%, precision 0.0184, recall 1.0000\n",
      "20220314-魔方办卡VIP-中信银行-魔方办卡VIP -近2月申请【中信】.csv\n"
     ]
    },
    {
     "name": "stderr",
     "output_type": "stream",
     "text": [
      "/tmp/ipykernel_180853/1600745512.py:119: DtypeWarning: Columns (5) have mixed types. Specify dtype option on import or set low_memory=False.\n",
      "  qst = pd.read_csv(QUESTIONNAIRE_PATH)\n"
     ]
    },
    {
     "name": "stdout",
     "output_type": "stream",
     "text": [
      "top 10%, precision 0.3271, recall 0.3672\n",
      "top 20%, precision 0.2942, recall 0.5313\n",
      "top 30%, precision 0.2695, recall 0.6806\n",
      "top 40%, precision 0.2289, recall 0.7791\n",
      "top 50%, precision 0.2011, recall 0.8448\n",
      "top 60%, precision 0.1759, recall 0.8896\n",
      "top 70%, precision 0.1593, recall 0.9313\n",
      "top 80%, precision 0.1471, recall 0.9672\n",
      "top 90%, precision 0.1370, recall 0.9970\n",
      "top 100%, precision 0.1258, recall 1.0000\n",
      "20220309-魔方办卡VIP-招商银行-0309-魔方办卡VIP-超2月申请招商.csv\n"
     ]
    },
    {
     "name": "stderr",
     "output_type": "stream",
     "text": [
      "/tmp/ipykernel_180853/1600745512.py:119: DtypeWarning: Columns (5) have mixed types. Specify dtype option on import or set low_memory=False.\n",
      "  qst = pd.read_csv(QUESTIONNAIRE_PATH)\n"
     ]
    },
    {
     "name": "stdout",
     "output_type": "stream",
     "text": [
      "top 10%, precision 0.0875, recall 0.3000\n",
      "top 20%, precision 0.0833, recall 0.5714\n",
      "top 30%, precision 0.0654, recall 0.6571\n",
      "top 40%, precision 0.0543, recall 0.7000\n",
      "top 50%, precision 0.0474, recall 0.7571\n",
      "top 60%, precision 0.0431, recall 0.8000\n",
      "top 70%, precision 0.0436, recall 0.9286\n",
      "top 80%, precision 0.0399, recall 0.9571\n",
      "top 90%, precision 0.0365, recall 0.9714\n",
      "top 100%, precision 0.0345, recall 1.0000\n",
      "20220310-魔方办卡-平安银行-0310-魔方办卡-近2月申请光大.csv\n"
     ]
    },
    {
     "name": "stderr",
     "output_type": "stream",
     "text": [
      "/tmp/ipykernel_180853/1600745512.py:119: DtypeWarning: Columns (5) have mixed types. Specify dtype option on import or set low_memory=False.\n",
      "  qst = pd.read_csv(QUESTIONNAIRE_PATH)\n"
     ]
    },
    {
     "name": "stdout",
     "output_type": "stream",
     "text": [
      "top 10%, precision 0.0920, recall 0.2632\n",
      "top 20%, precision 0.0737, recall 0.4035\n",
      "top 30%, precision 0.0656, recall 0.5263\n",
      "top 40%, precision 0.0689, recall 0.7368\n",
      "top 50%, precision 0.0617, recall 0.8070\n",
      "top 60%, precision 0.0544, recall 0.8421\n",
      "top 70%, precision 0.0490, recall 0.8772\n",
      "top 80%, precision 0.0466, recall 0.9298\n",
      "top 90%, precision 0.0451, recall 0.9825\n",
      "top 100%, precision 0.0416, recall 1.0000\n",
      "20220309-魔方办卡VIP-招商银行-0309-魔方办卡VIP-未申请招商.csv\n"
     ]
    },
    {
     "name": "stderr",
     "output_type": "stream",
     "text": [
      "/tmp/ipykernel_180853/1600745512.py:119: DtypeWarning: Columns (5) have mixed types. Specify dtype option on import or set low_memory=False.\n",
      "  qst = pd.read_csv(QUESTIONNAIRE_PATH)\n"
     ]
    },
    {
     "name": "stdout",
     "output_type": "stream",
     "text": [
      "top 10%, precision 0.2313, recall 0.4911\n",
      "top 20%, precision 0.1610, recall 0.6696\n",
      "top 30%, precision 0.1279, recall 0.7661\n",
      "top 40%, precision 0.1080, recall 0.8179\n",
      "top 50%, precision 0.0902, recall 0.8607\n",
      "top 60%, precision 0.0791, recall 0.9000\n",
      "top 70%, precision 0.0709, recall 0.9268\n",
      "top 80%, precision 0.0658, recall 0.9696\n",
      "top 90%, precision 0.0594, recall 0.9911\n",
      "top 100%, precision 0.0551, recall 1.0000\n"
     ]
    }
   ],
   "source": [
    "KMEANS_PATH = f\"{config.MODEL_UTILS}/kmeans.pkl\"\n",
    "BANK_ENCODER_PATH = f\"{config.MODEL_UTILS}/bank_encoder.pkl\"\n",
    "POS_MERCHANT_PATH = f\"{config.AUXILIARY_DIR}/pos_merchant.csv\"\n",
    "QUESTIONNAIRE_PATH = f\"{config.AUXILIARY_DIR}/questionnaire.csv\"\n",
    "CUSTOMER_SOURCE_PATH = f\"{config.AUXILIARY_DIR}/customer_source.csv\"\n",
    "LGBM_PATH = config.MODEL_GBM\n",
    "\n",
    "percentile = list(range(0, 101, 10))\n",
    "for file in glob2.glob(f\"{config.TEST_DIR}/*\"):\n",
    "    print(file.split(\"/\")[-1])\n",
    "    predictions = predict_apply_score(file, 'valid')\n",
    "    predictions['percentile'] = predictions.groupby('model')['score'].rank(ascending=False, pct=True)\n",
    "    predictions['percentile'] = predictions['percentile'] * 100\n",
    "    for p in percentile:\n",
    "        if p == 0:\n",
    "            continue\n",
    "        over_threshold = predictions.query(f'percentile < {p}').drop_duplicates(['customer_key'])\n",
    "        precision = over_threshold['下单用户'].sum() / over_threshold.shape[0]\n",
    "        recall = over_threshold['下单用户'].sum() / (predictions['下单用户'].sum() / 2)\n",
    "        print(f'top {p}%, precision {precision:.4f}, recall {recall:.4f}')"
   ]
  }
 ],
 "metadata": {
  "kernelspec": {
   "display_name": "Python 3 (ipykernel)",
   "language": "python",
   "name": "python3"
  },
  "language_info": {
   "codemirror_mode": {
    "name": "ipython",
    "version": 3
   },
   "file_extension": ".py",
   "mimetype": "text/x-python",
   "name": "python",
   "nbconvert_exporter": "python",
   "pygments_lexer": "ipython3",
   "version": "3.9.13"
  }
 },
 "nbformat": 4,
 "nbformat_minor": 5
}
