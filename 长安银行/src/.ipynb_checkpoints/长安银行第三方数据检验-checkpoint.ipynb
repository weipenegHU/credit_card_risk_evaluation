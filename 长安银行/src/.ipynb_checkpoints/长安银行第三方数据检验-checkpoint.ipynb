{
 "cells": [
  {
   "cell_type": "code",
   "execution_count": 1,
   "id": "d1d47a53-f0a8-445d-909b-29467bac0688",
   "metadata": {},
   "outputs": [],
   "source": [
    "import pandas as pd\n",
    "pd.set_option('display.max_columns', 500)\n",
    "pd.set_option('display.max_rows', 100)\n",
    "import numpy as np\n",
    "import os\n",
    "from utils import peek\n",
    "from sklearn.preprocessing import StandardScaler, MinMaxScaler\n",
    "from statsmodels.stats.outliers_influence import variance_inflation_factor\n",
    "from statsmodels.tools.tools import add_constant\n",
    "import missingno as msno\n",
    "import seaborn as sns"
   ]
  },
  {
   "cell_type": "code",
   "execution_count": 2,
   "id": "3178aea8-5a9a-4d6e-90d3-bd6e59b72fa8",
   "metadata": {},
   "outputs": [],
   "source": [
    "def calc_iv(matrix, feature, target, pr=False):\n",
    "    df = matrix.copy()\n",
    "    lst = []\n",
    "    df[feature] = df[feature].fillna(\"NULL\")\n",
    "\n",
    "    for i in range(df[feature].nunique()):\n",
    "        val = list(df[feature].unique())[i]\n",
    "        lst.append([feature,                                                        # Variable\n",
    "                    val,                                                            # Value\n",
    "                    df[df[feature] == val].count()[feature],                        # All\n",
    "                    df[(df[feature] == val) & (df[target] == 1)].count()[feature],  # Good (think: Fraud == 0)\n",
    "                    df[(df[feature] == val) & (df[target] == 0)].count()[feature]]) # Bad (think: Fraud == 1)\n",
    "\n",
    "    data = pd.DataFrame(lst, columns=['Variable', 'Value', 'All', 'Good', 'Bad'])\n",
    "\n",
    "    data['Distribution Good'] = (data['Good'] + 1) / data['Good'].sum()\n",
    "    data['Distribution Bad'] = (data['Bad'] + 1) / data['Bad'].sum()\n",
    "    data['WoE'] = np.log(data['Distribution Good'] / data['Distribution Bad'])\n",
    "    data = data.replace({'WoE': {np.inf: 0, -np.inf: 0}})\n",
    "    data['IV'] = (data['Distribution Good'] - data['Distribution Bad']) * data['WoE']\n",
    "\n",
    "    if pr:\n",
    "        print(data.sort_values('Value'))\n",
    "        print('IV = ', round(data['IV'].sum(), 6))\n",
    "\n",
    "    return round(data['IV'].sum(), 6)"
   ]
  },
  {
   "cell_type": "markdown",
   "id": "2ffd3795-0d00-4797-85ec-9ef6730f2c46",
   "metadata": {
    "tags": []
   },
   "source": [
    "## 百融多头\n",
    "虽然有较好的区分效果，但是只覆盖了80%的客户。尽管如此，没覆盖到的客户批核率很高，有38%。"
   ]
  },
  {
   "cell_type": "code",
   "execution_count": 3,
   "id": "f4b84316-e128-48e4-9f52-9e264a199d03",
   "metadata": {
    "tags": []
   },
   "outputs": [
    {
     "name": "stdout",
     "output_type": "stream",
     "text": [
      "(8033, 827)\n"
     ]
    }
   ],
   "source": [
    "br_duotou = pd.read_csv(\"/sda/huweipeng/project/长安银行/data/third_party_data/百融数据/样本量10000/详细匹配数据及字典/借贷意向验证-V2.0.csv\", header=1, parse_dates=['申请日期'])\n",
    "br_duotou = br_duotou[br_duotou['产品输出标识'] == 1]\n",
    "# br_duotou = br_duotou.fillna(0)\n",
    "sample = pd.read_csv(\"/sda/huweipeng/project/长安银行/data/third_party_data/百融数据/百融样本.csv\", parse_dates=['申请日期'])\n",
    "label = pd.read_csv(\"/sda/huweipeng/project/长安银行/data/third_party_data/百融数据/样本核卡状态.csv\", parse_dates=['apply_date_key'])\n",
    "br_duotou['customer_phone'] = sample['手机号']\n",
    "br_duotou = br_duotou.merge(label, left_on=['customer_phone', '申请日期'], right_on=['customer_phone', 'apply_date_key']).drop_duplicates()\n",
    "print(br_duotou.shape)"
   ]
  },
  {
   "cell_type": "code",
   "execution_count": 4,
   "id": "11ab4ee7-c65e-464f-88ee-165fc54c5a52",
   "metadata": {
    "tags": []
   },
   "outputs": [
    {
     "name": "stderr",
     "output_type": "stream",
     "text": [
      "/tmp/ipykernel_2438355/2449508798.py:2: SettingWithCopyWarning: \n",
      "A value is trying to be set on a copy of a slice from a DataFrame.\n",
      "Try using .loc[row_indexer,col_indexer] = value instead\n",
      "\n",
      "See the caveats in the documentation: https://pandas.pydata.org/pandas-docs/stable/user_guide/indexing.html#returning-a-view-versus-a-copy\n",
      "  br_duotou_id['order_status_key'] = br_duotou['order_status_key']\n"
     ]
    }
   ],
   "source": [
    "br_duotou_id = br_duotou.filter(regex=\"身份证\")\n",
    "br_duotou_id['order_status_key'] = br_duotou['order_status_key']"
   ]
  },
  {
   "cell_type": "code",
   "execution_count": 5,
   "id": "6ea16650-c7d2-4f1a-804a-a66361f4c821",
   "metadata": {
    "tags": []
   },
   "outputs": [
    {
     "name": "stderr",
     "output_type": "stream",
     "text": [
      "/tmp/ipykernel_2438355/103133177.py:1: SettingWithCopyWarning: \n",
      "A value is trying to be set on a copy of a slice from a DataFrame.\n",
      "Try using .loc[row_indexer,col_indexer] = value instead\n",
      "\n",
      "See the caveats in the documentation: https://pandas.pydata.org/pandas-docs/stable/user_guide/indexing.html#returning-a-view-versus-a-copy\n",
      "  br_duotou_id['order_status_key'] = br_duotou_id['order_status_key'].map({2:1})\n",
      "/tmp/ipykernel_2438355/103133177.py:2: SettingWithCopyWarning: \n",
      "A value is trying to be set on a copy of a slice from a DataFrame.\n",
      "Try using .loc[row_indexer,col_indexer] = value instead\n",
      "\n",
      "See the caveats in the documentation: https://pandas.pydata.org/pandas-docs/stable/user_guide/indexing.html#returning-a-view-versus-a-copy\n",
      "  br_duotou_id['order_status_key'] = br_duotou_id['order_status_key'].fillna(0)\n"
     ]
    },
    {
     "data": {
      "text/plain": [
       "0.0    5968\n",
       "1.0    2065\n",
       "Name: order_status_key, dtype: int64"
      ]
     },
     "execution_count": 5,
     "metadata": {},
     "output_type": "execute_result"
    }
   ],
   "source": [
    "br_duotou_id['order_status_key'] = br_duotou_id['order_status_key'].map({2:1})\n",
    "br_duotou_id['order_status_key'] = br_duotou_id['order_status_key'].fillna(0)\n",
    "br_duotou_id['order_status_key'].value_counts()"
   ]
  },
  {
   "cell_type": "code",
   "execution_count": 13,
   "id": "2f6e7bfc-5fd6-429f-8e67-731b1a599a6d",
   "metadata": {},
   "outputs": [],
   "source": [
    "special_feature = [\n",
    "    '按身份证号查询，近3个月申请最大间隔天数',\n",
    "'按身份证号查询，近3个月申请最小间隔天数',\n",
    "'按身份证号查询，近3个月在银行机构申请最大间隔天数',\n",
    "'按身份证号查询，近3个月在银行机构申请最小间隔天数',\n",
    "'按身份证号查询，近3个月在非银机构申请最大间隔天数',\n",
    "'按身份证号查询，近3个月在非银机构申请最小间隔天数',\n",
    "'按身份证号查询，近6个月申请最大间隔天数',\n",
    "'按身份证号查询，近6个月申请最小间隔天数',\n",
    "'按身份证号查询，近6个月在银行机构申请最大间隔天数',\n",
    "'按身份证号查询，近6个月在银行机构申请最小间隔天数',\n",
    "'按身份证号查询，近6个月在非银机构申请最大间隔天数',\n",
    "'按身份证号查询，近6个月在非银机构申请最小间隔天数',\n",
    "'按身份证号查询，近12个月申请最大间隔天数',\n",
    "'按身份证号查询，近12个月申请最小间隔天数',\n",
    "'按身份证号查询，近12个月在银行机构申请最大间隔天数',\n",
    "'按身份证号查询，近12个月在银行机构申请最小间隔天数',\n",
    "'按身份证号查询，近12个月在非银机构申请最大间隔天数',\n",
    "'按身份证号查询，近12个月在非银机构申请最小间隔天数',\n",
    "'按身份证号查询，近7天在本机构(本机构为银行)的申请次数',\n",
    "'按身份证号查询，近15天在本机构(本机构为银行)的申请次数',\n",
    "'按身份证号查询，近1个月在本机构(本机构为银行)的申请次数',\n",
    "'按身份证号查询，近3个月在本机构(本机构为银行)的申请次数',\n",
    "'按身份证号查询，近6个月在本机构(本机构为银行)的申请次数',\n",
    "'按身份证号查询，近12个月在本机构(本机构为银行)的申请次数',\n",
    "'按身份证号查询，近7天在本机构(本机构为非银)申请次数',\n",
    "'按身份证号查询，近15天在本机构(本机构为非银)申请次数',\n",
    "'按身份证号查询，近1个月在本机构(本机构为非银)申请次数',\n",
    "'按身份证号查询，近3个月在本机构(本机构为非银)申请次数',\n",
    "'按身份证号查询，近6个月在本机构(本机构为非银)申请次数',\n",
    "'按身份证号查询，近12个月在本机构(本机构为非银)申请次数',\n",
    "'按身份证号查询，近7天在银行机构夜间申请次数',\n",
    "'按身份证号查询，近7天在银行机构夜间申请机构数',\n",
    "'按身份证号查询，近7天在非银机构夜间申请次数',\n",
    "'按身份证号查询，近7天在非银机构夜间申请机构数',\n",
    "'按身份证号查询，近15天在银行机构夜间申请次数',\n",
    "'按身份证号查询，近15天在银行机构夜间申请机构数',\n",
    "'按身份证号查询，近15天在非银机构夜间申请次数',\n",
    "'按身份证号查询，近15天在非银机构夜间申请机构数',\n",
    "'按身份证号查询，近1个月在银行机构夜间申请次数',\n",
    "'按身份证号查询，近1个月在银行机构夜间申请机构数',\n",
    "'按身份证号查询，近1个月在非银机构夜间申请次数',\n",
    "'按身份证号查询，近1个月在非银机构夜间申请机构数',\n",
    "'按身份证号查询，近3个月在银行机构夜间申请次数',\n",
    "'按身份证号查询，近3个月在银行机构夜间申请机构数',\n",
    "'按身份证号查询，近3个月在非银机构夜间申请次数',\n",
    "'按身份证号查询，近3个月在非银机构夜间申请机构数',\n",
    "'按身份证号查询，近6个月在银行机构夜间申请次数',\n",
    "'按身份证号查询，近6个月在银行机构夜间申请机构数',\n",
    "'按身份证号查询，近6个月在非银机构夜间申请次数',\n",
    "'按身份证号查询，近6个月在非银机构夜间申请机构数',\n",
    "'按身份证号查询，近12个月在银行机构夜间申请次数',\n",
    "'按身份证号查询，近12个月在银行机构夜间申请机构数',\n",
    "'按身份证号查询，近12个月在非银机构夜间申请次数',\n",
    "'按身份证号查询，近12个月在非银机构夜间申请机构数',\n",
    "'按身份证号查询，近7天在银行机构周末申请次数',\n",
    "'按身份证号查询，近7天在银行机构周末申请机构数',\n",
    "'按身份证号查询，近7天在非银机构周末申请次数',\n",
    "'按身份证号查询，近7天在非银机构周末申请机构数',\n",
    "'按身份证号查询，近15天在银行机构周末申请次数',\n",
    "'按身份证号查询，近15天在银行机构周末申请机构数',\n",
    "'按身份证号查询，近15天在非银机构周末申请次数',\n",
    "'按身份证号查询，近15天在非银机构周末申请机构数',\n",
    "'按身份证号查询，近1个月在银行机构周末申请次数',\n",
    "'按身份证号查询，近1个月在银行机构周末申请机构数',\n",
    "'按身份证号查询，近1个月在非银机构周末申请次数',\n",
    "'按身份证号查询，近1个月在非银机构周末申请机构数',\n",
    "'按身份证号查询，近3个月在银行机构周末申请次数',\n",
    "'按身份证号查询，近3个月在银行机构周末申请机构数',\n",
    "'按身份证号查询，近3个月在非银机构周末申请次数',\n",
    "'按身份证号查询，近3个月在非银机构周末申请机构数',\n",
    "'按身份证号查询，近6个月在银行机构周末申请次数',\n",
    "'按身份证号查询，近6个月在银行机构周末申请机构数',\n",
    "'按身份证号查询，近6个月在非银机构周末申请次数',\n",
    "'按身份证号查询，近6个月在非银机构周末申请机构数',\n",
    "'按身份证号查询，近12个月在银行机构周末申请次数',\n",
    "'按身份证号查询，近12个月在银行机构周末申请机构数',\n",
    "'按身份证号查询，近12个月在非银机构周末申请次数',\n",
    "'按身份证号查询，近12个月在非银机构周末申请机构数'\n",
    "]"
   ]
  },
  {
   "cell_type": "code",
   "execution_count": 33,
   "id": "66ac13e2-3d9c-433e-ac01-506848aa08b5",
   "metadata": {},
   "outputs": [
    {
     "name": "stderr",
     "output_type": "stream",
     "text": [
      "/tmp/ipykernel_2438355/3483204647.py:2: SettingWithCopyWarning: \n",
      "A value is trying to be set on a copy of a slice from a DataFrame.\n",
      "Try using .loc[row_indexer,col_indexer] = value instead\n",
      "\n",
      "See the caveats in the documentation: https://pandas.pydata.org/pandas-docs/stable/user_guide/indexing.html#returning-a-view-versus-a-copy\n",
      "  br_duotou_id[norm_features] = br_duotou_id[norm_features].fillna(0)\n"
     ]
    }
   ],
   "source": [
    "norm_features = br_duotou_id.columns.difference(special_feature + ['order_status_key'])\n",
    "br_duotou_id[norm_features] = br_duotou_id[norm_features].fillna(0)"
   ]
  },
  {
   "cell_type": "code",
   "execution_count": 35,
   "id": "a2b413ac-c28f-4fe7-afd5-9b7ae7ee8658",
   "metadata": {},
   "outputs": [
    {
     "name": "stderr",
     "output_type": "stream",
     "text": [
      "/tmp/ipykernel_2438355/3493815208.py:1: SettingWithCopyWarning: \n",
      "A value is trying to be set on a copy of a slice from a DataFrame.\n",
      "Try using .loc[row_indexer,col_indexer] = value instead\n",
      "\n",
      "See the caveats in the documentation: https://pandas.pydata.org/pandas-docs/stable/user_guide/indexing.html#returning-a-view-versus-a-copy\n",
      "  br_duotou_id[special_feature] = br_duotou_id[special_feature].fillna(-9999)\n"
     ]
    }
   ],
   "source": [
    "br_duotou_id[special_feature] = br_duotou_id[special_feature].fillna(-9999)"
   ]
  },
  {
   "cell_type": "code",
   "execution_count": 36,
   "id": "475bd246-77e6-403d-b8fa-884366eb87fd",
   "metadata": {
    "tags": []
   },
   "outputs": [],
   "source": [
    "def binning(series):\n",
    "    percentiles = list(range(0, 101, 10))\n",
    "    val = np.percentile(series, percentiles).tolist()\n",
    "    if min(series) >= 0:\n",
    "        bins = list(sorted(set([min(val) - 1] + val)))\n",
    "    else:\n",
    "        bins = list(sorted(set([-10000, -9999] + [min(val) - 1] + val)))\n",
    "    series_bin = pd.cut(series, bins, labels=list(range(len(bins) - 1))).astype(\"int\")\n",
    "    return series_bin\n",
    "    \n",
    "features = br_duotou_id.columns.difference(['order_status_key'])\n",
    "br_duotou_id_bin = br_duotou_id.copy()\n",
    "br_duotou_id_bin[features] = br_duotou_id_bin[features].apply(binning)"
   ]
  },
  {
   "cell_type": "code",
   "execution_count": 47,
   "id": "56e3a011-f125-4402-8a34-7a4fdc423339",
   "metadata": {},
   "outputs": [],
   "source": [
    "feature_iv = []\n",
    "for feature in features:\n",
    "    feature_iv.append([feature, calc_iv(br_duotou_id_bin, feature, 'order_status_key')])\n",
    "feature_iv = pd.DataFrame(feature_iv, columns = ['feature', 'iv']).sort_values('iv', ascending=False)"
   ]
  },
  {
   "cell_type": "code",
   "execution_count": 55,
   "id": "ca777ded-9fd1-4596-b88e-89da03772c06",
   "metadata": {
    "tags": []
   },
   "outputs": [
    {
     "name": "stdout",
     "output_type": "stream",
     "text": [
      "number of discard features:  0\n"
     ]
    },
    {
     "name": "stderr",
     "output_type": "stream",
     "text": [
      "/sda/software/anaconda3/lib/python3.9/site-packages/statsmodels/stats/outliers_influence.py:195: RuntimeWarning: divide by zero encountered in double_scalars\n",
      "  vif = 1. / (1. - r_squared_i)\n"
     ]
    },
    {
     "name": "stdout",
     "output_type": "stream",
     "text": [
      "number of discard features:  1\n"
     ]
    },
    {
     "name": "stderr",
     "output_type": "stream",
     "text": [
      "/sda/software/anaconda3/lib/python3.9/site-packages/statsmodels/stats/outliers_influence.py:195: RuntimeWarning: divide by zero encountered in double_scalars\n",
      "  vif = 1. / (1. - r_squared_i)\n"
     ]
    },
    {
     "name": "stdout",
     "output_type": "stream",
     "text": [
      "number of discard features:  2\n"
     ]
    },
    {
     "name": "stderr",
     "output_type": "stream",
     "text": [
      "/sda/software/anaconda3/lib/python3.9/site-packages/statsmodels/stats/outliers_influence.py:195: RuntimeWarning: divide by zero encountered in double_scalars\n",
      "  vif = 1. / (1. - r_squared_i)\n"
     ]
    },
    {
     "name": "stdout",
     "output_type": "stream",
     "text": [
      "number of discard features:  3\n"
     ]
    },
    {
     "name": "stderr",
     "output_type": "stream",
     "text": [
      "/sda/software/anaconda3/lib/python3.9/site-packages/statsmodels/stats/outliers_influence.py:195: RuntimeWarning: divide by zero encountered in double_scalars\n",
      "  vif = 1. / (1. - r_squared_i)\n"
     ]
    },
    {
     "name": "stdout",
     "output_type": "stream",
     "text": [
      "number of discard features:  4\n"
     ]
    },
    {
     "name": "stderr",
     "output_type": "stream",
     "text": [
      "/sda/software/anaconda3/lib/python3.9/site-packages/statsmodels/stats/outliers_influence.py:195: RuntimeWarning: divide by zero encountered in double_scalars\n",
      "  vif = 1. / (1. - r_squared_i)\n"
     ]
    },
    {
     "name": "stdout",
     "output_type": "stream",
     "text": [
      "number of discard features:  5\n"
     ]
    },
    {
     "name": "stderr",
     "output_type": "stream",
     "text": [
      "/sda/software/anaconda3/lib/python3.9/site-packages/statsmodels/stats/outliers_influence.py:195: RuntimeWarning: divide by zero encountered in double_scalars\n",
      "  vif = 1. / (1. - r_squared_i)\n"
     ]
    },
    {
     "name": "stdout",
     "output_type": "stream",
     "text": [
      "number of discard features:  6\n"
     ]
    },
    {
     "name": "stderr",
     "output_type": "stream",
     "text": [
      "/sda/software/anaconda3/lib/python3.9/site-packages/statsmodels/stats/outliers_influence.py:195: RuntimeWarning: divide by zero encountered in double_scalars\n",
      "  vif = 1. / (1. - r_squared_i)\n"
     ]
    },
    {
     "name": "stdout",
     "output_type": "stream",
     "text": [
      "number of discard features:  7\n"
     ]
    },
    {
     "name": "stderr",
     "output_type": "stream",
     "text": [
      "/sda/software/anaconda3/lib/python3.9/site-packages/statsmodels/stats/outliers_influence.py:195: RuntimeWarning: divide by zero encountered in double_scalars\n",
      "  vif = 1. / (1. - r_squared_i)\n"
     ]
    },
    {
     "name": "stdout",
     "output_type": "stream",
     "text": [
      "number of discard features:  8\n"
     ]
    },
    {
     "name": "stderr",
     "output_type": "stream",
     "text": [
      "/sda/software/anaconda3/lib/python3.9/site-packages/statsmodels/stats/outliers_influence.py:195: RuntimeWarning: divide by zero encountered in double_scalars\n",
      "  vif = 1. / (1. - r_squared_i)\n"
     ]
    },
    {
     "name": "stdout",
     "output_type": "stream",
     "text": [
      "number of discard features:  9\n"
     ]
    },
    {
     "name": "stderr",
     "output_type": "stream",
     "text": [
      "/sda/software/anaconda3/lib/python3.9/site-packages/statsmodels/stats/outliers_influence.py:195: RuntimeWarning: divide by zero encountered in double_scalars\n",
      "  vif = 1. / (1. - r_squared_i)\n"
     ]
    },
    {
     "name": "stdout",
     "output_type": "stream",
     "text": [
      "number of discard features:  10\n"
     ]
    },
    {
     "name": "stderr",
     "output_type": "stream",
     "text": [
      "/sda/software/anaconda3/lib/python3.9/site-packages/statsmodels/stats/outliers_influence.py:195: RuntimeWarning: divide by zero encountered in double_scalars\n",
      "  vif = 1. / (1. - r_squared_i)\n"
     ]
    },
    {
     "name": "stdout",
     "output_type": "stream",
     "text": [
      "number of discard features:  11\n"
     ]
    },
    {
     "name": "stderr",
     "output_type": "stream",
     "text": [
      "/sda/software/anaconda3/lib/python3.9/site-packages/statsmodels/stats/outliers_influence.py:195: RuntimeWarning: divide by zero encountered in double_scalars\n",
      "  vif = 1. / (1. - r_squared_i)\n"
     ]
    },
    {
     "name": "stdout",
     "output_type": "stream",
     "text": [
      "number of discard features:  12\n"
     ]
    },
    {
     "name": "stderr",
     "output_type": "stream",
     "text": [
      "/sda/software/anaconda3/lib/python3.9/site-packages/statsmodels/stats/outliers_influence.py:195: RuntimeWarning: divide by zero encountered in double_scalars\n",
      "  vif = 1. / (1. - r_squared_i)\n"
     ]
    },
    {
     "name": "stdout",
     "output_type": "stream",
     "text": [
      "number of discard features:  13\n"
     ]
    },
    {
     "name": "stderr",
     "output_type": "stream",
     "text": [
      "/sda/software/anaconda3/lib/python3.9/site-packages/statsmodels/stats/outliers_influence.py:195: RuntimeWarning: divide by zero encountered in double_scalars\n",
      "  vif = 1. / (1. - r_squared_i)\n"
     ]
    },
    {
     "name": "stdout",
     "output_type": "stream",
     "text": [
      "number of discard features:  14\n"
     ]
    },
    {
     "name": "stderr",
     "output_type": "stream",
     "text": [
      "/sda/software/anaconda3/lib/python3.9/site-packages/statsmodels/stats/outliers_influence.py:195: RuntimeWarning: divide by zero encountered in double_scalars\n",
      "  vif = 1. / (1. - r_squared_i)\n"
     ]
    },
    {
     "name": "stdout",
     "output_type": "stream",
     "text": [
      "number of discard features:  15\n"
     ]
    },
    {
     "name": "stderr",
     "output_type": "stream",
     "text": [
      "/sda/software/anaconda3/lib/python3.9/site-packages/statsmodels/stats/outliers_influence.py:195: RuntimeWarning: divide by zero encountered in double_scalars\n",
      "  vif = 1. / (1. - r_squared_i)\n"
     ]
    },
    {
     "name": "stdout",
     "output_type": "stream",
     "text": [
      "number of discard features:  16\n"
     ]
    },
    {
     "name": "stderr",
     "output_type": "stream",
     "text": [
      "/sda/software/anaconda3/lib/python3.9/site-packages/statsmodels/stats/outliers_influence.py:195: RuntimeWarning: divide by zero encountered in double_scalars\n",
      "  vif = 1. / (1. - r_squared_i)\n"
     ]
    },
    {
     "name": "stdout",
     "output_type": "stream",
     "text": [
      "number of discard features:  17\n"
     ]
    },
    {
     "name": "stderr",
     "output_type": "stream",
     "text": [
      "/sda/software/anaconda3/lib/python3.9/site-packages/statsmodels/stats/outliers_influence.py:195: RuntimeWarning: divide by zero encountered in double_scalars\n",
      "  vif = 1. / (1. - r_squared_i)\n"
     ]
    },
    {
     "name": "stdout",
     "output_type": "stream",
     "text": [
      "number of discard features:  18\n"
     ]
    },
    {
     "name": "stderr",
     "output_type": "stream",
     "text": [
      "/sda/software/anaconda3/lib/python3.9/site-packages/statsmodels/stats/outliers_influence.py:195: RuntimeWarning: divide by zero encountered in double_scalars\n",
      "  vif = 1. / (1. - r_squared_i)\n"
     ]
    },
    {
     "name": "stdout",
     "output_type": "stream",
     "text": [
      "number of discard features:  19\n"
     ]
    },
    {
     "name": "stderr",
     "output_type": "stream",
     "text": [
      "/sda/software/anaconda3/lib/python3.9/site-packages/statsmodels/stats/outliers_influence.py:195: RuntimeWarning: divide by zero encountered in double_scalars\n",
      "  vif = 1. / (1. - r_squared_i)\n"
     ]
    },
    {
     "name": "stdout",
     "output_type": "stream",
     "text": [
      "number of discard features:  20\n"
     ]
    },
    {
     "name": "stderr",
     "output_type": "stream",
     "text": [
      "/sda/software/anaconda3/lib/python3.9/site-packages/statsmodels/stats/outliers_influence.py:195: RuntimeWarning: divide by zero encountered in double_scalars\n",
      "  vif = 1. / (1. - r_squared_i)\n"
     ]
    },
    {
     "name": "stdout",
     "output_type": "stream",
     "text": [
      "number of discard features:  21\n"
     ]
    },
    {
     "name": "stderr",
     "output_type": "stream",
     "text": [
      "/sda/software/anaconda3/lib/python3.9/site-packages/statsmodels/stats/outliers_influence.py:195: RuntimeWarning: divide by zero encountered in double_scalars\n",
      "  vif = 1. / (1. - r_squared_i)\n"
     ]
    },
    {
     "name": "stdout",
     "output_type": "stream",
     "text": [
      "number of discard features:  22\n"
     ]
    },
    {
     "name": "stderr",
     "output_type": "stream",
     "text": [
      "/sda/software/anaconda3/lib/python3.9/site-packages/statsmodels/stats/outliers_influence.py:195: RuntimeWarning: divide by zero encountered in double_scalars\n",
      "  vif = 1. / (1. - r_squared_i)\n"
     ]
    },
    {
     "name": "stdout",
     "output_type": "stream",
     "text": [
      "number of discard features:  23\n"
     ]
    },
    {
     "name": "stderr",
     "output_type": "stream",
     "text": [
      "/sda/software/anaconda3/lib/python3.9/site-packages/statsmodels/stats/outliers_influence.py:195: RuntimeWarning: divide by zero encountered in double_scalars\n",
      "  vif = 1. / (1. - r_squared_i)\n"
     ]
    },
    {
     "name": "stdout",
     "output_type": "stream",
     "text": [
      "number of discard features:  24\n"
     ]
    },
    {
     "name": "stderr",
     "output_type": "stream",
     "text": [
      "/sda/software/anaconda3/lib/python3.9/site-packages/statsmodels/stats/outliers_influence.py:195: RuntimeWarning: divide by zero encountered in double_scalars\n",
      "  vif = 1. / (1. - r_squared_i)\n"
     ]
    },
    {
     "name": "stdout",
     "output_type": "stream",
     "text": [
      "number of discard features:  25\n"
     ]
    },
    {
     "name": "stderr",
     "output_type": "stream",
     "text": [
      "/sda/software/anaconda3/lib/python3.9/site-packages/statsmodels/stats/outliers_influence.py:195: RuntimeWarning: divide by zero encountered in double_scalars\n",
      "  vif = 1. / (1. - r_squared_i)\n"
     ]
    },
    {
     "name": "stdout",
     "output_type": "stream",
     "text": [
      "number of discard features:  26\n"
     ]
    },
    {
     "name": "stderr",
     "output_type": "stream",
     "text": [
      "/sda/software/anaconda3/lib/python3.9/site-packages/statsmodels/stats/outliers_influence.py:195: RuntimeWarning: divide by zero encountered in double_scalars\n",
      "  vif = 1. / (1. - r_squared_i)\n"
     ]
    },
    {
     "name": "stdout",
     "output_type": "stream",
     "text": [
      "number of discard features:  27\n"
     ]
    },
    {
     "name": "stderr",
     "output_type": "stream",
     "text": [
      "/sda/software/anaconda3/lib/python3.9/site-packages/statsmodels/stats/outliers_influence.py:195: RuntimeWarning: divide by zero encountered in double_scalars\n",
      "  vif = 1. / (1. - r_squared_i)\n"
     ]
    },
    {
     "name": "stdout",
     "output_type": "stream",
     "text": [
      "number of discard features:  27\n"
     ]
    },
    {
     "name": "stderr",
     "output_type": "stream",
     "text": [
      "/sda/software/anaconda3/lib/python3.9/site-packages/statsmodels/stats/outliers_influence.py:195: RuntimeWarning: divide by zero encountered in double_scalars\n",
      "  vif = 1. / (1. - r_squared_i)\n"
     ]
    },
    {
     "name": "stdout",
     "output_type": "stream",
     "text": [
      "number of discard features:  28\n"
     ]
    },
    {
     "name": "stderr",
     "output_type": "stream",
     "text": [
      "/sda/software/anaconda3/lib/python3.9/site-packages/statsmodels/stats/outliers_influence.py:195: RuntimeWarning: divide by zero encountered in double_scalars\n",
      "  vif = 1. / (1. - r_squared_i)\n"
     ]
    },
    {
     "name": "stdout",
     "output_type": "stream",
     "text": [
      "number of discard features:  29\n"
     ]
    },
    {
     "name": "stderr",
     "output_type": "stream",
     "text": [
      "/sda/software/anaconda3/lib/python3.9/site-packages/statsmodels/stats/outliers_influence.py:195: RuntimeWarning: divide by zero encountered in double_scalars\n",
      "  vif = 1. / (1. - r_squared_i)\n"
     ]
    },
    {
     "name": "stdout",
     "output_type": "stream",
     "text": [
      "number of discard features:  30\n"
     ]
    },
    {
     "name": "stderr",
     "output_type": "stream",
     "text": [
      "/sda/software/anaconda3/lib/python3.9/site-packages/statsmodels/stats/outliers_influence.py:195: RuntimeWarning: divide by zero encountered in double_scalars\n",
      "  vif = 1. / (1. - r_squared_i)\n"
     ]
    },
    {
     "name": "stdout",
     "output_type": "stream",
     "text": [
      "number of discard features:  31\n"
     ]
    },
    {
     "name": "stderr",
     "output_type": "stream",
     "text": [
      "/sda/software/anaconda3/lib/python3.9/site-packages/statsmodels/stats/outliers_influence.py:195: RuntimeWarning: divide by zero encountered in double_scalars\n",
      "  vif = 1. / (1. - r_squared_i)\n"
     ]
    },
    {
     "name": "stdout",
     "output_type": "stream",
     "text": [
      "number of discard features:  32\n"
     ]
    },
    {
     "name": "stderr",
     "output_type": "stream",
     "text": [
      "/sda/software/anaconda3/lib/python3.9/site-packages/statsmodels/stats/outliers_influence.py:195: RuntimeWarning: divide by zero encountered in double_scalars\n",
      "  vif = 1. / (1. - r_squared_i)\n"
     ]
    },
    {
     "name": "stdout",
     "output_type": "stream",
     "text": [
      "number of discard features:  33\n"
     ]
    },
    {
     "name": "stderr",
     "output_type": "stream",
     "text": [
      "/sda/software/anaconda3/lib/python3.9/site-packages/statsmodels/stats/outliers_influence.py:195: RuntimeWarning: divide by zero encountered in double_scalars\n",
      "  vif = 1. / (1. - r_squared_i)\n"
     ]
    },
    {
     "name": "stdout",
     "output_type": "stream",
     "text": [
      "number of discard features:  34\n"
     ]
    },
    {
     "name": "stderr",
     "output_type": "stream",
     "text": [
      "/sda/software/anaconda3/lib/python3.9/site-packages/statsmodels/stats/outliers_influence.py:195: RuntimeWarning: divide by zero encountered in double_scalars\n",
      "  vif = 1. / (1. - r_squared_i)\n"
     ]
    },
    {
     "name": "stdout",
     "output_type": "stream",
     "text": [
      "number of discard features:  35\n"
     ]
    },
    {
     "name": "stderr",
     "output_type": "stream",
     "text": [
      "/sda/software/anaconda3/lib/python3.9/site-packages/statsmodels/stats/outliers_influence.py:195: RuntimeWarning: divide by zero encountered in double_scalars\n",
      "  vif = 1. / (1. - r_squared_i)\n"
     ]
    },
    {
     "name": "stdout",
     "output_type": "stream",
     "text": [
      "number of discard features:  36\n"
     ]
    },
    {
     "name": "stderr",
     "output_type": "stream",
     "text": [
      "/sda/software/anaconda3/lib/python3.9/site-packages/statsmodels/stats/outliers_influence.py:195: RuntimeWarning: divide by zero encountered in double_scalars\n",
      "  vif = 1. / (1. - r_squared_i)\n"
     ]
    },
    {
     "name": "stdout",
     "output_type": "stream",
     "text": [
      "number of discard features:  37\n"
     ]
    },
    {
     "name": "stderr",
     "output_type": "stream",
     "text": [
      "/sda/software/anaconda3/lib/python3.9/site-packages/statsmodels/stats/outliers_influence.py:195: RuntimeWarning: divide by zero encountered in double_scalars\n",
      "  vif = 1. / (1. - r_squared_i)\n"
     ]
    },
    {
     "name": "stdout",
     "output_type": "stream",
     "text": [
      "number of discard features:  38\n"
     ]
    },
    {
     "name": "stderr",
     "output_type": "stream",
     "text": [
      "/sda/software/anaconda3/lib/python3.9/site-packages/statsmodels/stats/outliers_influence.py:195: RuntimeWarning: divide by zero encountered in double_scalars\n",
      "  vif = 1. / (1. - r_squared_i)\n"
     ]
    },
    {
     "name": "stdout",
     "output_type": "stream",
     "text": [
      "number of discard features:  39\n"
     ]
    },
    {
     "name": "stderr",
     "output_type": "stream",
     "text": [
      "/sda/software/anaconda3/lib/python3.9/site-packages/statsmodels/stats/outliers_influence.py:195: RuntimeWarning: divide by zero encountered in double_scalars\n",
      "  vif = 1. / (1. - r_squared_i)\n"
     ]
    },
    {
     "name": "stdout",
     "output_type": "stream",
     "text": [
      "number of discard features:  40\n"
     ]
    },
    {
     "name": "stderr",
     "output_type": "stream",
     "text": [
      "/sda/software/anaconda3/lib/python3.9/site-packages/statsmodels/stats/outliers_influence.py:195: RuntimeWarning: divide by zero encountered in double_scalars\n",
      "  vif = 1. / (1. - r_squared_i)\n"
     ]
    },
    {
     "name": "stdout",
     "output_type": "stream",
     "text": [
      "number of discard features:  41\n"
     ]
    },
    {
     "name": "stderr",
     "output_type": "stream",
     "text": [
      "/sda/software/anaconda3/lib/python3.9/site-packages/statsmodels/stats/outliers_influence.py:195: RuntimeWarning: divide by zero encountered in double_scalars\n",
      "  vif = 1. / (1. - r_squared_i)\n"
     ]
    },
    {
     "name": "stdout",
     "output_type": "stream",
     "text": [
      "number of discard features:  42\n"
     ]
    },
    {
     "name": "stderr",
     "output_type": "stream",
     "text": [
      "/sda/software/anaconda3/lib/python3.9/site-packages/statsmodels/stats/outliers_influence.py:195: RuntimeWarning: divide by zero encountered in double_scalars\n",
      "  vif = 1. / (1. - r_squared_i)\n"
     ]
    },
    {
     "name": "stdout",
     "output_type": "stream",
     "text": [
      "number of discard features:  43\n"
     ]
    },
    {
     "name": "stderr",
     "output_type": "stream",
     "text": [
      "/sda/software/anaconda3/lib/python3.9/site-packages/statsmodels/stats/outliers_influence.py:195: RuntimeWarning: divide by zero encountered in double_scalars\n",
      "  vif = 1. / (1. - r_squared_i)\n"
     ]
    },
    {
     "name": "stdout",
     "output_type": "stream",
     "text": [
      "number of discard features:  44\n"
     ]
    },
    {
     "name": "stderr",
     "output_type": "stream",
     "text": [
      "/sda/software/anaconda3/lib/python3.9/site-packages/statsmodels/stats/outliers_influence.py:195: RuntimeWarning: divide by zero encountered in double_scalars\n",
      "  vif = 1. / (1. - r_squared_i)\n"
     ]
    },
    {
     "name": "stdout",
     "output_type": "stream",
     "text": [
      "number of discard features:  45\n"
     ]
    },
    {
     "name": "stderr",
     "output_type": "stream",
     "text": [
      "/sda/software/anaconda3/lib/python3.9/site-packages/statsmodels/stats/outliers_influence.py:195: RuntimeWarning: divide by zero encountered in double_scalars\n",
      "  vif = 1. / (1. - r_squared_i)\n"
     ]
    },
    {
     "name": "stdout",
     "output_type": "stream",
     "text": [
      "number of discard features:  46\n"
     ]
    },
    {
     "name": "stderr",
     "output_type": "stream",
     "text": [
      "/sda/software/anaconda3/lib/python3.9/site-packages/statsmodels/stats/outliers_influence.py:195: RuntimeWarning: divide by zero encountered in double_scalars\n",
      "  vif = 1. / (1. - r_squared_i)\n"
     ]
    },
    {
     "name": "stdout",
     "output_type": "stream",
     "text": [
      "number of discard features:  47\n"
     ]
    },
    {
     "name": "stderr",
     "output_type": "stream",
     "text": [
      "/sda/software/anaconda3/lib/python3.9/site-packages/statsmodels/stats/outliers_influence.py:195: RuntimeWarning: divide by zero encountered in double_scalars\n",
      "  vif = 1. / (1. - r_squared_i)\n"
     ]
    },
    {
     "name": "stdout",
     "output_type": "stream",
     "text": [
      "number of discard features:  48\n"
     ]
    },
    {
     "name": "stderr",
     "output_type": "stream",
     "text": [
      "/sda/software/anaconda3/lib/python3.9/site-packages/statsmodels/stats/outliers_influence.py:195: RuntimeWarning: divide by zero encountered in double_scalars\n",
      "  vif = 1. / (1. - r_squared_i)\n"
     ]
    },
    {
     "name": "stdout",
     "output_type": "stream",
     "text": [
      "number of discard features:  49\n"
     ]
    },
    {
     "name": "stderr",
     "output_type": "stream",
     "text": [
      "/sda/software/anaconda3/lib/python3.9/site-packages/statsmodels/stats/outliers_influence.py:195: RuntimeWarning: divide by zero encountered in double_scalars\n",
      "  vif = 1. / (1. - r_squared_i)\n"
     ]
    },
    {
     "name": "stdout",
     "output_type": "stream",
     "text": [
      "number of discard features:  50\n"
     ]
    },
    {
     "name": "stderr",
     "output_type": "stream",
     "text": [
      "/sda/software/anaconda3/lib/python3.9/site-packages/statsmodels/stats/outliers_influence.py:195: RuntimeWarning: divide by zero encountered in double_scalars\n",
      "  vif = 1. / (1. - r_squared_i)\n"
     ]
    },
    {
     "name": "stdout",
     "output_type": "stream",
     "text": [
      "number of discard features:  51\n"
     ]
    },
    {
     "name": "stderr",
     "output_type": "stream",
     "text": [
      "/sda/software/anaconda3/lib/python3.9/site-packages/statsmodels/stats/outliers_influence.py:195: RuntimeWarning: divide by zero encountered in double_scalars\n",
      "  vif = 1. / (1. - r_squared_i)\n"
     ]
    },
    {
     "name": "stdout",
     "output_type": "stream",
     "text": [
      "number of discard features:  52\n"
     ]
    },
    {
     "name": "stderr",
     "output_type": "stream",
     "text": [
      "/sda/software/anaconda3/lib/python3.9/site-packages/statsmodels/stats/outliers_influence.py:195: RuntimeWarning: divide by zero encountered in double_scalars\n",
      "  vif = 1. / (1. - r_squared_i)\n"
     ]
    },
    {
     "name": "stdout",
     "output_type": "stream",
     "text": [
      "number of discard features:  53\n"
     ]
    },
    {
     "name": "stderr",
     "output_type": "stream",
     "text": [
      "/sda/software/anaconda3/lib/python3.9/site-packages/statsmodels/stats/outliers_influence.py:195: RuntimeWarning: divide by zero encountered in double_scalars\n",
      "  vif = 1. / (1. - r_squared_i)\n"
     ]
    },
    {
     "name": "stdout",
     "output_type": "stream",
     "text": [
      "number of discard features:  54\n"
     ]
    },
    {
     "name": "stderr",
     "output_type": "stream",
     "text": [
      "/sda/software/anaconda3/lib/python3.9/site-packages/statsmodels/stats/outliers_influence.py:195: RuntimeWarning: divide by zero encountered in double_scalars\n",
      "  vif = 1. / (1. - r_squared_i)\n"
     ]
    },
    {
     "name": "stdout",
     "output_type": "stream",
     "text": [
      "number of discard features:  55\n"
     ]
    },
    {
     "name": "stderr",
     "output_type": "stream",
     "text": [
      "/sda/software/anaconda3/lib/python3.9/site-packages/statsmodels/stats/outliers_influence.py:195: RuntimeWarning: divide by zero encountered in double_scalars\n",
      "  vif = 1. / (1. - r_squared_i)\n"
     ]
    },
    {
     "name": "stdout",
     "output_type": "stream",
     "text": [
      "number of discard features:  56\n"
     ]
    },
    {
     "name": "stderr",
     "output_type": "stream",
     "text": [
      "/sda/software/anaconda3/lib/python3.9/site-packages/statsmodels/stats/outliers_influence.py:195: RuntimeWarning: divide by zero encountered in double_scalars\n",
      "  vif = 1. / (1. - r_squared_i)\n"
     ]
    },
    {
     "name": "stdout",
     "output_type": "stream",
     "text": [
      "number of discard features:  57\n"
     ]
    },
    {
     "name": "stderr",
     "output_type": "stream",
     "text": [
      "/sda/software/anaconda3/lib/python3.9/site-packages/statsmodels/stats/outliers_influence.py:195: RuntimeWarning: divide by zero encountered in double_scalars\n",
      "  vif = 1. / (1. - r_squared_i)\n"
     ]
    },
    {
     "name": "stdout",
     "output_type": "stream",
     "text": [
      "number of discard features:  58\n"
     ]
    },
    {
     "name": "stderr",
     "output_type": "stream",
     "text": [
      "/sda/software/anaconda3/lib/python3.9/site-packages/statsmodels/stats/outliers_influence.py:195: RuntimeWarning: divide by zero encountered in double_scalars\n",
      "  vif = 1. / (1. - r_squared_i)\n"
     ]
    },
    {
     "name": "stdout",
     "output_type": "stream",
     "text": [
      "number of discard features:  59\n"
     ]
    },
    {
     "name": "stderr",
     "output_type": "stream",
     "text": [
      "/sda/software/anaconda3/lib/python3.9/site-packages/statsmodels/stats/outliers_influence.py:195: RuntimeWarning: divide by zero encountered in double_scalars\n",
      "  vif = 1. / (1. - r_squared_i)\n"
     ]
    },
    {
     "name": "stdout",
     "output_type": "stream",
     "text": [
      "number of discard features:  60\n"
     ]
    },
    {
     "name": "stderr",
     "output_type": "stream",
     "text": [
      "/sda/software/anaconda3/lib/python3.9/site-packages/statsmodels/stats/outliers_influence.py:195: RuntimeWarning: divide by zero encountered in double_scalars\n",
      "  vif = 1. / (1. - r_squared_i)\n"
     ]
    },
    {
     "name": "stdout",
     "output_type": "stream",
     "text": [
      "number of discard features:  61\n"
     ]
    },
    {
     "name": "stderr",
     "output_type": "stream",
     "text": [
      "/sda/software/anaconda3/lib/python3.9/site-packages/statsmodels/stats/outliers_influence.py:195: RuntimeWarning: divide by zero encountered in double_scalars\n",
      "  vif = 1. / (1. - r_squared_i)\n"
     ]
    },
    {
     "name": "stdout",
     "output_type": "stream",
     "text": [
      "number of discard features:  62\n"
     ]
    },
    {
     "name": "stderr",
     "output_type": "stream",
     "text": [
      "/sda/software/anaconda3/lib/python3.9/site-packages/statsmodels/stats/outliers_influence.py:195: RuntimeWarning: divide by zero encountered in double_scalars\n",
      "  vif = 1. / (1. - r_squared_i)\n"
     ]
    },
    {
     "name": "stdout",
     "output_type": "stream",
     "text": [
      "number of discard features:  63\n"
     ]
    },
    {
     "name": "stderr",
     "output_type": "stream",
     "text": [
      "/sda/software/anaconda3/lib/python3.9/site-packages/statsmodels/stats/outliers_influence.py:195: RuntimeWarning: divide by zero encountered in double_scalars\n",
      "  vif = 1. / (1. - r_squared_i)\n"
     ]
    },
    {
     "name": "stdout",
     "output_type": "stream",
     "text": [
      "number of discard features:  64\n"
     ]
    },
    {
     "name": "stderr",
     "output_type": "stream",
     "text": [
      "/sda/software/anaconda3/lib/python3.9/site-packages/statsmodels/stats/outliers_influence.py:195: RuntimeWarning: divide by zero encountered in double_scalars\n",
      "  vif = 1. / (1. - r_squared_i)\n"
     ]
    },
    {
     "name": "stdout",
     "output_type": "stream",
     "text": [
      "number of discard features:  65\n"
     ]
    },
    {
     "name": "stderr",
     "output_type": "stream",
     "text": [
      "/sda/software/anaconda3/lib/python3.9/site-packages/statsmodels/stats/outliers_influence.py:195: RuntimeWarning: divide by zero encountered in double_scalars\n",
      "  vif = 1. / (1. - r_squared_i)\n"
     ]
    },
    {
     "name": "stdout",
     "output_type": "stream",
     "text": [
      "number of discard features:  66\n"
     ]
    },
    {
     "name": "stderr",
     "output_type": "stream",
     "text": [
      "/sda/software/anaconda3/lib/python3.9/site-packages/statsmodels/stats/outliers_influence.py:195: RuntimeWarning: divide by zero encountered in double_scalars\n",
      "  vif = 1. / (1. - r_squared_i)\n"
     ]
    },
    {
     "name": "stdout",
     "output_type": "stream",
     "text": [
      "number of discard features:  67\n"
     ]
    },
    {
     "name": "stderr",
     "output_type": "stream",
     "text": [
      "/sda/software/anaconda3/lib/python3.9/site-packages/statsmodels/stats/outliers_influence.py:195: RuntimeWarning: divide by zero encountered in double_scalars\n",
      "  vif = 1. / (1. - r_squared_i)\n"
     ]
    },
    {
     "name": "stdout",
     "output_type": "stream",
     "text": [
      "number of discard features:  68\n"
     ]
    },
    {
     "name": "stderr",
     "output_type": "stream",
     "text": [
      "/sda/software/anaconda3/lib/python3.9/site-packages/statsmodels/stats/outliers_influence.py:195: RuntimeWarning: divide by zero encountered in double_scalars\n",
      "  vif = 1. / (1. - r_squared_i)\n"
     ]
    },
    {
     "name": "stdout",
     "output_type": "stream",
     "text": [
      "number of discard features:  69\n"
     ]
    },
    {
     "name": "stderr",
     "output_type": "stream",
     "text": [
      "/sda/software/anaconda3/lib/python3.9/site-packages/statsmodels/stats/outliers_influence.py:195: RuntimeWarning: divide by zero encountered in double_scalars\n",
      "  vif = 1. / (1. - r_squared_i)\n"
     ]
    },
    {
     "name": "stdout",
     "output_type": "stream",
     "text": [
      "number of discard features:  70\n"
     ]
    },
    {
     "name": "stderr",
     "output_type": "stream",
     "text": [
      "/sda/software/anaconda3/lib/python3.9/site-packages/statsmodels/stats/outliers_influence.py:195: RuntimeWarning: divide by zero encountered in double_scalars\n",
      "  vif = 1. / (1. - r_squared_i)\n"
     ]
    },
    {
     "name": "stdout",
     "output_type": "stream",
     "text": [
      "number of discard features:  71\n"
     ]
    },
    {
     "name": "stderr",
     "output_type": "stream",
     "text": [
      "/sda/software/anaconda3/lib/python3.9/site-packages/statsmodels/stats/outliers_influence.py:195: RuntimeWarning: divide by zero encountered in double_scalars\n",
      "  vif = 1. / (1. - r_squared_i)\n"
     ]
    },
    {
     "name": "stdout",
     "output_type": "stream",
     "text": [
      "number of discard features:  71\n"
     ]
    },
    {
     "name": "stderr",
     "output_type": "stream",
     "text": [
      "/sda/software/anaconda3/lib/python3.9/site-packages/statsmodels/stats/outliers_influence.py:195: RuntimeWarning: divide by zero encountered in double_scalars\n",
      "  vif = 1. / (1. - r_squared_i)\n"
     ]
    },
    {
     "name": "stdout",
     "output_type": "stream",
     "text": [
      "number of discard features:  72\n"
     ]
    },
    {
     "name": "stderr",
     "output_type": "stream",
     "text": [
      "/sda/software/anaconda3/lib/python3.9/site-packages/statsmodels/stats/outliers_influence.py:195: RuntimeWarning: divide by zero encountered in double_scalars\n",
      "  vif = 1. / (1. - r_squared_i)\n"
     ]
    },
    {
     "name": "stdout",
     "output_type": "stream",
     "text": [
      "number of discard features:  73\n"
     ]
    },
    {
     "name": "stderr",
     "output_type": "stream",
     "text": [
      "/sda/software/anaconda3/lib/python3.9/site-packages/statsmodels/stats/outliers_influence.py:195: RuntimeWarning: divide by zero encountered in double_scalars\n",
      "  vif = 1. / (1. - r_squared_i)\n"
     ]
    },
    {
     "name": "stdout",
     "output_type": "stream",
     "text": [
      "number of discard features:  74\n"
     ]
    },
    {
     "name": "stderr",
     "output_type": "stream",
     "text": [
      "/sda/software/anaconda3/lib/python3.9/site-packages/statsmodels/stats/outliers_influence.py:195: RuntimeWarning: divide by zero encountered in double_scalars\n",
      "  vif = 1. / (1. - r_squared_i)\n"
     ]
    },
    {
     "name": "stdout",
     "output_type": "stream",
     "text": [
      "number of discard features:  75\n"
     ]
    },
    {
     "name": "stderr",
     "output_type": "stream",
     "text": [
      "/sda/software/anaconda3/lib/python3.9/site-packages/statsmodels/stats/outliers_influence.py:195: RuntimeWarning: divide by zero encountered in double_scalars\n",
      "  vif = 1. / (1. - r_squared_i)\n"
     ]
    },
    {
     "name": "stdout",
     "output_type": "stream",
     "text": [
      "number of discard features:  76\n"
     ]
    },
    {
     "name": "stderr",
     "output_type": "stream",
     "text": [
      "/sda/software/anaconda3/lib/python3.9/site-packages/statsmodels/stats/outliers_influence.py:195: RuntimeWarning: divide by zero encountered in double_scalars\n",
      "  vif = 1. / (1. - r_squared_i)\n"
     ]
    },
    {
     "name": "stdout",
     "output_type": "stream",
     "text": [
      "number of discard features:  77\n"
     ]
    },
    {
     "name": "stderr",
     "output_type": "stream",
     "text": [
      "/sda/software/anaconda3/lib/python3.9/site-packages/statsmodels/stats/outliers_influence.py:195: RuntimeWarning: divide by zero encountered in double_scalars\n",
      "  vif = 1. / (1. - r_squared_i)\n"
     ]
    },
    {
     "name": "stdout",
     "output_type": "stream",
     "text": [
      "number of discard features:  77\n"
     ]
    },
    {
     "name": "stderr",
     "output_type": "stream",
     "text": [
      "/sda/software/anaconda3/lib/python3.9/site-packages/statsmodels/stats/outliers_influence.py:195: RuntimeWarning: divide by zero encountered in double_scalars\n",
      "  vif = 1. / (1. - r_squared_i)\n"
     ]
    },
    {
     "name": "stdout",
     "output_type": "stream",
     "text": [
      "number of discard features:  78\n"
     ]
    },
    {
     "name": "stderr",
     "output_type": "stream",
     "text": [
      "/sda/software/anaconda3/lib/python3.9/site-packages/statsmodels/stats/outliers_influence.py:195: RuntimeWarning: divide by zero encountered in double_scalars\n",
      "  vif = 1. / (1. - r_squared_i)\n"
     ]
    },
    {
     "name": "stdout",
     "output_type": "stream",
     "text": [
      "number of discard features:  79\n"
     ]
    },
    {
     "name": "stderr",
     "output_type": "stream",
     "text": [
      "/sda/software/anaconda3/lib/python3.9/site-packages/statsmodels/stats/outliers_influence.py:195: RuntimeWarning: divide by zero encountered in double_scalars\n",
      "  vif = 1. / (1. - r_squared_i)\n"
     ]
    },
    {
     "name": "stdout",
     "output_type": "stream",
     "text": [
      "number of discard features:  80\n"
     ]
    },
    {
     "name": "stderr",
     "output_type": "stream",
     "text": [
      "/sda/software/anaconda3/lib/python3.9/site-packages/statsmodels/stats/outliers_influence.py:195: RuntimeWarning: divide by zero encountered in double_scalars\n",
      "  vif = 1. / (1. - r_squared_i)\n"
     ]
    },
    {
     "name": "stdout",
     "output_type": "stream",
     "text": [
      "number of discard features:  81\n"
     ]
    },
    {
     "name": "stderr",
     "output_type": "stream",
     "text": [
      "/sda/software/anaconda3/lib/python3.9/site-packages/statsmodels/stats/outliers_influence.py:195: RuntimeWarning: divide by zero encountered in double_scalars\n",
      "  vif = 1. / (1. - r_squared_i)\n"
     ]
    },
    {
     "name": "stdout",
     "output_type": "stream",
     "text": [
      "number of discard features:  82\n"
     ]
    },
    {
     "name": "stderr",
     "output_type": "stream",
     "text": [
      "/sda/software/anaconda3/lib/python3.9/site-packages/statsmodels/stats/outliers_influence.py:195: RuntimeWarning: divide by zero encountered in double_scalars\n",
      "  vif = 1. / (1. - r_squared_i)\n"
     ]
    },
    {
     "name": "stdout",
     "output_type": "stream",
     "text": [
      "number of discard features:  83\n"
     ]
    },
    {
     "name": "stderr",
     "output_type": "stream",
     "text": [
      "/sda/software/anaconda3/lib/python3.9/site-packages/statsmodels/stats/outliers_influence.py:195: RuntimeWarning: divide by zero encountered in double_scalars\n",
      "  vif = 1. / (1. - r_squared_i)\n"
     ]
    },
    {
     "name": "stdout",
     "output_type": "stream",
     "text": [
      "number of discard features:  84\n"
     ]
    },
    {
     "name": "stderr",
     "output_type": "stream",
     "text": [
      "/sda/software/anaconda3/lib/python3.9/site-packages/statsmodels/stats/outliers_influence.py:195: RuntimeWarning: divide by zero encountered in double_scalars\n",
      "  vif = 1. / (1. - r_squared_i)\n"
     ]
    },
    {
     "name": "stdout",
     "output_type": "stream",
     "text": [
      "number of discard features:  85\n"
     ]
    },
    {
     "name": "stderr",
     "output_type": "stream",
     "text": [
      "/sda/software/anaconda3/lib/python3.9/site-packages/statsmodels/stats/outliers_influence.py:195: RuntimeWarning: divide by zero encountered in double_scalars\n",
      "  vif = 1. / (1. - r_squared_i)\n"
     ]
    },
    {
     "name": "stdout",
     "output_type": "stream",
     "text": [
      "number of discard features:  86\n"
     ]
    },
    {
     "name": "stderr",
     "output_type": "stream",
     "text": [
      "/sda/software/anaconda3/lib/python3.9/site-packages/statsmodels/stats/outliers_influence.py:195: RuntimeWarning: divide by zero encountered in double_scalars\n",
      "  vif = 1. / (1. - r_squared_i)\n"
     ]
    },
    {
     "name": "stdout",
     "output_type": "stream",
     "text": [
      "number of discard features:  87\n"
     ]
    },
    {
     "name": "stderr",
     "output_type": "stream",
     "text": [
      "/sda/software/anaconda3/lib/python3.9/site-packages/statsmodels/stats/outliers_influence.py:195: RuntimeWarning: divide by zero encountered in double_scalars\n",
      "  vif = 1. / (1. - r_squared_i)\n"
     ]
    },
    {
     "name": "stdout",
     "output_type": "stream",
     "text": [
      "number of discard features:  88\n"
     ]
    },
    {
     "name": "stderr",
     "output_type": "stream",
     "text": [
      "/sda/software/anaconda3/lib/python3.9/site-packages/statsmodels/stats/outliers_influence.py:195: RuntimeWarning: divide by zero encountered in double_scalars\n",
      "  vif = 1. / (1. - r_squared_i)\n"
     ]
    },
    {
     "name": "stdout",
     "output_type": "stream",
     "text": [
      "number of discard features:  89\n"
     ]
    },
    {
     "name": "stderr",
     "output_type": "stream",
     "text": [
      "/sda/software/anaconda3/lib/python3.9/site-packages/statsmodels/stats/outliers_influence.py:195: RuntimeWarning: divide by zero encountered in double_scalars\n",
      "  vif = 1. / (1. - r_squared_i)\n"
     ]
    },
    {
     "name": "stdout",
     "output_type": "stream",
     "text": [
      "number of discard features:  90\n"
     ]
    },
    {
     "name": "stderr",
     "output_type": "stream",
     "text": [
      "/sda/software/anaconda3/lib/python3.9/site-packages/statsmodels/stats/outliers_influence.py:195: RuntimeWarning: divide by zero encountered in double_scalars\n",
      "  vif = 1. / (1. - r_squared_i)\n"
     ]
    },
    {
     "name": "stdout",
     "output_type": "stream",
     "text": [
      "number of discard features:  91\n"
     ]
    },
    {
     "name": "stderr",
     "output_type": "stream",
     "text": [
      "/sda/software/anaconda3/lib/python3.9/site-packages/statsmodels/stats/outliers_influence.py:195: RuntimeWarning: divide by zero encountered in double_scalars\n",
      "  vif = 1. / (1. - r_squared_i)\n"
     ]
    },
    {
     "name": "stdout",
     "output_type": "stream",
     "text": [
      "number of discard features:  92\n"
     ]
    },
    {
     "name": "stderr",
     "output_type": "stream",
     "text": [
      "/sda/software/anaconda3/lib/python3.9/site-packages/statsmodels/stats/outliers_influence.py:195: RuntimeWarning: divide by zero encountered in double_scalars\n",
      "  vif = 1. / (1. - r_squared_i)\n"
     ]
    },
    {
     "name": "stdout",
     "output_type": "stream",
     "text": [
      "number of discard features:  93\n"
     ]
    },
    {
     "name": "stderr",
     "output_type": "stream",
     "text": [
      "/sda/software/anaconda3/lib/python3.9/site-packages/statsmodels/stats/outliers_influence.py:195: RuntimeWarning: divide by zero encountered in double_scalars\n",
      "  vif = 1. / (1. - r_squared_i)\n"
     ]
    },
    {
     "name": "stdout",
     "output_type": "stream",
     "text": [
      "number of discard features:  94\n"
     ]
    },
    {
     "name": "stderr",
     "output_type": "stream",
     "text": [
      "/sda/software/anaconda3/lib/python3.9/site-packages/statsmodels/stats/outliers_influence.py:195: RuntimeWarning: divide by zero encountered in double_scalars\n",
      "  vif = 1. / (1. - r_squared_i)\n"
     ]
    },
    {
     "name": "stdout",
     "output_type": "stream",
     "text": [
      "number of discard features:  95\n"
     ]
    },
    {
     "name": "stderr",
     "output_type": "stream",
     "text": [
      "/sda/software/anaconda3/lib/python3.9/site-packages/statsmodels/stats/outliers_influence.py:195: RuntimeWarning: divide by zero encountered in double_scalars\n",
      "  vif = 1. / (1. - r_squared_i)\n"
     ]
    },
    {
     "name": "stdout",
     "output_type": "stream",
     "text": [
      "number of discard features:  96\n"
     ]
    },
    {
     "name": "stderr",
     "output_type": "stream",
     "text": [
      "/sda/software/anaconda3/lib/python3.9/site-packages/statsmodels/stats/outliers_influence.py:195: RuntimeWarning: divide by zero encountered in double_scalars\n",
      "  vif = 1. / (1. - r_squared_i)\n"
     ]
    },
    {
     "name": "stdout",
     "output_type": "stream",
     "text": [
      "number of discard features:  97\n"
     ]
    },
    {
     "name": "stderr",
     "output_type": "stream",
     "text": [
      "/sda/software/anaconda3/lib/python3.9/site-packages/statsmodels/stats/outliers_influence.py:195: RuntimeWarning: divide by zero encountered in double_scalars\n",
      "  vif = 1. / (1. - r_squared_i)\n"
     ]
    },
    {
     "name": "stdout",
     "output_type": "stream",
     "text": [
      "number of discard features:  98\n"
     ]
    },
    {
     "name": "stderr",
     "output_type": "stream",
     "text": [
      "/sda/software/anaconda3/lib/python3.9/site-packages/statsmodels/stats/outliers_influence.py:195: RuntimeWarning: divide by zero encountered in double_scalars\n",
      "  vif = 1. / (1. - r_squared_i)\n"
     ]
    },
    {
     "name": "stdout",
     "output_type": "stream",
     "text": [
      "number of discard features:  99\n"
     ]
    },
    {
     "name": "stderr",
     "output_type": "stream",
     "text": [
      "/sda/software/anaconda3/lib/python3.9/site-packages/statsmodels/stats/outliers_influence.py:195: RuntimeWarning: divide by zero encountered in double_scalars\n",
      "  vif = 1. / (1. - r_squared_i)\n"
     ]
    },
    {
     "name": "stdout",
     "output_type": "stream",
     "text": [
      "number of discard features:  100\n"
     ]
    },
    {
     "name": "stderr",
     "output_type": "stream",
     "text": [
      "/sda/software/anaconda3/lib/python3.9/site-packages/statsmodels/stats/outliers_influence.py:195: RuntimeWarning: divide by zero encountered in double_scalars\n",
      "  vif = 1. / (1. - r_squared_i)\n"
     ]
    },
    {
     "name": "stdout",
     "output_type": "stream",
     "text": [
      "number of discard features:  101\n"
     ]
    },
    {
     "name": "stderr",
     "output_type": "stream",
     "text": [
      "/sda/software/anaconda3/lib/python3.9/site-packages/statsmodels/stats/outliers_influence.py:195: RuntimeWarning: divide by zero encountered in double_scalars\n",
      "  vif = 1. / (1. - r_squared_i)\n"
     ]
    },
    {
     "name": "stdout",
     "output_type": "stream",
     "text": [
      "number of discard features:  102\n"
     ]
    },
    {
     "name": "stderr",
     "output_type": "stream",
     "text": [
      "/sda/software/anaconda3/lib/python3.9/site-packages/statsmodels/stats/outliers_influence.py:195: RuntimeWarning: divide by zero encountered in double_scalars\n",
      "  vif = 1. / (1. - r_squared_i)\n"
     ]
    },
    {
     "name": "stdout",
     "output_type": "stream",
     "text": [
      "number of discard features:  103\n"
     ]
    },
    {
     "name": "stderr",
     "output_type": "stream",
     "text": [
      "/sda/software/anaconda3/lib/python3.9/site-packages/statsmodels/stats/outliers_influence.py:195: RuntimeWarning: divide by zero encountered in double_scalars\n",
      "  vif = 1. / (1. - r_squared_i)\n"
     ]
    },
    {
     "name": "stdout",
     "output_type": "stream",
     "text": [
      "number of discard features:  103\n"
     ]
    },
    {
     "name": "stderr",
     "output_type": "stream",
     "text": [
      "/sda/software/anaconda3/lib/python3.9/site-packages/statsmodels/stats/outliers_influence.py:195: RuntimeWarning: divide by zero encountered in double_scalars\n",
      "  vif = 1. / (1. - r_squared_i)\n"
     ]
    },
    {
     "name": "stdout",
     "output_type": "stream",
     "text": [
      "number of discard features:  104\n"
     ]
    },
    {
     "name": "stderr",
     "output_type": "stream",
     "text": [
      "/sda/software/anaconda3/lib/python3.9/site-packages/statsmodels/stats/outliers_influence.py:195: RuntimeWarning: divide by zero encountered in double_scalars\n",
      "  vif = 1. / (1. - r_squared_i)\n"
     ]
    },
    {
     "name": "stdout",
     "output_type": "stream",
     "text": [
      "number of discard features:  105\n"
     ]
    },
    {
     "name": "stderr",
     "output_type": "stream",
     "text": [
      "/sda/software/anaconda3/lib/python3.9/site-packages/statsmodels/stats/outliers_influence.py:195: RuntimeWarning: divide by zero encountered in double_scalars\n",
      "  vif = 1. / (1. - r_squared_i)\n"
     ]
    },
    {
     "name": "stdout",
     "output_type": "stream",
     "text": [
      "number of discard features:  105\n"
     ]
    },
    {
     "name": "stderr",
     "output_type": "stream",
     "text": [
      "/sda/software/anaconda3/lib/python3.9/site-packages/statsmodels/stats/outliers_influence.py:195: RuntimeWarning: divide by zero encountered in double_scalars\n",
      "  vif = 1. / (1. - r_squared_i)\n"
     ]
    },
    {
     "name": "stdout",
     "output_type": "stream",
     "text": [
      "number of discard features:  106\n"
     ]
    },
    {
     "name": "stderr",
     "output_type": "stream",
     "text": [
      "/sda/software/anaconda3/lib/python3.9/site-packages/statsmodels/stats/outliers_influence.py:195: RuntimeWarning: divide by zero encountered in double_scalars\n",
      "  vif = 1. / (1. - r_squared_i)\n"
     ]
    },
    {
     "name": "stdout",
     "output_type": "stream",
     "text": [
      "number of discard features:  107\n"
     ]
    },
    {
     "name": "stderr",
     "output_type": "stream",
     "text": [
      "/sda/software/anaconda3/lib/python3.9/site-packages/statsmodels/stats/outliers_influence.py:195: RuntimeWarning: divide by zero encountered in double_scalars\n",
      "  vif = 1. / (1. - r_squared_i)\n"
     ]
    },
    {
     "name": "stdout",
     "output_type": "stream",
     "text": [
      "number of discard features:  108\n"
     ]
    },
    {
     "name": "stderr",
     "output_type": "stream",
     "text": [
      "/sda/software/anaconda3/lib/python3.9/site-packages/statsmodels/stats/outliers_influence.py:195: RuntimeWarning: divide by zero encountered in double_scalars\n",
      "  vif = 1. / (1. - r_squared_i)\n"
     ]
    },
    {
     "name": "stdout",
     "output_type": "stream",
     "text": [
      "number of discard features:  109\n"
     ]
    },
    {
     "name": "stderr",
     "output_type": "stream",
     "text": [
      "/sda/software/anaconda3/lib/python3.9/site-packages/statsmodels/stats/outliers_influence.py:195: RuntimeWarning: divide by zero encountered in double_scalars\n",
      "  vif = 1. / (1. - r_squared_i)\n"
     ]
    },
    {
     "name": "stdout",
     "output_type": "stream",
     "text": [
      "number of discard features:  110\n"
     ]
    },
    {
     "name": "stderr",
     "output_type": "stream",
     "text": [
      "/sda/software/anaconda3/lib/python3.9/site-packages/statsmodels/stats/outliers_influence.py:195: RuntimeWarning: divide by zero encountered in double_scalars\n",
      "  vif = 1. / (1. - r_squared_i)\n"
     ]
    },
    {
     "name": "stdout",
     "output_type": "stream",
     "text": [
      "number of discard features:  111\n"
     ]
    },
    {
     "name": "stderr",
     "output_type": "stream",
     "text": [
      "/sda/software/anaconda3/lib/python3.9/site-packages/statsmodels/stats/outliers_influence.py:195: RuntimeWarning: divide by zero encountered in double_scalars\n",
      "  vif = 1. / (1. - r_squared_i)\n"
     ]
    },
    {
     "name": "stdout",
     "output_type": "stream",
     "text": [
      "number of discard features:  112\n"
     ]
    },
    {
     "name": "stderr",
     "output_type": "stream",
     "text": [
      "/sda/software/anaconda3/lib/python3.9/site-packages/statsmodels/stats/outliers_influence.py:195: RuntimeWarning: divide by zero encountered in double_scalars\n",
      "  vif = 1. / (1. - r_squared_i)\n"
     ]
    },
    {
     "name": "stdout",
     "output_type": "stream",
     "text": [
      "number of discard features:  113\n"
     ]
    },
    {
     "name": "stderr",
     "output_type": "stream",
     "text": [
      "/sda/software/anaconda3/lib/python3.9/site-packages/statsmodels/stats/outliers_influence.py:195: RuntimeWarning: divide by zero encountered in double_scalars\n",
      "  vif = 1. / (1. - r_squared_i)\n"
     ]
    },
    {
     "name": "stdout",
     "output_type": "stream",
     "text": [
      "number of discard features:  114\n"
     ]
    },
    {
     "name": "stderr",
     "output_type": "stream",
     "text": [
      "/sda/software/anaconda3/lib/python3.9/site-packages/statsmodels/stats/outliers_influence.py:195: RuntimeWarning: divide by zero encountered in double_scalars\n",
      "  vif = 1. / (1. - r_squared_i)\n"
     ]
    },
    {
     "name": "stdout",
     "output_type": "stream",
     "text": [
      "number of discard features:  115\n"
     ]
    },
    {
     "name": "stderr",
     "output_type": "stream",
     "text": [
      "/sda/software/anaconda3/lib/python3.9/site-packages/statsmodels/stats/outliers_influence.py:195: RuntimeWarning: divide by zero encountered in double_scalars\n",
      "  vif = 1. / (1. - r_squared_i)\n"
     ]
    },
    {
     "name": "stdout",
     "output_type": "stream",
     "text": [
      "number of discard features:  115\n"
     ]
    },
    {
     "name": "stderr",
     "output_type": "stream",
     "text": [
      "/sda/software/anaconda3/lib/python3.9/site-packages/statsmodels/stats/outliers_influence.py:195: RuntimeWarning: divide by zero encountered in double_scalars\n",
      "  vif = 1. / (1. - r_squared_i)\n"
     ]
    },
    {
     "name": "stdout",
     "output_type": "stream",
     "text": [
      "number of discard features:  116\n"
     ]
    },
    {
     "name": "stderr",
     "output_type": "stream",
     "text": [
      "/sda/software/anaconda3/lib/python3.9/site-packages/statsmodels/stats/outliers_influence.py:195: RuntimeWarning: divide by zero encountered in double_scalars\n",
      "  vif = 1. / (1. - r_squared_i)\n"
     ]
    },
    {
     "name": "stdout",
     "output_type": "stream",
     "text": [
      "number of discard features:  117\n"
     ]
    },
    {
     "name": "stderr",
     "output_type": "stream",
     "text": [
      "/sda/software/anaconda3/lib/python3.9/site-packages/statsmodels/stats/outliers_influence.py:195: RuntimeWarning: divide by zero encountered in double_scalars\n",
      "  vif = 1. / (1. - r_squared_i)\n"
     ]
    },
    {
     "name": "stdout",
     "output_type": "stream",
     "text": [
      "number of discard features:  118\n"
     ]
    },
    {
     "name": "stderr",
     "output_type": "stream",
     "text": [
      "/sda/software/anaconda3/lib/python3.9/site-packages/statsmodels/stats/outliers_influence.py:195: RuntimeWarning: divide by zero encountered in double_scalars\n",
      "  vif = 1. / (1. - r_squared_i)\n"
     ]
    },
    {
     "name": "stdout",
     "output_type": "stream",
     "text": [
      "number of discard features:  119\n"
     ]
    },
    {
     "name": "stderr",
     "output_type": "stream",
     "text": [
      "/sda/software/anaconda3/lib/python3.9/site-packages/statsmodels/stats/outliers_influence.py:195: RuntimeWarning: divide by zero encountered in double_scalars\n",
      "  vif = 1. / (1. - r_squared_i)\n"
     ]
    },
    {
     "name": "stdout",
     "output_type": "stream",
     "text": [
      "number of discard features:  120\n"
     ]
    },
    {
     "name": "stderr",
     "output_type": "stream",
     "text": [
      "/sda/software/anaconda3/lib/python3.9/site-packages/statsmodels/stats/outliers_influence.py:195: RuntimeWarning: divide by zero encountered in double_scalars\n",
      "  vif = 1. / (1. - r_squared_i)\n"
     ]
    },
    {
     "name": "stdout",
     "output_type": "stream",
     "text": [
      "number of discard features:  121\n"
     ]
    },
    {
     "name": "stderr",
     "output_type": "stream",
     "text": [
      "/sda/software/anaconda3/lib/python3.9/site-packages/statsmodels/stats/outliers_influence.py:195: RuntimeWarning: divide by zero encountered in double_scalars\n",
      "  vif = 1. / (1. - r_squared_i)\n"
     ]
    },
    {
     "name": "stdout",
     "output_type": "stream",
     "text": [
      "number of discard features:  122\n",
      "number of discard features:  123\n",
      "number of discard features:  124\n",
      "number of discard features:  125\n",
      "number of discard features:  126\n",
      "number of discard features:  127\n",
      "number of discard features:  128\n",
      "number of discard features:  129\n",
      "number of discard features:  130\n",
      "number of discard features:  130\n",
      "number of discard features:  131\n",
      "number of discard features:  132\n",
      "number of discard features:  133\n",
      "number of discard features:  134\n",
      "number of discard features:  135\n",
      "number of discard features:  136\n",
      "number of discard features:  137\n",
      "number of discard features:  138\n",
      "number of discard features:  139\n",
      "number of discard features:  140\n",
      "number of discard features:  141\n",
      "number of discard features:  142\n",
      "number of discard features:  143\n",
      "number of discard features:  144\n",
      "number of discard features:  145\n",
      "number of discard features:  146\n",
      "number of discard features:  147\n",
      "number of discard features:  148\n",
      "number of discard features:  149\n",
      "number of discard features:  150\n",
      "number of discard features:  151\n",
      "number of discard features:  152\n",
      "number of discard features:  153\n",
      "number of discard features:  154\n",
      "number of discard features:  155\n",
      "number of discard features:  156\n",
      "number of discard features:  157\n",
      "number of discard features:  158\n",
      "number of discard features:  159\n",
      "number of discard features:  160\n",
      "number of discard features:  161\n",
      "number of discard features:  162\n",
      "number of discard features:  163\n",
      "number of discard features:  163\n",
      "number of discard features:  164\n",
      "number of discard features:  165\n",
      "number of discard features:  166\n",
      "number of discard features:  167\n",
      "number of discard features:  168\n",
      "number of discard features:  169\n",
      "number of discard features:  170\n",
      "number of discard features:  171\n",
      "number of discard features:  172\n",
      "number of discard features:  173\n",
      "number of discard features:  174\n",
      "number of discard features:  175\n",
      "number of discard features:  176\n",
      "number of discard features:  177\n",
      "number of discard features:  178\n",
      "number of discard features:  179\n",
      "number of discard features:  180\n",
      "number of discard features:  181\n",
      "number of discard features:  182\n",
      "number of discard features:  183\n",
      "number of discard features:  184\n",
      "number of discard features:  185\n",
      "number of discard features:  186\n",
      "number of discard features:  187\n",
      "number of discard features:  188\n",
      "number of discard features:  189\n",
      "number of discard features:  189\n",
      "number of discard features:  190\n",
      "number of discard features:  191\n",
      "number of discard features:  192\n",
      "number of discard features:  192\n",
      "number of discard features:  193\n",
      "number of discard features:  194\n",
      "number of discard features:  194\n",
      "number of discard features:  195\n",
      "number of discard features:  196\n",
      "number of discard features:  197\n",
      "number of discard features:  198\n",
      "number of discard features:  199\n",
      "number of discard features:  200\n",
      "number of discard features:  201\n",
      "number of discard features:  202\n",
      "number of discard features:  203\n",
      "number of discard features:  204\n",
      "number of discard features:  205\n",
      "number of discard features:  206\n",
      "number of discard features:  207\n",
      "number of discard features:  208\n",
      "number of discard features:  209\n",
      "number of discard features:  210\n",
      "number of discard features:  211\n",
      "number of discard features:  212\n",
      "number of discard features:  213\n",
      "number of discard features:  214\n",
      "number of discard features:  215\n",
      "number of discard features:  216\n",
      "number of discard features:  217\n",
      "number of discard features:  218\n",
      "number of discard features:  218\n",
      "number of discard features:  219\n",
      "number of discard features:  220\n",
      "number of discard features:  221\n",
      "number of discard features:  222\n",
      "number of discard features:  222\n",
      "number of discard features:  223\n",
      "number of discard features:  224\n",
      "number of discard features:  225\n",
      "number of discard features:  226\n",
      "number of discard features:  227\n",
      "number of discard features:  228\n",
      "number of discard features:  229\n",
      "number of discard features:  230\n",
      "number of discard features:  231\n",
      "number of discard features:  232\n",
      "number of discard features:  232\n",
      "number of discard features:  233\n",
      "number of discard features:  234\n",
      "number of discard features:  235\n",
      "number of discard features:  236\n",
      "number of discard features:  237\n",
      "number of discard features:  237\n",
      "number of discard features:  238\n",
      "number of discard features:  239\n",
      "number of discard features:  240\n",
      "number of discard features:  241\n",
      "number of discard features:  242\n",
      "number of discard features:  243\n",
      "number of discard features:  244\n",
      "number of discard features:  245\n",
      "number of discard features:  246\n",
      "number of discard features:  247\n",
      "number of discard features:  248\n",
      "number of discard features:  249\n",
      "number of discard features:  250\n",
      "number of discard features:  251\n",
      "number of discard features:  252\n",
      "number of discard features:  253\n",
      "number of discard features:  254\n",
      "number of discard features:  255\n",
      "number of discard features:  256\n",
      "number of discard features:  257\n",
      "number of discard features:  258\n",
      "number of discard features:  259\n",
      "number of discard features:  260\n",
      "number of discard features:  261\n",
      "number of discard features:  262\n",
      "number of discard features:  263\n",
      "number of discard features:  264\n",
      "number of discard features:  265\n"
     ]
    }
   ],
   "source": [
    "iv_threshold = 0.1\n",
    "qualified_features = feature_iv.query(f'iv > {iv_threshold}').reset_index(drop=True)\n",
    "cursor = -1\n",
    "\n",
    "discard_features = []\n",
    "while abs(cursor) < qualified_features.shape[0]:\n",
    "    print('number of discard features: ', len(discard_features))\n",
    "    X = add_constant(br_duotou_id[filter(lambda x: x not in discard_features, qualified_features['feature'])])\n",
    "    vif = pd.Series([variance_inflation_factor(X.values, i) for i in range(X.shape[1])], index=X.columns).rename('vif')\n",
    "    qualified_features = qualified_features.drop(columns=['vif'], errors='ignore').merge(vif, left_on='feature', right_index=True, how=\"inner\")\n",
    "    feature, iv, vif_val = qualified_features.iloc[cursor, :].values\n",
    "    if vif_val < 4:\n",
    "        cursor = cursor - 1\n",
    "    else:\n",
    "        discard_features.append(feature)"
   ]
  },
  {
   "cell_type": "code",
   "execution_count": 56,
   "id": "45be5ed0-e1be-4091-af8a-50e2f66924c0",
   "metadata": {},
   "outputs": [
    {
     "data": {
      "text/html": [
       "<div>\n",
       "<style scoped>\n",
       "    .dataframe tbody tr th:only-of-type {\n",
       "        vertical-align: middle;\n",
       "    }\n",
       "\n",
       "    .dataframe tbody tr th {\n",
       "        vertical-align: top;\n",
       "    }\n",
       "\n",
       "    .dataframe thead th {\n",
       "        text-align: right;\n",
       "    }\n",
       "</style>\n",
       "<table border=\"1\" class=\"dataframe\">\n",
       "  <thead>\n",
       "    <tr style=\"text-align: right;\">\n",
       "      <th></th>\n",
       "      <th>feature</th>\n",
       "      <th>iv</th>\n",
       "      <th>vif</th>\n",
       "    </tr>\n",
       "  </thead>\n",
       "  <tbody>\n",
       "    <tr>\n",
       "      <th>0</th>\n",
       "      <td>按身份证号查询，近12个月在非银机构申请机构数</td>\n",
       "      <td>1.315481</td>\n",
       "      <td>4.416038</td>\n",
       "    </tr>\n",
       "    <tr>\n",
       "      <th>1</th>\n",
       "      <td>按身份证号查询，近3个月在非银机构申请最小间隔天数</td>\n",
       "      <td>1.028438</td>\n",
       "      <td>2.716200</td>\n",
       "    </tr>\n",
       "    <tr>\n",
       "      <th>2</th>\n",
       "      <td>按身份证号查询，近12个月在非银机构申请最小间隔天数</td>\n",
       "      <td>0.990964</td>\n",
       "      <td>2.873455</td>\n",
       "    </tr>\n",
       "    <tr>\n",
       "      <th>3</th>\n",
       "      <td>按身份证号查询，近12个月在非银机构周末申请机构数</td>\n",
       "      <td>0.892273</td>\n",
       "      <td>1.756797</td>\n",
       "    </tr>\n",
       "    <tr>\n",
       "      <th>4</th>\n",
       "      <td>按身份证号查询，近12个月申请最小间隔天数</td>\n",
       "      <td>0.808575</td>\n",
       "      <td>2.188819</td>\n",
       "    </tr>\n",
       "    <tr>\n",
       "      <th>5</th>\n",
       "      <td>按身份证号查询，近15天在非银机构申请机构数</td>\n",
       "      <td>0.551501</td>\n",
       "      <td>1.928934</td>\n",
       "    </tr>\n",
       "    <tr>\n",
       "      <th>6</th>\n",
       "      <td>按身份证号查询，近1个月在非银机构周末申请机构数</td>\n",
       "      <td>0.531283</td>\n",
       "      <td>2.555622</td>\n",
       "    </tr>\n",
       "    <tr>\n",
       "      <th>7</th>\n",
       "      <td>按身份证号查询，近12个月申请信用卡（类信用卡）的机构数</td>\n",
       "      <td>0.501569</td>\n",
       "      <td>2.579682</td>\n",
       "    </tr>\n",
       "    <tr>\n",
       "      <th>8</th>\n",
       "      <td>按身份证号查询，近12个月申请线下消费分期的机构数</td>\n",
       "      <td>0.422419</td>\n",
       "      <td>2.035439</td>\n",
       "    </tr>\n",
       "    <tr>\n",
       "      <th>9</th>\n",
       "      <td>按身份证号查询，近12个月在银行机构-网络零售银行申请机构数</td>\n",
       "      <td>0.341991</td>\n",
       "      <td>1.675056</td>\n",
       "    </tr>\n",
       "    <tr>\n",
       "      <th>10</th>\n",
       "      <td>按身份证号查询，最近开始在非银行机构连续申请的次数</td>\n",
       "      <td>0.289215</td>\n",
       "      <td>1.390959</td>\n",
       "    </tr>\n",
       "    <tr>\n",
       "      <th>11</th>\n",
       "      <td>按身份证号查询，近6个月在银行机构申请最小间隔天数</td>\n",
       "      <td>0.270917</td>\n",
       "      <td>2.188108</td>\n",
       "    </tr>\n",
       "    <tr>\n",
       "      <th>12</th>\n",
       "      <td>按身份证号查询，近7天在非银机构周末申请机构数</td>\n",
       "      <td>0.260728</td>\n",
       "      <td>1.743715</td>\n",
       "    </tr>\n",
       "    <tr>\n",
       "      <th>13</th>\n",
       "      <td>按身份证号查询，近12个月在非银机构-持牌融资租赁机构申请次数</td>\n",
       "      <td>0.212447</td>\n",
       "      <td>1.306775</td>\n",
       "    </tr>\n",
       "    <tr>\n",
       "      <th>14</th>\n",
       "      <td>按身份证号查询，近12个月在银行机构申请最小间隔天数</td>\n",
       "      <td>0.204275</td>\n",
       "      <td>2.545877</td>\n",
       "    </tr>\n",
       "    <tr>\n",
       "      <th>15</th>\n",
       "      <td>按身份证号查询，近12个月申请汽车金融的机构数</td>\n",
       "      <td>0.122501</td>\n",
       "      <td>1.216301</td>\n",
       "    </tr>\n",
       "  </tbody>\n",
       "</table>\n",
       "</div>"
      ],
      "text/plain": [
       "                            feature        iv       vif\n",
       "0           按身份证号查询，近12个月在非银机构申请机构数  1.315481  4.416038\n",
       "1         按身份证号查询，近3个月在非银机构申请最小间隔天数  1.028438  2.716200\n",
       "2        按身份证号查询，近12个月在非银机构申请最小间隔天数  0.990964  2.873455\n",
       "3         按身份证号查询，近12个月在非银机构周末申请机构数  0.892273  1.756797\n",
       "4             按身份证号查询，近12个月申请最小间隔天数  0.808575  2.188819\n",
       "5            按身份证号查询，近15天在非银机构申请机构数  0.551501  1.928934\n",
       "6          按身份证号查询，近1个月在非银机构周末申请机构数  0.531283  2.555622\n",
       "7      按身份证号查询，近12个月申请信用卡（类信用卡）的机构数  0.501569  2.579682\n",
       "8         按身份证号查询，近12个月申请线下消费分期的机构数  0.422419  2.035439\n",
       "9    按身份证号查询，近12个月在银行机构-网络零售银行申请机构数  0.341991  1.675056\n",
       "10        按身份证号查询，最近开始在非银行机构连续申请的次数  0.289215  1.390959\n",
       "11        按身份证号查询，近6个月在银行机构申请最小间隔天数  0.270917  2.188108\n",
       "12          按身份证号查询，近7天在非银机构周末申请机构数  0.260728  1.743715\n",
       "13  按身份证号查询，近12个月在非银机构-持牌融资租赁机构申请次数  0.212447  1.306775\n",
       "14       按身份证号查询，近12个月在银行机构申请最小间隔天数  0.204275  2.545877\n",
       "15          按身份证号查询，近12个月申请汽车金融的机构数  0.122501  1.216301"
      ]
     },
     "execution_count": 56,
     "metadata": {},
     "output_type": "execute_result"
    }
   ],
   "source": [
    "qualified_features = qualified_features.reset_index(drop=True)\n",
    "qualified_features"
   ]
  },
  {
   "cell_type": "code",
   "execution_count": 58,
   "id": "9cc3f2bd-f1ae-40d3-abf0-a1d46e7f7a81",
   "metadata": {},
   "outputs": [
    {
     "data": {
      "text/plain": [
       "['按身份证号查询，近3个月在非银机构申请最小间隔天数',\n",
       " '按身份证号查询，近12个月在非银机构申请最小间隔天数',\n",
       " '按身份证号查询，近12个月在非银机构周末申请机构数',\n",
       " '按身份证号查询，近12个月申请最小间隔天数',\n",
       " '按身份证号查询，近1个月在非银机构周末申请机构数',\n",
       " '按身份证号查询，近6个月在银行机构申请最小间隔天数',\n",
       " '按身份证号查询，近7天在非银机构周末申请机构数',\n",
       " '按身份证号查询，近12个月在银行机构申请最小间隔天数']"
      ]
     },
     "execution_count": 58,
     "metadata": {},
     "output_type": "execute_result"
    }
   ],
   "source": [
    "qualified_features[qualified_features['feature'].isin(special_feature)].feature.tolist()"
   ]
  },
  {
   "cell_type": "code",
   "execution_count": 380,
   "id": "952f1ea4-7f08-4e0b-9bda-58febca6c30a",
   "metadata": {},
   "outputs": [
    {
     "data": {
      "text/html": [
       "<div>\n",
       "<style scoped>\n",
       "    .dataframe tbody tr th:only-of-type {\n",
       "        vertical-align: middle;\n",
       "    }\n",
       "\n",
       "    .dataframe tbody tr th {\n",
       "        vertical-align: top;\n",
       "    }\n",
       "\n",
       "    .dataframe thead th {\n",
       "        text-align: right;\n",
       "    }\n",
       "</style>\n",
       "<table border=\"1\" class=\"dataframe\">\n",
       "  <thead>\n",
       "    <tr style=\"text-align: right;\">\n",
       "      <th></th>\n",
       "      <th>ae_m12_id_nbank_orgnum_d_threshold</th>\n",
       "      <th>filter_rate</th>\n",
       "      <th>recall</th>\n",
       "      <th>appr_rate</th>\n",
       "    </tr>\n",
       "  </thead>\n",
       "  <tbody>\n",
       "    <tr>\n",
       "      <th>0</th>\n",
       "      <td>1</td>\n",
       "      <td>0.6299</td>\n",
       "      <td>0.6077</td>\n",
       "      <td>0.4221</td>\n",
       "    </tr>\n",
       "    <tr>\n",
       "      <th>1</th>\n",
       "      <td>2</td>\n",
       "      <td>0.4828</td>\n",
       "      <td>0.8092</td>\n",
       "      <td>0.4022</td>\n",
       "    </tr>\n",
       "    <tr>\n",
       "      <th>2</th>\n",
       "      <td>3</td>\n",
       "      <td>0.3890</td>\n",
       "      <td>0.9056</td>\n",
       "      <td>0.3810</td>\n",
       "    </tr>\n",
       "    <tr>\n",
       "      <th>3</th>\n",
       "      <td>4</td>\n",
       "      <td>0.3237</td>\n",
       "      <td>0.9477</td>\n",
       "      <td>0.3602</td>\n",
       "    </tr>\n",
       "    <tr>\n",
       "      <th>4</th>\n",
       "      <td>5</td>\n",
       "      <td>0.2761</td>\n",
       "      <td>0.9719</td>\n",
       "      <td>0.3451</td>\n",
       "    </tr>\n",
       "    <tr>\n",
       "      <th>5</th>\n",
       "      <td>6</td>\n",
       "      <td>0.2436</td>\n",
       "      <td>0.9811</td>\n",
       "      <td>0.3334</td>\n",
       "    </tr>\n",
       "    <tr>\n",
       "      <th>6</th>\n",
       "      <td>7</td>\n",
       "      <td>0.2166</td>\n",
       "      <td>0.9864</td>\n",
       "      <td>0.3237</td>\n",
       "    </tr>\n",
       "    <tr>\n",
       "      <th>7</th>\n",
       "      <td>8</td>\n",
       "      <td>0.1937</td>\n",
       "      <td>0.9913</td>\n",
       "      <td>0.3160</td>\n",
       "    </tr>\n",
       "    <tr>\n",
       "      <th>8</th>\n",
       "      <td>9</td>\n",
       "      <td>0.1769</td>\n",
       "      <td>0.9952</td>\n",
       "      <td>0.3108</td>\n",
       "    </tr>\n",
       "    <tr>\n",
       "      <th>9</th>\n",
       "      <td>10</td>\n",
       "      <td>0.1625</td>\n",
       "      <td>0.9956</td>\n",
       "      <td>0.3056</td>\n",
       "    </tr>\n",
       "    <tr>\n",
       "      <th>10</th>\n",
       "      <td>11</td>\n",
       "      <td>0.1488</td>\n",
       "      <td>0.9966</td>\n",
       "      <td>0.3010</td>\n",
       "    </tr>\n",
       "    <tr>\n",
       "      <th>11</th>\n",
       "      <td>12</td>\n",
       "      <td>0.1343</td>\n",
       "      <td>0.9966</td>\n",
       "      <td>0.2959</td>\n",
       "    </tr>\n",
       "    <tr>\n",
       "      <th>12</th>\n",
       "      <td>13</td>\n",
       "      <td>0.1241</td>\n",
       "      <td>0.9971</td>\n",
       "      <td>0.2926</td>\n",
       "    </tr>\n",
       "    <tr>\n",
       "      <th>13</th>\n",
       "      <td>14</td>\n",
       "      <td>0.1159</td>\n",
       "      <td>0.9971</td>\n",
       "      <td>0.2899</td>\n",
       "    </tr>\n",
       "    <tr>\n",
       "      <th>14</th>\n",
       "      <td>15</td>\n",
       "      <td>0.1042</td>\n",
       "      <td>0.9981</td>\n",
       "      <td>0.2864</td>\n",
       "    </tr>\n",
       "  </tbody>\n",
       "</table>\n",
       "</div>"
      ],
      "text/plain": [
       "    ae_m12_id_nbank_orgnum_d_threshold  filter_rate  recall  appr_rate\n",
       "0                                    1       0.6299  0.6077     0.4221\n",
       "1                                    2       0.4828  0.8092     0.4022\n",
       "2                                    3       0.3890  0.9056     0.3810\n",
       "3                                    4       0.3237  0.9477     0.3602\n",
       "4                                    5       0.2761  0.9719     0.3451\n",
       "5                                    6       0.2436  0.9811     0.3334\n",
       "6                                    7       0.2166  0.9864     0.3237\n",
       "7                                    8       0.1937  0.9913     0.3160\n",
       "8                                    9       0.1769  0.9952     0.3108\n",
       "9                                   10       0.1625  0.9956     0.3056\n",
       "10                                  11       0.1488  0.9966     0.3010\n",
       "11                                  12       0.1343  0.9966     0.2959\n",
       "12                                  13       0.1241  0.9971     0.2926\n",
       "13                                  14       0.1159  0.9971     0.2899\n",
       "14                                  15       0.1042  0.9981     0.2864"
      ]
     },
     "execution_count": 380,
     "metadata": {},
     "output_type": "execute_result"
    }
   ],
   "source": [
    "# 近12个月非银机构申请机构数（去重）\n",
    "feat = r'按身份证号查询，近12个月在非银机构申请机构数'\n",
    "\n",
    "thresholds = list(range(1, 16))\n",
    "matrix_orgnum = br_duotou_id[['order_status_key',  feat]]\n",
    "result = []\n",
    "for t in thresholds:\n",
    "    bt = matrix_orgnum[matrix_orgnum[feat] <= t]\n",
    "    filter_rate = np.round(1 - bt.shape[0] / matrix_orgnum.shape[0], 4)\n",
    "    recall = np.round(bt['order_status_key'].sum() / matrix_orgnum['order_status_key'].sum(), 4)\n",
    "    appr_rate = np.round(bt['order_status_key'].sum() / bt.shape[0], 4)\n",
    "    result.append([t, filter_rate, recall, appr_rate])\n",
    "result = pd.DataFrame(result, columns = ['ae_m12_id_nbank_orgnum_d_threshold', 'filter_rate', 'recall', 'appr_rate'])\n",
    "result"
   ]
  },
  {
   "cell_type": "code",
   "execution_count": 57,
   "id": "22b00d83-b974-4192-aedb-2ce097750d94",
   "metadata": {},
   "outputs": [],
   "source": [
    "qualified_features.to_csv(\"/sda/huweipeng/project/长安银行/data/third_party_data/feature_iv/br_duotou.csv\", index=False)"
   ]
  },
  {
   "cell_type": "code",
   "execution_count": 377,
   "id": "e822a4b9-a8d1-4248-8cb9-83652ac9c9f7",
   "metadata": {
    "tags": []
   },
   "outputs": [],
   "source": [
    "sample = sample.merge(label, left_on=['手机号', '申请日期'], right_on=['customer_phone', 'apply_date_key'], how='left')\n",
    "not_found = sample[~sample['手机号'].isin(br_duotou['customer_phone'])]"
   ]
  },
  {
   "cell_type": "code",
   "execution_count": 378,
   "id": "984cdda0-3bc9-4e27-b488-c94410dae60c",
   "metadata": {},
   "outputs": [
    {
     "data": {
      "text/plain": [
       "3    1076\n",
       "2     751\n",
       "6     207\n",
       "Name: order_status_key, dtype: int64"
      ]
     },
     "execution_count": 378,
     "metadata": {},
     "output_type": "execute_result"
    }
   ],
   "source": [
    "not_found.order_status_key.value_counts()"
   ]
  },
  {
   "cell_type": "code",
   "execution_count": 379,
   "id": "361b58ee-7111-4702-b9f4-0f0ffa374c52",
   "metadata": {},
   "outputs": [
    {
     "data": {
      "text/plain": [
       "0.36922320550639137"
      ]
     },
     "execution_count": 379,
     "metadata": {},
     "output_type": "execute_result"
    }
   ],
   "source": [
    "751 / (1076 + 751 + 207)"
   ]
  },
  {
   "cell_type": "markdown",
   "id": "7b06791f-83bc-4a91-a72a-e7975761bff5",
   "metadata": {},
   "source": [
    "## 百融黑名单\n",
    "没有通过黑名单的客户占3.5%左右，而且基本不能通过银行审核，可以用作规则"
   ]
  },
  {
   "cell_type": "code",
   "execution_count": 112,
   "id": "78ceb6b4-e5ce-45ce-8cc7-b582cd0edca8",
   "metadata": {
    "tags": []
   },
   "outputs": [
    {
     "name": "stdout",
     "output_type": "stream",
     "text": [
      "(342, 157)\n"
     ]
    }
   ],
   "source": [
    "br_black_list = pd.read_csv(\"/sda/huweipeng/project/长安银行/data/third_party_data/百融数据/样本量10000/详细匹配数据及字典/特殊名单验证-V2.1.csv\", header = 1, parse_dates=['申请日期'])\n",
    "br_black_list = br_black_list.query(\"产品输出标识 == 1\")\n",
    "sample = pd.read_csv(\"/sda/huweipeng/project/长安银行/data/third_party_data/百融数据/百融样本.csv\", parse_dates=['申请日期'])\n",
    "label = pd.read_csv(\"/sda/huweipeng/project/长安银行/data/third_party_data/百融数据/样本核卡状态.csv\", parse_dates=['apply_date_key'])\n",
    "br_black_list['customer_phone'] = sample['手机号']\n",
    "br_black_list = br_black_list.merge(label, left_on=['customer_phone', '申请日期'], right_on=['customer_phone', 'apply_date_key']).drop_duplicates()\n",
    "print(br_black_list.shape)\n",
    "# peek(br_black_list, 2)"
   ]
  },
  {
   "cell_type": "code",
   "execution_count": 113,
   "id": "ba5231ce-cfc4-426f-89e3-ce1f0ebbd814",
   "metadata": {},
   "outputs": [
    {
     "data": {
      "text/plain": [
       "3    306\n",
       "6     27\n",
       "2      9\n",
       "Name: order_status_key, dtype: int64"
      ]
     },
     "execution_count": 113,
     "metadata": {},
     "output_type": "execute_result"
    }
   ],
   "source": [
    "br_black_list.order_status_key.value_counts()"
   ]
  },
  {
   "cell_type": "markdown",
   "id": "6ddb2fff-cea1-42ee-887e-58abb1af1e90",
   "metadata": {},
   "source": [
    "## 百融偿债压力指数\n",
    "在偿债压力较高的用户群里（前20%），区分度较高，但是在剩下的客群里区分度不高"
   ]
  },
  {
   "cell_type": "code",
   "execution_count": 126,
   "id": "0c5da29d-32c7-4dbc-b770-ce735a327121",
   "metadata": {
    "tags": []
   },
   "outputs": [
    {
     "name": "stdout",
     "output_type": "stream",
     "text": [
      "(9589, 8)\n"
     ]
    }
   ],
   "source": [
    "br_debt_pressure = pd.read_csv(\"/sda/huweipeng/project/长安银行/data/third_party_data/百融数据/样本量10000/详细匹配数据及字典/偿债压力指数-V1.0.csv\", header = 1, parse_dates=['申请日期'])\n",
    "br_debt_pressure = br_debt_pressure.query(\"偿债压力指数产品输出标识 == 1\")\n",
    "sample = pd.read_csv(\"/sda/huweipeng/project/长安银行/data/third_party_data/百融数据/百融样本.csv\", parse_dates=['申请日期'])\n",
    "label = pd.read_csv(\"/sda/huweipeng/project/长安银行/data/third_party_data/百融数据/样本核卡状态.csv\", parse_dates=['apply_date_key'])\n",
    "label['order_status_key'] = label['order_status_key'].map({2:1}).fillna(0)\n",
    "br_debt_pressure['customer_phone'] = sample['手机号']\n",
    "br_debt_pressure = br_debt_pressure.merge(label, left_on=['customer_phone', '申请日期'], right_on=['customer_phone', 'apply_date_key']).drop_duplicates()\n",
    "print(br_debt_pressure.shape)\n",
    "# peek(br_black_list, 2)"
   ]
  },
  {
   "cell_type": "code",
   "execution_count": 136,
   "id": "977b1061-13ed-4177-b4e4-d0e91baac1d9",
   "metadata": {
    "tags": []
   },
   "outputs": [
    {
     "name": "stdout",
     "output_type": "stream",
     "text": [
      "  Variable  Value   All  Good  Bad  Distribution Good  Distribution Bad  \\\n",
      "1   偿债压力指数      0  1327   615  712           0.225476          0.103981   \n",
      "3   偿债压力指数      1  1149   467  682           0.171303          0.099606   \n",
      "4   偿债压力指数      2   804   296  508           0.108712          0.074231   \n",
      "2   偿债压力指数      3  1413   498  915           0.182650          0.133586   \n",
      "5   偿债压力指数      4   589   213  376           0.078331          0.054980   \n",
      "7   偿债压力指数      5  1019   285  734           0.104685          0.107190   \n",
      "8   偿债压力指数      6   526   124  402           0.045754          0.058772   \n",
      "0   偿债压力指数      7   862   153  709           0.056369          0.103544   \n",
      "9   偿债压力指数      8   966    67  899           0.024890          0.131253   \n",
      "6   偿债压力指数      9   934    14  920           0.005490          0.134315   \n",
      "\n",
      "        WoE        IV  \n",
      "1  0.774002  0.094037  \n",
      "3  0.542210  0.038875  \n",
      "4  0.381520  0.013155  \n",
      "2  0.312826  0.015348  \n",
      "5  0.353967  0.008265  \n",
      "7 -0.023643  0.000059  \n",
      "8 -0.250387  0.003260  \n",
      "0 -0.608076  0.028686  \n",
      "9 -1.662651  0.176844  \n",
      "6 -3.197174  0.411875  \n",
      "IV =  0.790404\n"
     ]
    },
    {
     "data": {
      "text/plain": [
       "0.790404"
      ]
     },
     "execution_count": 136,
     "metadata": {},
     "output_type": "execute_result"
    }
   ],
   "source": [
    "br_debt_pressure_bin = br_debt_pressure.copy()\n",
    "br_debt_pressure_bin['偿债压力指数'] = MinMaxScaler().fit_transform(br_debt_pressure_bin[['偿债压力指数']])\n",
    "br_debt_pressure_bin['偿债压力指数'] = br_debt_pressure_bin[['偿债压力指数']].apply(binning)\n",
    "calc_iv(br_debt_pressure_bin, '偿债压力指数', 'order_status_key', True)"
   ]
  },
  {
   "cell_type": "code",
   "execution_count": 385,
   "id": "c823f8c6-227a-4365-9707-9432149e930e",
   "metadata": {},
   "outputs": [],
   "source": [
    "feature_iv = pd.DataFrame({'feature':['偿债压力指数'], 'iv':[0.790404], 'vif':[np.nan]})\n",
    "feature_iv.to_csv(\"/sda/huweipeng/project/长安银行/data/third_party_data/feature_iv/百融偿债压力指数.csv\", index=False)"
   ]
  },
  {
   "cell_type": "code",
   "execution_count": 138,
   "id": "70a0345a-9df9-4417-95b5-a3883728efa1",
   "metadata": {},
   "outputs": [
    {
     "data": {
      "text/html": [
       "<div>\n",
       "<style scoped>\n",
       "    .dataframe tbody tr th:only-of-type {\n",
       "        vertical-align: middle;\n",
       "    }\n",
       "\n",
       "    .dataframe tbody tr th {\n",
       "        vertical-align: top;\n",
       "    }\n",
       "\n",
       "    .dataframe thead th {\n",
       "        text-align: right;\n",
       "    }\n",
       "</style>\n",
       "<table border=\"1\" class=\"dataframe\">\n",
       "  <thead>\n",
       "    <tr style=\"text-align: right;\">\n",
       "      <th></th>\n",
       "      <th>ae_m12_id_nbank_orgnum_d_threshold</th>\n",
       "      <th>filter_rate</th>\n",
       "      <th>recall</th>\n",
       "      <th>appr_rate</th>\n",
       "    </tr>\n",
       "  </thead>\n",
       "  <tbody>\n",
       "    <tr>\n",
       "      <th>0</th>\n",
       "      <td>1</td>\n",
       "      <td>0.8616</td>\n",
       "      <td>0.2251</td>\n",
       "      <td>0.4635</td>\n",
       "    </tr>\n",
       "    <tr>\n",
       "      <th>1</th>\n",
       "      <td>2</td>\n",
       "      <td>0.7418</td>\n",
       "      <td>0.3960</td>\n",
       "      <td>0.4370</td>\n",
       "    </tr>\n",
       "    <tr>\n",
       "      <th>2</th>\n",
       "      <td>3</td>\n",
       "      <td>0.6579</td>\n",
       "      <td>0.5044</td>\n",
       "      <td>0.4201</td>\n",
       "    </tr>\n",
       "    <tr>\n",
       "      <th>3</th>\n",
       "      <td>4</td>\n",
       "      <td>0.5106</td>\n",
       "      <td>0.6867</td>\n",
       "      <td>0.3997</td>\n",
       "    </tr>\n",
       "    <tr>\n",
       "      <th>4</th>\n",
       "      <td>5</td>\n",
       "      <td>0.4492</td>\n",
       "      <td>0.7646</td>\n",
       "      <td>0.3955</td>\n",
       "    </tr>\n",
       "    <tr>\n",
       "      <th>5</th>\n",
       "      <td>6</td>\n",
       "      <td>0.3429</td>\n",
       "      <td>0.8690</td>\n",
       "      <td>0.3768</td>\n",
       "    </tr>\n",
       "    <tr>\n",
       "      <th>6</th>\n",
       "      <td>7</td>\n",
       "      <td>0.2880</td>\n",
       "      <td>0.9143</td>\n",
       "      <td>0.3659</td>\n",
       "    </tr>\n",
       "    <tr>\n",
       "      <th>7</th>\n",
       "      <td>8</td>\n",
       "      <td>0.1981</td>\n",
       "      <td>0.9704</td>\n",
       "      <td>0.3448</td>\n",
       "    </tr>\n",
       "    <tr>\n",
       "      <th>8</th>\n",
       "      <td>9</td>\n",
       "      <td>0.0974</td>\n",
       "      <td>0.9949</td>\n",
       "      <td>0.3140</td>\n",
       "    </tr>\n",
       "  </tbody>\n",
       "</table>\n",
       "</div>"
      ],
      "text/plain": [
       "   ae_m12_id_nbank_orgnum_d_threshold  filter_rate  recall  appr_rate\n",
       "0                                   1       0.8616  0.2251     0.4635\n",
       "1                                   2       0.7418  0.3960     0.4370\n",
       "2                                   3       0.6579  0.5044     0.4201\n",
       "3                                   4       0.5106  0.6867     0.3997\n",
       "4                                   5       0.4492  0.7646     0.3955\n",
       "5                                   6       0.3429  0.8690     0.3768\n",
       "6                                   7       0.2880  0.9143     0.3659\n",
       "7                                   8       0.1981  0.9704     0.3448\n",
       "8                                   9       0.0974  0.9949     0.3140"
      ]
     },
     "execution_count": 138,
     "metadata": {},
     "output_type": "execute_result"
    }
   ],
   "source": [
    "# 近12个月非银机构申请机构数（去重）\n",
    "feat = r'偿债压力指数'\n",
    "\n",
    "thresholds = list(range(1, 10))\n",
    "matrix_orgnum = br_debt_pressure_bin[['order_status_key',  feat]]\n",
    "result = []\n",
    "for t in thresholds:\n",
    "    bt = matrix_orgnum[matrix_orgnum[feat] < t]\n",
    "    filter_rate = np.round(1 - bt.shape[0] / matrix_orgnum.shape[0], 4)\n",
    "    recall = np.round(bt['order_status_key'].sum() / matrix_orgnum['order_status_key'].sum(), 4)\n",
    "    appr_rate = np.round(bt['order_status_key'].sum() / bt.shape[0], 4)\n",
    "    result.append([t, filter_rate, recall, appr_rate])\n",
    "result = pd.DataFrame(result, columns = ['ae_m12_id_nbank_orgnum_d_threshold', 'filter_rate', 'recall', 'appr_rate'])\n",
    "result"
   ]
  },
  {
   "cell_type": "markdown",
   "id": "f782cefc-6ca6-4e5a-bd10-990cbac5c00b",
   "metadata": {},
   "source": [
    "## 百融法院被执行人\n",
    "法院被执行人能够过滤3%的客户，而且被执行的客户基本不能通过银行审核"
   ]
  },
  {
   "cell_type": "code",
   "execution_count": 142,
   "id": "3cfb6aea-3ab0-4cd7-8665-e779e044ba5d",
   "metadata": {},
   "outputs": [
    {
     "name": "stderr",
     "output_type": "stream",
     "text": [
      "/tmp/ipykernel_172219/884531519.py:1: DtypeWarning: Columns (35,82,98,99,100,101,102,103,104,105,106,107,110,112,114,129,131,136,145,146,147,148,149,150,151,152,153,154,157,159,161,172,176,177,178,179,180,181,182,183,184,190,219,224,225,226,227,228,229,230,231,237,266,271,272,273,274,275,276,277,278,284,304,305,307,308,309,313,315,318,319,320,321,322,323,324,325,331,351,352,354,355,356,362,365,366,367,368,369,370,371,372,378,398,399,401,402,403,407,409,445,446,448,449,450,454,456) have mixed types. Specify dtype option on import or set low_memory=False.\n",
      "  br_credit_broken = pd.read_csv(\"/sda/huweipeng/project/长安银行/data/third_party_data/百融数据/样本量10000/详细匹配数据及字典/法院被执行人—高级版-V2.0.csv\", header = 1, parse_dates=['申请日期'])\n"
     ]
    }
   ],
   "source": [
    "br_credit_broken = pd.read_csv(\"/sda/huweipeng/project/长安银行/data/third_party_data/百融数据/样本量10000/详细匹配数据及字典/法院被执行人—高级版-V2.0.csv\", header = 1, parse_dates=['申请日期'])\n",
    "br_credit_broken = br_credit_broken[br_credit_broken['法院被执行人高级版产品输出标识'] == 1]\n",
    "sample = pd.read_csv(\"/sda/huweipeng/project/长安银行/data/third_party_data/百融数据/百融样本.csv\", parse_dates=['申请日期'])\n",
    "label = pd.read_csv(\"/sda/huweipeng/project/长安银行/data/third_party_data/百融数据/样本核卡状态.csv\", parse_dates=['apply_date_key'])\n",
    "label['order_status_key'] = label['order_status_key'].map({2:1}).fillna(0)\n",
    "br_credit_broken['customer_phone'] = sample['手机号']\n",
    "br_credit_broken = br_credit_broken.merge(label, left_on=['customer_phone', '申请日期'], right_on=['customer_phone', 'apply_date_key']).drop_duplicates()\n",
    "# print(br_debt_pressure.shape)\n",
    "# peek(br_black_list, 2)"
   ]
  },
  {
   "cell_type": "code",
   "execution_count": 143,
   "id": "2cebd435-91ec-421e-bd3a-690d6af6be89",
   "metadata": {},
   "outputs": [
    {
     "data": {
      "text/plain": [
       "0.0    338\n",
       "1.0      7\n",
       "Name: order_status_key, dtype: int64"
      ]
     },
     "execution_count": 143,
     "metadata": {},
     "output_type": "execute_result"
    }
   ],
   "source": [
    "br_credit_broken.order_status_key.value_counts()"
   ]
  },
  {
   "cell_type": "markdown",
   "id": "092f970f-5ddc-4a85-90a6-15d12c97bdc8",
   "metadata": {},
   "source": [
    "## 百融停机次数\n",
    "只有23条数据可以验证，无法评估有效性"
   ]
  },
  {
   "cell_type": "code",
   "execution_count": 151,
   "id": "74dfb31d-e8bd-47a1-90bb-a16a28fbb8fc",
   "metadata": {
    "collapsed": true,
    "jupyter": {
     "outputs_hidden": true
    },
    "tags": []
   },
   "outputs": [
    {
     "name": "stdout",
     "output_type": "stream",
     "text": [
      "(23, 10)\n",
      "   客户数据编号       申请日期                               流水号  产品查得标识  运营商  \\\n",
      "0    1240 2023-03-24  4500156_20230407191439_6500217CB       1    1   \n",
      "1    1937 2023-02-17  4500156_20230407191424_6476217CB       1    1   \n",
      "2    2102 2023-02-07  4500156_20230407191350_62020838B       1    3   \n",
      "3    3118 2023-02-14  4500156_20230407191257_61180838B       1    2   \n",
      "4    3330 2023-02-06  4500156_20230407191729_65340838B       1    3   \n",
      "5    4313 2023-02-24  4500156_20230407191512_6567278DB       1    2   \n",
      "6    5094 2023-03-06  4500156_20230407191707_6754278DB       1    2   \n",
      "7    5255 2023-03-15  4500156_20230407191503_6535217CB       1    1   \n",
      "8    5267 2023-03-14  4500156_20230407191357_6447278DB       1    3   \n",
      "9    5430 2023-03-07  4500156_20230407191630_64450838B       1    3   \n",
      "\n",
      "   手机号3个月内的停机次数  返回时间                    customer_phone apply_date_key  \\\n",
      "0           0.0   499  1b293d380b9ee698da8131c8bd97c3f7     2023-03-24   \n",
      "1           0.0   521  e4a147e385dcbde6a40d21fb0d2368ac     2023-02-17   \n",
      "2           0.0   481  f376531dbfbedfd8b568143c9c58368e     2023-02-07   \n",
      "3           0.0   312  410efb01a199fb82b9d1caf3b2929e53     2023-02-14   \n",
      "4           0.0   266  53fca6720fbb9d4ff350b07261e85f57     2023-02-06   \n",
      "5           0.0   359  17f44da5612c66faa09e3ea8f4130929     2023-02-24   \n",
      "6           1.0   200  ab36f7cb6030bb90314adc93327bcd05     2023-03-06   \n",
      "7           0.0   450  6062d6c67ad31279b9043d01447992c0     2023-03-15   \n",
      "8           0.0   247  fee8c09bace7815c2188ff16efa5c235     2023-03-14   \n",
      "9           3.0   225  9a02e8b7a049aae7e1f322248550979b     2023-03-07   \n",
      "\n",
      "   order_status_key  \n",
      "0               0.0  \n",
      "1               0.0  \n",
      "2               0.0  \n",
      "3               0.0  \n",
      "4               0.0  \n",
      "5               0.0  \n",
      "6               0.0  \n",
      "7               1.0  \n",
      "8               1.0  \n",
      "9               0.0  \n"
     ]
    }
   ],
   "source": [
    "br_cell_disconnect = pd.read_csv(\"/sda/huweipeng/project/长安银行/data/third_party_data/百融数据/样本量1000/详细匹配数据及字典/手机3个月停机次数验证.csv\", header = 1, parse_dates=['申请日期'])\n",
    "br_cell_disconnect = br_cell_disconnect[br_cell_disconnect['产品查得标识'] == 1]\n",
    "sample = pd.read_csv(\"/sda/huweipeng/project/长安银行/data/third_party_data/百融数据/百融样本.csv\", parse_dates=['申请日期'])\n",
    "label = pd.read_csv(\"/sda/huweipeng/project/长安银行/data/third_party_data/百融数据/样本核卡状态.csv\", parse_dates=['apply_date_key'])\n",
    "label['order_status_key'] = label['order_status_key'].map({2:1}).fillna(0)\n",
    "br_cell_disconnect['customer_phone'] = sample['手机号']\n",
    "br_cell_disconnect = br_cell_disconnect.merge(label, left_on=['customer_phone', '申请日期'], right_on=['customer_phone', 'apply_date_key']).drop_duplicates()\n",
    "# print(br_cell_disconnect.shape)\n",
    "peek(br_cell_disconnect, 10)"
   ]
  },
  {
   "cell_type": "markdown",
   "id": "f996e75c-c37e-4ec2-be88-41b9216b633b",
   "metadata": {},
   "source": [
    "## 百融在网时长\n",
    "只有26条数据可以验证，无法评估有效性"
   ]
  },
  {
   "cell_type": "code",
   "execution_count": 153,
   "id": "777190f1-7381-4c91-a6ab-6f81b4adce23",
   "metadata": {
    "collapsed": true,
    "jupyter": {
     "outputs_hidden": true
    },
    "tags": []
   },
   "outputs": [
    {
     "name": "stdout",
     "output_type": "stream",
     "text": [
      "(26, 11)\n",
      "   客户数据编号       申请日期                               流水号  产品查得标识  查询结果  \\\n",
      "0    1240 2023-03-24  4500156_20230407194629_8745217CB       1     1   \n",
      "1    1937 2023-02-17  4500156_20230407194550_84960838B       1     1   \n",
      "2    2102 2023-02-07  4500156_20230407194512_84510838B       1     1   \n",
      "3    2320 2023-02-10  4500156_20230407194951_9073278DB       1     1   \n",
      "4    2495 2023-03-22  4500156_20230407194527_84660838B       1     1   \n",
      "5    3118 2023-02-14  4500156_20230407194403_83670838B       1     1   \n",
      "6    3330 2023-02-06  4500156_20230407194929_9050278DB       1     1   \n",
      "7    4313 2023-02-24  4500156_20230407194658_8856278DB       1     1   \n",
      "8    5094 2023-03-06  4500156_20230407194938_8990217CB       1     1   \n",
      "9    5255 2023-03-15  4500156_20230407194641_85670838B       1     1   \n",
      "\n",
      "   手机号的运营商类型  手机在网状态—移动联通电信  返回时间                    customer_phone  \\\n",
      "0          1              1  1395  1b293d380b9ee698da8131c8bd97c3f7   \n",
      "1          1              1   619  e4a147e385dcbde6a40d21fb0d2368ac   \n",
      "2          3              1  1112  f376531dbfbedfd8b568143c9c58368e   \n",
      "3          3              1   639  e0cf89f2698188e93d1d23b264d324e4   \n",
      "4          2              1   533  b7fb62b8c207ed93ef0535badbfdc89e   \n",
      "5          2              1   804  410efb01a199fb82b9d1caf3b2929e53   \n",
      "6          3              1   685  53fca6720fbb9d4ff350b07261e85f57   \n",
      "7          2              1   644  17f44da5612c66faa09e3ea8f4130929   \n",
      "8          2              1   642  ab36f7cb6030bb90314adc93327bcd05   \n",
      "9          1              1   727  6062d6c67ad31279b9043d01447992c0   \n",
      "\n",
      "  apply_date_key  order_status_key  \n",
      "0     2023-03-24               0.0  \n",
      "1     2023-02-17               0.0  \n",
      "2     2023-02-07               0.0  \n",
      "3     2023-02-10               1.0  \n",
      "4     2023-03-22               0.0  \n",
      "5     2023-02-14               0.0  \n",
      "6     2023-02-06               0.0  \n",
      "7     2023-02-24               0.0  \n",
      "8     2023-03-06               0.0  \n",
      "9     2023-03-15               1.0  \n"
     ]
    }
   ],
   "source": [
    "br_cell_length = pd.read_csv(\"/sda/huweipeng/project/长安银行/data/third_party_data/百融数据/样本量1000/详细匹配数据及字典/手机在网时长-移动联通电信.csv\", header = 1, parse_dates=['申请日期'])\n",
    "br_cell_length = br_cell_length[br_cell_length['产品查得标识'] == 1]\n",
    "sample = pd.read_csv(\"/sda/huweipeng/project/长安银行/data/third_party_data/百融数据/百融样本.csv\", parse_dates=['申请日期'])\n",
    "label = pd.read_csv(\"/sda/huweipeng/project/长安银行/data/third_party_data/百融数据/样本核卡状态.csv\", parse_dates=['apply_date_key'])\n",
    "label['order_status_key'] = label['order_status_key'].map({2:1}).fillna(0)\n",
    "br_cell_length['customer_phone'] = sample['手机号']\n",
    "br_cell_length = br_cell_length.merge(label, left_on=['customer_phone', '申请日期'], right_on=['customer_phone', 'apply_date_key']).drop_duplicates()\n",
    "# print(br_cell_length.shape)\n",
    "peek(br_cell_length, 10)"
   ]
  },
  {
   "cell_type": "markdown",
   "id": "f1e3a622-8894-4c8e-b97d-a1fccdb1ae65",
   "metadata": {},
   "source": [
    "## 百融在网状态\n",
    "只有26条数据可以验证，无法评估有效性"
   ]
  },
  {
   "cell_type": "code",
   "execution_count": null,
   "id": "431b3edc-d599-4fb6-9a85-9a7d358ec813",
   "metadata": {
    "tags": []
   },
   "outputs": [],
   "source": [
    "br_cell_status = pd.read_csv(\"/sda/huweipeng/project/长安银行/data/third_party_data/百融数据/样本量1000/详细匹配数据及字典/手机在网状态-移动联通电信.csv\", header = 1, parse_dates=['申请日期'])\n",
    "br_cell_status = br_cell_status[br_cell_status['产品查得标识'] == 1]\n",
    "sample = pd.read_csv(\"/sda/huweipeng/project/长安银行/data/third_party_data/百融数据/百融样本.csv\", parse_dates=['申请日期'])\n",
    "label = pd.read_csv(\"/sda/huweipeng/project/长安银行/data/third_party_data/百融数据/样本核卡状态.csv\", parse_dates=['apply_date_key'])\n",
    "label['order_status_key'] = label['order_status_key'].map({2:1}).fillna(0)\n",
    "br_cell_status['customer_phone'] = sample['手机号']\n",
    "br_cell_status = br_cell_status.merge(label, left_on=['customer_phone', '申请日期'], right_on=['customer_phone', 'apply_date_key']).drop_duplicates()\n",
    "# print(br_cell_status.shape)\n",
    "peek(br_cell_status, 10)"
   ]
  },
  {
   "cell_type": "markdown",
   "id": "2ff9b1ce-b72b-4f05-87f0-b00653c04c9d",
   "metadata": {},
   "source": [
    "## 腾讯反欺诈\n",
    "反欺诈数据覆盖程度较高，IV也挺高，但是相对于百融多头来说召回率没那么高"
   ]
  },
  {
   "cell_type": "code",
   "execution_count": 387,
   "id": "579e1e48-27e5-40f8-ac42-244171867b58",
   "metadata": {
    "collapsed": true,
    "jupyter": {
     "outputs_hidden": true
    },
    "tags": []
   },
   "outputs": [
    {
     "name": "stdout",
     "output_type": "stream",
     "text": [
      "(9954, 18)\n",
      "                               身份证号  姓名                               手机号  \\\n",
      "0  7ea5002e087c1baeb5fd10767d668a68  王勇  cc92befb0e0b9f7ef4736f0fabc86821   \n",
      "1  c599c6deae2114af4560399f4c5cb804  代林  057331edd64b9002ddfc084e2d09b441   \n",
      "\n",
      "        回溯时间  id_found:  found:  risk_score: risk_code:  \\\n",
      "0 2023-02-22          1       1           61        NaN   \n",
      "1 2023-03-25          1       1           22        NaN   \n",
      "\n",
      "   highirr_v6_20220425_score  lowirr_v6_20220425_score  \\\n",
      "0                       63.0                      62.0   \n",
      "1                       31.0                      26.0   \n",
      "\n",
      "   tongyong_v6_20220425_score  model_risk_v7_shighirr_score  \\\n",
      "0                        60.0                          66.0   \n",
      "1                        21.0                          35.0   \n",
      "\n",
      "   model_risk_v7_slowirr_score  model_risk_v7_stongyong_score  v6_seq_online  \\\n",
      "0                         67.0                           66.0             38   \n",
      "1                         29.0                           20.0             36   \n",
      "\n",
      "                     customer_phone apply_date_key  order_status_key  \n",
      "0  cc92befb0e0b9f7ef4736f0fabc86821     2023-02-22               0.0  \n",
      "1  057331edd64b9002ddfc084e2d09b441     2023-03-25               1.0  \n"
     ]
    }
   ],
   "source": [
    "tencent_fraud_risk = pd.read_excel(\"/sda/huweipeng/project/长安银行/data/third_party_data/腾讯数据/数字魔方_反欺诈v5v6v7-zx&灵鲲v6&行业风险3.0_20230406.xlsx\", \n",
    "                      header = 1, parse_dates=['回溯时间'], sheet_name=\"反欺诈\")\n",
    "tencent_fraud_risk = tencent_fraud_risk.dropna(subset=['highirr_v6_20220425_score'])\n",
    "sample = pd.read_csv(\"/sda/huweipeng/project/长安银行/data/third_party_data/百融数据/百融样本.csv\", parse_dates=['申请日期'])\n",
    "label = pd.read_csv(\"/sda/huweipeng/project/长安银行/data/third_party_data/百融数据/样本核卡状态.csv\", parse_dates=['apply_date_key'])\n",
    "label['order_status_key'] = label['order_status_key'].map({2:1}).fillna(0)\n",
    "tencent_fraud_risk['customer_phone'] = sample['手机号']\n",
    "tencent_fraud_risk = tencent_fraud_risk.merge(label, left_on=['customer_phone', '回溯时间'], right_on=['customer_phone', 'apply_date_key']).drop_duplicates()\n",
    "# print(br_cell_status.shape)\n",
    "peek(tencent_fraud_risk, 2)"
   ]
  },
  {
   "cell_type": "code",
   "execution_count": 388,
   "id": "d596b7bc-5de0-4975-91ff-eea9bf308234",
   "metadata": {},
   "outputs": [],
   "source": [
    "features = tencent_fraud_risk.loc[:, 'highirr_v6_20220425_score':'v6_seq_online'].columns\n",
    "tencent_fraud_risk_bin = tencent_fraud_risk.copy()\n",
    "tencent_fraud_risk_bin[features] = MinMaxScaler().fit_transform(tencent_fraud_risk_bin[features])\n",
    "tencent_fraud_risk_bin[features] = tencent_fraud_risk_bin[features].apply(binning)"
   ]
  },
  {
   "cell_type": "code",
   "execution_count": 389,
   "id": "60020501-f974-4301-93da-aea6af61e9db",
   "metadata": {},
   "outputs": [
    {
     "data": {
      "text/html": [
       "<div>\n",
       "<style scoped>\n",
       "    .dataframe tbody tr th:only-of-type {\n",
       "        vertical-align: middle;\n",
       "    }\n",
       "\n",
       "    .dataframe tbody tr th {\n",
       "        vertical-align: top;\n",
       "    }\n",
       "\n",
       "    .dataframe thead th {\n",
       "        text-align: right;\n",
       "    }\n",
       "</style>\n",
       "<table border=\"1\" class=\"dataframe\">\n",
       "  <thead>\n",
       "    <tr style=\"text-align: right;\">\n",
       "      <th></th>\n",
       "      <th>feature</th>\n",
       "      <th>iv</th>\n",
       "    </tr>\n",
       "  </thead>\n",
       "  <tbody>\n",
       "    <tr>\n",
       "      <th>5</th>\n",
       "      <td>model_risk_v7_stongyong_score</td>\n",
       "      <td>0.921408</td>\n",
       "    </tr>\n",
       "    <tr>\n",
       "      <th>4</th>\n",
       "      <td>model_risk_v7_slowirr_score</td>\n",
       "      <td>0.846622</td>\n",
       "    </tr>\n",
       "    <tr>\n",
       "      <th>1</th>\n",
       "      <td>lowirr_v6_20220425_score</td>\n",
       "      <td>0.776186</td>\n",
       "    </tr>\n",
       "    <tr>\n",
       "      <th>3</th>\n",
       "      <td>model_risk_v7_shighirr_score</td>\n",
       "      <td>0.764015</td>\n",
       "    </tr>\n",
       "    <tr>\n",
       "      <th>2</th>\n",
       "      <td>tongyong_v6_20220425_score</td>\n",
       "      <td>0.714824</td>\n",
       "    </tr>\n",
       "    <tr>\n",
       "      <th>0</th>\n",
       "      <td>highirr_v6_20220425_score</td>\n",
       "      <td>0.652614</td>\n",
       "    </tr>\n",
       "    <tr>\n",
       "      <th>6</th>\n",
       "      <td>v6_seq_online</td>\n",
       "      <td>0.329042</td>\n",
       "    </tr>\n",
       "  </tbody>\n",
       "</table>\n",
       "</div>"
      ],
      "text/plain": [
       "                         feature        iv\n",
       "5  model_risk_v7_stongyong_score  0.921408\n",
       "4    model_risk_v7_slowirr_score  0.846622\n",
       "1       lowirr_v6_20220425_score  0.776186\n",
       "3   model_risk_v7_shighirr_score  0.764015\n",
       "2     tongyong_v6_20220425_score  0.714824\n",
       "0      highirr_v6_20220425_score  0.652614\n",
       "6                  v6_seq_online  0.329042"
      ]
     },
     "execution_count": 389,
     "metadata": {},
     "output_type": "execute_result"
    }
   ],
   "source": [
    "feature_iv = []\n",
    "for feature in features:\n",
    "    feature_iv.append([feature, calc_iv(tencent_fraud_risk_bin, feature, 'order_status_key')])\n",
    "feature_iv = pd.DataFrame(feature_iv, columns = ['feature', 'iv']).sort_values('iv', ascending=False)\n",
    "feature_iv"
   ]
  },
  {
   "cell_type": "code",
   "execution_count": 392,
   "id": "e93bb80c-6967-4363-a1ee-70f14f066962",
   "metadata": {},
   "outputs": [
    {
     "data": {
      "text/plain": [
       "const                            10.793856\n",
       "model_risk_v7_stongyong_score     1.407377\n",
       "v6_seq_online                     1.407377\n",
       "Name: vif, dtype: float64"
      ]
     },
     "execution_count": 392,
     "metadata": {},
     "output_type": "execute_result"
    }
   ],
   "source": [
    "discard_features = ['highirr_v6_20220425_score', 'tongyong_v6_20220425_score', 'model_risk_v7_shighirr_score', 'model_risk_v7_slowirr_score', 'lowirr_v6_20220425_score']\n",
    "X = add_constant(tencent_fraud_risk[filter(lambda x: x not in discard_features, features)])\n",
    "vif = pd.Series([variance_inflation_factor(X.values, i) for i in range(X.shape[1])], index = X.columns).rename('vif')\n",
    "vif"
   ]
  },
  {
   "cell_type": "code",
   "execution_count": 184,
   "id": "2426eeeb-fb63-4935-96a9-cccfebd0c7af",
   "metadata": {
    "collapsed": true,
    "jupyter": {
     "outputs_hidden": true
    },
    "tags": []
   },
   "outputs": [
    {
     "name": "stdout",
     "output_type": "stream",
     "text": [
      "                   Variable  Value   All  Good  Bad  Distribution Good  \\\n",
      "2  lowirr_v6_20220425_score      0  1105   601  504           0.214006   \n",
      "3  lowirr_v6_20220425_score      1   960   462  498           0.164593   \n",
      "1  lowirr_v6_20220425_score      2   923   365  558           0.130110   \n",
      "9  lowirr_v6_20220425_score      3  1057   383  674           0.136509   \n",
      "5  lowirr_v6_20220425_score      4   959   288  671           0.102737   \n",
      "7  lowirr_v6_20220425_score      5   988   251  737           0.089584   \n",
      "4  lowirr_v6_20220425_score      6  1134   226  908           0.080697   \n",
      "0  lowirr_v6_20220425_score      7   899   117  782           0.041948   \n",
      "6  lowirr_v6_20220425_score      8   997    88  909           0.031639   \n",
      "8  lowirr_v6_20220425_score      9   932    32  900           0.011731   \n",
      "\n",
      "   Distribution Bad       WoE        IV  \n",
      "2          0.070718  1.107300  0.158663  \n",
      "3          0.069878  0.856722  0.081144  \n",
      "1          0.078280  0.508085  0.026334  \n",
      "9          0.094525  0.367531  0.015431  \n",
      "5          0.094104  0.087770  0.000758  \n",
      "7          0.103347 -0.142913  0.001967  \n",
      "4          0.127293 -0.455794  0.021238  \n",
      "0          0.109649 -0.960847  0.065050  \n",
      "6          0.127433 -1.393207  0.133461  \n",
      "8          0.126173 -2.375396  0.271844  \n",
      "IV =  0.77589\n"
     ]
    },
    {
     "data": {
      "text/plain": [
       "0.77589"
      ]
     },
     "execution_count": 184,
     "metadata": {},
     "output_type": "execute_result"
    }
   ],
   "source": [
    "calc_iv(tencent_fraud_risk_bin, 'lowirr_v6_20220425_score', 'order_status_key', True)"
   ]
  },
  {
   "cell_type": "code",
   "execution_count": 185,
   "id": "d12af947-e53b-4bef-9221-ce349a2ffeb8",
   "metadata": {
    "collapsed": true,
    "jupyter": {
     "outputs_hidden": true
    },
    "tags": []
   },
   "outputs": [
    {
     "name": "stdout",
     "output_type": "stream",
     "text": [
      "                        Variable  Value   All  Good  Bad  Distribution Good  \\\n",
      "2  model_risk_v7_stongyong_score      0  1024   612  412           0.217917   \n",
      "1  model_risk_v7_stongyong_score      1  1111   520  591           0.185212   \n",
      "3  model_risk_v7_stongyong_score      2   886   371  515           0.132243   \n",
      "9  model_risk_v7_stongyong_score      3  1108   398  710           0.141841   \n",
      "6  model_risk_v7_stongyong_score      4   867   256  611           0.091362   \n",
      "7  model_risk_v7_stongyong_score      5  1017   244  773           0.087096   \n",
      "4  model_risk_v7_stongyong_score      6   957   175  782           0.062567   \n",
      "5  model_risk_v7_stongyong_score      7  1118   146  972           0.052257   \n",
      "0  model_risk_v7_stongyong_score      8   924    64  860           0.023107   \n",
      "8  model_risk_v7_stongyong_score      9   942    27  915           0.009954   \n",
      "\n",
      "   Distribution Bad       WoE        IV  \n",
      "2          0.057835  1.326519  0.212351  \n",
      "1          0.082902  0.803845  0.082241  \n",
      "3          0.072259  0.604388  0.036254  \n",
      "9          0.099566  0.353890  0.014961  \n",
      "6          0.085702  0.063945  0.000362  \n",
      "7          0.108388 -0.218712  0.004657  \n",
      "4          0.109649 -0.561047  0.026415  \n",
      "5          0.136255 -0.958350  0.080500  \n",
      "0          0.120571 -1.652106  0.161021  \n",
      "8          0.128273 -2.556211  0.302450  \n",
      "IV =  0.921212\n"
     ]
    },
    {
     "data": {
      "text/plain": [
       "0.921212"
      ]
     },
     "execution_count": 185,
     "metadata": {},
     "output_type": "execute_result"
    }
   ],
   "source": [
    "calc_iv(tencent_fraud_risk_bin, 'model_risk_v7_stongyong_score', 'order_status_key', True)"
   ]
  },
  {
   "cell_type": "code",
   "execution_count": 188,
   "id": "01d761a2-ec77-48de-b77e-a77f757ab0da",
   "metadata": {},
   "outputs": [
    {
     "data": {
      "text/plain": [
       "0.0    2233\n",
       "1.0     162\n",
       "Name: order_status_key, dtype: int64"
      ]
     },
     "execution_count": 188,
     "metadata": {},
     "output_type": "execute_result"
    }
   ],
   "source": [
    "tencent_fraud_risk_bin.query('lowirr_v6_20220425_score >= 8 | model_risk_v7_stongyong_score >= 8').order_status_key.value_counts()"
   ]
  },
  {
   "cell_type": "code",
   "execution_count": 189,
   "id": "2e4a7f8d-4889-43cd-b389-5e12bb6dc604",
   "metadata": {},
   "outputs": [
    {
     "data": {
      "text/plain": [
       "2813.0"
      ]
     },
     "execution_count": 189,
     "metadata": {},
     "output_type": "execute_result"
    }
   ],
   "source": [
    "tencent_fraud_risk_bin.order_status_key.sum()"
   ]
  },
  {
   "cell_type": "code",
   "execution_count": 190,
   "id": "5f0a6f74-91f8-4f01-8515-33dac5a7af6b",
   "metadata": {},
   "outputs": [
    {
     "data": {
      "text/plain": [
       "0.05758976182012087"
      ]
     },
     "execution_count": 190,
     "metadata": {},
     "output_type": "execute_result"
    }
   ],
   "source": [
    "162 / 2813"
   ]
  },
  {
   "cell_type": "code",
   "execution_count": 394,
   "id": "3ee3d819-7134-47d1-aed9-0bd3168a44e0",
   "metadata": {},
   "outputs": [],
   "source": [
    "feature_iv = feature_iv.merge(vif, left_on=['feature'], right_index=True).reset_index(drop=True)\n",
    "feature_iv.to_csv(\"/sda/huweipeng/project/长安银行/data/third_party_data/feature_iv/腾讯反欺诈.csv\", index=False)"
   ]
  },
  {
   "cell_type": "markdown",
   "id": "076a6f08-1eef-4ec2-b362-13182ad9744e",
   "metadata": {},
   "source": [
    "## 腾讯多头\n",
    "从评估结果上，百融多头会比腾讯多头好些"
   ]
  },
  {
   "cell_type": "code",
   "execution_count": 241,
   "id": "55dc3f06-3c05-4950-941d-1681b03c682b",
   "metadata": {},
   "outputs": [],
   "source": [
    "tencent_duotou = pd.read_excel(\"/sda/huweipeng/project/长安银行/data/third_party_data/腾讯数据/数字魔方_反欺诈v5v6v7-zx&灵鲲v6&行业风险3.0_20230406.xlsx\", \n",
    "                        parse_dates=['回溯时间'], sheet_name=\"行业风险-多头申请v3\")"
   ]
  },
  {
   "cell_type": "code",
   "execution_count": 201,
   "id": "5a8566e9-4bc9-4803-ad4f-b8ac49ef3b74",
   "metadata": {
    "collapsed": true,
    "jupyter": {
     "outputs_hidden": true
    },
    "tags": []
   },
   "outputs": [
    {
     "data": {
      "text/plain": [
       "<AxesSubplot:>"
      ]
     },
     "execution_count": 201,
     "metadata": {},
     "output_type": "execute_result"
    },
    {
     "data": {
      "image/png": "[encoded data removed]",
      "text/plain": [
       "<Figure size 2500x1000 with 2 Axes>"
      ]
     },
     "metadata": {},
     "output_type": "display_data"
    }
   ],
   "source": [
    "msno.matrix(tencent_duotou.iloc[:, 100:])"
   ]
  },
  {
   "cell_type": "code",
   "execution_count": 243,
   "id": "6314f6de-a07e-4c56-be39-7ba777a35710",
   "metadata": {},
   "outputs": [],
   "source": [
    "keep_features = ['身份证号', '姓名', '手机号', '回溯时间'] + list(tencent_duotou.iloc[:, 4:].columns[tencent_duotou.iloc[:, :].describe().loc['count'] > 8000])"
   ]
  },
  {
   "cell_type": "code",
   "execution_count": 244,
   "id": "8d246a77-c436-416b-980b-9ccb6e3dec5e",
   "metadata": {},
   "outputs": [
    {
     "name": "stdout",
     "output_type": "stream",
     "text": [
      "(8145, 92)\n"
     ]
    }
   ],
   "source": [
    "tencent_duotou = tencent_duotou[keep_features]\n",
    "tencent_duotou = tencent_duotou.dropna(subset=keep_features)\n",
    "sample = pd.read_csv(\"/sda/huweipeng/project/长安银行/data/third_party_data/百融数据/百融样本.csv\", parse_dates=['申请日期'])\n",
    "label = pd.read_csv(\"/sda/huweipeng/project/长安银行/data/third_party_data/百融数据/样本核卡状态.csv\", parse_dates=['apply_date_key'])\n",
    "label['order_status_key'] = label['order_status_key'].map({2:1}).fillna(0)\n",
    "tencent_duotou['customer_phone'] = sample['手机号']\n",
    "tencent_duotou = tencent_duotou.merge(label, left_on=['customer_phone', '回溯时间'], right_on=['customer_phone', 'apply_date_key']).drop_duplicates()\n",
    "print(tencent_duotou.shape)\n",
    "# peek(tencent_fraud_risk, 2)"
   ]
  },
  {
   "cell_type": "code",
   "execution_count": 250,
   "id": "fbb414b4-1c01-41e7-89bf-a0bd7abf49d1",
   "metadata": {},
   "outputs": [
    {
     "data": {
      "text/html": [
       "<div>\n",
       "<style scoped>\n",
       "    .dataframe tbody tr th:only-of-type {\n",
       "        vertical-align: middle;\n",
       "    }\n",
       "\n",
       "    .dataframe tbody tr th {\n",
       "        vertical-align: top;\n",
       "    }\n",
       "\n",
       "    .dataframe thead th {\n",
       "        text-align: right;\n",
       "    }\n",
       "</style>\n",
       "<table border=\"1\" class=\"dataframe\">\n",
       "  <thead>\n",
       "    <tr style=\"text-align: right;\">\n",
       "      <th></th>\n",
       "      <th>180天内总申请次数</th>\n",
       "      <th>180天内银行申请次数</th>\n",
       "      <th>180天内持牌消金申请次数</th>\n",
       "      <th>180天内互金申请次数</th>\n",
       "      <th>180天内金融科技申请次数</th>\n",
       "      <th>180天内其他申请次数</th>\n",
       "      <th>360天内总申请次数</th>\n",
       "      <th>360天内银行申请次数</th>\n",
       "      <th>360天内持牌消金申请次数</th>\n",
       "      <th>360天内互金申请次数</th>\n",
       "      <th>...</th>\n",
       "      <th>30天相对过去360天新增银行平台数</th>\n",
       "      <th>30天相对过去720天新增银行平台数</th>\n",
       "      <th>最早一次查询距今的天数</th>\n",
       "      <th>最近一次查询距今的天数</th>\n",
       "      <th>多头申请通用分</th>\n",
       "      <th>长周期多头申请分</th>\n",
       "      <th>短周期多头申请分</th>\n",
       "      <th>银行多头申请分</th>\n",
       "      <th>非银多头申请分</th>\n",
       "      <th>order_status_key</th>\n",
       "    </tr>\n",
       "  </thead>\n",
       "  <tbody>\n",
       "    <tr>\n",
       "      <th>count</th>\n",
       "      <td>8145.000000</td>\n",
       "      <td>8145.000000</td>\n",
       "      <td>8145.000000</td>\n",
       "      <td>8145.000000</td>\n",
       "      <td>8145.000000</td>\n",
       "      <td>8145.000000</td>\n",
       "      <td>8145.000000</td>\n",
       "      <td>8145.000000</td>\n",
       "      <td>8145.000000</td>\n",
       "      <td>8145.000000</td>\n",
       "      <td>...</td>\n",
       "      <td>8145.000000</td>\n",
       "      <td>8145.000000</td>\n",
       "      <td>8145.000000</td>\n",
       "      <td>8145.000000</td>\n",
       "      <td>8145.000000</td>\n",
       "      <td>8145.000000</td>\n",
       "      <td>8145.000000</td>\n",
       "      <td>8145.000000</td>\n",
       "      <td>8145.000000</td>\n",
       "      <td>8145.000000</td>\n",
       "    </tr>\n",
       "    <tr>\n",
       "      <th>mean</th>\n",
       "      <td>3.951995</td>\n",
       "      <td>0.291835</td>\n",
       "      <td>0.293923</td>\n",
       "      <td>1.511602</td>\n",
       "      <td>1.526949</td>\n",
       "      <td>0.326703</td>\n",
       "      <td>6.849601</td>\n",
       "      <td>0.476489</td>\n",
       "      <td>0.538981</td>\n",
       "      <td>2.806753</td>\n",
       "      <td>...</td>\n",
       "      <td>-0.287784</td>\n",
       "      <td>-0.644199</td>\n",
       "      <td>851.309638</td>\n",
       "      <td>230.441866</td>\n",
       "      <td>0.488600</td>\n",
       "      <td>0.489086</td>\n",
       "      <td>0.532658</td>\n",
       "      <td>0.550657</td>\n",
       "      <td>0.495997</td>\n",
       "      <td>0.278330</td>\n",
       "    </tr>\n",
       "    <tr>\n",
       "      <th>std</th>\n",
       "      <td>7.105750</td>\n",
       "      <td>0.694784</td>\n",
       "      <td>0.970485</td>\n",
       "      <td>3.350717</td>\n",
       "      <td>3.201032</td>\n",
       "      <td>0.875869</td>\n",
       "      <td>11.806565</td>\n",
       "      <td>1.046192</td>\n",
       "      <td>1.658900</td>\n",
       "      <td>6.174205</td>\n",
       "      <td>...</td>\n",
       "      <td>0.596881</td>\n",
       "      <td>1.019270</td>\n",
       "      <td>363.278039</td>\n",
       "      <td>286.348347</td>\n",
       "      <td>0.122740</td>\n",
       "      <td>0.120588</td>\n",
       "      <td>0.117606</td>\n",
       "      <td>0.100911</td>\n",
       "      <td>0.126841</td>\n",
       "      <td>0.448204</td>\n",
       "    </tr>\n",
       "    <tr>\n",
       "      <th>min</th>\n",
       "      <td>0.000000</td>\n",
       "      <td>0.000000</td>\n",
       "      <td>0.000000</td>\n",
       "      <td>0.000000</td>\n",
       "      <td>0.000000</td>\n",
       "      <td>0.000000</td>\n",
       "      <td>0.000000</td>\n",
       "      <td>0.000000</td>\n",
       "      <td>0.000000</td>\n",
       "      <td>0.000000</td>\n",
       "      <td>...</td>\n",
       "      <td>-5.000000</td>\n",
       "      <td>-9.000000</td>\n",
       "      <td>1.000000</td>\n",
       "      <td>1.000000</td>\n",
       "      <td>0.203721</td>\n",
       "      <td>0.203721</td>\n",
       "      <td>0.203721</td>\n",
       "      <td>0.224339</td>\n",
       "      <td>0.203721</td>\n",
       "      <td>0.000000</td>\n",
       "    </tr>\n",
       "    <tr>\n",
       "      <th>25%</th>\n",
       "      <td>0.000000</td>\n",
       "      <td>0.000000</td>\n",
       "      <td>0.000000</td>\n",
       "      <td>0.000000</td>\n",
       "      <td>0.000000</td>\n",
       "      <td>0.000000</td>\n",
       "      <td>1.000000</td>\n",
       "      <td>0.000000</td>\n",
       "      <td>0.000000</td>\n",
       "      <td>0.000000</td>\n",
       "      <td>...</td>\n",
       "      <td>0.000000</td>\n",
       "      <td>-1.000000</td>\n",
       "      <td>576.000000</td>\n",
       "      <td>23.000000</td>\n",
       "      <td>0.402544</td>\n",
       "      <td>0.402544</td>\n",
       "      <td>0.446028</td>\n",
       "      <td>0.480271</td>\n",
       "      <td>0.404935</td>\n",
       "      <td>0.000000</td>\n",
       "    </tr>\n",
       "    <tr>\n",
       "      <th>50%</th>\n",
       "      <td>1.000000</td>\n",
       "      <td>0.000000</td>\n",
       "      <td>0.000000</td>\n",
       "      <td>0.000000</td>\n",
       "      <td>0.000000</td>\n",
       "      <td>0.000000</td>\n",
       "      <td>2.000000</td>\n",
       "      <td>0.000000</td>\n",
       "      <td>0.000000</td>\n",
       "      <td>0.000000</td>\n",
       "      <td>...</td>\n",
       "      <td>0.000000</td>\n",
       "      <td>0.000000</td>\n",
       "      <td>959.000000</td>\n",
       "      <td>101.000000</td>\n",
       "      <td>0.466088</td>\n",
       "      <td>0.464548</td>\n",
       "      <td>0.520703</td>\n",
       "      <td>0.542639</td>\n",
       "      <td>0.477358</td>\n",
       "      <td>0.000000</td>\n",
       "    </tr>\n",
       "    <tr>\n",
       "      <th>75%</th>\n",
       "      <td>4.000000</td>\n",
       "      <td>0.000000</td>\n",
       "      <td>0.000000</td>\n",
       "      <td>2.000000</td>\n",
       "      <td>2.000000</td>\n",
       "      <td>0.000000</td>\n",
       "      <td>7.000000</td>\n",
       "      <td>1.000000</td>\n",
       "      <td>0.000000</td>\n",
       "      <td>3.000000</td>\n",
       "      <td>...</td>\n",
       "      <td>0.000000</td>\n",
       "      <td>0.000000</td>\n",
       "      <td>1163.000000</td>\n",
       "      <td>347.000000</td>\n",
       "      <td>0.563525</td>\n",
       "      <td>0.562302</td>\n",
       "      <td>0.619299</td>\n",
       "      <td>0.622463</td>\n",
       "      <td>0.576053</td>\n",
       "      <td>1.000000</td>\n",
       "    </tr>\n",
       "    <tr>\n",
       "      <th>max</th>\n",
       "      <td>69.000000</td>\n",
       "      <td>7.000000</td>\n",
       "      <td>13.000000</td>\n",
       "      <td>40.000000</td>\n",
       "      <td>42.000000</td>\n",
       "      <td>12.000000</td>\n",
       "      <td>134.000000</td>\n",
       "      <td>14.000000</td>\n",
       "      <td>22.000000</td>\n",
       "      <td>78.000000</td>\n",
       "      <td>...</td>\n",
       "      <td>0.000000</td>\n",
       "      <td>0.000000</td>\n",
       "      <td>1324.000000</td>\n",
       "      <td>1316.000000</td>\n",
       "      <td>0.999906</td>\n",
       "      <td>0.999906</td>\n",
       "      <td>0.999906</td>\n",
       "      <td>0.999906</td>\n",
       "      <td>0.999906</td>\n",
       "      <td>1.000000</td>\n",
       "    </tr>\n",
       "  </tbody>\n",
       "</table>\n",
       "<p>8 rows × 86 columns</p>\n",
       "</div>"
      ],
      "text/plain": [
       "        180天内总申请次数  180天内银行申请次数  180天内持牌消金申请次数  180天内互金申请次数  180天内金融科技申请次数  \\\n",
       "count  8145.000000  8145.000000    8145.000000  8145.000000    8145.000000   \n",
       "mean      3.951995     0.291835       0.293923     1.511602       1.526949   \n",
       "std       7.105750     0.694784       0.970485     3.350717       3.201032   \n",
       "min       0.000000     0.000000       0.000000     0.000000       0.000000   \n",
       "25%       0.000000     0.000000       0.000000     0.000000       0.000000   \n",
       "50%       1.000000     0.000000       0.000000     0.000000       0.000000   \n",
       "75%       4.000000     0.000000       0.000000     2.000000       2.000000   \n",
       "max      69.000000     7.000000      13.000000    40.000000      42.000000   \n",
       "\n",
       "       180天内其他申请次数   360天内总申请次数  360天内银行申请次数  360天内持牌消金申请次数  360天内互金申请次数  ...  \\\n",
       "count  8145.000000  8145.000000  8145.000000    8145.000000  8145.000000  ...   \n",
       "mean      0.326703     6.849601     0.476489       0.538981     2.806753  ...   \n",
       "std       0.875869    11.806565     1.046192       1.658900     6.174205  ...   \n",
       "min       0.000000     0.000000     0.000000       0.000000     0.000000  ...   \n",
       "25%       0.000000     1.000000     0.000000       0.000000     0.000000  ...   \n",
       "50%       0.000000     2.000000     0.000000       0.000000     0.000000  ...   \n",
       "75%       0.000000     7.000000     1.000000       0.000000     3.000000  ...   \n",
       "max      12.000000   134.000000    14.000000      22.000000    78.000000  ...   \n",
       "\n",
       "       30天相对过去360天新增银行平台数  30天相对过去720天新增银行平台数  最早一次查询距今的天数  最近一次查询距今的天数  \\\n",
       "count         8145.000000         8145.000000  8145.000000  8145.000000   \n",
       "mean            -0.287784           -0.644199   851.309638   230.441866   \n",
       "std              0.596881            1.019270   363.278039   286.348347   \n",
       "min             -5.000000           -9.000000     1.000000     1.000000   \n",
       "25%              0.000000           -1.000000   576.000000    23.000000   \n",
       "50%              0.000000            0.000000   959.000000   101.000000   \n",
       "75%              0.000000            0.000000  1163.000000   347.000000   \n",
       "max              0.000000            0.000000  1324.000000  1316.000000   \n",
       "\n",
       "           多头申请通用分     长周期多头申请分     短周期多头申请分      银行多头申请分      非银多头申请分  \\\n",
       "count  8145.000000  8145.000000  8145.000000  8145.000000  8145.000000   \n",
       "mean      0.488600     0.489086     0.532658     0.550657     0.495997   \n",
       "std       0.122740     0.120588     0.117606     0.100911     0.126841   \n",
       "min       0.203721     0.203721     0.203721     0.224339     0.203721   \n",
       "25%       0.402544     0.402544     0.446028     0.480271     0.404935   \n",
       "50%       0.466088     0.464548     0.520703     0.542639     0.477358   \n",
       "75%       0.563525     0.562302     0.619299     0.622463     0.576053   \n",
       "max       0.999906     0.999906     0.999906     0.999906     0.999906   \n",
       "\n",
       "       order_status_key  \n",
       "count       8145.000000  \n",
       "mean           0.278330  \n",
       "std            0.448204  \n",
       "min            0.000000  \n",
       "25%            0.000000  \n",
       "50%            0.000000  \n",
       "75%            1.000000  \n",
       "max            1.000000  \n",
       "\n",
       "[8 rows x 86 columns]"
      ]
     },
     "execution_count": 250,
     "metadata": {},
     "output_type": "execute_result"
    }
   ],
   "source": [
    "tencent_duotou.describe()"
   ]
  },
  {
   "cell_type": "code",
   "execution_count": 257,
   "id": "ffba46cb-a364-4928-88c6-90cff53d7c1f",
   "metadata": {
    "tags": []
   },
   "outputs": [],
   "source": [
    "tencent_duotou_bin = tencent_duotou.copy()\n",
    "tencent_duotou_bin.loc[:, '180天内总申请次数':'最近一次查询距今的天数'] = tencent_duotou_bin.loc[:, '180天内总申请次数':'最近一次查询距今的天数'].apply(binning)"
   ]
  },
  {
   "cell_type": "code",
   "execution_count": 261,
   "id": "8fec2451-a011-444f-bcbd-2292364612fc",
   "metadata": {},
   "outputs": [
    {
     "data": {
      "text/html": [
       "<div>\n",
       "<style scoped>\n",
       "    .dataframe tbody tr th:only-of-type {\n",
       "        vertical-align: middle;\n",
       "    }\n",
       "\n",
       "    .dataframe tbody tr th {\n",
       "        vertical-align: top;\n",
       "    }\n",
       "\n",
       "    .dataframe thead th {\n",
       "        text-align: right;\n",
       "    }\n",
       "</style>\n",
       "<table border=\"1\" class=\"dataframe\">\n",
       "  <thead>\n",
       "    <tr style=\"text-align: right;\">\n",
       "      <th></th>\n",
       "      <th>feature</th>\n",
       "      <th>iv</th>\n",
       "    </tr>\n",
       "  </thead>\n",
       "  <tbody>\n",
       "    <tr>\n",
       "      <th>48</th>\n",
       "      <td>180天总申请白天平台数</td>\n",
       "      <td>0.983909</td>\n",
       "    </tr>\n",
       "    <tr>\n",
       "      <th>18</th>\n",
       "      <td>180天内总申请平台数</td>\n",
       "      <td>0.969598</td>\n",
       "    </tr>\n",
       "    <tr>\n",
       "      <th>24</th>\n",
       "      <td>360天内总申请平台数</td>\n",
       "      <td>0.960893</td>\n",
       "    </tr>\n",
       "    <tr>\n",
       "      <th>49</th>\n",
       "      <td>360天总申请白天平台数</td>\n",
       "      <td>0.930297</td>\n",
       "    </tr>\n",
       "    <tr>\n",
       "      <th>60</th>\n",
       "      <td>7天相对过去180天新增总平台数</td>\n",
       "      <td>0.915325</td>\n",
       "    </tr>\n",
       "    <tr>\n",
       "      <th>...</th>\n",
       "      <td>...</td>\n",
       "      <td>...</td>\n",
       "    </tr>\n",
       "    <tr>\n",
       "      <th>46</th>\n",
       "      <td>360天银行申请夜晚次数</td>\n",
       "      <td>0.048431</td>\n",
       "    </tr>\n",
       "    <tr>\n",
       "      <th>59</th>\n",
       "      <td>720天银行申请夜晚平台数</td>\n",
       "      <td>0.045978</td>\n",
       "    </tr>\n",
       "    <tr>\n",
       "      <th>47</th>\n",
       "      <td>720天银行申请夜晚次数</td>\n",
       "      <td>0.039886</td>\n",
       "    </tr>\n",
       "    <tr>\n",
       "      <th>45</th>\n",
       "      <td>180天银行申请夜晚次数</td>\n",
       "      <td>0.034440</td>\n",
       "    </tr>\n",
       "    <tr>\n",
       "      <th>57</th>\n",
       "      <td>180天银行申请夜晚平台数</td>\n",
       "      <td>0.034440</td>\n",
       "    </tr>\n",
       "  </tbody>\n",
       "</table>\n",
       "<p>80 rows × 2 columns</p>\n",
       "</div>"
      ],
      "text/plain": [
       "             feature        iv\n",
       "48      180天总申请白天平台数  0.983909\n",
       "18       180天内总申请平台数  0.969598\n",
       "24       360天内总申请平台数  0.960893\n",
       "49      360天总申请白天平台数  0.930297\n",
       "60  7天相对过去180天新增总平台数  0.915325\n",
       "..               ...       ...\n",
       "46      360天银行申请夜晚次数  0.048431\n",
       "59     720天银行申请夜晚平台数  0.045978\n",
       "47      720天银行申请夜晚次数  0.039886\n",
       "45      180天银行申请夜晚次数  0.034440\n",
       "57     180天银行申请夜晚平台数  0.034440\n",
       "\n",
       "[80 rows x 2 columns]"
      ]
     },
     "execution_count": 261,
     "metadata": {},
     "output_type": "execute_result"
    }
   ],
   "source": [
    "feature_iv = []\n",
    "for f in tencent_duotou_bin.loc[:, '180天内总申请次数':'最近一次查询距今的天数'].columns:\n",
    "    feature_iv.append([f, calc_iv(tencent_duotou_bin, f, 'order_status_key')])\n",
    "feature_iv = pd.DataFrame(feature_iv, columns=['feature', 'iv']).sort_values('iv', ascending=False)\n",
    "feature_iv"
   ]
  },
  {
   "cell_type": "code",
   "execution_count": 262,
   "id": "7f6a333a-a214-4102-ba30-0c6f5d7f224d",
   "metadata": {
    "collapsed": true,
    "jupyter": {
     "outputs_hidden": true
    },
    "tags": []
   },
   "outputs": [
    {
     "name": "stdout",
     "output_type": "stream",
     "text": [
      "number of discard features:  0\n",
      "number of discard features:  1\n",
      "number of discard features:  2\n",
      "number of discard features:  3\n",
      "number of discard features:  4\n",
      "number of discard features:  5\n",
      "number of discard features:  6\n",
      "number of discard features:  7\n",
      "number of discard features:  8\n",
      "number of discard features:  9\n",
      "number of discard features:  10\n",
      "number of discard features:  11\n",
      "number of discard features:  12\n",
      "number of discard features:  13\n",
      "number of discard features:  14\n",
      "number of discard features:  15\n",
      "number of discard features:  16\n",
      "number of discard features:  17\n",
      "number of discard features:  18\n",
      "number of discard features:  19\n",
      "number of discard features:  20\n",
      "number of discard features:  21\n",
      "number of discard features:  22\n",
      "number of discard features:  23\n",
      "number of discard features:  23\n",
      "number of discard features:  24\n",
      "number of discard features:  25\n",
      "number of discard features:  26\n",
      "number of discard features:  27\n",
      "number of discard features:  28\n",
      "number of discard features:  28\n",
      "number of discard features:  29\n",
      "number of discard features:  30\n",
      "number of discard features:  31\n",
      "number of discard features:  32\n",
      "number of discard features:  32\n",
      "number of discard features:  33\n",
      "number of discard features:  34\n",
      "number of discard features:  35\n",
      "number of discard features:  36\n",
      "number of discard features:  37\n",
      "number of discard features:  37\n",
      "number of discard features:  38\n",
      "number of discard features:  39\n",
      "number of discard features:  39\n",
      "number of discard features:  40\n",
      "number of discard features:  41\n",
      "number of discard features:  42\n",
      "number of discard features:  42\n",
      "number of discard features:  43\n",
      "number of discard features:  44\n",
      "number of discard features:  45\n",
      "number of discard features:  46\n",
      "number of discard features:  47\n",
      "number of discard features:  48\n",
      "number of discard features:  49\n",
      "number of discard features:  50\n",
      "number of discard features:  51\n",
      "number of discard features:  52\n",
      "number of discard features:  53\n",
      "number of discard features:  54\n",
      "number of discard features:  55\n",
      "number of discard features:  56\n",
      "number of discard features:  57\n",
      "number of discard features:  58\n",
      "number of discard features:  59\n",
      "number of discard features:  60\n",
      "number of discard features:  61\n",
      "number of discard features:  62\n",
      "number of discard features:  63\n",
      "number of discard features:  64\n",
      "number of discard features:  65\n",
      "number of discard features:  66\n"
     ]
    }
   ],
   "source": [
    "iv_threshold = 0.1\n",
    "qualified_features = feature_iv.query(f'iv > {iv_threshold}').reset_index(drop=True)\n",
    "cursor = -1\n",
    "\n",
    "discard_features = []\n",
    "while abs(cursor) < qualified_features.shape[0]:\n",
    "    print('number of discard features: ', len(discard_features))\n",
    "    X = add_constant(tencent_duotou_bin[filter(lambda x: x not in discard_features, qualified_features['feature'])])\n",
    "    vif = pd.Series([variance_inflation_factor(X.values, i) for i in range(X.shape[1])], index=X.columns).rename('vif')\n",
    "    qualified_features = qualified_features.drop(columns=['vif'], errors='ignore').merge(vif, left_on='feature', right_index=True, how=\"inner\")\n",
    "    feature, iv, vif_val = qualified_features.iloc[cursor, :].values\n",
    "    if vif_val < 4:\n",
    "        cursor = cursor - 1\n",
    "    else:\n",
    "        discard_features.append(feature)"
   ]
  },
  {
   "cell_type": "code",
   "execution_count": 263,
   "id": "eb957395-2260-477f-9fa9-9997b097f07c",
   "metadata": {},
   "outputs": [
    {
     "data": {
      "text/html": [
       "<div>\n",
       "<style scoped>\n",
       "    .dataframe tbody tr th:only-of-type {\n",
       "        vertical-align: middle;\n",
       "    }\n",
       "\n",
       "    .dataframe tbody tr th {\n",
       "        vertical-align: top;\n",
       "    }\n",
       "\n",
       "    .dataframe thead th {\n",
       "        text-align: right;\n",
       "    }\n",
       "</style>\n",
       "<table border=\"1\" class=\"dataframe\">\n",
       "  <thead>\n",
       "    <tr style=\"text-align: right;\">\n",
       "      <th></th>\n",
       "      <th>feature</th>\n",
       "      <th>iv</th>\n",
       "      <th>vif</th>\n",
       "    </tr>\n",
       "  </thead>\n",
       "  <tbody>\n",
       "    <tr>\n",
       "      <th>0</th>\n",
       "      <td>180天总申请白天平台数</td>\n",
       "      <td>0.983909</td>\n",
       "      <td>2.836217</td>\n",
       "    </tr>\n",
       "    <tr>\n",
       "      <th>25</th>\n",
       "      <td>720天内互金申请平台数</td>\n",
       "      <td>0.665785</td>\n",
       "      <td>2.432449</td>\n",
       "    </tr>\n",
       "    <tr>\n",
       "      <th>29</th>\n",
       "      <td>720天内持牌消金申请平台数</td>\n",
       "      <td>0.564135</td>\n",
       "      <td>2.265708</td>\n",
       "    </tr>\n",
       "    <tr>\n",
       "      <th>32</th>\n",
       "      <td>360天内其他申请次数</td>\n",
       "      <td>0.529229</td>\n",
       "      <td>2.005485</td>\n",
       "    </tr>\n",
       "    <tr>\n",
       "      <th>38</th>\n",
       "      <td>180天内持牌消金申请次数</td>\n",
       "      <td>0.395908</td>\n",
       "      <td>1.768294</td>\n",
       "    </tr>\n",
       "    <tr>\n",
       "      <th>43</th>\n",
       "      <td>720天总申请夜晚平台数</td>\n",
       "      <td>0.357563</td>\n",
       "      <td>1.810076</td>\n",
       "    </tr>\n",
       "    <tr>\n",
       "      <th>49</th>\n",
       "      <td>360天内银行申请平台数</td>\n",
       "      <td>0.251021</td>\n",
       "      <td>1.496965</td>\n",
       "    </tr>\n",
       "  </tbody>\n",
       "</table>\n",
       "</div>"
      ],
      "text/plain": [
       "           feature        iv       vif\n",
       "0     180天总申请白天平台数  0.983909  2.836217\n",
       "25    720天内互金申请平台数  0.665785  2.432449\n",
       "29  720天内持牌消金申请平台数  0.564135  2.265708\n",
       "32     360天内其他申请次数  0.529229  2.005485\n",
       "38   180天内持牌消金申请次数  0.395908  1.768294\n",
       "43    720天总申请夜晚平台数  0.357563  1.810076\n",
       "49    360天内银行申请平台数  0.251021  1.496965"
      ]
     },
     "execution_count": 263,
     "metadata": {},
     "output_type": "execute_result"
    }
   ],
   "source": [
    "qualified_features"
   ]
  },
  {
   "cell_type": "code",
   "execution_count": 267,
   "id": "4341157a-1122-4b72-8666-50d1e03e1df6",
   "metadata": {},
   "outputs": [],
   "source": [
    "tencent_duotou_bin.loc[:, '多头申请通用分':'非银多头申请分'] = MinMaxScaler().fit_transform(tencent_duotou_bin.loc[:, '多头申请通用分':'非银多头申请分'])\n",
    "tencent_duotou_bin.loc[:, '多头申请通用分':'非银多头申请分'] = tencent_duotou_bin.loc[:, '多头申请通用分':'非银多头申请分'].apply(binning)"
   ]
  },
  {
   "cell_type": "code",
   "execution_count": 268,
   "id": "4eafbbc3-6c30-4906-962f-94c1495b8d79",
   "metadata": {},
   "outputs": [
    {
     "data": {
      "text/html": [
       "<div>\n",
       "<style scoped>\n",
       "    .dataframe tbody tr th:only-of-type {\n",
       "        vertical-align: middle;\n",
       "    }\n",
       "\n",
       "    .dataframe tbody tr th {\n",
       "        vertical-align: top;\n",
       "    }\n",
       "\n",
       "    .dataframe thead th {\n",
       "        text-align: right;\n",
       "    }\n",
       "</style>\n",
       "<table border=\"1\" class=\"dataframe\">\n",
       "  <thead>\n",
       "    <tr style=\"text-align: right;\">\n",
       "      <th></th>\n",
       "      <th>feature</th>\n",
       "      <th>iv</th>\n",
       "    </tr>\n",
       "  </thead>\n",
       "  <tbody>\n",
       "    <tr>\n",
       "      <th>2</th>\n",
       "      <td>短周期多头申请分</td>\n",
       "      <td>0.760452</td>\n",
       "    </tr>\n",
       "    <tr>\n",
       "      <th>4</th>\n",
       "      <td>非银多头申请分</td>\n",
       "      <td>0.549270</td>\n",
       "    </tr>\n",
       "    <tr>\n",
       "      <th>3</th>\n",
       "      <td>银行多头申请分</td>\n",
       "      <td>0.436825</td>\n",
       "    </tr>\n",
       "    <tr>\n",
       "      <th>1</th>\n",
       "      <td>长周期多头申请分</td>\n",
       "      <td>0.367520</td>\n",
       "    </tr>\n",
       "    <tr>\n",
       "      <th>0</th>\n",
       "      <td>多头申请通用分</td>\n",
       "      <td>0.332067</td>\n",
       "    </tr>\n",
       "  </tbody>\n",
       "</table>\n",
       "</div>"
      ],
      "text/plain": [
       "    feature        iv\n",
       "2  短周期多头申请分  0.760452\n",
       "4   非银多头申请分  0.549270\n",
       "3   银行多头申请分  0.436825\n",
       "1  长周期多头申请分  0.367520\n",
       "0   多头申请通用分  0.332067"
      ]
     },
     "execution_count": 268,
     "metadata": {},
     "output_type": "execute_result"
    }
   ],
   "source": [
    "feature_iv = []\n",
    "for f in tencent_duotou_bin.loc[:, '多头申请通用分':'非银多头申请分'].columns:\n",
    "    feature_iv.append([f, calc_iv(tencent_duotou_bin, f, 'order_status_key')])\n",
    "feature_iv = pd.DataFrame(feature_iv, columns=['feature', 'iv']).sort_values('iv', ascending=False)\n",
    "feature_iv"
   ]
  },
  {
   "cell_type": "code",
   "execution_count": 272,
   "id": "327b5f22-87e8-403d-bcf8-7d30d31ffcc8",
   "metadata": {},
   "outputs": [
    {
     "data": {
      "text/plain": [
       "const       6.287953\n",
       "多头申请通用分     9.342910\n",
       "长周期多头申请分    8.498172\n",
       "短周期多头申请分    3.999001\n",
       "银行多头申请分     2.931894\n",
       "非银多头申请分     8.089079\n",
       "dtype: float64"
      ]
     },
     "execution_count": 272,
     "metadata": {},
     "output_type": "execute_result"
    }
   ],
   "source": [
    "X = add_constant(tencent_duotou_bin.loc[:, '多头申请通用分':'非银多头申请分'])\n",
    "pd.Series([variance_inflation_factor(X.values, i) for i in range(X.shape[1])], index=X.columns)"
   ]
  },
  {
   "cell_type": "markdown",
   "id": "d2861ffd-7ef9-46d6-a497-3362fa5f7b0c",
   "metadata": {},
   "source": [
    "## 腾讯逾期\n",
    "覆盖客户少，而且有逾期记录的客户中，无法有效区分出高质量客户"
   ]
  },
  {
   "cell_type": "code",
   "execution_count": 276,
   "id": "d4d009c7-425c-4df7-a20f-ce0a46d88059",
   "metadata": {},
   "outputs": [],
   "source": [
    "tencent_overdue = pd.read_excel(\"/sda/huweipeng/project/长安银行/data/third_party_data/腾讯数据/数字魔方_反欺诈v5v6v7-zx&灵鲲v6&行业风险3.0_20230406.xlsx\", \n",
    "                        parse_dates=['回溯时间'], sheet_name=\"行业风险-逾期\")"
   ]
  },
  {
   "cell_type": "code",
   "execution_count": 277,
   "id": "37f33e6c-3d4f-4dd7-846d-3e702cb53d6e",
   "metadata": {},
   "outputs": [
    {
     "data": {
      "text/plain": [
       "<AxesSubplot:>"
      ]
     },
     "execution_count": 277,
     "metadata": {},
     "output_type": "execute_result"
    },
    {
     "data": {
      "image/png": "[encoded data removed]",
      "text/plain": [
       "<Figure size 2500x1000 with 2 Axes>"
      ]
     },
     "metadata": {},
     "output_type": "display_data"
    }
   ],
   "source": [
    "msno.matrix(tencent_overdue)"
   ]
  },
  {
   "cell_type": "code",
   "execution_count": 281,
   "id": "2562176d-77f5-4c0e-9427-86c8d44e1f00",
   "metadata": {},
   "outputs": [],
   "source": [
    "tencent_overdue = tencent_overdue.fillna(0)\n",
    "tencent_overdue['have_record'] = tencent_overdue.iloc[:, 4:].sum(axis=1)\n",
    "tencent_overdue['have_record'] = tencent_overdue['have_record'].map({0:0}).fillna(1)"
   ]
  },
  {
   "cell_type": "code",
   "execution_count": 284,
   "id": "272a7270-18d2-4616-b0a7-cfb8a4c93343",
   "metadata": {},
   "outputs": [],
   "source": [
    "sample = pd.read_csv(\"/sda/huweipeng/project/长安银行/data/third_party_data/百融数据/百融样本.csv\", parse_dates=['申请日期'])\n",
    "label = pd.read_csv(\"/sda/huweipeng/project/长安银行/data/third_party_data/百融数据/样本核卡状态.csv\", parse_dates=['apply_date_key'])\n",
    "label['order_status_key'] = label['order_status_key'].map({2:1}).fillna(0)\n",
    "tencent_overdue['customer_phone'] = sample['手机号']\n",
    "tencent_overdue = tencent_overdue.merge(label, left_on=['customer_phone', '回溯时间'], right_on=['customer_phone', 'apply_date_key']).drop_duplicates()"
   ]
  },
  {
   "cell_type": "code",
   "execution_count": 286,
   "id": "0b5c040d-e61d-4da0-b0b0-7ec2d05c47d6",
   "metadata": {},
   "outputs": [
    {
     "data": {
      "text/plain": [
       "0.0    291\n",
       "1.0     97\n",
       "Name: order_status_key, dtype: int64"
      ]
     },
     "execution_count": 286,
     "metadata": {},
     "output_type": "execute_result"
    }
   ],
   "source": [
    "tencent_overdue.query('have_record == 1')['order_status_key'].value_counts()"
   ]
  },
  {
   "cell_type": "markdown",
   "id": "8ccc7db0-ef18-4c0d-b80f-89a17be4ad26",
   "metadata": {},
   "source": [
    "## 腾讯圈团&可疑&电诈\n",
    "没什么用"
   ]
  },
  {
   "cell_type": "code",
   "execution_count": 289,
   "id": "a03cb86a-288d-4b8b-b7df-da090f3ed07a",
   "metadata": {},
   "outputs": [],
   "source": [
    "tencent_risk = pd.read_excel(\"/sda/huweipeng/project/长安银行/data/third_party_data/腾讯数据/数字魔方_反欺诈v5v6v7-zx&灵鲲v6&行业风险3.0_20230406.xlsx\", \n",
    "                        parse_dates=['回溯时间'], sheet_name=\"行业风险-圈团&可疑&电诈\")"
   ]
  },
  {
   "cell_type": "code",
   "execution_count": 290,
   "id": "e661fd8a-e6b1-473d-a28f-519306f1aef6",
   "metadata": {},
   "outputs": [
    {
     "data": {
      "text/plain": [
       "<AxesSubplot:>"
      ]
     },
     "execution_count": 290,
     "metadata": {},
     "output_type": "execute_result"
    },
    {
     "name": "stderr",
     "output_type": "stream",
     "text": [
      "/sda/software/anaconda3/lib/python3.9/site-packages/IPython/core/pylabtools.py:151: UserWarning: Glyph 36523 (\\N{CJK UNIFIED IDEOGRAPH-8EAB}) missing from current font.\n",
      "  fig.canvas.print_figure(bytes_io, **kw)\n",
      "/sda/software/anaconda3/lib/python3.9/site-packages/IPython/core/pylabtools.py:151: UserWarning: Glyph 20221 (\\N{CJK UNIFIED IDEOGRAPH-4EFD}) missing from current font.\n",
      "  fig.canvas.print_figure(bytes_io, **kw)\n",
      "/sda/software/anaconda3/lib/python3.9/site-packages/IPython/core/pylabtools.py:151: UserWarning: Glyph 35777 (\\N{CJK UNIFIED IDEOGRAPH-8BC1}) missing from current font.\n",
      "  fig.canvas.print_figure(bytes_io, **kw)\n",
      "/sda/software/anaconda3/lib/python3.9/site-packages/IPython/core/pylabtools.py:151: UserWarning: Glyph 21495 (\\N{CJK UNIFIED IDEOGRAPH-53F7}) missing from current font.\n",
      "  fig.canvas.print_figure(bytes_io, **kw)\n",
      "/sda/software/anaconda3/lib/python3.9/site-packages/IPython/core/pylabtools.py:151: UserWarning: Glyph 22995 (\\N{CJK UNIFIED IDEOGRAPH-59D3}) missing from current font.\n",
      "  fig.canvas.print_figure(bytes_io, **kw)\n",
      "/sda/software/anaconda3/lib/python3.9/site-packages/IPython/core/pylabtools.py:151: UserWarning: Glyph 21517 (\\N{CJK UNIFIED IDEOGRAPH-540D}) missing from current font.\n",
      "  fig.canvas.print_figure(bytes_io, **kw)\n",
      "/sda/software/anaconda3/lib/python3.9/site-packages/IPython/core/pylabtools.py:151: UserWarning: Glyph 25163 (\\N{CJK UNIFIED IDEOGRAPH-624B}) missing from current font.\n",
      "  fig.canvas.print_figure(bytes_io, **kw)\n",
      "/sda/software/anaconda3/lib/python3.9/site-packages/IPython/core/pylabtools.py:151: UserWarning: Glyph 26426 (\\N{CJK UNIFIED IDEOGRAPH-673A}) missing from current font.\n",
      "  fig.canvas.print_figure(bytes_io, **kw)\n",
      "/sda/software/anaconda3/lib/python3.9/site-packages/IPython/core/pylabtools.py:151: UserWarning: Glyph 22238 (\\N{CJK UNIFIED IDEOGRAPH-56DE}) missing from current font.\n",
      "  fig.canvas.print_figure(bytes_io, **kw)\n",
      "/sda/software/anaconda3/lib/python3.9/site-packages/IPython/core/pylabtools.py:151: UserWarning: Glyph 28335 (\\N{CJK UNIFIED IDEOGRAPH-6EAF}) missing from current font.\n",
      "  fig.canvas.print_figure(bytes_io, **kw)\n",
      "/sda/software/anaconda3/lib/python3.9/site-packages/IPython/core/pylabtools.py:151: UserWarning: Glyph 26102 (\\N{CJK UNIFIED IDEOGRAPH-65F6}) missing from current font.\n",
      "  fig.canvas.print_figure(bytes_io, **kw)\n",
      "/sda/software/anaconda3/lib/python3.9/site-packages/IPython/core/pylabtools.py:151: UserWarning: Glyph 38388 (\\N{CJK UNIFIED IDEOGRAPH-95F4}) missing from current font.\n",
      "  fig.canvas.print_figure(bytes_io, **kw)\n",
      "/sda/software/anaconda3/lib/python3.9/site-packages/IPython/core/pylabtools.py:151: UserWarning: Glyph 22280 (\\N{CJK UNIFIED IDEOGRAPH-5708}) missing from current font.\n",
      "  fig.canvas.print_figure(bytes_io, **kw)\n",
      "/sda/software/anaconda3/lib/python3.9/site-packages/IPython/core/pylabtools.py:151: UserWarning: Glyph 22242 (\\N{CJK UNIFIED IDEOGRAPH-56E2}) missing from current font.\n",
      "  fig.canvas.print_figure(bytes_io, **kw)\n",
      "/sda/software/anaconda3/lib/python3.9/site-packages/IPython/core/pylabtools.py:151: UserWarning: Glyph 39118 (\\N{CJK UNIFIED IDEOGRAPH-98CE}) missing from current font.\n",
      "  fig.canvas.print_figure(bytes_io, **kw)\n",
      "/sda/software/anaconda3/lib/python3.9/site-packages/IPython/core/pylabtools.py:151: UserWarning: Glyph 38505 (\\N{CJK UNIFIED IDEOGRAPH-9669}) missing from current font.\n",
      "  fig.canvas.print_figure(bytes_io, **kw)\n",
      "/sda/software/anaconda3/lib/python3.9/site-packages/IPython/core/pylabtools.py:151: UserWarning: Glyph 31561 (\\N{CJK UNIFIED IDEOGRAPH-7B49}) missing from current font.\n",
      "  fig.canvas.print_figure(bytes_io, **kw)\n",
      "/sda/software/anaconda3/lib/python3.9/site-packages/IPython/core/pylabtools.py:151: UserWarning: Glyph 32423 (\\N{CJK UNIFIED IDEOGRAPH-7EA7}) missing from current font.\n",
      "  fig.canvas.print_figure(bytes_io, **kw)\n",
      "/sda/software/anaconda3/lib/python3.9/site-packages/IPython/core/pylabtools.py:151: UserWarning: Glyph 65288 (\\N{FULLWIDTH LEFT PARENTHESIS}) missing from current font.\n",
      "  fig.canvas.print_figure(bytes_io, **kw)\n",
      "/sda/software/anaconda3/lib/python3.9/site-packages/IPython/core/pylabtools.py:151: UserWarning: Glyph 65289 (\\N{FULLWIDTH RIGHT PARENTHESIS}) missing from current font.\n",
      "  fig.canvas.print_figure(bytes_io, **kw)\n",
      "/sda/software/anaconda3/lib/python3.9/site-packages/IPython/core/pylabtools.py:151: UserWarning: Glyph 30097 (\\N{CJK UNIFIED IDEOGRAPH-7591}) missing from current font.\n",
      "  fig.canvas.print_figure(bytes_io, **kw)\n",
      "/sda/software/anaconda3/lib/python3.9/site-packages/IPython/core/pylabtools.py:151: UserWarning: Glyph 20284 (\\N{CJK UNIFIED IDEOGRAPH-4F3C}) missing from current font.\n",
      "  fig.canvas.print_figure(bytes_io, **kw)\n",
      "/sda/software/anaconda3/lib/python3.9/site-packages/IPython/core/pylabtools.py:151: UserWarning: Glyph 20934 (\\N{CJK UNIFIED IDEOGRAPH-51C6}) missing from current font.\n",
      "  fig.canvas.print_figure(bytes_io, **kw)\n",
      "/sda/software/anaconda3/lib/python3.9/site-packages/IPython/core/pylabtools.py:151: UserWarning: Glyph 20837 (\\N{CJK UNIFIED IDEOGRAPH-5165}) missing from current font.\n",
      "  fig.canvas.print_figure(bytes_io, **kw)\n",
      "/sda/software/anaconda3/lib/python3.9/site-packages/IPython/core/pylabtools.py:151: UserWarning: Glyph 34987 (\\N{CJK UNIFIED IDEOGRAPH-88AB}) missing from current font.\n",
      "  fig.canvas.print_figure(bytes_io, **kw)\n",
      "/sda/software/anaconda3/lib/python3.9/site-packages/IPython/core/pylabtools.py:151: UserWarning: Glyph 30005 (\\N{CJK UNIFIED IDEOGRAPH-7535}) missing from current font.\n",
      "  fig.canvas.print_figure(bytes_io, **kw)\n",
      "/sda/software/anaconda3/lib/python3.9/site-packages/IPython/core/pylabtools.py:151: UserWarning: Glyph 35784 (\\N{CJK UNIFIED IDEOGRAPH-8BC8}) missing from current font.\n",
      "  fig.canvas.print_figure(bytes_io, **kw)\n",
      "/sda/software/anaconda3/lib/python3.9/site-packages/IPython/core/pylabtools.py:151: UserWarning: Glyph 36845 (\\N{CJK UNIFIED IDEOGRAPH-8FED}) missing from current font.\n",
      "  fig.canvas.print_figure(bytes_io, **kw)\n",
      "/sda/software/anaconda3/lib/python3.9/site-packages/IPython/core/pylabtools.py:151: UserWarning: Glyph 20195 (\\N{CJK UNIFIED IDEOGRAPH-4EE3}) missing from current font.\n",
      "  fig.canvas.print_figure(bytes_io, **kw)\n",
      "/sda/software/anaconda3/lib/python3.9/site-packages/IPython/core/pylabtools.py:151: UserWarning: Glyph 27987 (\\N{CJK UNIFIED IDEOGRAPH-6D53}) missing from current font.\n",
      "  fig.canvas.print_figure(bytes_io, **kw)\n",
      "/sda/software/anaconda3/lib/python3.9/site-packages/IPython/core/pylabtools.py:151: UserWarning: Glyph 24230 (\\N{CJK UNIFIED IDEOGRAPH-5EA6}) missing from current font.\n",
      "  fig.canvas.print_figure(bytes_io, **kw)\n",
      "/sda/software/anaconda3/lib/python3.9/site-packages/IPython/core/pylabtools.py:151: UserWarning: Glyph 20998 (\\N{CJK UNIFIED IDEOGRAPH-5206}) missing from current font.\n",
      "  fig.canvas.print_figure(bytes_io, **kw)\n"
     ]
    },
    {
     "data": {
      "image/png": "[encoded data removed]",
      "text/plain": [
       "<Figure size 2500x1000 with 2 Axes>"
      ]
     },
     "metadata": {},
     "output_type": "display_data"
    }
   ],
   "source": [
    "msno.matrix(tencent_risk)"
   ]
  },
  {
   "cell_type": "code",
   "execution_count": 294,
   "id": "d054e945-960d-4d09-a633-db27b4a8c675",
   "metadata": {},
   "outputs": [
    {
     "name": "stdout",
     "output_type": "stream",
     "text": [
      "(9848, 14)\n"
     ]
    }
   ],
   "source": [
    "tencent_risk = tencent_risk.dropna(subset = ['圈团3浓度分V1（23006）'])\n",
    "sample = pd.read_csv(\"/sda/huweipeng/project/长安银行/data/third_party_data/百融数据/百融样本.csv\", parse_dates=['申请日期'])\n",
    "label = pd.read_csv(\"/sda/huweipeng/project/长安银行/data/third_party_data/百融数据/样本核卡状态.csv\", parse_dates=['apply_date_key'])\n",
    "label['order_status_key'] = label['order_status_key'].map({2:1}).fillna(0)\n",
    "tencent_risk['customer_phone'] = sample['手机号']\n",
    "tencent_risk = tencent_risk.merge(label, left_on=['customer_phone', '回溯时间'], right_on=['customer_phone', 'apply_date_key']).drop_duplicates()\n",
    "print(tencent_risk.shape)"
   ]
  },
  {
   "cell_type": "code",
   "execution_count": 295,
   "id": "ee482a97-de80-4972-956e-afbcbfc4e600",
   "metadata": {},
   "outputs": [
    {
     "name": "stdout",
     "output_type": "stream",
     "text": [
      "           Variable  Value   All  Good   Bad  Distribution Good  \\\n",
      "10  圈团3浓度分V1（23006）      0     6     3     3           0.001428   \n",
      "5   圈团3浓度分V1（23006）      1  1089   386   703           0.138165   \n",
      "7   圈团3浓度分V1（23006）      2  1184   400   784           0.143163   \n",
      "8   圈团3浓度分V1（23006）      3   819   245   574           0.087826   \n",
      "9   圈团3浓度分V1（23006）      4   955   295   660           0.105677   \n",
      "1   圈团3浓度分V1（23006）      5   999   288   711           0.103177   \n",
      "2   圈团3浓度分V1（23006）      6  1129   332   797           0.118886   \n",
      "6   圈团3浓度分V1（23006）      7   933   253   680           0.090682   \n",
      "3   圈团3浓度分V1（23006）      8  1363   326  1037           0.116744   \n",
      "4   圈团3浓度分V1（23006）      9   499   108   391           0.038915   \n",
      "0   圈团3浓度分V1（23006）     10   872   165   707           0.059265   \n",
      "\n",
      "    Distribution Bad       WoE        IV  \n",
      "10          0.000568  0.922625  0.000794  \n",
      "5           0.099901  0.324272  0.012408  \n",
      "7           0.111395  0.250903  0.007971  \n",
      "8           0.081595  0.073587  0.000459  \n",
      "9           0.093799  0.119231  0.001416  \n",
      "1           0.101036  0.020974  0.000045  \n",
      "2           0.113240  0.048659  0.000275  \n",
      "6           0.096637 -0.063603  0.000379  \n",
      "3           0.147297 -0.232465  0.007102  \n",
      "4           0.055627 -0.357288  0.005971  \n",
      "0           0.100468 -0.527831  0.021749  \n",
      "IV =  0.058568\n"
     ]
    },
    {
     "data": {
      "text/plain": [
       "0.058568"
      ]
     },
     "execution_count": 295,
     "metadata": {},
     "output_type": "execute_result"
    }
   ],
   "source": [
    "tencent_risk['圈团3浓度分V1（23006）'] = MinMaxScaler().fit_transform(tencent_risk[['圈团3浓度分V1（23006）']])\n",
    "tencent_risk['圈团3浓度分V1（23006）'] = tencent_risk[['圈团3浓度分V1（23006）']].apply(binning)\n",
    "calc_iv(tencent_risk, '圈团3浓度分V1（23006）', 'order_status_key', True)"
   ]
  },
  {
   "cell_type": "markdown",
   "id": "a98a2a18-8c01-4a3e-9f00-1de89b9b8f99",
   "metadata": {},
   "source": [
    "## 尚为逾期\n",
    "效果一般"
   ]
  },
  {
   "cell_type": "code",
   "execution_count": 337,
   "id": "b9d3fe80-05cf-44c6-b3de-d081a1caf930",
   "metadata": {
    "collapsed": true,
    "jupyter": {
     "outputs_hidden": true
    },
    "tags": []
   },
   "outputs": [
    {
     "name": "stdout",
     "output_type": "stream",
     "text": [
      "(9886, 178)\n",
      "   seq_id                            mobile                            idcard  \\\n",
      "0       1  cc92befb0e0b9f7ef4736f0fabc86821  7ea5002e087c1baeb5fd10767d668a68   \n",
      "1       2  057331edd64b9002ddfc084e2d09b441  c599c6deae2114af4560399f4c5cb804   \n",
      "\n",
      "                               name encrypt_type  back_date  ext_info  \\\n",
      "0  3e5bbb6d32f09825de1f89996fa889de          md5 2023-02-22       NaN   \n",
      "1  d0d8c29ccef4dfefc59b15c1705972d9          md5 2023-03-25       NaN   \n",
      "\n",
      "   overdue_risk_bank_loan_serious_cnt_60d  \\\n",
      "0                                    -2.0   \n",
      "1                                    -2.0   \n",
      "\n",
      "   overdue_risk_credit_serious_plat_cnt_30d  overdue_risk_all_serious_cnt_30d  \\\n",
      "0                                      -2.0                              -2.0   \n",
      "1                                      -2.0                              -2.0   \n",
      "\n",
      "   overdue_risk_ifin_loan_general_plat_cnt_90d  \\\n",
      "0                                         -2.0   \n",
      "1                                         -2.0   \n",
      "\n",
      "   overdue_risk_all_serious_plat_cnt_720d  \\\n",
      "0                                    -2.0   \n",
      "1                                    -2.0   \n",
      "\n",
      "   overdue_risk_ifin_loan_serious_cnt_180d  \\\n",
      "0                                     -2.0   \n",
      "1                                     -2.0   \n",
      "\n",
      "   overdue_risk_bank_loan_general_cnt_30d  \\\n",
      "0                                    -2.0   \n",
      "1                                    -2.0   \n",
      "\n",
      "   overdue_risk_ifin_loan_slight_plat_cnt_720d  \\\n",
      "0                                         -2.0   \n",
      "1                                         -2.0   \n",
      "\n",
      "   overdue_risk_ifin_loan_general_cnt_30d  \\\n",
      "0                                    -2.0   \n",
      "1                                    -2.0   \n",
      "\n",
      "   overdue_risk_bank_loan_general_plat_cnt_360d  \\\n",
      "0                                          -2.0   \n",
      "1                                          -2.0   \n",
      "\n",
      "   overdue_risk_all_general_plat_cnt_90d  overdue_risk_all_serious_cnt_360d  \\\n",
      "0                                   -2.0                               -2.0   \n",
      "1                                   -2.0                               -2.0   \n",
      "\n",
      "   overdue_risk_ifin_loan_serious_cnt_60d  \\\n",
      "0                                    -2.0   \n",
      "1                                    -2.0   \n",
      "\n",
      "   overdue_risk_credit_general_cnt_360d  overdue_risk_credit_slight_cnt_90d  \\\n",
      "0                                  -2.0                                -2.0   \n",
      "1                                  -2.0                                -2.0   \n",
      "\n",
      "   overdue_risk_bank_loan_serious_plat_cnt_30d  \\\n",
      "0                                         -2.0   \n",
      "1                                         -2.0   \n",
      "\n",
      "   overdue_risk_ifin_loan_general_cnt_720d  \\\n",
      "0                                     -2.0   \n",
      "1                                     -2.0   \n",
      "\n",
      "   overdue_risk_ifin_loan_slight_cnt_180d  \\\n",
      "0                                    -2.0   \n",
      "1                                    -2.0   \n",
      "\n",
      "   overdue_risk_all_slight_plat_cnt_30d  overdue_risk_credit_slight_cnt_720d  \\\n",
      "0                                  -2.0                                 -2.0   \n",
      "1                                  -2.0                                 -2.0   \n",
      "\n",
      "   overdue_risk_bank_loan_slight_cnt_180d  \\\n",
      "0                                    -2.0   \n",
      "1                                    -2.0   \n",
      "\n",
      "   overdue_risk_bank_loan_general_cnt_15d  overdue_risk_all_general_cnt_720d  \\\n",
      "0                                    -2.0                               -2.0   \n",
      "1                                    -2.0                               -2.0   \n",
      "\n",
      "   overdue_risk_bank_loan_serious_cnt_720d  \\\n",
      "0                                     -2.0   \n",
      "1                                     -2.0   \n",
      "\n",
      "   overdue_risk_bank_loan_serious_plat_cnt_180d  \\\n",
      "0                                          -2.0   \n",
      "1                                          -2.0   \n",
      "\n",
      "   overdue_risk_credit_serious_cnt_90d  overdue_risk_credit_general_cnt_60d  \\\n",
      "0                                 -2.0                                 -2.0   \n",
      "1                                 -2.0                                 -2.0   \n",
      "\n",
      "   overdue_risk_bank_loan_slight_cnt_60d  overdue_risk_all_slight_cnt_720d  \\\n",
      "0                                   -2.0                              -2.0   \n",
      "1                                   -2.0                              -2.0   \n",
      "\n",
      "   overdue_risk_ifin_loan_slight_plat_cnt_90d  \\\n",
      "0                                        -2.0   \n",
      "1                                        -2.0   \n",
      "\n",
      "   overdue_risk_all_slight_cnt_60d  overdue_risk_credit_slight_plat_cnt_90d  \\\n",
      "0                             -2.0                                     -2.0   \n",
      "1                             -2.0                                     -2.0   \n",
      "\n",
      "   overdue_risk_bank_loan_slight_plat_cnt_60d  \\\n",
      "0                                        -2.0   \n",
      "1                                        -2.0   \n",
      "\n",
      "   overdue_risk_all_general_plat_cnt_720d  \\\n",
      "0                                    -2.0   \n",
      "1                                    -2.0   \n",
      "\n",
      "   overdue_risk_credit_general_plat_cnt_360d  \\\n",
      "0                                       -2.0   \n",
      "1                                       -2.0   \n",
      "\n",
      "   overdue_risk_ifin_loan_serious_plat_cnt_30d  \\\n",
      "0                                         -2.0   \n",
      "1                                         -2.0   \n",
      "\n",
      "   overdue_risk_all_slight_plat_cnt_720d  \\\n",
      "0                                   -2.0   \n",
      "1                                   -2.0   \n",
      "\n",
      "   overdue_risk_credit_serious_plat_cnt_180d  \\\n",
      "0                                       -2.0   \n",
      "1                                       -2.0   \n",
      "\n",
      "   overdue_risk_ifin_loan_general_cnt_15d  \\\n",
      "0                                    -2.0   \n",
      "1                                    -2.0   \n",
      "\n",
      "   overdue_risk_credit_slight_plat_cnt_720d  \\\n",
      "0                                      -2.0   \n",
      "1                                      -2.0   \n",
      "\n",
      "   overdue_risk_credit_serious_plat_cnt_15d  \\\n",
      "0                                      -2.0   \n",
      "1                                      -2.0   \n",
      "\n",
      "   overdue_risk_ifin_loan_general_plat_cnt_720d  \\\n",
      "0                                          -2.0   \n",
      "1                                          -2.0   \n",
      "\n",
      "   overdue_risk_ifin_loan_general_plat_cnt_360d  \\\n",
      "0                                          -2.0   \n",
      "1                                          -2.0   \n",
      "\n",
      "   overdue_risk_credit_serious_cnt_720d  \\\n",
      "0                                  -2.0   \n",
      "1                                  -2.0   \n",
      "\n",
      "   overdue_risk_ifin_loan_serious_plat_cnt_180d  \\\n",
      "0                                          -2.0   \n",
      "1                                          -2.0   \n",
      "\n",
      "   overdue_risk_bank_loan_serious_cnt_30d  \\\n",
      "0                                    -2.0   \n",
      "1                                    -2.0   \n",
      "\n",
      "   overdue_risk_ifin_loan_serious_cnt_360d  \\\n",
      "0                                     -2.0   \n",
      "1                                     -2.0   \n",
      "\n",
      "   overdue_risk_bank_loan_general_cnt_720d  \\\n",
      "0                                     -2.0   \n",
      "1                                     -2.0   \n",
      "\n",
      "   overdue_risk_all_slight_plat_cnt_15d  \\\n",
      "0                                  -2.0   \n",
      "1                                  -2.0   \n",
      "\n",
      "   overdue_risk_ifin_loan_slight_plat_cnt_60d  \\\n",
      "0                                        -2.0   \n",
      "1                                        -2.0   \n",
      "\n",
      "   overdue_risk_ifin_loan_serious_plat_cnt_15d  \\\n",
      "0                                         -2.0   \n",
      "1                                         -2.0   \n",
      "\n",
      "   overdue_risk_all_serious_plat_cnt_30d  \\\n",
      "0                                   -2.0   \n",
      "1                                   -2.0   \n",
      "\n",
      "   overdue_risk_ifin_loan_general_cnt_360d  \\\n",
      "0                                     -2.0   \n",
      "1                                     -2.0   \n",
      "\n",
      "   overdue_risk_bank_loan_general_plat_cnt_90d  \\\n",
      "0                                         -2.0   \n",
      "1                                         -2.0   \n",
      "\n",
      "   overdue_risk_bank_loan_serious_cnt_180d  \\\n",
      "0                                     -2.0   \n",
      "1                                     -2.0   \n",
      "\n",
      "   overdue_risk_ifin_loan_serious_cnt_30d  \\\n",
      "0                                    -2.0   \n",
      "1                                    -2.0   \n",
      "\n",
      "   overdue_risk_credit_general_plat_cnt_90d  \\\n",
      "0                                      -2.0   \n",
      "1                                      -2.0   \n",
      "\n",
      "   overdue_risk_credit_general_cnt_30d  overdue_risk_bank_loan_slight_cnt_90d  \\\n",
      "0                                 -2.0                                   -2.0   \n",
      "1                                 -2.0                                   -2.0   \n",
      "\n",
      "   overdue_risk_ifin_loan_serious_cnt_15d  overdue_risk_all_slight_cnt_90d  \\\n",
      "0                                    -2.0                             -2.0   \n",
      "1                                    -2.0                             -2.0   \n",
      "\n",
      "   overdue_risk_credit_serious_plat_cnt_360d  \\\n",
      "0                                       -2.0   \n",
      "1                                       -2.0   \n",
      "\n",
      "   overdue_risk_bank_loan_serious_plat_cnt_360d  \\\n",
      "0                                          -2.0   \n",
      "1                                          -2.0   \n",
      "\n",
      "   overdue_risk_ifin_loan_slight_plat_cnt_360d  \\\n",
      "0                                         -2.0   \n",
      "1                                         -2.0   \n",
      "\n",
      "   overdue_risk_credit_slight_plat_cnt_180d  \\\n",
      "0                                      -2.0   \n",
      "1                                      -2.0   \n",
      "\n",
      "   overdue_risk_credit_serious_cnt_60d  overdue_risk_all_general_cnt_90d  \\\n",
      "0                                 -2.0                              -2.0   \n",
      "1                                 -2.0                              -2.0   \n",
      "\n",
      "   overdue_risk_all_serious_plat_cnt_360d  \\\n",
      "0                                    -2.0   \n",
      "1                                    -2.0   \n",
      "\n",
      "   overdue_risk_bank_loan_serious_cnt_15d  \\\n",
      "0                                    -2.0   \n",
      "1                                    -2.0   \n",
      "\n",
      "   overdue_risk_all_slight_plat_cnt_180d  \\\n",
      "0                                   -2.0   \n",
      "1                                   -2.0   \n",
      "\n",
      "   overdue_risk_bank_loan_slight_plat_cnt_720d  \\\n",
      "0                                         -2.0   \n",
      "1                                         -2.0   \n",
      "\n",
      "   overdue_risk_bank_loan_slight_cnt_720d  \\\n",
      "0                                    -2.0   \n",
      "1                                    -2.0   \n",
      "\n",
      "   overdue_risk_bank_loan_slight_plat_cnt_90d  \\\n",
      "0                                        -2.0   \n",
      "1                                        -2.0   \n",
      "\n",
      "   overdue_risk_ifin_loan_slight_cnt_90d  overdue_risk_credit_general_cnt_15d  \\\n",
      "0                                   -2.0                                 -2.0   \n",
      "1                                   -2.0                                 -2.0   \n",
      "\n",
      "   overdue_risk_all_slight_plat_cnt_60d  \\\n",
      "0                                  -2.0   \n",
      "1                                  -2.0   \n",
      "\n",
      "   overdue_risk_ifin_loan_general_plat_cnt_30d  \\\n",
      "0                                         -2.0   \n",
      "1                                         -2.0   \n",
      "\n",
      "   overdue_risk_ifin_loan_serious_plat_cnt_360d  \\\n",
      "0                                          -2.0   \n",
      "1                                          -2.0   \n",
      "\n",
      "   overdue_risk_credit_slight_cnt_180d  \\\n",
      "0                                 -2.0   \n",
      "1                                 -2.0   \n",
      "\n",
      "   overdue_risk_credit_serious_plat_cnt_90d  \\\n",
      "0                                      -2.0   \n",
      "1                                      -2.0   \n",
      "\n",
      "   overdue_risk_credit_serious_cnt_180d  overdue_risk_credit_slight_cnt_30d  \\\n",
      "0                                  -2.0                                -2.0   \n",
      "1                                  -2.0                                -2.0   \n",
      "\n",
      "   overdue_risk_ifin_loan_serious_plat_cnt_60d  \\\n",
      "0                                         -2.0   \n",
      "1                                         -2.0   \n",
      "\n",
      "   overdue_risk_all_serious_cnt_90d  \\\n",
      "0                              -2.0   \n",
      "1                              -2.0   \n",
      "\n",
      "   overdue_risk_bank_loan_general_plat_cnt_15d  \\\n",
      "0                                         -2.0   \n",
      "1                                         -2.0   \n",
      "\n",
      "   overdue_risk_ifin_loan_general_plat_cnt_15d  \\\n",
      "0                                         -2.0   \n",
      "1                                         -2.0   \n",
      "\n",
      "   overdue_risk_all_general_plat_cnt_30d  \\\n",
      "0                                   -2.0   \n",
      "1                                   -2.0   \n",
      "\n",
      "   overdue_risk_credit_general_cnt_720d  \\\n",
      "0                                  -2.0   \n",
      "1                                  -2.0   \n",
      "\n",
      "   overdue_risk_ifin_loan_slight_cnt_720d  \\\n",
      "0                                    -2.0   \n",
      "1                                    -2.0   \n",
      "\n",
      "   overdue_risk_bank_loan_serious_cnt_360d  \\\n",
      "0                                     -2.0   \n",
      "1                                     -2.0   \n",
      "\n",
      "   overdue_risk_ifin_loan_general_cnt_180d  \\\n",
      "0                                     -2.0   \n",
      "1                                     -2.0   \n",
      "\n",
      "   overdue_risk_ifin_loan_slight_plat_cnt_30d  \\\n",
      "0                                        -2.0   \n",
      "1                                        -2.0   \n",
      "\n",
      "   overdue_risk_all_serious_plat_cnt_60d  \\\n",
      "0                                   -2.0   \n",
      "1                                   -2.0   \n",
      "\n",
      "   overdue_risk_bank_loan_serious_plat_cnt_90d  \\\n",
      "0                                         -2.0   \n",
      "1                                         -2.0   \n",
      "\n",
      "   overdue_risk_ifin_loan_general_cnt_90d  \\\n",
      "0                                    -2.0   \n",
      "1                                    -2.0   \n",
      "\n",
      "   overdue_risk_credit_slight_plat_cnt_15d  \\\n",
      "0                                     -2.0   \n",
      "1                                     -2.0   \n",
      "\n",
      "   overdue_risk_credit_general_plat_cnt_60d  \\\n",
      "0                                      -2.0   \n",
      "1                                      -2.0   \n",
      "\n",
      "   overdue_risk_bank_loan_general_plat_cnt_720d  \\\n",
      "0                                          -2.0   \n",
      "1                                          -2.0   \n",
      "\n",
      "   overdue_risk_bank_loan_serious_plat_cnt_720d  \\\n",
      "0                                          -2.0   \n",
      "1                                          -2.0   \n",
      "\n",
      "   overdue_risk_all_general_cnt_15d  overdue_risk_all_serious_cnt_720d  \\\n",
      "0                              -2.0                               -2.0   \n",
      "1                              -2.0                               -2.0   \n",
      "\n",
      "   overdue_risk_credit_slight_plat_cnt_360d  \\\n",
      "0                                      -2.0   \n",
      "1                                      -2.0   \n",
      "\n",
      "   overdue_risk_ifin_loan_slight_plat_cnt_180d  \\\n",
      "0                                         -2.0   \n",
      "1                                         -2.0   \n",
      "\n",
      "   overdue_risk_bank_loan_general_plat_cnt_60d  \\\n",
      "0                                         -2.0   \n",
      "1                                         -2.0   \n",
      "\n",
      "   overdue_risk_all_slight_cnt_360d  overdue_risk_all_serious_plat_cnt_180d  \\\n",
      "0                              -2.0                                    -2.0   \n",
      "1                              -2.0                                    -2.0   \n",
      "\n",
      "   overdue_risk_bank_loan_general_cnt_180d  \\\n",
      "0                                     -2.0   \n",
      "1                                     -2.0   \n",
      "\n",
      "   overdue_risk_all_slight_plat_cnt_360d  overdue_risk_credit_serious_cnt_30d  \\\n",
      "0                                   -2.0                                 -2.0   \n",
      "1                                   -2.0                                 -2.0   \n",
      "\n",
      "   overdue_risk_all_general_plat_cnt_360d  \\\n",
      "0                                    -2.0   \n",
      "1                                    -2.0   \n",
      "\n",
      "   overdue_risk_credit_general_plat_cnt_720d  \\\n",
      "0                                       -2.0   \n",
      "1                                       -2.0   \n",
      "\n",
      "   overdue_risk_bank_loan_general_cnt_90d  \\\n",
      "0                                    -2.0   \n",
      "1                                    -2.0   \n",
      "\n",
      "   overdue_risk_ifin_loan_slight_cnt_60d  overdue_risk_credit_slight_cnt_360d  \\\n",
      "0                                   -2.0                                 -2.0   \n",
      "1                                   -2.0                                 -2.0   \n",
      "\n",
      "   overdue_risk_all_general_cnt_60d  overdue_risk_credit_serious_cnt_360d  \\\n",
      "0                              -2.0                                  -2.0   \n",
      "1                              -2.0                                  -2.0   \n",
      "\n",
      "   overdue_risk_credit_slight_plat_cnt_30d  \\\n",
      "0                                     -2.0   \n",
      "1                                     -2.0   \n",
      "\n",
      "   overdue_risk_credit_serious_cnt_15d  \\\n",
      "0                                 -2.0   \n",
      "1                                 -2.0   \n",
      "\n",
      "   overdue_risk_ifin_loan_general_plat_cnt_60d  \\\n",
      "0                                         -2.0   \n",
      "1                                         -2.0   \n",
      "\n",
      "   overdue_risk_all_slight_plat_cnt_90d  overdue_risk_all_general_cnt_360d  \\\n",
      "0                                  -2.0                               -2.0   \n",
      "1                                  -2.0                               -2.0   \n",
      "\n",
      "   overdue_risk_all_serious_plat_cnt_15d  \\\n",
      "0                                   -2.0   \n",
      "1                                   -2.0   \n",
      "\n",
      "   overdue_risk_ifin_loan_slight_plat_cnt_15d  \\\n",
      "0                                        -2.0   \n",
      "1                                        -2.0   \n",
      "\n",
      "   overdue_risk_credit_slight_cnt_60d  \\\n",
      "0                                -2.0   \n",
      "1                                -2.0   \n",
      "\n",
      "   overdue_risk_credit_general_plat_cnt_30d  \\\n",
      "0                                      -2.0   \n",
      "1                                      -2.0   \n",
      "\n",
      "   overdue_risk_bank_loan_serious_cnt_90d  \\\n",
      "0                                    -2.0   \n",
      "1                                    -2.0   \n",
      "\n",
      "   overdue_risk_credit_serious_plat_cnt_60d  \\\n",
      "0                                      -2.0   \n",
      "1                                      -2.0   \n",
      "\n",
      "   overdue_risk_bank_loan_slight_plat_cnt_180d  \\\n",
      "0                                         -2.0   \n",
      "1                                         -2.0   \n",
      "\n",
      "   overdue_risk_ifin_loan_serious_cnt_720d  \\\n",
      "0                                     -2.0   \n",
      "1                                     -2.0   \n",
      "\n",
      "   overdue_risk_all_serious_plat_cnt_90d  overdue_risk_all_serious_cnt_60d  \\\n",
      "0                                   -2.0                              -2.0   \n",
      "1                                   -2.0                              -2.0   \n",
      "\n",
      "   overdue_risk_ifin_loan_serious_plat_cnt_90d  \\\n",
      "0                                         -2.0   \n",
      "1                                         -2.0   \n",
      "\n",
      "   overdue_risk_bank_loan_general_plat_cnt_180d  \\\n",
      "0                                          -2.0   \n",
      "1                                          -2.0   \n",
      "\n",
      "   overdue_risk_bank_loan_slight_cnt_15d  overdue_risk_all_serious_cnt_180d  \\\n",
      "0                                   -2.0                               -2.0   \n",
      "1                                   -2.0                               -2.0   \n",
      "\n",
      "   overdue_risk_ifin_loan_serious_cnt_90d  \\\n",
      "0                                    -2.0   \n",
      "1                                    -2.0   \n",
      "\n",
      "   overdue_risk_bank_loan_serious_plat_cnt_60d  \\\n",
      "0                                         -2.0   \n",
      "1                                         -2.0   \n",
      "\n",
      "   overdue_risk_ifin_loan_slight_cnt_15d  \\\n",
      "0                                   -2.0   \n",
      "1                                   -2.0   \n",
      "\n",
      "   overdue_risk_ifin_loan_general_cnt_60d  \\\n",
      "0                                    -2.0   \n",
      "1                                    -2.0   \n",
      "\n",
      "   overdue_risk_credit_general_cnt_180d  \\\n",
      "0                                  -2.0   \n",
      "1                                  -2.0   \n",
      "\n",
      "   overdue_risk_all_general_plat_cnt_60d  \\\n",
      "0                                   -2.0   \n",
      "1                                   -2.0   \n",
      "\n",
      "   overdue_risk_all_general_plat_cnt_180d  overdue_risk_all_slight_cnt_180d  \\\n",
      "0                                    -2.0                              -2.0   \n",
      "1                                    -2.0                              -2.0   \n",
      "\n",
      "   overdue_risk_all_serious_cnt_15d  overdue_risk_credit_general_plat_cnt_15d  \\\n",
      "0                              -2.0                                      -2.0   \n",
      "1                              -2.0                                      -2.0   \n",
      "\n",
      "   overdue_risk_bank_loan_general_plat_cnt_30d  \\\n",
      "0                                         -2.0   \n",
      "1                                         -2.0   \n",
      "\n",
      "   overdue_risk_bank_loan_slight_cnt_30d  \\\n",
      "0                                   -2.0   \n",
      "1                                   -2.0   \n",
      "\n",
      "   overdue_risk_bank_loan_slight_plat_cnt_15d  \\\n",
      "0                                        -2.0   \n",
      "1                                        -2.0   \n",
      "\n",
      "   overdue_risk_all_slight_cnt_30d  overdue_risk_credit_slight_cnt_15d  \\\n",
      "0                             -2.0                                -2.0   \n",
      "1                             -2.0                                -2.0   \n",
      "\n",
      "   overdue_risk_bank_loan_general_cnt_360d  \\\n",
      "0                                     -2.0   \n",
      "1                                     -2.0   \n",
      "\n",
      "   overdue_risk_credit_general_cnt_90d  \\\n",
      "0                                 -2.0   \n",
      "1                                 -2.0   \n",
      "\n",
      "   overdue_risk_credit_serious_plat_cnt_720d  \\\n",
      "0                                       -2.0   \n",
      "1                                       -2.0   \n",
      "\n",
      "   overdue_risk_ifin_loan_slight_cnt_360d  overdue_risk_all_general_cnt_30d  \\\n",
      "0                                    -2.0                              -2.0   \n",
      "1                                    -2.0                              -2.0   \n",
      "\n",
      "   overdue_risk_bank_loan_slight_plat_cnt_30d  \\\n",
      "0                                        -2.0   \n",
      "1                                        -2.0   \n",
      "\n",
      "   overdue_risk_ifin_loan_slight_cnt_30d  \\\n",
      "0                                   -2.0   \n",
      "1                                   -2.0   \n",
      "\n",
      "   overdue_risk_bank_loan_general_cnt_60d  \\\n",
      "0                                    -2.0   \n",
      "1                                    -2.0   \n",
      "\n",
      "   overdue_risk_ifin_loan_serious_plat_cnt_720d  \\\n",
      "0                                          -2.0   \n",
      "1                                          -2.0   \n",
      "\n",
      "   overdue_risk_credit_slight_plat_cnt_60d  overdue_risk_all_slight_cnt_15d  \\\n",
      "0                                     -2.0                             -2.0   \n",
      "1                                     -2.0                             -2.0   \n",
      "\n",
      "   overdue_risk_all_general_plat_cnt_15d  \\\n",
      "0                                   -2.0   \n",
      "1                                   -2.0   \n",
      "\n",
      "   overdue_risk_credit_general_plat_cnt_180d  \\\n",
      "0                                       -2.0   \n",
      "1                                       -2.0   \n",
      "\n",
      "   overdue_risk_bank_loan_serious_plat_cnt_15d  \\\n",
      "0                                         -2.0   \n",
      "1                                         -2.0   \n",
      "\n",
      "   overdue_risk_bank_loan_slight_cnt_360d  \\\n",
      "0                                    -2.0   \n",
      "1                                    -2.0   \n",
      "\n",
      "   overdue_risk_ifin_loan_general_plat_cnt_180d  \\\n",
      "0                                          -2.0   \n",
      "1                                          -2.0   \n",
      "\n",
      "   overdue_risk_bank_loan_slight_plat_cnt_360d  \\\n",
      "0                                         -2.0   \n",
      "1                                         -2.0   \n",
      "\n",
      "   overdue_risk_all_general_cnt_180d                    customer_phone  \\\n",
      "0                               -2.0  cc92befb0e0b9f7ef4736f0fabc86821   \n",
      "1                               -2.0  057331edd64b9002ddfc084e2d09b441   \n",
      "\n",
      "  apply_date_key  order_status_key  \n",
      "0     2023-02-22               0.0  \n",
      "1     2023-03-25               1.0  \n"
     ]
    }
   ],
   "source": [
    "shangwei_overdue = pd.read_csv(\"/sda/huweipeng/project/长安银行/data/third_party_data/尚为数据/白鹭报告-逾期风险报告v2+0407swrj.txt\", sep=\"\\t\", parse_dates=['back_date'])\n",
    "shangwei_overdue = shangwei_overdue.query('y == \"y\"').dropna(subset=['overdue_risk_bank_loan_serious_cnt_60d']).drop(columns=['overdue_risk_time_lately_720d', 'y'])\n",
    "sample = pd.read_csv(\"/sda/huweipeng/project/长安银行/data/third_party_data/百融数据/百融样本.csv\", parse_dates=['申请日期'])\n",
    "label = pd.read_csv(\"/sda/huweipeng/project/长安银行/data/third_party_data/百融数据/样本核卡状态.csv\", parse_dates=['apply_date_key'])\n",
    "label['order_status_key'] = label['order_status_key'].map({2:1}).fillna(0)\n",
    "shangwei_overdue['customer_phone'] = sample['手机号']\n",
    "shangwei_overdue = shangwei_overdue.merge(label, left_on=['customer_phone', 'back_date'], right_on=['customer_phone', 'apply_date_key']).drop_duplicates()\n",
    "peek(shangwei_overdue, 2)"
   ]
  },
  {
   "cell_type": "code",
   "execution_count": 339,
   "id": "b7d07042-906d-49ad-a706-42ab53a9cdba",
   "metadata": {
    "tags": []
   },
   "outputs": [],
   "source": [
    "shangwei_overdue_bin = shangwei_overdue.copy()\n",
    "shangwei_overdue_bin.loc[:, 'overdue_risk_bank_loan_serious_cnt_60d':'overdue_risk_all_general_cnt_180d'] = shangwei_overdue_bin. \\\n",
    "                loc[:, 'overdue_risk_bank_loan_serious_cnt_60d':'overdue_risk_all_general_cnt_180d'].apply(binning)"
   ]
  },
  {
   "cell_type": "code",
   "execution_count": 340,
   "id": "4c47d4d1-5718-45f2-a8b9-739fee1d0a20",
   "metadata": {},
   "outputs": [],
   "source": [
    "feature_iv = []\n",
    "for f in shangwei_overdue_bin.loc[:, 'overdue_risk_bank_loan_serious_cnt_60d':].columns:\n",
    "    feature_iv.append([f, calc_iv(shangwei_overdue_bin, f, 'order_status_key', False)])\n",
    "feature_iv = pd.DataFrame(feature_iv, columns=['features', 'iv']).sort_values('iv', ascending=False)"
   ]
  },
  {
   "cell_type": "code",
   "execution_count": 341,
   "id": "4bf3815f-64f9-4e02-b7fe-ddf6959f20f4",
   "metadata": {},
   "outputs": [
    {
     "data": {
      "text/html": [
       "<div>\n",
       "<style scoped>\n",
       "    .dataframe tbody tr th:only-of-type {\n",
       "        vertical-align: middle;\n",
       "    }\n",
       "\n",
       "    .dataframe tbody tr th {\n",
       "        vertical-align: top;\n",
       "    }\n",
       "\n",
       "    .dataframe thead th {\n",
       "        text-align: right;\n",
       "    }\n",
       "</style>\n",
       "<table border=\"1\" class=\"dataframe\">\n",
       "  <thead>\n",
       "    <tr style=\"text-align: right;\">\n",
       "      <th></th>\n",
       "      <th>features</th>\n",
       "      <th>iv</th>\n",
       "    </tr>\n",
       "  </thead>\n",
       "  <tbody>\n",
       "    <tr>\n",
       "      <th>170</th>\n",
       "      <td>order_status_key</td>\n",
       "      <td>16.805241</td>\n",
       "    </tr>\n",
       "    <tr>\n",
       "      <th>168</th>\n",
       "      <td>customer_phone</td>\n",
       "      <td>2.712724</td>\n",
       "    </tr>\n",
       "    <tr>\n",
       "      <th>7</th>\n",
       "      <td>overdue_risk_ifin_loan_slight_plat_cnt_720d</td>\n",
       "      <td>0.236000</td>\n",
       "    </tr>\n",
       "    <tr>\n",
       "      <th>88</th>\n",
       "      <td>overdue_risk_ifin_loan_slight_cnt_720d</td>\n",
       "      <td>0.226462</td>\n",
       "    </tr>\n",
       "    <tr>\n",
       "      <th>36</th>\n",
       "      <td>overdue_risk_all_slight_plat_cnt_720d</td>\n",
       "      <td>0.199007</td>\n",
       "    </tr>\n",
       "    <tr>\n",
       "      <th>...</th>\n",
       "      <td>...</td>\n",
       "      <td>...</td>\n",
       "    </tr>\n",
       "    <tr>\n",
       "      <th>65</th>\n",
       "      <td>overdue_risk_credit_serious_cnt_60d</td>\n",
       "      <td>0.059893</td>\n",
       "    </tr>\n",
       "    <tr>\n",
       "      <th>66</th>\n",
       "      <td>overdue_risk_all_general_cnt_90d</td>\n",
       "      <td>0.059893</td>\n",
       "    </tr>\n",
       "    <tr>\n",
       "      <th>67</th>\n",
       "      <td>overdue_risk_all_serious_plat_cnt_360d</td>\n",
       "      <td>0.059893</td>\n",
       "    </tr>\n",
       "    <tr>\n",
       "      <th>68</th>\n",
       "      <td>overdue_risk_bank_loan_serious_cnt_15d</td>\n",
       "      <td>0.059893</td>\n",
       "    </tr>\n",
       "    <tr>\n",
       "      <th>85</th>\n",
       "      <td>overdue_risk_ifin_loan_general_plat_cnt_15d</td>\n",
       "      <td>0.059893</td>\n",
       "    </tr>\n",
       "  </tbody>\n",
       "</table>\n",
       "<p>171 rows × 2 columns</p>\n",
       "</div>"
      ],
      "text/plain": [
       "                                        features         iv\n",
       "170                             order_status_key  16.805241\n",
       "168                               customer_phone   2.712724\n",
       "7    overdue_risk_ifin_loan_slight_plat_cnt_720d   0.236000\n",
       "88        overdue_risk_ifin_loan_slight_cnt_720d   0.226462\n",
       "36         overdue_risk_all_slight_plat_cnt_720d   0.199007\n",
       "..                                           ...        ...\n",
       "65           overdue_risk_credit_serious_cnt_60d   0.059893\n",
       "66              overdue_risk_all_general_cnt_90d   0.059893\n",
       "67        overdue_risk_all_serious_plat_cnt_360d   0.059893\n",
       "68        overdue_risk_bank_loan_serious_cnt_15d   0.059893\n",
       "85   overdue_risk_ifin_loan_general_plat_cnt_15d   0.059893\n",
       "\n",
       "[171 rows x 2 columns]"
      ]
     },
     "execution_count": 341,
     "metadata": {},
     "output_type": "execute_result"
    }
   ],
   "source": [
    "feature_iv"
   ]
  },
  {
   "cell_type": "markdown",
   "id": "0939731f-8c45-4640-962c-9996398aee2d",
   "metadata": {},
   "source": [
    "## 尚为还款能力\n",
    "效果一般"
   ]
  },
  {
   "cell_type": "code",
   "execution_count": 344,
   "id": "9d690286-a645-4c0c-8c69-0c78c6aa6dec",
   "metadata": {},
   "outputs": [
    {
     "name": "stdout",
     "output_type": "stream",
     "text": [
      "(10002, 11)\n",
      "   seq_id                            mobile                            idcard  \\\n",
      "0       1  cc92befb0e0b9f7ef4736f0fabc86821  7ea5002e087c1baeb5fd10767d668a68   \n",
      "1       2  057331edd64b9002ddfc084e2d09b441  c599c6deae2114af4560399f4c5cb804   \n",
      "\n",
      "                               name encrypt_type  back_date  ext_info  \\\n",
      "0  3e5bbb6d32f09825de1f89996fa889de          md5 2023-02-22       NaN   \n",
      "1  d0d8c29ccef4dfefc59b15c1705972d9          md5 2023-03-25       NaN   \n",
      "\n",
      "  repayabilitymodelv3                    customer_phone apply_date_key  \\\n",
      "0                   B  cc92befb0e0b9f7ef4736f0fabc86821     2023-02-22   \n",
      "1                   B  057331edd64b9002ddfc084e2d09b441     2023-03-25   \n",
      "\n",
      "   order_status_key  \n",
      "0               0.0  \n",
      "1               1.0  \n"
     ]
    }
   ],
   "source": [
    "shangwei_repay = pd.read_csv(\"/sda/huweipeng/project/长安银行/data/third_party_data/尚为数据/翠鸟画像-还款能力v3+0407swrj.txt\", sep=\"\\t\", parse_dates=['back_date'])\n",
    "shangwei_repay = shangwei_repay.query('y == \"y\"').drop(columns=['y'])\n",
    "sample = pd.read_csv(\"/sda/huweipeng/project/长安银行/data/third_party_data/百融数据/百融样本.csv\", parse_dates=['申请日期'])\n",
    "label = pd.read_csv(\"/sda/huweipeng/project/长安银行/data/third_party_data/百融数据/样本核卡状态.csv\", parse_dates=['apply_date_key'])\n",
    "label['order_status_key'] = label['order_status_key'].map({2:1}).fillna(0)\n",
    "shangwei_repay['customer_phone'] = sample['手机号']\n",
    "shangwei_repay = shangwei_repay.merge(label, left_on=['customer_phone', 'back_date'], right_on=['customer_phone', 'apply_date_key']).drop_duplicates()\n",
    "peek(shangwei_repay, 2)"
   ]
  },
  {
   "cell_type": "code",
   "execution_count": 347,
   "id": "10876072-906f-4050-9c67-f2e17e96746a",
   "metadata": {},
   "outputs": [
    {
     "name": "stdout",
     "output_type": "stream",
     "text": [
      "              Variable Value   All  Good   Bad  Distribution Good  \\\n",
      "4  repayabilitymodelv3     A   544    89   455           0.031960   \n",
      "0  repayabilitymodelv3     B  3131   591  2540           0.210227   \n",
      "3  repayabilitymodelv3     C  4700  1556  3144           0.552912   \n",
      "2  repayabilitymodelv3     D  1363   465   898           0.165483   \n",
      "1  repayabilitymodelv3     E   264   115   149           0.041193   \n",
      "\n",
      "   Distribution Bad       WoE        IV  \n",
      "4          0.063457 -0.685866  0.021602  \n",
      "0          0.353604 -0.519989  0.074554  \n",
      "3          0.437657  0.233764  0.026943  \n",
      "2          0.125104  0.279720  0.011295  \n",
      "1          0.020874  0.679772  0.013812  \n",
      "IV =  0.148207\n"
     ]
    },
    {
     "data": {
      "text/plain": [
       "0.148207"
      ]
     },
     "execution_count": 347,
     "metadata": {},
     "output_type": "execute_result"
    }
   ],
   "source": [
    "calc_iv(shangwei_repay, 'repayabilitymodelv3', 'order_status_key', True)"
   ]
  },
  {
   "cell_type": "markdown",
   "id": "86f77574-8cbd-4417-8c11-8d40432d6f24",
   "metadata": {},
   "source": [
    "## 尚为收入指数\n",
    "效果一般"
   ]
  },
  {
   "cell_type": "code",
   "execution_count": 348,
   "id": "e7f38f4a-e87b-4add-a328-09ef5b789b74",
   "metadata": {},
   "outputs": [
    {
     "name": "stdout",
     "output_type": "stream",
     "text": [
      "(7706, 11)\n",
      "   seq_id                            mobile                            idcard  \\\n",
      "0       1  cc92befb0e0b9f7ef4736f0fabc86821  7ea5002e087c1baeb5fd10767d668a68   \n",
      "1       2  057331edd64b9002ddfc084e2d09b441  c599c6deae2114af4560399f4c5cb804   \n",
      "\n",
      "                               name encrypt_type  back_date  ext_info  \\\n",
      "0  3e5bbb6d32f09825de1f89996fa889de          md5 2023-02-22       NaN   \n",
      "1  d0d8c29ccef4dfefc59b15c1705972d9          md5 2023-03-25       NaN   \n",
      "\n",
      "  incomelevelmodelv5                    customer_phone apply_date_key  \\\n",
      "0                  A  cc92befb0e0b9f7ef4736f0fabc86821     2023-02-22   \n",
      "1                  A  057331edd64b9002ddfc084e2d09b441     2023-03-25   \n",
      "\n",
      "   order_status_key  \n",
      "0               0.0  \n",
      "1               1.0  \n"
     ]
    }
   ],
   "source": [
    "shangwei_income = pd.read_csv(\"/sda/huweipeng/project/长安银行/data/third_party_data/尚为数据/翠鸟画像-收入指数v5+0407swrj.txt\", sep=\"\\t\", parse_dates=['back_date'])\n",
    "shangwei_income = shangwei_income.query('y == \"y\"').drop(columns=['y'])\n",
    "sample = pd.read_csv(\"/sda/huweipeng/project/长安银行/data/third_party_data/百融数据/百融样本.csv\", parse_dates=['申请日期'])\n",
    "label = pd.read_csv(\"/sda/huweipeng/project/长安银行/data/third_party_data/百融数据/样本核卡状态.csv\", parse_dates=['apply_date_key'])\n",
    "label['order_status_key'] = label['order_status_key'].map({2:1}).fillna(0)\n",
    "shangwei_income['customer_phone'] = sample['手机号']\n",
    "shangwei_income = shangwei_income.merge(label, left_on=['customer_phone', 'back_date'], right_on=['customer_phone', 'apply_date_key']).drop_duplicates()\n",
    "peek(shangwei_income, 2)"
   ]
  },
  {
   "cell_type": "code",
   "execution_count": 351,
   "id": "4a05251a-f8b6-4d8f-b5f8-9421677c6197",
   "metadata": {},
   "outputs": [
    {
     "name": "stdout",
     "output_type": "stream",
     "text": [
      "             Variable Value   All  Good   Bad  Distribution Good  \\\n",
      "0  incomelevelmodelv5     A  5638  1303  4335           0.647789   \n",
      "1  incomelevelmodelv5     B  1163   363   800           0.180825   \n",
      "3  incomelevelmodelv5     C   426   144   282           0.072032   \n",
      "5  incomelevelmodelv5     D   153    68    85           0.034277   \n",
      "4  incomelevelmodelv5     E   138    53    85           0.026826   \n",
      "2  incomelevelmodelv5     F   188    82   106           0.041232   \n",
      "\n",
      "   Distribution Bad       WoE        IV  \n",
      "0          0.761637 -0.161905  0.018432  \n",
      "1          0.140699  0.250904  0.010068  \n",
      "3          0.049710  0.370898  0.008279  \n",
      "5          0.015106  0.819370  0.015708  \n",
      "4          0.015106  0.574248  0.006730  \n",
      "2          0.018795  0.785623  0.017627  \n",
      "IV =  0.076844\n"
     ]
    },
    {
     "data": {
      "text/plain": [
       "0.076844"
      ]
     },
     "execution_count": 351,
     "metadata": {},
     "output_type": "execute_result"
    }
   ],
   "source": [
    "calc_iv(shangwei_income, 'incomelevelmodelv5', 'order_status_key', True)"
   ]
  },
  {
   "cell_type": "markdown",
   "id": "baca7b10-68db-4611-b562-190eac000851",
   "metadata": {},
   "source": [
    "## 尚为履约能力\n",
    "效果一般"
   ]
  },
  {
   "cell_type": "code",
   "execution_count": 353,
   "id": "bdfe81a5-f7df-48ef-bb52-fa34151449b8",
   "metadata": {},
   "outputs": [
    {
     "name": "stdout",
     "output_type": "stream",
     "text": [
      "(10002, 11)\n",
      "   seq_id                            mobile                            idcard  \\\n",
      "0       1  cc92befb0e0b9f7ef4736f0fabc86821  7ea5002e087c1baeb5fd10767d668a68   \n",
      "1       2  057331edd64b9002ddfc084e2d09b441  c599c6deae2114af4560399f4c5cb804   \n",
      "\n",
      "                               name encrypt_type  back_date  ext_info  \\\n",
      "0  3e5bbb6d32f09825de1f89996fa889de          md5 2023-02-22       NaN   \n",
      "1  d0d8c29ccef4dfefc59b15c1705972d9          md5 2023-03-25       NaN   \n",
      "\n",
      "   performance_capacity_score_v3                    customer_phone  \\\n",
      "0                       0.798895  cc92befb0e0b9f7ef4736f0fabc86821   \n",
      "1                       0.798895  057331edd64b9002ddfc084e2d09b441   \n",
      "\n",
      "  apply_date_key  order_status_key  \n",
      "0     2023-02-22               0.0  \n",
      "1     2023-03-25               1.0  \n"
     ]
    }
   ],
   "source": [
    "shangwei_contract = pd.read_csv(\"/sda/huweipeng/project/长安银行/data/third_party_data/尚为数据/海豚模型-履约能力评估v3+0407swrj.txt\", sep=\"\\t\", parse_dates=['back_date'])\n",
    "shangwei_contract = shangwei_contract.query('y == \"y\"').drop(columns=['y'])\n",
    "sample = pd.read_csv(\"/sda/huweipeng/project/长安银行/data/third_party_data/百融数据/百融样本.csv\", parse_dates=['申请日期'])\n",
    "label = pd.read_csv(\"/sda/huweipeng/project/长安银行/data/third_party_data/百融数据/样本核卡状态.csv\", parse_dates=['apply_date_key'])\n",
    "label['order_status_key'] = label['order_status_key'].map({2:1}).fillna(0)\n",
    "shangwei_contract['customer_phone'] = sample['手机号']\n",
    "shangwei_contract = shangwei_contract.merge(label, left_on=['customer_phone', 'back_date'], right_on=['customer_phone', 'apply_date_key']).drop_duplicates()\n",
    "peek(shangwei_contract, 2)"
   ]
  },
  {
   "cell_type": "code",
   "execution_count": 357,
   "id": "a1058144-d1cb-4a40-ab46-5a682a3d2330",
   "metadata": {},
   "outputs": [
    {
     "name": "stdout",
     "output_type": "stream",
     "text": [
      "                         Variable  Value   All  Good   Bad  Distribution Good  \\\n",
      "10  performance_capacity_score_v3      0     1     0     1           0.000355   \n",
      "2   performance_capacity_score_v3      1  1023   266   757           0.094815   \n",
      "3   performance_capacity_score_v3      2   978   236   742           0.084162   \n",
      "0   performance_capacity_score_v3      3  1723   288  1435           0.102628   \n",
      "6   performance_capacity_score_v3      4   300    90   210           0.032315   \n",
      "4   performance_capacity_score_v3      5  1004   247   757           0.088068   \n",
      "7   performance_capacity_score_v3      6   972   286   686           0.101918   \n",
      "5   performance_capacity_score_v3      7  1002   399   603           0.142045   \n",
      "8   performance_capacity_score_v3      8  1029   345   684           0.122869   \n",
      "1   performance_capacity_score_v3      9  1714   567  1147           0.201705   \n",
      "9   performance_capacity_score_v3     10   256    92   164           0.033026   \n",
      "\n",
      "    Distribution Bad       WoE        IV  \n",
      "10          0.000278  0.243670  0.000019  \n",
      "2           0.105483 -0.106617  0.001137  \n",
      "3           0.103395 -0.205819  0.003959  \n",
      "0           0.199833 -0.666373  0.064775  \n",
      "6           0.029363  0.095819  0.000283  \n",
      "4           0.105483 -0.180437  0.003142  \n",
      "7           0.095603  0.063965  0.000404  \n",
      "5           0.084052  0.524708  0.030429  \n",
      "8           0.095324  0.253837  0.006992  \n",
      "1           0.159755  0.233162  0.009781  \n",
      "9           0.022961  0.363471  0.003658  \n",
      "IV =  0.124579\n"
     ]
    },
    {
     "data": {
      "text/plain": [
       "0.124579"
      ]
     },
     "execution_count": 357,
     "metadata": {},
     "output_type": "execute_result"
    }
   ],
   "source": [
    "shangwei_contract_bin = shangwei_contract.copy()\n",
    "shangwei_contract_bin['performance_capacity_score_v3'] = MinMaxScaler().fit_transform(shangwei_contract[['performance_capacity_score_v3']])\n",
    "shangwei_contract_bin['performance_capacity_score_v3'] = shangwei_contract_bin[['performance_capacity_score_v3']].apply(binning)\n",
    "calc_iv(shangwei_contract_bin, 'performance_capacity_score_v3', 'order_status_key', True)"
   ]
  },
  {
   "cell_type": "markdown",
   "id": "72917f8c-d290-41e1-82c0-64cd19ad0f87",
   "metadata": {},
   "source": [
    "## 尚为综合信用评估\n",
    "覆盖率高，区分能力强"
   ]
  },
  {
   "cell_type": "code",
   "execution_count": 358,
   "id": "6da10f8b-3997-4e8e-bdb8-ec8bcc8cbae7",
   "metadata": {},
   "outputs": [
    {
     "name": "stdout",
     "output_type": "stream",
     "text": [
      "(9970, 11)\n",
      "   seq_id                            mobile                            idcard  \\\n",
      "0       1  cc92befb0e0b9f7ef4736f0fabc86821  7ea5002e087c1baeb5fd10767d668a68   \n",
      "1       2  057331edd64b9002ddfc084e2d09b441  c599c6deae2114af4560399f4c5cb804   \n",
      "\n",
      "                               name encrypt_type  back_date  ext_info  \\\n",
      "0  3e5bbb6d32f09825de1f89996fa889de          md5 2023-02-22       NaN   \n",
      "1  d0d8c29ccef4dfefc59b15c1705972d9          md5 2023-03-25       NaN   \n",
      "\n",
      "   omriskscoregeneral                    customer_phone apply_date_key  \\\n",
      "0               515.0  cc92befb0e0b9f7ef4736f0fabc86821     2023-02-22   \n",
      "1               684.0  057331edd64b9002ddfc084e2d09b441     2023-03-25   \n",
      "\n",
      "   order_status_key  \n",
      "0               0.0  \n",
      "1               1.0  \n"
     ]
    }
   ],
   "source": [
    "shangwei_credit = pd.read_csv(\"/sda/huweipeng/project/长安银行/data/third_party_data/尚为数据/尚为立信模型-综合信用评估1+0407swrj.txt\", sep=\"\\t\", parse_dates=['back_date'])\n",
    "shangwei_credit = shangwei_credit.query('y == \"y\"').drop(columns=['y'])\n",
    "sample = pd.read_csv(\"/sda/huweipeng/project/长安银行/data/third_party_data/百融数据/百融样本.csv\", parse_dates=['申请日期'])\n",
    "label = pd.read_csv(\"/sda/huweipeng/project/长安银行/data/third_party_data/百融数据/样本核卡状态.csv\", parse_dates=['apply_date_key'])\n",
    "label['order_status_key'] = label['order_status_key'].map({2:1}).fillna(0)\n",
    "shangwei_credit['customer_phone'] = sample['手机号']\n",
    "shangwei_credit = shangwei_credit.merge(label, left_on=['customer_phone', 'back_date'], right_on=['customer_phone', 'apply_date_key']).drop_duplicates()\n",
    "peek(shangwei_credit, 2)"
   ]
  },
  {
   "cell_type": "code",
   "execution_count": 360,
   "id": "527fa56a-145f-4aa9-9b2b-c1ac67630e54",
   "metadata": {},
   "outputs": [
    {
     "name": "stdout",
     "output_type": "stream",
     "text": [
      "              Variable  Value   All  Good  Bad  Distribution Good  \\\n",
      "10  omriskscoregeneral      0     2     0    2           0.000355   \n",
      "0   omriskscoregeneral      1  1008    25  983           0.009243   \n",
      "8   omriskscoregeneral      2  1003   100  903           0.035905   \n",
      "7   omriskscoregeneral      3   982   152  830           0.054390   \n",
      "5   omriskscoregeneral      4   997   178  819           0.063633   \n",
      "9   omriskscoregeneral      5  1020   247  773           0.088162   \n",
      "1   omriskscoregeneral      6   994   294  700           0.104870   \n",
      "4   omriskscoregeneral      7   987   383  604           0.136509   \n",
      "6   omriskscoregeneral      8   990   408  582           0.145396   \n",
      "3   omriskscoregeneral      9   997   461  536           0.164237   \n",
      "2   omriskscoregeneral     10   990   565  425           0.201209   \n",
      "\n",
      "    Distribution Bad       WoE        IV  \n",
      "10          0.000419 -0.164773  0.000010  \n",
      "0           0.137488 -2.699690  0.346222  \n",
      "8           0.126310 -1.257869  0.113718  \n",
      "7           0.116110 -0.758353  0.046805  \n",
      "5           0.114573 -0.588079  0.029957  \n",
      "9           0.108146 -0.204304  0.004083  \n",
      "1           0.097946  0.068307  0.000473  \n",
      "4           0.084533  0.479253  0.024910  \n",
      "6           0.081459  0.579367  0.037043  \n",
      "3           0.075031  0.783406  0.069885  \n",
      "2           0.059522  1.217994  0.172573  \n",
      "IV =  0.845679\n"
     ]
    },
    {
     "data": {
      "text/plain": [
       "0.845679"
      ]
     },
     "execution_count": 360,
     "metadata": {},
     "output_type": "execute_result"
    }
   ],
   "source": [
    "shangwei_credit_bin = shangwei_credit.copy()\n",
    "shangwei_credit_bin['omriskscoregeneral'] = MinMaxScaler().fit_transform(shangwei_credit[['omriskscoregeneral']])\n",
    "shangwei_credit_bin['omriskscoregeneral'] = shangwei_credit_bin[['omriskscoregeneral']].apply(binning)\n",
    "calc_iv(shangwei_credit_bin, 'omriskscoregeneral', 'order_status_key', True)"
   ]
  },
  {
   "cell_type": "code",
   "execution_count": 396,
   "id": "342a81aa-6c0d-401f-b817-138357e6457e",
   "metadata": {},
   "outputs": [],
   "source": [
    "feature_iv = pd.DataFrame({'feature':['omriskscoregeneral'], 'iv':[0.845679], 'vif':[np.nan]})\n",
    "feature_iv.to_csv(\"/sda/huweipeng/project/长安银行/data/third_party_data/feature_iv/尚为信用综合评估.csv\", index=False)"
   ]
  },
  {
   "cell_type": "code",
   "execution_count": 362,
   "id": "9883d60f-7c6b-4c89-80eb-c0b6cd87e583",
   "metadata": {},
   "outputs": [
    {
     "data": {
      "text/plain": [
       "count    2813.000000\n",
       "mean      733.628866\n",
       "std        82.286913\n",
       "min       428.000000\n",
       "25%       677.000000\n",
       "50%       733.000000\n",
       "75%       792.000000\n",
       "max       900.000000\n",
       "Name: omriskscoregeneral, dtype: float64"
      ]
     },
     "execution_count": 362,
     "metadata": {},
     "output_type": "execute_result"
    }
   ],
   "source": [
    "shangwei_credit.query('order_status_key == 1')['omriskscoregeneral'].describe()"
   ]
  },
  {
   "cell_type": "code",
   "execution_count": 363,
   "id": "4b6667db-71d2-42fc-8f1b-a0dcbdc760e1",
   "metadata": {},
   "outputs": [
    {
     "data": {
      "text/plain": [
       "count    7157.000000\n",
       "mean      652.780355\n",
       "std        98.057154\n",
       "min       301.000000\n",
       "25%       590.000000\n",
       "50%       651.000000\n",
       "75%       719.000000\n",
       "max       900.000000\n",
       "Name: omriskscoregeneral, dtype: float64"
      ]
     },
     "execution_count": 363,
     "metadata": {},
     "output_type": "execute_result"
    }
   ],
   "source": [
    "shangwei_credit.query('order_status_key == 0')['omriskscoregeneral'].describe()"
   ]
  },
  {
   "cell_type": "code",
   "execution_count": 365,
   "id": "2d8de042-3f86-4b52-b3da-51c1c82df2be",
   "metadata": {},
   "outputs": [
    {
     "data": {
      "text/plain": [
       "<AxesSubplot:xlabel='omriskscoregeneral', ylabel='Density'>"
      ]
     },
     "execution_count": 365,
     "metadata": {},
     "output_type": "execute_result"
    },
    {
     "data": {
      "image/png": "[encoded data removed]",
      "text/plain": [
       "<Figure size 640x480 with 1 Axes>"
      ]
     },
     "metadata": {},
     "output_type": "display_data"
    }
   ],
   "source": [
    "sns.kdeplot(x='omriskscoregeneral', data=shangwei_credit, hue='order_status_key')"
   ]
  },
  {
   "cell_type": "markdown",
   "id": "7559eb05-7c0a-4b92-b6f1-7aa2571d5f5b",
   "metadata": {},
   "source": [
    "## 总结\n",
    "经初步分析，以下产品比较有效，可以从中再作筛选：\n",
    "- 百融多头：有较好的区分效果，但是只覆盖了80%的客户。尽管如此，没覆盖到的客户批核率很高，有38%。\n",
    "- 百融特殊名单：免费，没有通过黑名单的客户占3.5%左右，而且基本不能通过银行审核，可以用作规则\n",
    "- 百融偿债压力指数：在偿债压力较高的用户群里（前20%），区分度较高，但是在剩下的客群里区分度不高\n",
    "- 腾讯反欺诈：反欺诈数据覆盖程度较高，IV也较高，但是相对于百融多头来说召回率没那么高\n",
    "- 尚为综合信用评估：覆盖率高，区分能力跟腾讯反欺诈差不多"
   ]
  },
  {
   "cell_type": "code",
   "execution_count": 397,
   "id": "42db56eb-2caf-4d72-9ac8-42e891c60cfa",
   "metadata": {},
   "outputs": [
    {
     "data": {
      "text/plain": [
       "'/sda/share/notebooks/huweipeng'"
      ]
     },
     "execution_count": 397,
     "metadata": {},
     "output_type": "execute_result"
    }
   ],
   "source": [
    "pwd"
   ]
  },
  {
   "cell_type": "code",
   "execution_count": null,
   "id": "9fbafaac-9933-41f6-860f-85e6203f0bb7",
   "metadata": {},
   "outputs": [],
   "source": []
  },
  {
   "cell_type": "code",
   "execution_count": null,
   "id": "71f6b821-593e-4797-9b2c-c3242efd1e47",
   "metadata": {},
   "outputs": [],
   "source": []
  },
  {
   "cell_type": "code",
   "execution_count": null,
   "id": "c379286b-b714-4d71-9b69-5e3e40a02480",
   "metadata": {},
   "outputs": [],
   "source": []
  },
  {
   "cell_type": "code",
   "execution_count": null,
   "id": "2edb754a-40c3-4dc3-b7ab-94e1adece267",
   "metadata": {},
   "outputs": [],
   "source": []
  },
  {
   "cell_type": "code",
   "execution_count": null,
   "id": "0f29d199-bf1c-4ba5-9aeb-bd6aaf8cc97d",
   "metadata": {},
   "outputs": [],
   "source": []
  },
  {
   "cell_type": "code",
   "execution_count": null,
   "id": "9b572226-a4a6-4090-8373-5b8cf6b2205a",
   "metadata": {},
   "outputs": [],
   "source": []
  },
  {
   "cell_type": "code",
   "execution_count": null,
   "id": "675fa3be-1b3d-41d1-b758-383041647e45",
   "metadata": {},
   "outputs": [],
   "source": []
  },
  {
   "cell_type": "code",
   "execution_count": null,
   "id": "536676bb-8296-439b-8e14-01826c240200",
   "metadata": {},
   "outputs": [],
   "source": []
  },
  {
   "cell_type": "code",
   "execution_count": null,
   "id": "4b2f10d5-ef9a-4df1-9380-a6f1200447f4",
   "metadata": {},
   "outputs": [],
   "source": []
  }
 ],
 "metadata": {
  "kernelspec": {
   "display_name": "Python 3 (ipykernel)",
   "language": "python",
   "name": "python3"
  },
  "language_info": {
   "codemirror_mode": {
    "name": "ipython",
    "version": 3
   },
   "file_extension": ".py",
   "mimetype": "text/x-python",
   "name": "python",
   "nbconvert_exporter": "python",
   "pygments_lexer": "ipython3",
   "version": "3.9.13"
  }
 },
 "nbformat": 4,
 "nbformat_minor": 5
}
