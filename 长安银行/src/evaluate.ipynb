{
 "cells": [
  {
   "cell_type": "code",
   "execution_count": 1,
   "id": "4f94ef3d-2f0b-44ca-99cc-9426b61e22d4",
   "metadata": {},
   "outputs": [],
   "source": [
    "import pandas as pd\n",
    "import numpy as np\n",
    "from utils import peek\n",
    "import joblib\n",
    "import pickle\n",
    "import config\n",
    "\n",
    "from sklearn.metrics import roc_auc_score\n",
    "from catboost import CatBoostClassifier, Pool\n",
    "import xgboost as xgb\n",
    "import lightgbm as lgbm\n",
    "import sklearn\n",
    "\n",
    "from functools import partial\n",
    "from scipy.optimize import fmin"
   ]
  },
  {
   "cell_type": "markdown",
   "id": "40f65bad-902a-4ae3-9c84-bb0db324c68c",
   "metadata": {},
   "source": [
    "## LR"
   ]
  },
  {
   "cell_type": "code",
   "execution_count": 3,
   "id": "ab687e72-ba67-4bd1-9eff-eeb92127f7ff",
   "metadata": {},
   "outputs": [
    {
     "data": {
      "text/plain": [
       "0.7297500469836496"
      ]
     },
     "execution_count": 3,
     "metadata": {},
     "output_type": "execute_result"
    }
   ],
   "source": [
    "test = pd.read_csv(config.TEST)\n",
    "model = joblib.load(config.BASELINE)\n",
    "test_score_lr = model.predict_proba(test.drop('order_status_key', axis=1))[:, 1]\n",
    "roc_auc_score(test['order_status_key'], test_score_lr)"
   ]
  },
  {
   "cell_type": "markdown",
   "id": "9abc5f78-b152-494c-bd60-cc5d5a9ffafe",
   "metadata": {},
   "source": [
    "## Random Forest"
   ]
  },
  {
   "cell_type": "code",
   "execution_count": 4,
   "id": "519b7d54-1548-47e8-adcf-1f33f39e7e71",
   "metadata": {},
   "outputs": [
    {
     "data": {
      "text/plain": [
       "0.7362977406084905"
      ]
     },
     "execution_count": 4,
     "metadata": {},
     "output_type": "execute_result"
    }
   ],
   "source": [
    "test = pd.read_csv(config.TEST2)\n",
    "rf = joblib.load(config.RF)\n",
    "test_score_rf = rf.predict_proba(test.drop('order_status_key', axis=1))[:, 1]\n",
    "roc_auc_score(test['order_status_key'], test_score_rf)"
   ]
  },
  {
   "cell_type": "markdown",
   "id": "104d2c07-d30d-457a-bd48-4f263f342c3a",
   "metadata": {},
   "source": [
    "## XGBoost"
   ]
  },
  {
   "cell_type": "code",
   "execution_count": 66,
   "id": "973749de-8372-4fa2-a95f-e209d138da36",
   "metadata": {},
   "outputs": [
    {
     "data": {
      "text/plain": [
       "0.7354070089164527"
      ]
     },
     "execution_count": 66,
     "metadata": {},
     "output_type": "execute_result"
    }
   ],
   "source": [
    "test = pd.read_csv(config.TEST3)\n",
    "cat_features = ['gender', 'degree', 'card_num']\n",
    "test[cat_features] = test[cat_features].astype('category')\n",
    "test_x, test_y = test.drop(['order_status_key'], axis=1), test['order_status_key']\n",
    "dtest = xgb.DMatrix(test_x, test_y, enable_categorical=True)\n",
    "bst = xgb.Booster()\n",
    "bst.load_model(config.XGBoost)\n",
    "test_score = bst.predict(dtest)\n",
    "roc_auc_score(test_y, test_score)"
   ]
  },
  {
   "cell_type": "markdown",
   "id": "b1d3dd58-e8a3-4e8c-895e-338bf04c2f22",
   "metadata": {},
   "source": [
    "## Catboost"
   ]
  },
  {
   "cell_type": "code",
   "execution_count": 8,
   "id": "26f1f26c-9662-4d78-88bc-633adf82c327",
   "metadata": {},
   "outputs": [
    {
     "data": {
      "text/plain": [
       "0.732985393305352"
      ]
     },
     "execution_count": 8,
     "metadata": {},
     "output_type": "execute_result"
    }
   ],
   "source": [
    "test = pd.read_csv(config.TEST3)\n",
    "cat_features = ['gender', 'degree', 'card_num']\n",
    "test[cat_features] = test[cat_features].astype('category')\n",
    "test_x, test_y = test.drop(['order_status_key'], axis=1), test['order_status_key']\n",
    "pool = Pool(test_x, test_y, cat_features= ['gender', 'degree', 'card_num'])\n",
    "bst = CatBoostClassifier()\n",
    "bst.load_model(config.CATBOOST)\n",
    "test_score = bst.predict_proba(pool)[:, 1]\n",
    "roc_auc_score(test_y, test_score)"
   ]
  },
  {
   "cell_type": "markdown",
   "id": "259c8625-e401-428d-88df-791742f86369",
   "metadata": {},
   "source": [
    "## LightGBM "
   ]
  },
  {
   "cell_type": "code",
   "execution_count": 2,
   "id": "6be51c35-be70-4d82-b6f0-0bd2d8b3b780",
   "metadata": {},
   "outputs": [
    {
     "data": {
      "text/plain": [
       "0.7409008331767213"
      ]
     },
     "execution_count": 2,
     "metadata": {},
     "output_type": "execute_result"
    }
   ],
   "source": [
    "test = pd.read_csv(config.TEST3)\n",
    "test_x, test_y = test.drop(['order_status_key'], axis=1), test['order_status_key']\n",
    "bst = lgbm.Booster(model_file=config.LIGHTGBM)\n",
    "test_score_lgbm = bst.predict(test_x)\n",
    "roc_auc_score(test_y, test_score_lgbm)"
   ]
  },
  {
   "cell_type": "markdown",
   "id": "9161c5e4-e270-41e0-851e-df2cfbe1fb21",
   "metadata": {},
   "source": [
    "## Ensemble"
   ]
  },
  {
   "cell_type": "code",
   "execution_count": 15,
   "id": "dbea6a1d-4d6c-4a7d-9ae3-b9f49d3f3a82",
   "metadata": {},
   "outputs": [
    {
     "data": {
      "text/plain": [
       "0.7369254943724027"
      ]
     },
     "execution_count": 15,
     "metadata": {},
     "output_type": "execute_result"
    }
   ],
   "source": [
    "ensemble = pd.DataFrame({'label':test['order_status_key'], 'lr':test_score_lr, 'rf':test_score_rf, 'lightgbm':test_score})\n",
    "ensemble['mean_score'] = ensemble.loc[:,'lr':'lightgbm'].apply(np.mean, axis=1)\n",
    "roc_auc_score(ensemble['label'], ensemble['mean_score'])"
   ]
  },
  {
   "cell_type": "code",
   "execution_count": 20,
   "id": "5f0c817c-2e73-48aa-b820-e33e69506463",
   "metadata": {},
   "outputs": [],
   "source": [
    "class OptimizeAUC:\n",
    "    \"\"\"\n",
    "    Class for optimizing AUC.\n",
    "    This class is all you need to find best weights for\n",
    "    any model and for any metric and for any types of predictions.\n",
    "    With very small changes, this class can be used for optimization of\n",
    "    weights in ensemble models of _any_ type of predictions\n",
    "    \"\"\"\n",
    "    def __init__(self):\n",
    "        self.coef_ = 0\n",
    "        \n",
    "    def _auc(self, coef, X, y):\n",
    "        \"\"\"\n",
    "        This functions calulates and returns AUC.\n",
    "        :param coef: coef list, of the same length as number of models\n",
    "        :param X: predictions, in this case a 2d array\n",
    "        :param y: targets, in our case binary 1d array\n",
    "        \"\"\"\n",
    "        # multiply coefficients with every column of the array\n",
    "        # with predictions.\n",
    "        # this means: element 1 of coef is multiplied by column 1\n",
    "        # of the prediction array, element 2 of coef is multiplied\n",
    "        # by column 2 of the prediction array and so on!\n",
    "        x_coef = X * coef\n",
    "        # create predictions by taking row wise sum\n",
    "        predictions = np.sum(x_coef, axis=1)\n",
    "        # calculate auc score\n",
    "        auc_score = roc_auc_score(y, predictions)\n",
    "        # return negative auc\n",
    "        return -1.0 * auc_score\n",
    "\n",
    "    def fit(self, X, y):\n",
    "        # remember partial from hyperparameter optimization chapter?\n",
    "        loss_partial = partial(self._auc, X=X, y=y)\n",
    "        # dirichlet distribution. you can use any distribution you want\n",
    "        # to initialize the coefficients\n",
    "        # we want the coefficients to sum to 1\n",
    "        initial_coef = np.random.dirichlet(np.ones(X.shape[1]), size=1)\n",
    "        # use scipy fmin to minimize the loss function, in our case auc\n",
    "        self.coef_ = fmin(loss_partial, initial_coef, disp=True)\n",
    "\n",
    "    def predict(self, X):\n",
    "        # this is similar to _auc function\n",
    "        x_coef = X * self.coef_\n",
    "        predictions = np.sum(x_coef, axis=1)\n",
    "        return predictions"
   ]
  },
  {
   "cell_type": "code",
   "execution_count": 50,
   "id": "61fd117b-e118-4d1b-a2e4-8d7dec4328f5",
   "metadata": {},
   "outputs": [
    {
     "name": "stdout",
     "output_type": "stream",
     "text": [
      "Optimization terminated successfully.\n",
      "         Current function value: -0.737093\n",
      "         Iterations: 27\n",
      "         Function evaluations: 63\n"
     ]
    }
   ],
   "source": [
    "optimizer = OptimizeAUC()\n",
    "optimizer.fit(ensemble.loc[:, \"lr\":\"lightgbm\"], ensemble['label'])"
   ]
  },
  {
   "cell_type": "code",
   "execution_count": 6,
   "id": "71d25333-df24-4cdd-87fc-c6fa0d93c75b",
   "metadata": {},
   "outputs": [],
   "source": [
    "def binning(series):\n",
    "    percentiles = list(range(0, 101, 10))\n",
    "    val = np.percentile(series, percentiles).tolist()\n",
    "    bins = list(sorted(set([min(val) - 1] + val)))\n",
    "    series_bin = pd.cut(series, bins, labels=list(range(len(bins) - 1))).astype(\"int\")\n",
    "    return series_bin\n",
    "\n",
    "test_bin = test.copy()\n",
    "test_bin['score'] = test_bin[['score']].apply(binning)"
   ]
  },
  {
   "cell_type": "code",
   "execution_count": 7,
   "id": "06cce63a-d26d-4710-9929-fb3ef1625371",
   "metadata": {},
   "outputs": [],
   "source": [
    "def calc_iv(matrix, feature, target, pr=False):\n",
    "    df = matrix.copy()\n",
    "    lst = []\n",
    "    df[feature] = df[feature].fillna(\"NULL\")\n",
    "\n",
    "    for i in range(df[feature].nunique()):\n",
    "        val = list(df[feature].unique())[i]\n",
    "        lst.append([feature,                                                        # Variable\n",
    "                    val,                                                            # Value\n",
    "                    df[df[feature] == val].count()[feature],                        # All\n",
    "                    df[(df[feature] == val) & (df[target] == 1)].count()[feature],  # Good (think: Fraud == 0)\n",
    "                    df[(df[feature] == val) & (df[target] == 0)].count()[feature]]) # Bad (think: Fraud == 1)\n",
    "\n",
    "    data = pd.DataFrame(lst, columns=['Variable', 'Value', 'All', 'Good', 'Bad'])\n",
    "\n",
    "    data['Distribution Good'] = (data['Good'] + 1) / data['Good'].sum()\n",
    "    data['Distribution Bad'] = (data['Bad'] + 1) / data['Bad'].sum()\n",
    "    data['WoE'] = np.log(data['Distribution Good'] / data['Distribution Bad'])\n",
    "    data = data.replace({'WoE': {np.inf: 0, -np.inf: 0}})\n",
    "    data['IV'] = (data['Distribution Good'] - data['Distribution Bad']) * data['WoE']\n",
    "\n",
    "    if pr:\n",
    "        print(data.sort_values('Value'))\n",
    "        print('IV = ', round(data['IV'].sum(), 6))\n",
    "\n",
    "    return round(data['IV'].sum(), 6)"
   ]
  },
  {
   "cell_type": "code",
   "execution_count": 8,
   "id": "7f5ed8fd-4ab0-4715-bf93-25fcaaa77d25",
   "metadata": {},
   "outputs": [
    {
     "name": "stdout",
     "output_type": "stream",
     "text": [
      "   Variable  Value  All  Good  Bad  Distribution Good  Distribution Bad  \\\n",
      "10    score      0    1     0    1           0.001634          0.001597   \n",
      "3     score      1  186     6  180           0.011438          0.144569   \n",
      "7     score      2  186    19  167           0.032680          0.134185   \n",
      "0     score      3  186    36  150           0.060458          0.120607   \n",
      "2     score      4  187    47  140           0.078431          0.112620   \n",
      "1     score      5  186    55  131           0.091503          0.105431   \n",
      "9     score      6  186    77  109           0.127451          0.087859   \n",
      "4     score      7  187    62  125           0.102941          0.100639   \n",
      "6     score      8  186   100   86           0.165033          0.069489   \n",
      "5     score      9  186   104   82           0.171569          0.066294   \n",
      "8     score     10  187   106   81           0.174837          0.065495   \n",
      "\n",
      "         WoE            IV  \n",
      "10  0.022618  8.265292e-07  \n",
      "3  -2.536822  3.377290e-01  \n",
      "7  -1.412466  1.433732e-01  \n",
      "0  -0.690597  4.153905e-02  \n",
      "2  -0.361794  1.236916e-02  \n",
      "1  -0.141685  1.973394e-03  \n",
      "9   0.371994  1.472781e-02  \n",
      "4   0.022618  5.207134e-05  \n",
      "6   0.864978  8.264331e-02  \n",
      "5   0.950885  1.001041e-01  \n",
      "8   0.981875  1.073596e-01  \n",
      "IV =  0.841872\n"
     ]
    },
    {
     "data": {
      "text/plain": [
       "0.841872"
      ]
     },
     "execution_count": 8,
     "metadata": {},
     "output_type": "execute_result"
    }
   ],
   "source": [
    "# just for fun by comparing the IV with that of the features IN EDA\n",
    "calc_iv(test_bin, 'score', 'order_status_key', True)"
   ]
  },
  {
   "cell_type": "code",
   "execution_count": 4,
   "id": "1249d01a-a896-44fc-abf9-eb7e9613a439",
   "metadata": {},
   "outputs": [
    {
     "data": {
      "text/html": [
       "<div>\n",
       "<style scoped>\n",
       "    .dataframe tbody tr th:only-of-type {\n",
       "        vertical-align: middle;\n",
       "    }\n",
       "\n",
       "    .dataframe tbody tr th {\n",
       "        vertical-align: top;\n",
       "    }\n",
       "\n",
       "    .dataframe thead th {\n",
       "        text-align: right;\n",
       "    }\n",
       "</style>\n",
       "<table border=\"1\" class=\"dataframe\">\n",
       "  <thead>\n",
       "    <tr style=\"text-align: right;\">\n",
       "      <th></th>\n",
       "      <th>top</th>\n",
       "      <th>filter_rate</th>\n",
       "      <th>recall_rate</th>\n",
       "      <th>approve_rate</th>\n",
       "    </tr>\n",
       "  </thead>\n",
       "  <tbody>\n",
       "    <tr>\n",
       "      <th>0</th>\n",
       "      <td>10</td>\n",
       "      <td>0.9</td>\n",
       "      <td>0.17</td>\n",
       "      <td>0.55</td>\n",
       "    </tr>\n",
       "    <tr>\n",
       "      <th>1</th>\n",
       "      <td>20</td>\n",
       "      <td>0.8</td>\n",
       "      <td>0.34</td>\n",
       "      <td>0.56</td>\n",
       "    </tr>\n",
       "    <tr>\n",
       "      <th>2</th>\n",
       "      <td>30</td>\n",
       "      <td>0.7</td>\n",
       "      <td>0.50</td>\n",
       "      <td>0.55</td>\n",
       "    </tr>\n",
       "    <tr>\n",
       "      <th>3</th>\n",
       "      <td>40</td>\n",
       "      <td>0.6</td>\n",
       "      <td>0.64</td>\n",
       "      <td>0.53</td>\n",
       "    </tr>\n",
       "    <tr>\n",
       "      <th>4</th>\n",
       "      <td>50</td>\n",
       "      <td>0.5</td>\n",
       "      <td>0.74</td>\n",
       "      <td>0.49</td>\n",
       "    </tr>\n",
       "    <tr>\n",
       "      <th>5</th>\n",
       "      <td>60</td>\n",
       "      <td>0.4</td>\n",
       "      <td>0.84</td>\n",
       "      <td>0.46</td>\n",
       "    </tr>\n",
       "    <tr>\n",
       "      <th>6</th>\n",
       "      <td>70</td>\n",
       "      <td>0.3</td>\n",
       "      <td>0.91</td>\n",
       "      <td>0.43</td>\n",
       "    </tr>\n",
       "    <tr>\n",
       "      <th>7</th>\n",
       "      <td>80</td>\n",
       "      <td>0.2</td>\n",
       "      <td>0.96</td>\n",
       "      <td>0.40</td>\n",
       "    </tr>\n",
       "    <tr>\n",
       "      <th>8</th>\n",
       "      <td>90</td>\n",
       "      <td>0.1</td>\n",
       "      <td>0.99</td>\n",
       "      <td>0.36</td>\n",
       "    </tr>\n",
       "    <tr>\n",
       "      <th>9</th>\n",
       "      <td>100</td>\n",
       "      <td>0.0</td>\n",
       "      <td>1.00</td>\n",
       "      <td>0.33</td>\n",
       "    </tr>\n",
       "  </tbody>\n",
       "</table>\n",
       "</div>"
      ],
      "text/plain": [
       "   top  filter_rate  recall_rate  approve_rate\n",
       "0   10          0.9         0.17          0.55\n",
       "1   20          0.8         0.34          0.56\n",
       "2   30          0.7         0.50          0.55\n",
       "3   40          0.6         0.64          0.53\n",
       "4   50          0.5         0.74          0.49\n",
       "5   60          0.4         0.84          0.46\n",
       "6   70          0.3         0.91          0.43\n",
       "7   80          0.2         0.96          0.40\n",
       "8   90          0.1         0.99          0.36\n",
       "9  100          0.0         1.00          0.33"
      ]
     },
     "execution_count": 4,
     "metadata": {},
     "output_type": "execute_result"
    }
   ],
   "source": [
    "percentiles = list(range(10, 101, 10))\n",
    "test['score'] = test_score_lgbm\n",
    "test['percentile'] = test['score'].rank(pct=True, ascending=False)\n",
    "result = []\n",
    "for p in percentiles:\n",
    "    qualified = test.query(f'percentile < {p / 100}')\n",
    "    filter_rate = np.round(1 - qualified.shape[0] / test.shape[0], 2)\n",
    "    recall_rate = np.round(qualified['order_status_key'].sum() /test['order_status_key'].sum(), 2)\n",
    "    appr_rate = np.round(qualified['order_status_key'].sum() / qualified.shape[0], 2)\n",
    "    result.append([p, filter_rate, recall_rate, appr_rate])\n",
    "result = pd.DataFrame(result, columns=['top', 'filter_rate', 'recall_rate', 'approve_rate'])\n",
    "result"
   ]
  },
  {
   "cell_type": "code",
   "execution_count": null,
   "id": "77db8134-a464-40ab-a7aa-3eda88022d7e",
   "metadata": {},
   "outputs": [],
   "source": []
  },
  {
   "cell_type": "code",
   "execution_count": null,
   "id": "d011364c-287d-419b-9c8e-edf3d316a1c2",
   "metadata": {},
   "outputs": [],
   "source": []
  },
  {
   "cell_type": "code",
   "execution_count": null,
   "id": "cabfa379-1a65-4f64-b6ba-40a6349a77d6",
   "metadata": {},
   "outputs": [],
   "source": []
  },
  {
   "cell_type": "code",
   "execution_count": null,
   "id": "609bc370-b0d6-43e1-99c1-3b459a02305d",
   "metadata": {},
   "outputs": [],
   "source": []
  }
 ],
 "metadata": {
  "kernelspec": {
   "display_name": "Python 3 (ipykernel)",
   "language": "python",
   "name": "python3"
  },
  "language_info": {
   "codemirror_mode": {
    "name": "ipython",
    "version": 3
   },
   "file_extension": ".py",
   "mimetype": "text/x-python",
   "name": "python",
   "nbconvert_exporter": "python",
   "pygments_lexer": "ipython3",
   "version": "3.9.13"
  }
 },
 "nbformat": 4,
 "nbformat_minor": 5
}
